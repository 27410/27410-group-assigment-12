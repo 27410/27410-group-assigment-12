{
 "cells": [
  {
   "cell_type": "markdown",
   "metadata": {},
   "source": [
    "# Biosynthesis of undecylprodigiosin in Streptomyces coelicolor"
   ]
  },
  {
   "cell_type": "markdown",
   "metadata": {},
   "source": [
    "## 1. Introduction"
   ]
  },
  {
   "cell_type": "markdown",
   "metadata": {},
   "source": [
    "### 1.1 Literature review of the compound (<500 words)"
   ]
  },
  {
   "cell_type": "markdown",
   "metadata": {},
   "source": [
    "#### Applications of the product"
   ]
  },
  {
   "cell_type": "markdown",
   "metadata": {},
   "source": [
    "<div style=\"text-align: justify\"> \n",
    "    Undecylprodigiosin is a secondary metabolite belonging to the class of red-pigmented natural products known as the prodiginines, produced by a variety of bacteria, in particular Streptomyces spp, such as Streptomyces coelicolor and Streptomyces longisporus. The group is named after prodigiosin (prodiginine) and is biosynthesized through a common set of enzymes.  Bacterial prodiginines have a long history of being remarkable multipurpose compounds, best examined for their antibacterial and antimalarial activities, and they have received renewed attention because of potential clinical interests. Undecylprodigiosin can be used as an apoptotic and anticancer agent, showing antiproliferative effects in cancer cells.  In 2007, the selective apoptotic effect of undecylprodigiosin on breast carcinoma cells was found, and consequently, it was suggested “as a novel anticancer drug for the treatment of breast cancer”. Furthermore, recent research has shown potential applications of prodiginines in the food industry as coloring agents, antioxidants, and antimicrobial additives to increase product shelf life. Production of prodigiosin in the most common producer strain Serratia marcescens has been described in great detail. Particular emphasis is put on undecylprodigiosin which has generally been a less studied member of the prodigiosin family. \n",
    "</div>"
   ]
  },
  {
   "cell_type": "markdown",
   "metadata": {},
   "source": [
    "#### Biosynthetic pathway"
   ]
  },
  {
   "cell_type": "markdown",
   "metadata": {},
   "source": [
    "<div style=\"text-align: justify\"> \n",
    "    The tripyrrole molecules of prodigiosin and undecylprodigiosin are formed by the condensation of 4-methoxy-2,2'-bipyrrole-5-carbaldehyde (MBC) and either 2-methyl-3-n-amyl-pyrrole (MAP) for the prodigiosin production or 2-undecylpyrrole for the undecylprodigiocin production. The Serratia pig gene cluster and the Streptomyces red gene cluster responsible for these biosynthesis pathways have been identified. As can be seen in figure 3, the Streptomyces red gene cluster for undecylprodigiosin production includes the following genes: RedO, RedM, RedW, RedX, RedN, RedV, RedI, RedF, RedP, RedR, RedQ, RedL, RedK, RedH.  \n",
    "</div>"
   ]
  },
  {
   "cell_type": "markdown",
   "metadata": {},
   "source": [
    "### 1.2 Literature review of the cell factory (<500 words)"
   ]
  },
  {
   "cell_type": "markdown",
   "metadata": {},
   "source": [
    "####  Introduction to Streptomyces coelicolor"
   ]
  },
  {
   "cell_type": "markdown",
   "metadata": {},
   "source": [
    "<div style=\"text-align: justify\"> The cell factory utilized in this report is Streptomyces coelicolor, and its general advantages and disadvantages are discussed below.  </div>"
   ]
  },
  {
   "cell_type": "markdown",
   "metadata": {},
   "source": [
    "#### General advantages"
   ]
  },
  {
   "cell_type": "markdown",
   "metadata": {},
   "source": [
    "<div style=\"text-align: justify\"> \n",
    "    Streptomyces coelicolor A3(2) is amongst the best representatives of the genus Streptomyces, which is the largest genus of Actinobacteria. Streptomyces hasw a remarkably complex developmental life cycle and the capacity to produce a plethora of natural products such as anthelmintics, anticancer agents, and immunosuppressives. Today, 80% of the antibiotics are sourced from the genus Streptomyces, as the microorganisms belonging to this group have become the workhorse for genetics and a model for development and antibiotic production.  In particular, Streptomyces coelicolor are important bacteria and were sequenced because of their adaptability to environmental stress, source of bioactive molecules for medicine and industry, and relation to human pathogens. In parallel, many researchers have drawn attention to actinomycetes mainly because of their biosynthetic potential for the production of secondary metabolites, being one of the most prolific and important well-developed commercial products in the pharmaceutical, agrochemical, and food sectors. \n",
    "</div>"
   ]
  },
  {
   "cell_type": "markdown",
   "metadata": {},
   "source": [
    "#### General disadvantages"
   ]
  },
  {
   "cell_type": "markdown",
   "metadata": {},
   "source": [
    "<div style=\"text-align: justify\"> \n",
    "    Even though Streptomyces coelicolor is generally a good chassis for the production of several antibiotics, some issues remain to be addressed. One important drawback of Streptomyces fermentations is the need to optimize culture conditions in order to obtain the most optimal equilibrium between differentiation, cell death, and secondary metabolite production. Furthermore, some additional disadvantages of this strain include poor genetic tractability, a high level of production of endogenous metabolites, cross-regulation, and biochemical interactions between endogenous and heterologous gene clusters.  \n",
    "</div>"
   ]
  },
  {
   "cell_type": "markdown",
   "metadata": {},
   "source": [
    "#### Suitability of the cell factory for the product"
   ]
  },
  {
   "cell_type": "markdown",
   "metadata": {},
   "source": [
    "<div style=\"text-align: justify\"> \n",
    "    The suitability of the cell factory to produce undecylprodigiosin lies in the advantages described above, which include its capacity to produce a plethora of natural products and secondary metabolites, and the fact that Streptomyces coelicolor is a well-analyzed and well-known strain of the whole Streptomyces family. In Streptomyces coelicolor, undecylprodigiosin is biosynthesized encoding the red gene cluster, a cluster consisting of 23 genes. In the past few years, many researchers have helped in organizing and learning more about this cluster, and nowadays, it is available in the scientific community. An alternative organism for undecylprodigiosin production could be Serratia marcescens, using the pig gene cluster, however, it seems that the red gene cluster is better defined than the pig one, and as can be seen in Figure 4, there are some red genes in undecylprodigiosin production that cannot be replaced by the pig genes, as the latter are fewer than the former. \n",
    "</div>"
   ]
  },
  {
   "cell_type": "markdown",
   "metadata": {},
   "source": [
    "## 2. Problem definition (<300 words)"
   ]
  },
  {
   "cell_type": "markdown",
   "metadata": {},
   "source": [
    "<div style=\"text-align: justify\"> \n",
    "    Even though the prodigionines family is well-understood, the undecylprodigiosin is less studied and there are some limitations to its industrial production by Streptomyces coelicolor.  Currently, undecylprodigiosin production mainly depends on chemical synthesis via microbial fermentation, a method that is economical and sustainable. However, in order for microbial production to be a successful platform that is economically viable, the fermentation process needs to result in adequate productivity, rates, and yields. Regarding the organism we use, Streptomyces coelicolor, although it is the best-studied undecylprodigiosin producer, it can only produce a low concentration of it. \n",
    "<br/><br/> \n",
    "In this report, we want to examine ways to obtain overproduction of undecylprodigiosin in S. coelicolor in silico using the genome-scale metabolic model (GSM) Sco-GEM for the relevant strain M145. We will use different computational methods to identify metabolic changes that will result in increased undecylprodigiosin production. For this reason, we investigate different methods to achieve this, including media optimization, alternative carbon sources, upregulation and downregulation of specific genes, gene knockout, and co-facto swapping. \n",
    "</div>"
   ]
  },
  {
   "cell_type": "markdown",
   "metadata": {
    "tags": []
   },
   "source": [
    "## 3. Selection and assessment of existing GSM (<500 words)"
   ]
  },
  {
   "cell_type": "markdown",
   "metadata": {},
   "source": [
    "<div style=\"text-align: justify\"> \n",
    "    Streptomyces coelicolor is an extensively used cell factory and model organism in basic biological research. Various industrial workhorse strains of S. coelicolor exist, due to recent development in systems biology and a strong interest in bacteria that can help in antibiotics production. Consequently, there are multiple GSMs available for S.coelicolor, which have undergone multiple rounds of curation and improvement since the first version was published. \n",
    "</div>"
   ]
  },
  {
   "cell_type": "markdown",
   "metadata": {
    "tags": []
   },
   "source": [
    "## 4. Computer-Aided Cell Factory Engineering (<1500 words if Category II project)"
   ]
  },
  {
   "cell_type": "markdown",
   "metadata": {
    "tags": []
   },
   "source": [
    "### [4.1. Product rate overview](./Notebooks/02initial_rates.ipynb)"
   ]
  },
  {
   "cell_type": "markdown",
   "metadata": {},
   "source": [
    "<div style=\"text-align: justify\"> \n",
    "    In order to evaluate the growth rate and undecylprodigiosin production in different medium compositions the basis medium and initial model conditions were first evaluated. \n",
    "The model was optimized by biomass production and a growth rate of 0.075 mmol / [gDW h] was obtained. The final reaction for undecylprodigiosin synthesis showed a flux of 0.0 mmol / [gDW h], meaning that no production or consumption was present when the objective function is set to be biomass production.\n",
    "<br/><br/> \n",
    "The simulation for maximum production was performed establishing different values for the lower boundary of biomass formation. This was set this way in order to make sure there was cell growth while the production was taking place. As the relation between biomass and the target compound production fluxes appeared to be linear, and it is well known that the production of undecylprodigiosin takes place during stationary phase, a biomass flux of 60% of the optimal (0.045 mmol / [gDW h]) was chosen for the further analysis. With this specific biomass flux, the product formation flux was set to 0.053 mmol / [gDW h]. The glucose uptake was recorded to be 0.8 mmol / [gDW h]. The yield was calculated taking into account the glucose uptake and it was found to be 0.066. \n",
    "</div>"
   ]
  },
  {
   "cell_type": "markdown",
   "metadata": {
    "tags": []
   },
   "source": [
    "### [4.2. Medium analysis](./Notebooks/02initial_rates.ipynb)"
   ]
  },
  {
   "cell_type": "markdown",
   "metadata": {},
   "source": [
    "### Testing aerobic & anaerobic conditions"
   ]
  },
  {
   "cell_type": "markdown",
   "metadata": {
    "tags": []
   },
   "source": [
    "<div style=\"text-align: justify\"> \n",
    "    Growth in both aerobic and anaerobic conditions was investigated. The results showed that only growth in aerobic conditions was possible. According to the literature, compared to other strains of the genus Streptomyces, S. coelicolor presents the ability to synthesize three non redundant Nar (nitrate reductase) enzymes that confer the capacity to grow in anaerobic conditions. Several functional Nar enzymes were found in the SCO-GEM model and all of them were involved on the following catalytic reaction:\n",
    "<br/><br/> \n",
    "$$2 H^+ + Menaquinol9 + Nitrate --> H_2O + 2 H^+ + Menaquinone9 + Nitrite$$\n",
    "<br/><br/> \n",
    "The reaction was investigated in both aerobic and anaerobic conditions but none resulted in a flux different to 0.0, meaning that neither in the two conditions the nitrate reductase was performing the catalysis. Therefore, in the present model, anaerobic growth is not possible.\n",
    "</div>"
   ]
  },
  {
   "cell_type": "markdown",
   "metadata": {
    "tags": []
   },
   "source": [
    "### Comparison of mediums"
   ]
  },
  {
   "cell_type": "markdown",
   "metadata": {
    "tags": []
   },
   "source": [
    "Productivity and yield of undecylprodigiosin was compared for minimal, R5, SFM, and DSMZ mediums. The DSMZ medium performed the best between the options with a productivity of 1.340 $mmol \\over(gDW h)$ and a yield of 1.675."
   ]
  },
  {
   "cell_type": "markdown",
   "metadata": {},
   "source": [
    "| Medium / carbon source | Biomass productivity (mmol/[gDW h]) | Product productivity (mmol/[gDW h]) | Product yield |\n",
    "|------------------------|-------------------------------------|-------------------------------------|---------------|\n",
    "| Initial                | 0.045                               | 0.053                               | 0.066         |\n",
    "| Minimal                | 0.045                               | 0.053                               | 0.066         |\n",
    "| R5                     | 0.045                               | 0.912                               | 1.140         |\n",
    "| SFM                    | 0.045                               | 0.206                               | 0.258         |\n",
    "| DSMZ                   | 0.045                               | 1.340                               | 1.675         |"
   ]
  },
  {
   "cell_type": "markdown",
   "metadata": {
    "tags": []
   },
   "source": [
    "### [4.3 Phenotypic Phase Plane analysis](./Notebooks/03phenotypic_phase_planes.ipynb)"
   ]
  },
  {
   "cell_type": "markdown",
   "metadata": {},
   "source": [
    "<div style=\"text-align: justify\"> \n",
    "    For the phebotypic phase plane analyis we focused on the effect of the glucose and oxygen uptake on the two established simulation modes, maximising cell growth and maximising undecyl-prodigiosin reaction. We chose to investigate these exchange reactions as glucose is the limiticing factor of our model's initial medium and oxygen is essential for growth as described in section 4.2. The results of all the phenotypic phase plane analyses exhibit the same behaviour. The (indicative) case of antibiotic production is presented below.\n",
    "</div>"
   ]
  },
  {
   "cell_type": "markdown",
   "metadata": {},
   "source": [
    "<center><img src=\"./Figures/2D_PPP.png\"/></center>"
   ]
  },
  {
   "cell_type": "markdown",
   "metadata": {},
   "source": [
    "<div style=\"text-align: justify\">\n",
    "    It is obvious that in order to achieve the maximum antibiotic production the cells consume the maximum amount of glucose available. Moreover, the optimal uptake rate of oxygen is approximately 2 $mmol\\over gDW*h$ for maximum growth and 1.5 $mmol\\over gDW*h$ for maximum production. This is an indication that cell growth requires more oxygen than antibiotic production and that an increased oxygen uptake relative to the cell's needs can lead to oxidative stress with harmful consequences for the cell's functions. The same comments can be made for all the cases investigated in this section. Independently of the model objective, for maximum growth, production or yield the phenotypic phase planes follow the same profile. The results of all the cases can be seen in the respective notebook. Finally, in an attempt to check as many scenarios as possible we constructed a 3 dimensional phenotypic phase plane graph, presented below. The shape of the 3D graph is in agreement with the insights drawn from the rest phenotypic phase planes.\n",
    "</div>"
   ]
  },
  {
   "cell_type": "markdown",
   "metadata": {},
   "source": [
    "<center><img src=\"./Figures/3D_PPP.png\"/></center>"
   ]
  },
  {
   "cell_type": "markdown",
   "metadata": {
    "tags": []
   },
   "source": [
    "### [4.4 Dynamic Flux Balance Analysis](./Notebooks/04dynamic_fba.ipynb)"
   ]
  },
  {
   "cell_type": "markdown",
   "metadata": {},
   "source": [
    "A very simple dynamic flux balance analysis was created based on the example presented in the [copbrapy documentation website](https://cobrapy.readthedocs.io/en/latest/dfba.html). </br>\n",
    "<div style=\"text-align: justify\">\n",
    "    The chosen algorithm reruns the simulation for every time step fixing the objectives as constrains and updating the concentration of glucose (which alters the glucose uptake kinetics) for the next run. This analysis is executed as a qualitative assessment of the model, as it is only  a rough estimation of the actual progress of a culture and the initial conditions (y0) were chosen arbitrarily.  The dynamic FBA showcases the decrease of the culture's glucose reserves over time in favor of biomass growth. The results are presented below as a diagram.\n",
    "</div>"
   ]
  },
  {
   "cell_type": "markdown",
   "metadata": {},
   "source": [
    "<center><img src=\"./Figures/dFBA.png\"/></center>"
   ]
  },
  {
   "cell_type": "markdown",
   "metadata": {},
   "source": [
    "## 5. Discussion (<500 words)"
   ]
  },
  {
   "cell_type": "markdown",
   "metadata": {},
   "source": [
    "## 6. Conclusion (<200 words)"
   ]
  },
  {
   "cell_type": "markdown",
   "metadata": {},
   "source": [
    "## References"
   ]
  },
  {
   "cell_type": "code",
   "execution_count": null,
   "metadata": {},
   "outputs": [],
   "source": []
  }
 ],
 "metadata": {
  "kernelspec": {
   "display_name": "Python 3 (ipykernel)",
   "language": "python",
   "name": "python3"
  },
  "language_info": {
   "codemirror_mode": {
    "name": "ipython",
    "version": 3
   },
   "file_extension": ".py",
   "mimetype": "text/x-python",
   "name": "python",
   "nbconvert_exporter": "python",
   "pygments_lexer": "ipython3",
   "version": "3.8.12"
  },
  "widgets": {
   "application/vnd.jupyter.widget-state+json": {
    "state": {},
    "version_major": 2,
    "version_minor": 0
   }
  }
 },
 "nbformat": 4,
 "nbformat_minor": 4
}
