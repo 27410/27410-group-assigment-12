{
 "cells": [
  {
   "cell_type": "markdown",
   "metadata": {},
   "source": [
    "# [Title]"
   ]
  },
  {
   "cell_type": "markdown",
   "metadata": {},
   "source": [
    "## 1. Introduction"
   ]
  },
  {
   "cell_type": "markdown",
   "metadata": {},
   "source": [
    "### 1.1 Literature review of the compound (<500 words)"
   ]
  },
  {
   "cell_type": "markdown",
   "metadata": {},
   "source": [
    "### 1.2 Literature review of the cell factory (<500 words)"
   ]
  },
  {
   "cell_type": "markdown",
   "metadata": {},
   "source": [
    "## 2. Problem definition (<300 words)"
   ]
  },
  {
   "cell_type": "markdown",
   "metadata": {
    "tags": []
   },
   "source": [
    "## 3. Selection and assessment of existing GSM (<500 words)"
   ]
  },
  {
   "cell_type": "markdown",
   "metadata": {},
   "source": [
    "## 4. Computer-Aided Cell Factory Engineering (<1500 words if Category II project)"
   ]
  },
  {
   "cell_type": "markdown",
   "metadata": {
    "tags": []
   },
   "source": [
    "### 4.1 Importing the necessary modules and loading the model"
   ]
  },
  {
   "cell_type": "code",
   "execution_count": 1,
   "metadata": {},
   "outputs": [],
   "source": [
    "import cobra\n",
    "from cobra.io import read_sbml_model\n",
    "from cobra.util import create_stoichiometric_matrix\n",
    "from cobra.medium import minimal_medium"
   ]
  },
  {
   "cell_type": "code",
   "execution_count": 2,
   "metadata": {},
   "outputs": [],
   "source": [
    "model = read_sbml_model('models/Sco-GEM.xml')"
   ]
  },
  {
   "cell_type": "markdown",
   "metadata": {
    "tags": []
   },
   "source": [
    "### 4.2 Flux Balance analysis of the initial model"
   ]
  },
  {
   "cell_type": "code",
   "execution_count": 3,
   "metadata": {},
   "outputs": [
    {
     "data": {
      "text/plain": [
       "{'EX_ca2_e': 1000.0,\n",
       " 'EX_cl_e': 1000.0,\n",
       " 'EX_co2_e': 1000.0,\n",
       " 'EX_cobalt2_e': 1000.0,\n",
       " 'EX_cu2_e': 1000.0,\n",
       " 'EX_fe2_e': 1000.0,\n",
       " 'EX_fe3_e': 1000.0,\n",
       " 'EX_glc__D_e': 0.8,\n",
       " 'EX_h2o_e': 1000.0,\n",
       " 'EX_h_e': 1000.0,\n",
       " 'EX_k_e': 1000.0,\n",
       " 'EX_mg2_e': 1000.0,\n",
       " 'EX_mn2_e': 1000.0,\n",
       " 'EX_mobd_e': 1000.0,\n",
       " 'EX_na1_e': 1000.0,\n",
       " 'EX_nh4_e': 1000.0,\n",
       " 'EX_ni2_e': 1000.0,\n",
       " 'EX_o2_e': 1000.0,\n",
       " 'EX_pi_e': 1000.0,\n",
       " 'EX_so4_e': 1000.0,\n",
       " 'EX_tungs_e': 1000.0,\n",
       " 'EX_zn2_e': 1000.0}"
      ]
     },
     "execution_count": 3,
     "metadata": {},
     "output_type": "execute_result"
    }
   ],
   "source": [
    "medium = model.medium\n",
    "medium"
   ]
  },
  {
   "cell_type": "code",
   "execution_count": 4,
   "metadata": {},
   "outputs": [
    {
     "name": "stdout",
     "output_type": "stream",
     "text": [
      "The objective is to Maximize\n",
      "1.0*BIOMASS_SCO_tRNA - 1.0*BIOMASS_SCO_tRNA_reverse_d3620\n"
     ]
    }
   ],
   "source": [
    "sol = model.optimize()\n",
    "print(f'The objective is to {model.objective}')"
   ]
  },
  {
   "cell_type": "code",
   "execution_count": 5,
   "metadata": {},
   "outputs": [
    {
     "name": "stdout",
     "output_type": "stream",
     "text": [
      "Biomass production rate is 0.075 mmol/gDRW/h\n",
      "The production of antibiotic is 0.0 mmol/gDRW/h\n"
     ]
    }
   ],
   "source": [
    "print(f'Biomass production rate is {sol.fluxes.BIOMASS_SCO_tRNA:.3f} mmol/gDRW/h.')\n",
    "print(f'The production of antibiotic is {sol.fluxes.DM_RED_c} mmol/gDRW/h.')"
   ]
  },
  {
   "cell_type": "markdown",
   "metadata": {
    "tags": []
   },
   "source": [
    "### 4.3 Flux balance analysis for the maximization of antibiotic production"
   ]
  },
  {
   "cell_type": "code",
   "execution_count": 6,
   "metadata": {},
   "outputs": [
    {
     "name": "stdout",
     "output_type": "stream",
     "text": [
      "The objective is to Maximize\n",
      "1.0*DM_RED_c - 1.0*DM_RED_c_reverse_13383\n",
      "\n",
      "Biomass production rate is 0.0 mmol/gDRW/h\n",
      "The production of antibiotic is 0.132 mmol/gDRW/h\n"
     ]
    }
   ],
   "source": [
    "with model:\n",
    "    model.objective = model.reactions.DM_RED_c\n",
    "    sol = model.optimize()\n",
    "    print(f'The objective is to {model.objective}')\n",
    "    print('')\n",
    "    print(f'Biomass production rate is {sol.fluxes.BIOMASS_SCO_tRNA} mmol/gDRW/h.')\n",
    "    print(f'The production of antibiotic is {sol.fluxes.DM_RED_c:.3f} mmol/gDRW/h.')"
   ]
  },
  {
   "cell_type": "markdown",
   "metadata": {},
   "source": [
    "### 4.4 Medium optimization"
   ]
  },
  {
   "cell_type": "markdown",
   "metadata": {},
   "source": [
    "#### Anaerobic conditions"
   ]
  },
  {
   "cell_type": "code",
   "execution_count": 7,
   "metadata": {},
   "outputs": [
    {
     "name": "stdout",
     "output_type": "stream",
     "text": [
      "\n",
      "Anaereobic conditions\n",
      "Biomass production: 0.0\n"
     ]
    }
   ],
   "source": [
    "with model:\n",
    "    medium = model.medium\n",
    "    medium[\"EX_o2_e\"] = 0.0\n",
    "    model.medium = medium\n",
    "    solution = model.optimize()\n",
    "\n",
    "    print(\"\\nAnaereobic conditions\")\n",
    "    print(\"Biomass production:\", model.slim_optimize())"
   ]
  },
  {
   "cell_type": "markdown",
   "metadata": {},
   "source": [
    "#### Minimal medium"
   ]
  },
  {
   "cell_type": "code",
   "execution_count": 8,
   "metadata": {},
   "outputs": [
    {
     "data": {
      "text/plain": [
       "EX_ca2_e        0.000429\n",
       "EX_cl_e         0.000429\n",
       "EX_cobalt2_e    0.000003\n",
       "EX_cu2_e        0.000058\n",
       "EX_fe2_e        0.001453\n",
       "EX_glc__D_e     0.800000\n",
       "EX_k_e          0.016078\n",
       "EX_mg2_e        0.000715\n",
       "EX_mn2_e        0.000057\n",
       "EX_mobd_e       0.000003\n",
       "EX_nh4_e        0.651820\n",
       "EX_ni2_e        0.000027\n",
       "EX_o2_e         1.727388\n",
       "EX_pi_e         0.073858\n",
       "EX_so4_e        0.019368\n",
       "EX_zn2_e        0.000028\n",
       "dtype: float64"
      ]
     },
     "execution_count": 8,
     "metadata": {},
     "output_type": "execute_result"
    }
   ],
   "source": [
    "minimal_medium(model,model.slim_optimize())"
   ]
  },
  {
   "cell_type": "markdown",
   "metadata": {},
   "source": [
    "#### Carbon sources"
   ]
  },
  {
   "cell_type": "code",
   "execution_count": 19,
   "metadata": {},
   "outputs": [
    {
     "name": "stdout",
     "output_type": "stream",
     "text": [
      "The carbon sources that produce better results than glucose given that their uptake flux is 0.8 mmol/gDRW/h are:\n",
      "\n",
      "              Carbon source                | Production of antibiotic [mmol/gDW/h]\n",
      "----------------------------------------------------------------------------------\n",
      "Cellulose (chain length 500 glc_D assumed) | 72.603\n",
      "                         Xylan (Oat spelt) | 64.308\n",
      "                             Maltoheptaose |  1.027\n",
      "                              Maltohexaose |  0.880\n",
      "                        1,4-alpha-D-glucan |  0.880\n",
      "                             Maltopentaose |  0.727\n",
      "                             Maltotetraose |  0.580\n",
      "                               Maltotriose |  0.432\n",
      "                                 Raffinose |  0.426\n",
      "                   N,N'-diacetylchitobiose |  0.363\n",
      "                                Melibiitol |  0.289\n",
      "                                 Trehalose |  0.284\n",
      "                                   Maltose |  0.284\n",
      "                                 Melibiose |  0.278\n",
      "                              Epimelibiose |  0.278\n",
      "                                   Lactose |  0.278\n",
      "                                Cellobiose |  0.275\n",
      "         1-alpha-D-Galactosyl-myo-inositol |  0.274\n",
      "                        Galactosylglycerol |  0.215\n",
      "                    N-Acetyl-D-glucosamine |  0.176\n",
      "                            Deoxyadenosine |  0.163\n",
      "                                      dAMP |  0.163\n",
      "                                    3'-AMP |  0.158\n",
      "                          2',3'-Cyclic AMP |  0.158\n",
      "                                       AMP |  0.158\n",
      "                                 Adenosine |  0.158\n",
      "                                      dIMP |  0.157\n",
      "                              Deoxyinosine |  0.157\n",
      "                                L-Tyrosine |  0.155\n",
      "                                   Inosine |  0.152\n",
      "                                       IMP |  0.152\n",
      "                                 L-Leucine |  0.146\n",
      "                              L-Isoleucine |  0.146\n",
      "                                      dGMP |  0.143\n",
      "                            Deoxyguanosine |  0.143\n",
      "                   Xanthosine 5'-phosphate |  0.142\n",
      "                                Xanthosine |  0.142\n",
      "                          2',3'-Cyclic GMP |  0.138\n",
      "                                       GMP |  0.138\n",
      "                                    3'-GMP |  0.138\n",
      "                                 Guanosine |  0.138\n",
      "                                D-Mannitol |  0.138\n",
      "                                D-Sorbitol |  0.138\n",
      "                                L-Rhamnose |  0.133\n",
      "                                 D-Glucose |  0.132\n",
      "                                 D-Mannose |  0.132\n"
     ]
    }
   ],
   "source": [
    "carbon_sources = []\n",
    "\n",
    "for reaction in model.exchanges:\n",
    "    for metabolite in reaction.metabolites:\n",
    "        if 'C' in metabolite.elements:\n",
    "            carbon_sources.append(reaction)\n",
    "\n",
    "with model:\n",
    "    model.objective = model.reactions.DM_RED_c\n",
    "    threshold = model.slim_optimize(error_value=0.0)\n",
    "\n",
    "solution_dict = {}\n",
    "\n",
    "for cs in carbon_sources:\n",
    "    with model:\n",
    "        medium = model.medium\n",
    "        medium['EX_glc__D_e'] = 0 # remove glucose from medium\n",
    "        medium[cs.id] = 0.8 # add carbon source to medium\n",
    "        model.medium = medium\n",
    "        model.objective = model.reactions.DM_RED_c\n",
    "        solution = model.slim_optimize(error_value=0.0)\n",
    "\n",
    "        if solution > threshold:\n",
    "            solution_dict[cs.id] = solution\n",
    "\n",
    "print(f'The carbon sources that produce better results than glucose given that their uptake flux is 0.8 mmol/gDRW/h are:')\n",
    "print('')\n",
    "print(f'{\"Carbon source\":^42} | Production of antibiotic [mmol/gDW/h]')\n",
    "print('-'*82)\n",
    "for source, production in sorted(solution_dict.items(), key=lambda item: item[1], reverse=True):\n",
    "    print(f'{list(model.reactions.get_by_id(source).metabolites)[0].name:>42} | {production:>6.3f}')"
   ]
  },
  {
   "cell_type": "markdown",
   "metadata": {},
   "source": [
    "## 5. Discussion (<500 words)"
   ]
  },
  {
   "cell_type": "markdown",
   "metadata": {},
   "source": [
    "## 6. Conclusion (<200 words)"
   ]
  },
  {
   "cell_type": "markdown",
   "metadata": {},
   "source": [
    "## References"
   ]
  },
  {
   "cell_type": "code",
   "execution_count": null,
   "metadata": {},
   "outputs": [],
   "source": []
  }
 ],
 "metadata": {
  "kernelspec": {
   "display_name": "Python 3 (ipykernel)",
   "language": "python",
   "name": "python3"
  },
  "language_info": {
   "codemirror_mode": {
    "name": "ipython",
    "version": 3
   },
   "file_extension": ".py",
   "mimetype": "text/x-python",
   "name": "python",
   "nbconvert_exporter": "python",
   "pygments_lexer": "ipython3",
   "version": "3.8.12"
  },
  "widgets": {
   "application/vnd.jupyter.widget-state+json": {
    "state": {},
    "version_major": 2,
    "version_minor": 0
   }
  }
 },
 "nbformat": 4,
 "nbformat_minor": 4
}
