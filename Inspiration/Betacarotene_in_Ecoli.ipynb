{
 "cells": [
  {
   "cell_type": "code",
   "execution_count": 9,
   "metadata": {},
   "outputs": [],
   "source": [
    "from cobra.io import read_sbml_model\n",
    "from cobra import Reaction, Metabolite"
   ]
  },
  {
   "cell_type": "code",
   "execution_count": 10,
   "metadata": {},
   "outputs": [],
   "source": [
    "Ecoli_model = read_sbml_model('Models/iML1515.xml.gz')"
   ]
  },
  {
   "cell_type": "markdown",
   "metadata": {},
   "source": [
    "The beta-carotene pathway reactions are added to the *E. coli* iML1515 model to compare the production with an *E. coli* GSM. Firstly, the required reactions and metabolites are defined."
   ]
  },
  {
   "cell_type": "code",
   "execution_count": 12,
   "metadata": {},
   "outputs": [],
   "source": [
    "Reaction_0_beta=Reaction('Step0_beta')  # Farnesyl diphosphate + isopentenyl diphosphate <=> geranylgeranyl diphosphate + diphosphate\n",
    "geranylgeranyl_PP=Metabolite(id='Geranylgeranyl_pp_c', compartment='c')\n",
    "Reaction_0_beta.add_metabolites({Ecoli_model.metabolites.frdp_c: -1, #Find name of GPP\n",
    "                                 Ecoli_model.metabolites.ipdp_c: -1,\n",
    "                                 geranylgeranyl_PP: 1, # our newly created metabolites\n",
    "                                 Ecoli_model.metabolites.ppi_c: 1 \n",
    "                                })\n",
    "\n",
    "Reaction_1_beta=Reaction('Step1_beta')  # 2 Geranylgeranyl diphosphate <=> Diphosphate + Prephytoene diphosphate\n",
    "Prephytoene_PP=Metabolite(id='Prephyteoene_pp_c', compartment='c')\n",
    "Reaction_1_beta.add_metabolites({geranylgeranyl_PP: -2, # made in reaction 0\n",
    "                                 Prephytoene_PP: 1, # our newly created metabolites\n",
    "                                 Ecoli_model.metabolites.ppi_c: 1 \n",
    "                                })\n",
    "\n",
    "Reaction_2_beta=Reaction('Step2_beta')  # Prephytoene diphosphate <=> Diphosphate + 15-cis-Phytoene\n",
    "Phytoene=Metabolite(id='Phytoene_c', compartment='c')\n",
    "Reaction_2_beta.add_metabolites({Prephytoene_PP: -1, #made in reaction 1\n",
    "                              Phytoene: 1, # our newly created metabolite\n",
    "                              Ecoli_model.metabolites.ppi_c: 1 #Find navn i tabel\n",
    "                             })\n",
    "Reaction_3_beta=Reaction('Step3_beta')  # 15-cis-Phytoene + Acceptor <=> all-trans-Phytofluene + Reduced acceptor\n",
    "Phytofluene=Metabolite(id='Phytofluene_c', compartment='c')\n",
    "Reaction_3_beta.add_metabolites({Phytoene: -1, #made in reaction 2\n",
    "                                 Ecoli_model.metabolites.nad_c: -1,\n",
    "                                 Ecoli_model.metabolites.nadh_c: 1,\n",
    "                              Phytofluene: 1 # our newly created metabolite\n",
    "                             })\n",
    "Reaction_4_beta=Reaction('Step4_beta')  # all-trans-Phytofluene + Acceptor <=> all-trans-zeta-Carotene + Reduced acceptor\n",
    "zeta_carotene=Metabolite(id='zeta_carotene_c', compartment='c')\n",
    "Reaction_4_beta.add_metabolites({Phytofluene: -1, #made in reaction 3\n",
    "                                 Ecoli_model.metabolites.nad_c: -1,\n",
    "                                 Ecoli_model.metabolites.nadh_c: 1,\n",
    "                              zeta_carotene: 1 # our newly created metabolite\n",
    "                             })\n",
    "Reaction_5_beta=Reaction('Step5_beta')  # all-trans-zeta-Carotene + Reduced acceptor + Oxygen <=> all-trans-Neurosporene + 2 H2O + Acceptor\n",
    "neurosporene=Metabolite(id='neurosporene_c', compartment='c')\n",
    "Reaction_5_beta.add_metabolites({zeta_carotene: -1, #made in reaction 4\n",
    "                                Ecoli_model.metabolites.o2_c: -1, \n",
    "                                Ecoli_model.metabolites.nadh_c: -1,\n",
    "                                Ecoli_model.metabolites.nad_c: 1,\n",
    "                                neurosporene: 1, # our newly created metabolite\n",
    "                                Ecoli_model.metabolites.h2o_c: 2 \n",
    "                             })\n",
    "Reaction_6_beta=Reaction('Step6_beta')  # all-trans-Neurosporene + Reduced acceptor + Oxygen <=> Lycopene + Acceptor + 2 H2O\n",
    "Lycopene=Metabolite(id='lycopene_c', compartment='c')\n",
    "Reaction_6_beta.add_metabolites({neurosporene: -1, #made in reaction 5\n",
    "                                Ecoli_model.metabolites.o2_c: -1, \n",
    "                                Ecoli_model.metabolites.nadh_c: -1,\n",
    "                                Ecoli_model.metabolites.nad_c: 1,\n",
    "                                Lycopene: 1, # our newly created metabolite\n",
    "                                Ecoli_model.metabolites.h2o_c: 2  \n",
    "                             })\n",
    "Reaction_7_beta=Reaction('Step7_beta')  # Lycopene <=> gamma-Carotene\n",
    "Gamma_carotene=Metabolite(id='gamma_carotene_c', compartment='c')\n",
    "Reaction_7_beta.add_metabolites({Lycopene: -1, #made in reaction 6\n",
    "                              Gamma_carotene: 1\n",
    "                             })\n",
    "Reaction_8_beta=Reaction('Step8_beta')  # gamma-Carotene <=> beta-Carotene\n",
    "Beta_carotene=Metabolite(id='Beta_carotene_c', compartment='c')\n",
    "Reaction_8_beta.add_metabolites({Gamma_carotene: -1, #made in reaction 7\n",
    "                              Beta_carotene: 1\n",
    "                             })"
   ]
  },
  {
   "cell_type": "markdown",
   "metadata": {},
   "source": [
    "After defining the reactions, they are added to the *E. coli* iML1515 model."
   ]
  },
  {
   "cell_type": "code",
   "execution_count": 13,
   "metadata": {},
   "outputs": [],
   "source": [
    "Ecoli_model.add_reactions([Reaction_0_beta])\n",
    "Ecoli_model.add_reactions([Reaction_1_beta])\n",
    "Ecoli_model.add_reactions([Reaction_2_beta])\n",
    "Ecoli_model.add_reactions([Reaction_3_beta])\n",
    "Ecoli_model.add_reactions([Reaction_4_beta])\n",
    "Ecoli_model.add_reactions([Reaction_5_beta])\n",
    "Ecoli_model.add_reactions([Reaction_6_beta])\n",
    "Ecoli_model.add_reactions([Reaction_7_beta])\n",
    "Ecoli_model.add_reactions([Reaction_8_beta])"
   ]
  },
  {
   "cell_type": "code",
   "execution_count": 14,
   "metadata": {},
   "outputs": [
    {
     "data": {
      "text/html": [
       "\n",
       "        <table>\n",
       "            <tr>\n",
       "                <td><strong>Reaction identifier</strong></td><td>DM_Beta_carotene_c</td>\n",
       "            </tr><tr>\n",
       "                <td><strong>Name</strong></td><td>demand</td>\n",
       "            </tr><tr>\n",
       "                <td><strong>Memory address</strong></td>\n",
       "                <td>0x07f56f7399b20</td>\n",
       "            </tr><tr>\n",
       "                <td><strong>Stoichiometry</strong></td>\n",
       "                <td>\n",
       "                    <p style='text-align:right'>Beta_carotene_c --></p>\n",
       "                    <p style='text-align:right'>--></p>\n",
       "                </td>\n",
       "            </tr><tr>\n",
       "                <td><strong>GPR</strong></td><td></td>\n",
       "            </tr><tr>\n",
       "                <td><strong>Lower bound</strong></td><td>0</td>\n",
       "            </tr><tr>\n",
       "                <td><strong>Upper bound</strong></td><td>1000.0</td>\n",
       "            </tr>\n",
       "        </table>\n",
       "        "
      ],
      "text/plain": [
       "<Reaction DM_Beta_carotene_c at 0x7f56f7399b20>"
      ]
     },
     "execution_count": 14,
     "metadata": {},
     "output_type": "execute_result"
    }
   ],
   "source": [
    "Ecoli_model.add_boundary(Ecoli_model.metabolites.Beta_carotene_c, type='demand')"
   ]
  },
  {
   "cell_type": "markdown",
   "metadata": {},
   "source": [
    "The objective of the model is changed to beta-carotene production to calculate the maximal theoretical production. Biomass production is subsequently set as the model objective to calculate the maximal theoretical growth rate for *E. coli* iML1515."
   ]
  },
  {
   "cell_type": "code",
   "execution_count": 15,
   "metadata": {},
   "outputs": [
    {
     "name": "stdout",
     "output_type": "stream",
     "text": [
      "Max. beta-carotene production [mmol gDW^-1 h^-1]: 0.9436862745098038\n",
      "Theoretical maximum yield [mmol_beta / mmol_glc]: 0.09436862745098037\n",
      "Max. growth rate [h^-1]: 0.8769972144269744\n"
     ]
    }
   ],
   "source": [
    "with Ecoli_model:\n",
    "    Ecoli_model.objective = Ecoli_model.reactions.Step8_beta\n",
    "    beta_carotene_Ecoli = Ecoli_model.optimize().objective_value\n",
    "    print('Max. beta-carotene production [mmol gDW^-1 h^-1]:',beta_carotene_Ecoli)\n",
    "    print('Theoretical maximum yield [mmol_beta / mmol_glc]:', beta_carotene_Ecoli / (-1*Ecoli_model.reactions.EX_glc__D_e.flux))\n",
    "with Ecoli_model:\n",
    "    Ecoli_model.objective = Ecoli_model.reactions.BIOMASS_Ec_iML1515_core_75p37M\n",
    "    Max_Ecoli_growth = Ecoli_model.optimize().objective_value\n",
    "    print('Max. growth rate [h^-1]:',Max_Ecoli_growth)"
   ]
  },
  {
   "cell_type": "markdown",
   "metadata": {},
   "source": [
    "The maximum theoretical yield in *E. coli*, using the iML1515 model, is 0.94 mmol gDW<sup>-1</sup>h<sup>-1</sup> and the yield is 0.094 mmol<sub>beta</sub>/mmol<sub>glc</sub>. The maximal growth rate of *E. coli* iML1515 is 0.88 h<sup>-1</sup>."
   ]
  },
  {
   "cell_type": "code",
   "execution_count": null,
   "metadata": {},
   "outputs": [],
   "source": []
  }
 ],
 "metadata": {
  "kernelspec": {
   "display_name": "Python 3",
   "language": "python",
   "name": "python3"
  },
  "language_info": {
   "codemirror_mode": {
    "name": "ipython",
    "version": 3
   },
   "file_extension": ".py",
   "mimetype": "text/x-python",
   "name": "python",
   "nbconvert_exporter": "python",
   "pygments_lexer": "ipython3",
   "version": "3.8.5"
  }
 },
 "nbformat": 4,
 "nbformat_minor": 4
}
