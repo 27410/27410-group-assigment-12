{
 "cells": [
  {
   "cell_type": "code",
   "execution_count": 23,
   "metadata": {},
   "outputs": [],
   "source": [
    "from cobra import Reaction, Metabolite\n",
    "from cobra.io import read_sbml_model\n",
    "from cobra.io import write_sbml_model"
   ]
  },
  {
   "cell_type": "code",
   "execution_count": 24,
   "metadata": {},
   "outputs": [],
   "source": [
    "modelc=read_sbml_model('./Models/modelc.xml')"
   ]
  },
  {
   "cell_type": "code",
   "execution_count": 25,
   "metadata": {},
   "outputs": [],
   "source": [
    "Reaction_0_beta=Reaction('Step0_beta') # Farnesyl diphosphate + isopentenyl diphosphate <=> geranylgeranyl diphosphate + diphosphate\n",
    "geranylgeranyl_PP=Metabolite(id='Geranylgeranyl_pp_c', compartment='c')\n",
    "Reaction_0_beta.add_metabolites({modelc.metabolites.frdp_c: -1, # Farnesyl diphosphate\n",
    "                                 modelc.metabolites.ipdp_c: -1, # Isopentenyl diphosphate\n",
    "                                 geranylgeranyl_PP: 1, # our newly created metabolites\n",
    "                                 modelc.metabolites.ppi_c: 1 # diphosphate\n",
    "                                })"
   ]
  },
  {
   "cell_type": "markdown",
   "metadata": {},
   "source": [
    "**Reaction 1**"
   ]
  },
  {
   "cell_type": "code",
   "execution_count": 26,
   "metadata": {},
   "outputs": [],
   "source": [
    "Reaction_1_beta=Reaction('Step1_beta')  # 2 Geranylgeranyl diphosphate <=> Diphosphate + Prephytoene diphosphate\n",
    "Prephytoene_PP=Metabolite(id='Prephyteoene_pp_c', compartment='c')\n",
    "Reaction_1_beta.add_metabolites({geranylgeranyl_PP: -2, #Find name of GPP\n",
    "                                 Prephytoene_PP: 1, # our newly created metabolites\n",
    "                                 modelc.metabolites.ppi_c: 1 \n",
    "                                })"
   ]
  },
  {
   "cell_type": "markdown",
   "metadata": {},
   "source": [
    "**Reaction 2**"
   ]
  },
  {
   "cell_type": "code",
   "execution_count": 27,
   "metadata": {},
   "outputs": [],
   "source": [
    "Reaction_2_beta=Reaction('Step2_beta')  # Prephytoene diphosphate <=> Diphosphate + 15-cis-Phytoene\n",
    "Phytoene=Metabolite(id='Phytoene_c', compartment='c')\n",
    "Reaction_2_beta.add_metabolites({Prephytoene_PP: -1, #made in reaction 1\n",
    "                              Phytoene: 1, # our newly created metabolite\n",
    "                              modelc.metabolites.ppi_c: 1 # diphospate\n",
    "                             })"
   ]
  },
  {
   "cell_type": "markdown",
   "metadata": {},
   "source": [
    "**Reaction 3**"
   ]
  },
  {
   "cell_type": "code",
   "execution_count": 28,
   "metadata": {},
   "outputs": [],
   "source": [
    "Reaction_3_beta=Reaction('Step3_beta')  # 15-cis-Phytoene + Acceptor <=> all-trans-Phytofluene + Reduced acceptor\n",
    "Phytofluene=Metabolite(id='Phytofluene_c', compartment='c')\n",
    "Reaction_3_beta.add_metabolites({Phytoene: -1, #made in reaction 2\n",
    "                                 modelc.metabolites.nad_c: -1,\n",
    "                                 modelc.metabolites.nadh_c: 1,\n",
    "                                 Phytofluene: 1 # our newly created metabolite\n",
    "                                })"
   ]
  },
  {
   "cell_type": "markdown",
   "metadata": {},
   "source": [
    "**Reaction 4**"
   ]
  },
  {
   "cell_type": "code",
   "execution_count": 29,
   "metadata": {},
   "outputs": [],
   "source": [
    "Reaction_4_beta=Reaction('Step4_beta')  # all-trans-Phytofluene + Acceptor <=> all-trans-zeta-Carotene + Reduced acceptor\n",
    "zeta_carotene=Metabolite(id='zeta_carotene_c', compartment='c')\n",
    "Reaction_4_beta.add_metabolites({Phytofluene: -1, #made in reaction 3\n",
    "                                 modelc.metabolites.nad_c: -1,\n",
    "                                 modelc.metabolites.nadh_c: 1,\n",
    "                              zeta_carotene: 1 # our newly created metabolite\n",
    "                             })"
   ]
  },
  {
   "cell_type": "markdown",
   "metadata": {},
   "source": [
    "**Reaction 5**"
   ]
  },
  {
   "cell_type": "code",
   "execution_count": 30,
   "metadata": {},
   "outputs": [],
   "source": [
    "Reaction_5_beta=Reaction('Step5_beta')  # all-trans-zeta-Carotene + Reduced acceptor + Oxygen <=> all-trans-Neurosporene + 2 H2O + Acceptor\n",
    "neurosporene=Metabolite(id='neurosporene_c', compartment='c')\n",
    "Reaction_5_beta.add_metabolites({zeta_carotene: -1, #made in reaction 4\n",
    "                                 modelc.metabolites.o2_c: -1, \n",
    "                                 modelc.metabolites.nadh_c: -1,\n",
    "                                 modelc.metabolites.nad_c: 1,\n",
    "                                neurosporene: 1, # our newly created metabolite\n",
    "                                modelc.metabolites.h2o_c: 2 \n",
    "                             })"
   ]
  },
  {
   "cell_type": "markdown",
   "metadata": {},
   "source": [
    "**Reaction 6**"
   ]
  },
  {
   "cell_type": "code",
   "execution_count": 31,
   "metadata": {},
   "outputs": [],
   "source": [
    "Reaction_6_beta=Reaction('Step6_beta')  # all-trans-Neurosporene + Reduced acceptor + Oxygen <=> Lycopene + Acceptor + 2 H2O\n",
    "Lycopene=Metabolite(id='lycopene_c', compartment='c')\n",
    "Reaction_6_beta.add_metabolites({neurosporene: -1, #made in reaction 5\n",
    "                                 modelc.metabolites.o2_c: -1, \n",
    "                                 modelc.metabolites.nadh_c: -1,\n",
    "                                 modelc.metabolites.nad_c: 1,\n",
    "                              Lycopene: 1, # our newly created metabolite\n",
    "                                 modelc.metabolites.h2o_c: 2  \n",
    "                             })"
   ]
  },
  {
   "cell_type": "markdown",
   "metadata": {},
   "source": [
    "**Reaction 7**"
   ]
  },
  {
   "cell_type": "code",
   "execution_count": 32,
   "metadata": {},
   "outputs": [],
   "source": [
    "Reaction_7_beta=Reaction('Step7_beta')  # Lycopene <=> gamma-Carotene\n",
    "Gamma_carotene=Metabolite(id='gamma_carotene_c', compartment='c')\n",
    "Reaction_7_beta.add_metabolites({Lycopene: -1, #made in reaction 6\n",
    "                              Gamma_carotene: 1\n",
    "                             })"
   ]
  },
  {
   "cell_type": "markdown",
   "metadata": {},
   "source": [
    "**Reaction 8**"
   ]
  },
  {
   "cell_type": "code",
   "execution_count": 33,
   "metadata": {},
   "outputs": [],
   "source": [
    "Reaction_8_beta=Reaction('Step8_beta')  # gamma-Carotene <=> beta-Carotene\n",
    "Beta_carotene=Metabolite(id='Beta_carotene_c', compartment='c')\n",
    "Reaction_8_beta.add_metabolites({Gamma_carotene: -1, #made in reaction 7\n",
    "                              Beta_carotene: 1\n",
    "                             })"
   ]
  },
  {
   "cell_type": "markdown",
   "metadata": {},
   "source": [
    "After defining all of the reaction steps, the reactions are added to the *V. natriegens* GSM:"
   ]
  },
  {
   "cell_type": "code",
   "execution_count": 34,
   "metadata": {},
   "outputs": [],
   "source": [
    "modelc.add_reactions([Reaction_0_beta])\n",
    "modelc.add_reactions([Reaction_1_beta])\n",
    "modelc.add_reactions([Reaction_2_beta])\n",
    "modelc.add_reactions([Reaction_3_beta])\n",
    "modelc.add_reactions([Reaction_4_beta])\n",
    "modelc.add_reactions([Reaction_5_beta])\n",
    "modelc.add_reactions([Reaction_6_beta])\n",
    "modelc.add_reactions([Reaction_7_beta])\n",
    "modelc.add_reactions([Reaction_8_beta])"
   ]
  },
  {
   "cell_type": "markdown",
   "metadata": {},
   "source": [
    "In order to have flux, bounds have to be implemented for the newly added metabolites:"
   ]
  },
  {
   "cell_type": "code",
   "execution_count": 35,
   "metadata": {},
   "outputs": [
    {
     "data": {
      "text/html": [
       "\n",
       "        <table>\n",
       "            <tr>\n",
       "                <td><strong>Reaction identifier</strong></td><td>DM_Beta_carotene_c</td>\n",
       "            </tr><tr>\n",
       "                <td><strong>Name</strong></td><td> demand</td>\n",
       "            </tr><tr>\n",
       "                <td><strong>Memory address</strong></td>\n",
       "                <td>0x07f40c1a64978</td>\n",
       "            </tr><tr>\n",
       "                <td><strong>Stoichiometry</strong></td>\n",
       "                <td>\n",
       "                    <p style='text-align:right'>Beta_carotene_c --> </p>\n",
       "                    <p style='text-align:right'> --> </p>\n",
       "                </td>\n",
       "            </tr><tr>\n",
       "                <td><strong>GPR</strong></td><td></td>\n",
       "            </tr><tr>\n",
       "                <td><strong>Lower bound</strong></td><td>0</td>\n",
       "            </tr><tr>\n",
       "                <td><strong>Upper bound</strong></td><td>1000.0</td>\n",
       "            </tr>\n",
       "        </table>\n",
       "        "
      ],
      "text/plain": [
       "<Reaction DM_Beta_carotene_c at 0x7f40c1a64978>"
      ]
     },
     "execution_count": 35,
     "metadata": {},
     "output_type": "execute_result"
    }
   ],
   "source": [
    "modelc.add_boundary(modelc.metabolites.Beta_carotene_c, type='demand')"
   ]
  },
  {
   "cell_type": "markdown",
   "metadata": {},
   "source": [
    "A *V. natriegens* model containing the beta carotene pathway is saved:"
   ]
  },
  {
   "cell_type": "code",
   "execution_count": 36,
   "metadata": {},
   "outputs": [],
   "source": [
    "write_sbml_model(modelc,\"Models/modelBC.xml\")"
   ]
  },
  {
   "cell_type": "markdown",
   "metadata": {},
   "source": [
    "**Predicting maximal theoretical beta carotene production**"
   ]
  },
  {
   "cell_type": "code",
   "execution_count": 37,
   "metadata": {},
   "outputs": [
    {
     "name": "stdout",
     "output_type": "stream",
     "text": [
      "Max. beta-carotene production [mmol gDW^-1 h^-1]: 2.0183670931058955\n"
     ]
    }
   ],
   "source": [
    "with modelc:\n",
    "    modelc.objective = modelc.reactions.Step8_beta\n",
    "    beta_carotene_production = modelc.optimize().objective_value\n",
    "    print('Max. beta-carotene production [mmol gDW^-1 h^-1]:',beta_carotene_production)"
   ]
  },
  {
   "cell_type": "markdown",
   "metadata": {},
   "source": [
    "The maximum production rate of beta carotene in *V. natriegens* with the heterologous beta carotene pathway from *V. campbellii* is 2.02 mmol gDW<sup>-1</sup> h<sup>-1</sup>."
   ]
  },
  {
   "cell_type": "markdown",
   "metadata": {},
   "source": [
    "# Extra precursors"
   ]
  },
  {
   "cell_type": "markdown",
   "metadata": {},
   "source": [
    "**Reaction 1**"
   ]
  },
  {
   "cell_type": "code",
   "execution_count": 38,
   "metadata": {},
   "outputs": [],
   "source": [
    "Step_1_mva = Reaction('Step_1_mva')  # Acetyl-CoA <=> CoA + Acetoacetyl-CoA\n",
    "Step_1_mva.add_metabolites({modelc.metabolites.accoa_c: -1, # acetyl-CoA\n",
    "                            modelc.metabolites.aacoa_c: 1, # acetoacetyl-CoA\n",
    "                            modelc.metabolites.coa_c: 1 # CoA\n",
    "                           })"
   ]
  },
  {
   "cell_type": "markdown",
   "metadata": {},
   "source": [
    "**Reaction 2**"
   ]
  },
  {
   "cell_type": "code",
   "execution_count": 39,
   "metadata": {},
   "outputs": [],
   "source": [
    "Step_2_mva = Reaction('Step_2_mva')  # (S)-3-Hydroxy-3-methylglutaryl-CoA + CoA <=> Acetyl-CoA + H2O + Acetoacetyl-CoA\n",
    "Step_2_mva.add_metabolites({modelc.metabolites.accoa_c: -1, # Acetyl-CoA\n",
    "                            modelc.metabolites.aacoa_c: -1, # Acetoacetyl-CoA\n",
    "                            modelc.metabolites.h2o_c: -1,\n",
    "                            modelc.metabolites.hmgcoa_c: 1, # Hydroxymethylglutaryl CoA\n",
    "                            modelc.metabolites.coa_c: 1\n",
    "                           })"
   ]
  },
  {
   "cell_type": "markdown",
   "metadata": {},
   "source": [
    "**Reaction 3**"
   ]
  },
  {
   "cell_type": "code",
   "execution_count": 40,
   "metadata": {},
   "outputs": [],
   "source": [
    "Step_3_mva = Reaction('Step_3_mva')  # (R)-Mevalonate + CoA + 2 NAD+ <=> (S)-3-Hydroxy-3-methylglutaryl-CoA + 2 NADH + 2 H+\n",
    "mevalonate = Metabolite(id='Mevalonate_c', compartment='c')\n",
    "Step_3_mva.add_metabolites({modelc.metabolites.hmgcoa_c: -1,\n",
    "                            modelc.metabolites.nadh_c: -2,\n",
    "                            modelc.metabolites.h_c: -2,\n",
    "                            mevalonate: 1,\n",
    "                            modelc.metabolites.coa_c: 1,\n",
    "                            modelc.metabolites.nad_c: 2\n",
    "                           })"
   ]
  },
  {
   "cell_type": "markdown",
   "metadata": {},
   "source": [
    "**Reaction 4**"
   ]
  },
  {
   "cell_type": "code",
   "execution_count": 41,
   "metadata": {},
   "outputs": [],
   "source": [
    "Step_4_mva = Reaction('Step_4_mva')  # ATP + (R)-Mevalonate <=> ADP + (R)-5-Phosphomevalonate\n",
    "mevalonate_5P = Metabolite(id='Phosphomevalonate_c', compartment='c')\n",
    "Step_4_mva.add_metabolites({mevalonate: -1,\n",
    "                            modelc.metabolites.atp_c: -1,\n",
    "                            mevalonate_5P: 1,\n",
    "                            modelc.metabolites.adp_c: 1\n",
    "                           })"
   ]
  },
  {
   "cell_type": "markdown",
   "metadata": {},
   "source": [
    "**Reaction 5**"
   ]
  },
  {
   "cell_type": "code",
   "execution_count": 42,
   "metadata": {},
   "outputs": [],
   "source": [
    "Step_5_mva = Reaction('Step_5_mva')  # ATP + (R)-5-Phosphomevalonate <=> ADP + (R)-5-Diphosphomevalonate\n",
    "mevalonate_5PP = Metabolite(id='Diphosphomevalonate_c', compartment='c')\n",
    "Step_5_mva.add_metabolites({mevalonate_5P: -1,\n",
    "                            modelc.metabolites.atp_c: -1,\n",
    "                            mevalonate_5PP: 1,\n",
    "                            modelc.metabolites.adp_c: 1\n",
    "                           })"
   ]
  },
  {
   "cell_type": "markdown",
   "metadata": {},
   "source": [
    "**Reaction 6**"
   ]
  },
  {
   "cell_type": "code",
   "execution_count": 43,
   "metadata": {},
   "outputs": [],
   "source": [
    "Step_6_mva = Reaction('Step_6_mva')  # ATP + (R)-5-Diphosphomevalonate <=> ADP + Orthophosphate + Isopentenyl diphosphate + CO2\n",
    "ortophosphate = Metabolite(id='Ortophosphate_c', compartment='c')\n",
    "Step_6_mva.add_metabolites({mevalonate_5PP: -1,\n",
    "                            modelc.metabolites.atp_c: -1,\n",
    "                            modelc.metabolites.ipdp_c: 1,\n",
    "                            modelc.metabolites.adp_c: 1,\n",
    "                            ortophosphate: 1,\n",
    "                            modelc.metabolites.co2_c: 1\n",
    "                           })"
   ]
  },
  {
   "cell_type": "markdown",
   "metadata": {},
   "source": [
    "**Adding reactions to model**"
   ]
  },
  {
   "cell_type": "code",
   "execution_count": 44,
   "metadata": {},
   "outputs": [
    {
     "name": "stdout",
     "output_type": "stream",
     "text": [
      "Max. beta-carotene production [mmol gDW^-1 h^-1]: 2.0183670931058977\n"
     ]
    }
   ],
   "source": [
    "with modelc:\n",
    "    modelc.add_reactions([Step_1_mva])\n",
    "    modelc.add_reactions([Step_2_mva])\n",
    "    modelc.add_reactions([Step_3_mva])\n",
    "    modelc.add_reactions([Step_4_mva])\n",
    "    modelc.add_reactions([Step_5_mva])\n",
    "    modelc.add_reactions([Step_6_mva])\n",
    "    write_sbml_model(modelc,\"Models/modelBCMVA.xml\")\n",
    "    \n",
    "    \n",
    "    modelc.objective = modelc.reactions.Step8_beta\n",
    "    beta_carotene_production = modelc.optimize().objective_value\n",
    "    print('Max. beta-carotene production [mmol gDW^-1 h^-1]:', beta_carotene_production)\n"
   ]
  },
  {
   "cell_type": "markdown",
   "metadata": {},
   "source": [
    "The maximum production rate of beta carotene in *V. natriegens* with the heterologous beta carotene pathway from *V. campbellii* and the heterologous MVA pathway from *L. acidophilus* is 2.02 mmol gDW<sup>-1</sup> h<sup>-1</sup>. So there is no difference in the beta carotene production with the MVA pathway introduced."
   ]
  }
 ],
 "metadata": {
  "kernelspec": {
   "display_name": "python3.6",
   "language": "python",
   "name": "python3.6"
  },
  "language_info": {
   "codemirror_mode": {
    "name": "ipython",
    "version": 3
   },
   "file_extension": ".py",
   "mimetype": "text/x-python",
   "name": "python",
   "nbconvert_exporter": "python",
   "pygments_lexer": "ipython3",
   "version": "3.6.12"
  }
 },
 "nbformat": 4,
 "nbformat_minor": 4
}
