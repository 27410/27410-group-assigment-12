{
 "cells": [
  {
   "cell_type": "markdown",
   "metadata": {
    "id": "ZtOe4jDeRzRf"
   },
   "source": [
    "# 01. Model validation"
   ]
  },
  {
   "cell_type": "code",
   "execution_count": 13,
   "metadata": {},
   "outputs": [],
   "source": [
    "#call load_model\n",
    "%run 00load_model.ipynb"
   ]
  },
  {
   "cell_type": "code",
   "execution_count": 14,
   "metadata": {
    "id": "Cxqp9sKMR8Sb"
   },
   "outputs": [
    {
     "data": {
      "text/html": [
       "<h3>Objective</h3><p>1.0 BIOMASS_SCO_tRNA = 0.07461714494432738</p><h4>Uptake</h4><table border=\"1\" class=\"dataframe\">\n",
       "  <thead>\n",
       "    <tr style=\"text-align: right;\">\n",
       "      <th>Metabolite</th>\n",
       "      <th>Reaction</th>\n",
       "      <th>Flux</th>\n",
       "      <th>C-Number</th>\n",
       "      <th>C-Flux</th>\n",
       "    </tr>\n",
       "  </thead>\n",
       "  <tbody>\n",
       "    <tr>\n",
       "      <td>ca2_e</td>\n",
       "      <td>EX_ca2_e</td>\n",
       "      <td>0.0004288</td>\n",
       "      <td>0</td>\n",
       "      <td>0.00%</td>\n",
       "    </tr>\n",
       "    <tr>\n",
       "      <td>cl_e</td>\n",
       "      <td>EX_cl_e</td>\n",
       "      <td>0.0004288</td>\n",
       "      <td>0</td>\n",
       "      <td>0.00%</td>\n",
       "    </tr>\n",
       "    <tr>\n",
       "      <td>cobalt2_e</td>\n",
       "      <td>EX_cobalt2_e</td>\n",
       "      <td>2.644E-06</td>\n",
       "      <td>0</td>\n",
       "      <td>0.00%</td>\n",
       "    </tr>\n",
       "    <tr>\n",
       "      <td>cu2_e</td>\n",
       "      <td>EX_cu2_e</td>\n",
       "      <td>5.836E-05</td>\n",
       "      <td>0</td>\n",
       "      <td>0.00%</td>\n",
       "    </tr>\n",
       "    <tr>\n",
       "      <td>fe2_e</td>\n",
       "      <td>EX_fe2_e</td>\n",
       "      <td>0.001453</td>\n",
       "      <td>0</td>\n",
       "      <td>0.00%</td>\n",
       "    </tr>\n",
       "    <tr>\n",
       "      <td>glc__D_e</td>\n",
       "      <td>EX_glc__D_e</td>\n",
       "      <td>0.8</td>\n",
       "      <td>6</td>\n",
       "      <td>100.00%</td>\n",
       "    </tr>\n",
       "    <tr>\n",
       "      <td>k_e</td>\n",
       "      <td>EX_k_e</td>\n",
       "      <td>0.01608</td>\n",
       "      <td>0</td>\n",
       "      <td>0.00%</td>\n",
       "    </tr>\n",
       "    <tr>\n",
       "      <td>mg2_e</td>\n",
       "      <td>EX_mg2_e</td>\n",
       "      <td>0.0007146</td>\n",
       "      <td>0</td>\n",
       "      <td>0.00%</td>\n",
       "    </tr>\n",
       "    <tr>\n",
       "      <td>mn2_e</td>\n",
       "      <td>EX_mn2_e</td>\n",
       "      <td>5.697E-05</td>\n",
       "      <td>0</td>\n",
       "      <td>0.00%</td>\n",
       "    </tr>\n",
       "    <tr>\n",
       "      <td>mobd_e</td>\n",
       "      <td>EX_mobd_e</td>\n",
       "      <td>2.782E-06</td>\n",
       "      <td>0</td>\n",
       "      <td>0.00%</td>\n",
       "    </tr>\n",
       "    <tr>\n",
       "      <td>nh4_e</td>\n",
       "      <td>EX_nh4_e</td>\n",
       "      <td>0.6518</td>\n",
       "      <td>0</td>\n",
       "      <td>0.00%</td>\n",
       "    </tr>\n",
       "    <tr>\n",
       "      <td>ni2_e</td>\n",
       "      <td>EX_ni2_e</td>\n",
       "      <td>2.658E-05</td>\n",
       "      <td>0</td>\n",
       "      <td>0.00%</td>\n",
       "    </tr>\n",
       "    <tr>\n",
       "      <td>o2_e</td>\n",
       "      <td>EX_o2_e</td>\n",
       "      <td>1.727</td>\n",
       "      <td>0</td>\n",
       "      <td>0.00%</td>\n",
       "    </tr>\n",
       "    <tr>\n",
       "      <td>pi_e</td>\n",
       "      <td>EX_pi_e</td>\n",
       "      <td>0.07386</td>\n",
       "      <td>0</td>\n",
       "      <td>0.00%</td>\n",
       "    </tr>\n",
       "    <tr>\n",
       "      <td>so4_e</td>\n",
       "      <td>EX_so4_e</td>\n",
       "      <td>0.01937</td>\n",
       "      <td>0</td>\n",
       "      <td>0.00%</td>\n",
       "    </tr>\n",
       "    <tr>\n",
       "      <td>zn2_e</td>\n",
       "      <td>EX_zn2_e</td>\n",
       "      <td>2.805E-05</td>\n",
       "      <td>0</td>\n",
       "      <td>0.00%</td>\n",
       "    </tr>\n",
       "  </tbody>\n",
       "</table><h4>Secretion</h4><table border=\"1\" class=\"dataframe\">\n",
       "  <thead>\n",
       "    <tr style=\"text-align: right;\">\n",
       "      <th>Metabolite</th>\n",
       "      <th>Reaction</th>\n",
       "      <th>Flux</th>\n",
       "      <th>C-Number</th>\n",
       "      <th>C-Flux</th>\n",
       "    </tr>\n",
       "  </thead>\n",
       "  <tbody>\n",
       "    <tr>\n",
       "      <td>4crsol_c</td>\n",
       "      <td>DM_4crsol_c</td>\n",
       "      <td>-1.683E-06</td>\n",
       "      <td>7</td>\n",
       "      <td>0.00%</td>\n",
       "    </tr>\n",
       "    <tr>\n",
       "      <td>5drib_c</td>\n",
       "      <td>DM_5drib_c</td>\n",
       "      <td>-2.818E-05</td>\n",
       "      <td>5</td>\n",
       "      <td>0.01%</td>\n",
       "    </tr>\n",
       "    <tr>\n",
       "      <td>amob_c</td>\n",
       "      <td>DM_amob_c</td>\n",
       "      <td>-1.23E-06</td>\n",
       "      <td>15</td>\n",
       "      <td>0.00%</td>\n",
       "    </tr>\n",
       "    <tr>\n",
       "      <td>dalua_c</td>\n",
       "      <td>DM_dalua_c</td>\n",
       "      <td>-5.657E-07</td>\n",
       "      <td>4</td>\n",
       "      <td>0.00%</td>\n",
       "    </tr>\n",
       "    <tr>\n",
       "      <td>5mtr_e</td>\n",
       "      <td>EX_5mtr_e</td>\n",
       "      <td>-0.002891</td>\n",
       "      <td>6</td>\n",
       "      <td>0.94%</td>\n",
       "    </tr>\n",
       "    <tr>\n",
       "      <td>co2_e</td>\n",
       "      <td>EX_co2_e</td>\n",
       "      <td>-1.825</td>\n",
       "      <td>1</td>\n",
       "      <td>99.05%</td>\n",
       "    </tr>\n",
       "    <tr>\n",
       "      <td>h2o_e</td>\n",
       "      <td>EX_h2o_e</td>\n",
       "      <td>-3.874</td>\n",
       "      <td>0</td>\n",
       "      <td>0.00%</td>\n",
       "    </tr>\n",
       "    <tr>\n",
       "      <td>h_e</td>\n",
       "      <td>EX_h_e</td>\n",
       "      <td>-0.3018</td>\n",
       "      <td>0</td>\n",
       "      <td>0.00%</td>\n",
       "    </tr>\n",
       "  </tbody>\n",
       "</table>"
      ],
      "text/plain": [
       "<cobra.summary.model_summary.ModelSummary at 0x239211065b0>"
      ]
     },
     "execution_count": 14,
     "metadata": {},
     "output_type": "execute_result"
    }
   ],
   "source": [
    "#check features \n",
    "model.compartments          #check both compartments\n",
    "model.medium                #investigate elements on the medium\n",
    "model.summary()"
   ]
  },
  {
   "cell_type": "markdown",
   "metadata": {
    "id": "uc9ghRIjAyja"
   },
   "source": [
    "## 1 Check all the reactions\n"
   ]
  },
  {
   "cell_type": "markdown",
   "metadata": {
    "id": "QgkgKzyRnyP8"
   },
   "source": [
    "Check KEGG pathway gene. Search in model. Get the gene ID (SCOXXXX). Search in the model."
   ]
  },
  {
   "cell_type": "markdown",
   "metadata": {
    "id": "NUETDQWRn0sM"
   },
   "source": [
    "### Pyruvate metabolism (Malonyl CoA as substrate)"
   ]
  },
  {
   "cell_type": "markdown",
   "metadata": {
    "id": "HeJp1QW_Cl49"
   },
   "source": [
    "**redP/redR**:  *Malonyl CoA - Dodecanoyl-[acp]* \n",
    "[Reaction in **KEGG**](https://www.kegg.jp/entry/sco:SCO0330+sco:SCO1346+sco:SCO1815+sco:SCO1831+sco:SCO2387+sco:SCO3502+sco:SCO4501+sco:SCO4681+sco:SCO5886+sco:SCO5887+sco:SCO5888+sco:SCO6249+sco:SCO6264+sco:SCO7266+sco:SCO7810//)"
   ]
  },
  {
   "cell_type": "code",
   "execution_count": null,
   "metadata": {
    "id": "3YrhD2rTkfgI"
   },
   "outputs": [],
   "source": [
    "#model.genes.SCO5888     #redP - REDS2\n",
    "model.genes.SCO5886     #redR - any reaction in which appears \"undecylprodigiosin\" but check\n",
    "#model.genes.SCO0330     #fabG - too many reactions (47xd)\n",
    "#model.genes.SCO5887     #redQ - REDS1, REDS2\n",
    "#model.genes.SCO2387     #fabD - REDS1, REDS32 \n",
    "#model.genes.SCO5890     #redN - REDS32"
   ]
  },
  {
   "cell_type": "code",
   "execution_count": null,
   "metadata": {
    "id": "IEYnaItwt3kb"
   },
   "outputs": [],
   "source": [
    "model.reactions.REDS14"
   ]
  },
  {
   "cell_type": "markdown",
   "metadata": {
    "id": "G2GwKFSrlqih"
   },
   "source": [
    "**redJ**: *Dodecanoyl-[acp] - Dodecanoic acid (dodecanoate)*"
   ]
  },
  {
   "cell_type": "code",
   "execution_count": null,
   "metadata": {
    "colab": {
     "base_uri": "https://localhost:8080/"
    },
    "id": "4E-EpbxXlyVy",
    "outputId": "1dbcffb2-c0e7-4df8-f474-9160b33688e7"
   },
   "outputs": [
    {
     "data": {
      "text/html": [
       "\n",
       "        <table>\n",
       "            <tr>\n",
       "                <td><strong>Gene identifier</strong></td><td>SCO5894</td>\n",
       "            </tr><tr>\n",
       "                <td><strong>Name</strong></td><td>redJ</td>\n",
       "            </tr><tr>\n",
       "                <td><strong>Memory address</strong></td>\n",
       "                <td>0x7fa655e73890</td>\n",
       "            </tr><tr>\n",
       "                <td><strong>Functional</strong></td><td>True</td>\n",
       "            </tr><tr>\n",
       "                <td><strong>In 1 reaction(s)</strong></td><td>\n",
       "                    REDS22\n",
       "                    </td>\n",
       "            </tr>\n",
       "        </table>"
      ],
      "text/plain": [
       "<Gene SCO5894 at 0x7fa655e73890>"
      ]
     },
     "execution_count": 34,
     "metadata": {},
     "output_type": "execute_result"
    }
   ],
   "source": [
    "model.genes.SCO5894"
   ]
  },
  {
   "cell_type": "code",
   "execution_count": null,
   "metadata": {
    "colab": {
     "base_uri": "https://localhost:8080/"
    },
    "id": "yXN4m7SsJN6T",
    "outputId": "fee1776b-3ab9-4aec-b304-313c3ea27c27"
   },
   "outputs": [
    {
     "data": {
      "text/html": [
       "\n",
       "        <table>\n",
       "            <tr>\n",
       "                <td><strong>Reaction identifier</strong></td><td>REDS22</td>\n",
       "            </tr><tr>\n",
       "                <td><strong>Name</strong></td><td>dodecanoyl-redQ thioesterase</td>\n",
       "            </tr><tr>\n",
       "                <td><strong>Memory address</strong></td>\n",
       "                <td>0x7fa6549a33d0</td>\n",
       "            </tr><tr>\n",
       "                <td><strong>Stoichiometry</strong></td>\n",
       "                <td>\n",
       "                    <p style='text-align:right'>ddcaACPredQ_c + h2o_c --> ACPredQ_c + ddca_c + h_c</p>\n",
       "                    <p style='text-align:right'>Dodecanoyl-ACP (n-C12:0ACP) (redQ) + H2O --> acyl carrier protein (specific to RED(redQ)) + Dodecanoate (n-C12:0) + H+</p>\n",
       "                </td>\n",
       "            </tr><tr>\n",
       "                <td><strong>GPR</strong></td><td>SCO5894</td>\n",
       "            </tr><tr>\n",
       "                <td><strong>Lower bound</strong></td><td>0.0</td>\n",
       "            </tr><tr>\n",
       "                <td><strong>Upper bound</strong></td><td>1000.0</td>\n",
       "            </tr>\n",
       "        </table>\n",
       "        "
      ],
      "text/plain": [
       "<Reaction REDS22 at 0x7fa6549a33d0>"
      ]
     },
     "execution_count": 35,
     "metadata": {},
     "output_type": "execute_result"
    }
   ],
   "source": [
    "model.reactions.REDS22"
   ]
  },
  {
   "cell_type": "markdown",
   "metadata": {
    "id": "-25-nzv7nJ5Z"
   },
   "source": [
    "**redL**: *Dodecanoic acid - 4-keto-2-undecylpyrroline*"
   ]
  },
  {
   "cell_type": "code",
   "execution_count": null,
   "metadata": {
    "colab": {
     "base_uri": "https://localhost:8080/"
    },
    "id": "TLVaNXIwlzu9",
    "outputId": "0b8cee38-bc09-4378-e161-e74370392fae"
   },
   "outputs": [
    {
     "data": {
      "text/html": [
       "\n",
       "        <table>\n",
       "            <tr>\n",
       "                <td><strong>Gene identifier</strong></td><td>SCO5892</td>\n",
       "            </tr><tr>\n",
       "                <td><strong>Name</strong></td><td>redL</td>\n",
       "            </tr><tr>\n",
       "                <td><strong>Memory address</strong></td>\n",
       "                <td>0x7fa655e73090</td>\n",
       "            </tr><tr>\n",
       "                <td><strong>Functional</strong></td><td>True</td>\n",
       "            </tr><tr>\n",
       "                <td><strong>In 4 reaction(s)</strong></td><td>\n",
       "                    REDS25, REDS26, REDS23, REDS24\n",
       "                    </td>\n",
       "            </tr>\n",
       "        </table>"
      ],
      "text/plain": [
       "<Gene SCO5892 at 0x7fa655e73090>"
      ]
     },
     "execution_count": 36,
     "metadata": {},
     "output_type": "execute_result"
    }
   ],
   "source": [
    "model.genes.SCO5892"
   ]
  },
  {
   "cell_type": "code",
   "execution_count": null,
   "metadata": {
    "colab": {
     "base_uri": "https://localhost:8080/"
    },
    "id": "qigrqYazJ4u1",
    "outputId": "30d2d337-5435-4cb4-c61e-7fe08722fe55"
   },
   "outputs": [
    {
     "data": {
      "text/html": [
       "\n",
       "        <table>\n",
       "            <tr>\n",
       "                <td><strong>Reaction identifier</strong></td><td>REDS26</td>\n",
       "            </tr><tr>\n",
       "                <td><strong>Name</strong></td><td>glycine acyltransferase/alpha-oxoamine synthase</td>\n",
       "            </tr><tr>\n",
       "                <td><strong>Memory address</strong></td>\n",
       "                <td>0x7fa65495aed0</td>\n",
       "            </tr><tr>\n",
       "                <td><strong>Stoichiometry</strong></td>\n",
       "                <td>\n",
       "                    <p style='text-align:right'>3omrsACPredL_c + gly_c --> ACPredL_c + co2_c + h2o_c + upn_c</p>\n",
       "                    <p style='text-align:right'>3-Oxotetradecanoyl-[acyl-carrier protein] + Glycine --> acyl carrier protein (specific to RED(redL)) + CO2 + H2O + 4-Keto-2-undecylpyrroline</p>\n",
       "                </td>\n",
       "            </tr><tr>\n",
       "                <td><strong>GPR</strong></td><td>SCO5892</td>\n",
       "            </tr><tr>\n",
       "                <td><strong>Lower bound</strong></td><td>0.0</td>\n",
       "            </tr><tr>\n",
       "                <td><strong>Upper bound</strong></td><td>1000.0</td>\n",
       "            </tr>\n",
       "        </table>\n",
       "        "
      ],
      "text/plain": [
       "<Reaction REDS26 at 0x7fa65495aed0>"
      ]
     },
     "execution_count": 37,
     "metadata": {},
     "output_type": "execute_result"
    }
   ],
   "source": [
    "model.reactions.REDS26"
   ]
  },
  {
   "cell_type": "markdown",
   "metadata": {
    "id": "BXbFBuyInM1A"
   },
   "source": [
    "**redK**: *4-keto-2-undecylpyrroline - 2-undecylpyrrole*"
   ]
  },
  {
   "cell_type": "code",
   "execution_count": null,
   "metadata": {
    "colab": {
     "base_uri": "https://localhost:8080/"
    },
    "id": "V3kVuwyLnJbR",
    "outputId": "6be90803-3e51-4fcd-a9d1-3179774f6768"
   },
   "outputs": [
    {
     "data": {
      "text/html": [
       "\n",
       "        <table>\n",
       "            <tr>\n",
       "                <td><strong>Gene identifier</strong></td><td>SCO5893</td>\n",
       "            </tr><tr>\n",
       "                <td><strong>Name</strong></td><td>redK</td>\n",
       "            </tr><tr>\n",
       "                <td><strong>Memory address</strong></td>\n",
       "                <td>0x7fa655e73450</td>\n",
       "            </tr><tr>\n",
       "                <td><strong>Functional</strong></td><td>True</td>\n",
       "            </tr><tr>\n",
       "                <td><strong>In 2 reaction(s)</strong></td><td>\n",
       "                    REDS27, REDS27b\n",
       "                    </td>\n",
       "            </tr>\n",
       "        </table>"
      ],
      "text/plain": [
       "<Gene SCO5893 at 0x7fa655e73450>"
      ]
     },
     "execution_count": 38,
     "metadata": {},
     "output_type": "execute_result"
    }
   ],
   "source": [
    "model.genes.SCO5893"
   ]
  },
  {
   "cell_type": "code",
   "execution_count": null,
   "metadata": {
    "colab": {
     "base_uri": "https://localhost:8080/"
    },
    "id": "RgcsLyggK-2C",
    "outputId": "9a7c6608-c5dd-48ed-faf6-1c86e7b634e8"
   },
   "outputs": [
    {
     "data": {
      "text/html": [
       "\n",
       "        <table>\n",
       "            <tr>\n",
       "                <td><strong>Reaction identifier</strong></td><td>REDS27</td>\n",
       "            </tr><tr>\n",
       "                <td><strong>Name</strong></td><td>2-undecyl-4-pyrrolinone reductase/dehydratase</td>\n",
       "            </tr><tr>\n",
       "                <td><strong>Memory address</strong></td>\n",
       "                <td>0x7fa65495af50</td>\n",
       "            </tr><tr>\n",
       "                <td><strong>Stoichiometry</strong></td>\n",
       "                <td>\n",
       "                    <p style='text-align:right'>h_c + nadh_c + upn_c --> h2o_c + nad_c + up_c</p>\n",
       "                    <p style='text-align:right'>H+ + Nicotinamide adenine dinucleotide - reduced + 4-Keto-2-undecylpyrroline --> H2O + Nicotinamide adenine dinucleotide + 2-Undecylpyrrole</p>\n",
       "                </td>\n",
       "            </tr><tr>\n",
       "                <td><strong>GPR</strong></td><td>SCO5893</td>\n",
       "            </tr><tr>\n",
       "                <td><strong>Lower bound</strong></td><td>0.0</td>\n",
       "            </tr><tr>\n",
       "                <td><strong>Upper bound</strong></td><td>1000.0</td>\n",
       "            </tr>\n",
       "        </table>\n",
       "        "
      ],
      "text/plain": [
       "<Reaction REDS27 at 0x7fa65495af50>"
      ]
     },
     "execution_count": 39,
     "metadata": {},
     "output_type": "execute_result"
    }
   ],
   "source": [
    "model.reactions.REDS27b\n",
    "model.reactions.REDS27"
   ]
  },
  {
   "cell_type": "markdown",
   "metadata": {
    "id": "h9C9QEXZnZMm"
   },
   "source": [
    "**redH**: *2-undecylpyrrole - undecylprodigiosin*"
   ]
  },
  {
   "cell_type": "code",
   "execution_count": null,
   "metadata": {
    "colab": {
     "base_uri": "https://localhost:8080/"
    },
    "id": "qz-ffCw8nVWq",
    "outputId": "25d2ffb9-9db7-4043-fc05-aab065a04731"
   },
   "outputs": [
    {
     "data": {
      "text/html": [
       "\n",
       "        <table>\n",
       "            <tr>\n",
       "                <td><strong>Gene identifier</strong></td><td>SCO5896</td>\n",
       "            </tr><tr>\n",
       "                <td><strong>Name</strong></td><td>redH</td>\n",
       "            </tr><tr>\n",
       "                <td><strong>Memory address</strong></td>\n",
       "                <td>0x7fa655e75150</td>\n",
       "            </tr><tr>\n",
       "                <td><strong>Functional</strong></td><td>True</td>\n",
       "            </tr><tr>\n",
       "                <td><strong>In 2 reaction(s)</strong></td><td>\n",
       "                    PRODSYN, REDS37\n",
       "                    </td>\n",
       "            </tr>\n",
       "        </table>"
      ],
      "text/plain": [
       "<Gene SCO5896 at 0x7fa655e75150>"
      ]
     },
     "execution_count": 40,
     "metadata": {},
     "output_type": "execute_result"
    }
   ],
   "source": [
    "model.genes.SCO5896"
   ]
  },
  {
   "cell_type": "code",
   "execution_count": null,
   "metadata": {
    "colab": {
     "base_uri": "https://localhost:8080/"
    },
    "id": "rdjIFOkFLeNb",
    "outputId": "8ad084c7-bc2b-4fc8-b027-2447c5a605b1"
   },
   "outputs": [
    {
     "data": {
      "text/html": [
       "\n",
       "        <table>\n",
       "            <tr>\n",
       "                <td><strong>Reaction identifier</strong></td><td>REDS37</td>\n",
       "            </tr><tr>\n",
       "                <td><strong>Name</strong></td><td>undecylprodigiosin synthase</td>\n",
       "            </tr><tr>\n",
       "                <td><strong>Memory address</strong></td>\n",
       "                <td>0x7fa654977650</td>\n",
       "            </tr><tr>\n",
       "                <td><strong>Stoichiometry</strong></td>\n",
       "                <td>\n",
       "                    <p style='text-align:right'>atp_c + h2o_c + mbc_c + up_c --> amp_c + 2.0 h_c + 2.0 pi_c + red_c</p>\n",
       "                    <p style='text-align:right'>ATP + H2O + 4-Methoxy-2,2'-bipyrrole-5-carbaldehyde + 2-Undecylpyrrole --> AMP + 2.0 H+ + 2.0 Phosphate + undecylprodigiosin</p>\n",
       "                </td>\n",
       "            </tr><tr>\n",
       "                <td><strong>GPR</strong></td><td>SCO5896</td>\n",
       "            </tr><tr>\n",
       "                <td><strong>Lower bound</strong></td><td>0.0</td>\n",
       "            </tr><tr>\n",
       "                <td><strong>Upper bound</strong></td><td>1000.0</td>\n",
       "            </tr>\n",
       "        </table>\n",
       "        "
      ],
      "text/plain": [
       "<Reaction REDS37 at 0x7fa654977650>"
      ]
     },
     "execution_count": 41,
     "metadata": {},
     "output_type": "execute_result"
    }
   ],
   "source": [
    "model.reactions.REDS37"
   ]
  },
  {
   "cell_type": "markdown",
   "metadata": {
    "id": "8HldwHfUn9JZ"
   },
   "source": [
    "### Arginine and proline metabolism (L-Proline as substrate)"
   ]
  },
  {
   "cell_type": "markdown",
   "metadata": {
    "id": "RdBEIqYKoHIe"
   },
   "source": [
    "**redM**: *L-proline - L-Prolyl-S-[pcp]*"
   ]
  },
  {
   "cell_type": "code",
   "execution_count": null,
   "metadata": {
    "colab": {
     "base_uri": "https://localhost:8080/"
    },
    "id": "Vm5KuAnOoHVq",
    "outputId": "301f8fe1-c71b-4538-d3d7-29d9e5af2955"
   },
   "outputs": [
    {
     "data": {
      "text/html": [
       "\n",
       "        <table>\n",
       "            <tr>\n",
       "                <td><strong>Gene identifier</strong></td><td>SCO5891</td>\n",
       "            </tr><tr>\n",
       "                <td><strong>Name</strong></td><td>redM</td>\n",
       "            </tr><tr>\n",
       "                <td><strong>Memory address</strong></td>\n",
       "                <td>0x7fa655e71dd0</td>\n",
       "            </tr><tr>\n",
       "                <td><strong>Functional</strong></td><td>True</td>\n",
       "            </tr><tr>\n",
       "                <td><strong>In 1 reaction(s)</strong></td><td>\n",
       "                    REDS28\n",
       "                    </td>\n",
       "            </tr>\n",
       "        </table>"
      ],
      "text/plain": [
       "<Gene SCO5891 at 0x7fa655e71dd0>"
      ]
     },
     "execution_count": 42,
     "metadata": {},
     "output_type": "execute_result"
    }
   ],
   "source": [
    "model.genes.SCO5891"
   ]
  },
  {
   "cell_type": "code",
   "execution_count": null,
   "metadata": {
    "colab": {
     "base_uri": "https://localhost:8080/"
    },
    "id": "ZrJrDVBxNIIc",
    "outputId": "84cf6330-ab61-49e1-9f1c-e237faabebcd"
   },
   "outputs": [
    {
     "data": {
      "text/html": [
       "\n",
       "        <table>\n",
       "            <tr>\n",
       "                <td><strong>Reaction identifier</strong></td><td>REDS28</td>\n",
       "            </tr><tr>\n",
       "                <td><strong>Name</strong></td><td>L-prolyladenylate synthase</td>\n",
       "            </tr><tr>\n",
       "                <td><strong>Memory address</strong></td>\n",
       "                <td>0x7fa654963ad0</td>\n",
       "            </tr><tr>\n",
       "                <td><strong>Stoichiometry</strong></td>\n",
       "                <td>\n",
       "                    <p style='text-align:right'>atp_c + h_c + pro__L_c --> ppi_c + proamp_c</p>\n",
       "                    <p style='text-align:right'>ATP + H+ + L-Proline --> Diphosphate + L-prolyl-AMP</p>\n",
       "                </td>\n",
       "            </tr><tr>\n",
       "                <td><strong>GPR</strong></td><td>SCO5891</td>\n",
       "            </tr><tr>\n",
       "                <td><strong>Lower bound</strong></td><td>0.0</td>\n",
       "            </tr><tr>\n",
       "                <td><strong>Upper bound</strong></td><td>1000.0</td>\n",
       "            </tr>\n",
       "        </table>\n",
       "        "
      ],
      "text/plain": [
       "<Reaction REDS28 at 0x7fa654963ad0>"
      ]
     },
     "execution_count": 43,
     "metadata": {},
     "output_type": "execute_result"
    }
   ],
   "source": [
    "model.reactions.REDS28"
   ]
  },
  {
   "cell_type": "markdown",
   "metadata": {
    "id": "WJrOjQrZoJka"
   },
   "source": [
    "**redW**: *L-Prolyl-S-[pcp] - Pyrrolyl-2-carboxyl-s-[pcp]*"
   ]
  },
  {
   "cell_type": "code",
   "execution_count": null,
   "metadata": {
    "colab": {
     "base_uri": "https://localhost:8080/"
    },
    "id": "CZJmwCduoWoe",
    "outputId": "11967c58-d470-4fbf-fd0c-8216f0c91a2c"
   },
   "outputs": [
    {
     "data": {
      "text/html": [
       "\n",
       "        <table>\n",
       "            <tr>\n",
       "                <td><strong>Gene identifier</strong></td><td>SCO5879</td>\n",
       "            </tr><tr>\n",
       "                <td><strong>Name</strong></td><td>redW</td>\n",
       "            </tr><tr>\n",
       "                <td><strong>Memory address</strong></td>\n",
       "                <td>0x7fa655e6f110</td>\n",
       "            </tr><tr>\n",
       "                <td><strong>Functional</strong></td><td>True</td>\n",
       "            </tr><tr>\n",
       "                <td><strong>In 1 reaction(s)</strong></td><td>\n",
       "                    REDS30\n",
       "                    </td>\n",
       "            </tr>\n",
       "        </table>"
      ],
      "text/plain": [
       "<Gene SCO5879 at 0x7fa655e6f110>"
      ]
     },
     "execution_count": 44,
     "metadata": {},
     "output_type": "execute_result"
    }
   ],
   "source": [
    "model.genes.SCO5879"
   ]
  },
  {
   "cell_type": "code",
   "execution_count": null,
   "metadata": {
    "colab": {
     "base_uri": "https://localhost:8080/"
    },
    "id": "jYHxLNl3NZEP",
    "outputId": "1d8e09ab-abf8-426c-c7fb-44150183828b"
   },
   "outputs": [
    {
     "data": {
      "text/html": [
       "\n",
       "        <table>\n",
       "            <tr>\n",
       "                <td><strong>Metabolite identifier</strong></td><td>pyrPCPredO_c</td>\n",
       "            </tr><tr>\n",
       "                <td><strong>Name</strong></td><td>L-pyrrolyl-[peptidyl carrier protein] (redO)</td>\n",
       "            </tr><tr>\n",
       "                <td><strong>Memory address</strong></td>\n",
       "                <td>0x7fa65626b950</td>\n",
       "            </tr><tr>\n",
       "                <td><strong>Formula</strong></td><td>C16H24N3O8PRS</td>\n",
       "            </tr><tr>\n",
       "                <td><strong>Compartment</strong></td><td>c</td>\n",
       "            </tr><tr>\n",
       "                <td><strong>In 2 reaction(s)</strong></td><td>\n",
       "                    REDS31, REDS30\n",
       "                    </td>\n",
       "            </tr>\n",
       "        </table>"
      ],
      "text/plain": [
       "<Metabolite pyrPCPredO_c at 0x7fa65626b950>"
      ]
     },
     "execution_count": 100,
     "metadata": {},
     "output_type": "execute_result"
    }
   ],
   "source": [
    "model.metabolites.pyrPCPredO_c"
   ]
  },
  {
   "cell_type": "markdown",
   "metadata": {
    "id": "WpsC3miKoK_x"
   },
   "source": [
    "**redX**: *Pyrrolyl-2-carboxyl-s-[pcp] - pyrrolyl-2-carboxyl-s-[acp]*"
   ]
  },
  {
   "cell_type": "code",
   "execution_count": null,
   "metadata": {
    "colab": {
     "base_uri": "https://localhost:8080/"
    },
    "id": "_NbiXezcobai",
    "outputId": "2602ba0c-7c7c-4d7b-984f-f1f7348f7b65"
   },
   "outputs": [
    {
     "data": {
      "text/html": [
       "\n",
       "        <table>\n",
       "            <tr>\n",
       "                <td><strong>Gene identifier</strong></td><td>SCO5878</td>\n",
       "            </tr><tr>\n",
       "                <td><strong>Name</strong></td><td>redX</td>\n",
       "            </tr><tr>\n",
       "                <td><strong>Memory address</strong></td>\n",
       "                <td>0x7fa655e6cc10</td>\n",
       "            </tr><tr>\n",
       "                <td><strong>Functional</strong></td><td>True</td>\n",
       "            </tr><tr>\n",
       "                <td><strong>In 2 reaction(s)</strong></td><td>\n",
       "                    REDS31, REDS33\n",
       "                    </td>\n",
       "            </tr>\n",
       "        </table>"
      ],
      "text/plain": [
       "<Gene SCO5878 at 0x7fa655e6cc10>"
      ]
     },
     "execution_count": 46,
     "metadata": {},
     "output_type": "execute_result"
    }
   ],
   "source": [
    "model.genes.SCO5878"
   ]
  },
  {
   "cell_type": "code",
   "execution_count": null,
   "metadata": {
    "colab": {
     "base_uri": "https://localhost:8080/"
    },
    "id": "s71MJvhDNv0h",
    "outputId": "14ea865c-465e-4236-e450-77fb9a32a4f5"
   },
   "outputs": [
    {
     "data": {
      "text/html": [
       "\n",
       "        <table>\n",
       "            <tr>\n",
       "                <td><strong>Reaction identifier</strong></td><td>REDS33</td>\n",
       "            </tr><tr>\n",
       "                <td><strong>Name</strong></td><td>beta-keto-beta-pyrrolyl-propanoyl-[acyl-carrier-protein] synthase</td>\n",
       "            </tr><tr>\n",
       "                <td><strong>Memory address</strong></td>\n",
       "                <td>0x7fa654971910</td>\n",
       "            </tr><tr>\n",
       "                <td><strong>Stoichiometry</strong></td>\n",
       "                <td>\n",
       "                    <p style='text-align:right'>h_c + malACPredN_c + pyrKSredX_c --> KSredX_c + co2_c + kppACPredN_c</p>\n",
       "                    <p style='text-align:right'>H+ + Malonyl-[acyl-carrier protein] (specific to RED(redN)) + L-pyrrolyl-redX-ketoacyl synthases domain --> redX-ketoacyl synthases domain + CO2 + beta-keto-beta-pyrrolyl-propanoyl-[acyl-carrier-...</p>\n",
       "                </td>\n",
       "            </tr><tr>\n",
       "                <td><strong>GPR</strong></td><td>SCO5878 and SCO5890</td>\n",
       "            </tr><tr>\n",
       "                <td><strong>Lower bound</strong></td><td>0.0</td>\n",
       "            </tr><tr>\n",
       "                <td><strong>Upper bound</strong></td><td>1000.0</td>\n",
       "            </tr>\n",
       "        </table>\n",
       "        "
      ],
      "text/plain": [
       "<Reaction REDS33 at 0x7fa654971910>"
      ]
     },
     "execution_count": 47,
     "metadata": {},
     "output_type": "execute_result"
    }
   ],
   "source": [
    "model.reactions.REDS33"
   ]
  },
  {
   "cell_type": "markdown",
   "metadata": {
    "id": "Qp55LRnHoMHX"
   },
   "source": [
    "**redN**: * pyrrolyl-2-carboxyl-s-[acp] - 4-hydroxy-2,2-bipymole-5-methanol*"
   ]
  },
  {
   "cell_type": "code",
   "execution_count": null,
   "metadata": {
    "colab": {
     "base_uri": "https://localhost:8080/"
    },
    "id": "D6SEWSG4ogRV",
    "outputId": "168304e5-8bad-46f6-8001-6c9f4d4c526e"
   },
   "outputs": [
    {
     "data": {
      "text/html": [
       "\n",
       "        <table>\n",
       "            <tr>\n",
       "                <td><strong>Gene identifier</strong></td><td>SCO5890</td>\n",
       "            </tr><tr>\n",
       "                <td><strong>Name</strong></td><td>redN</td>\n",
       "            </tr><tr>\n",
       "                <td><strong>Memory address</strong></td>\n",
       "                <td>0x7fa655e71990</td>\n",
       "            </tr><tr>\n",
       "                <td><strong>Functional</strong></td><td>True</td>\n",
       "            </tr><tr>\n",
       "                <td><strong>In 3 reaction(s)</strong></td><td>\n",
       "                    REDS34, REDS33, REDS32\n",
       "                    </td>\n",
       "            </tr>\n",
       "        </table>"
      ],
      "text/plain": [
       "<Gene SCO5890 at 0x7fa655e71990>"
      ]
     },
     "execution_count": 48,
     "metadata": {},
     "output_type": "execute_result"
    }
   ],
   "source": [
    "model.genes.SCO5890"
   ]
  },
  {
   "cell_type": "code",
   "execution_count": null,
   "metadata": {
    "colab": {
     "base_uri": "https://localhost:8080/"
    },
    "id": "1Jn1Lg-_R16e",
    "outputId": "b63fd01d-6c6c-40e4-a341-1979edaac04d"
   },
   "outputs": [
    {
     "data": {
      "text/html": [
       "\n",
       "        <table>\n",
       "            <tr>\n",
       "                <td><strong>Reaction identifier</strong></td><td>REDS34</td>\n",
       "            </tr><tr>\n",
       "                <td><strong>Name</strong></td><td>L-serine acyltransferase/alpha-oxoamine synthase</td>\n",
       "            </tr><tr>\n",
       "                <td><strong>Memory address</strong></td>\n",
       "                <td>0x7fa654977590</td>\n",
       "            </tr><tr>\n",
       "                <td><strong>Stoichiometry</strong></td>\n",
       "                <td>\n",
       "                    <p style='text-align:right'>kppACPredN_c + ser__L_c --> ACPredN_c + co2_c + h2o_c + hbm_c</p>\n",
       "                    <p style='text-align:right'>beta-keto-beta-pyrrolyl-propanoyl-[acyl-carrier-protein] (redN) + L-Serine --> acyl carrier protein (specific to RED(redN)) + CO2 + H2O + 4-Hydroxy-2,2'-bipyrrole-5-methanol</p>\n",
       "                </td>\n",
       "            </tr><tr>\n",
       "                <td><strong>GPR</strong></td><td>SCO5890</td>\n",
       "            </tr><tr>\n",
       "                <td><strong>Lower bound</strong></td><td>0.0</td>\n",
       "            </tr><tr>\n",
       "                <td><strong>Upper bound</strong></td><td>1000.0</td>\n",
       "            </tr>\n",
       "        </table>\n",
       "        "
      ],
      "text/plain": [
       "<Reaction REDS34 at 0x7fa654977590>"
      ]
     },
     "execution_count": 49,
     "metadata": {},
     "output_type": "execute_result"
    }
   ],
   "source": [
    "model.reactions.REDS34"
   ]
  },
  {
   "cell_type": "markdown",
   "metadata": {
    "id": "_TNr2YDqoNrv"
   },
   "source": [
    "**redV**: *4-hydroxy-2,2-bipymole-5-methanol - 4-hydroxy-2,2'-bipyrrole-5-carbaldehyde*"
   ]
  },
  {
   "cell_type": "code",
   "execution_count": null,
   "metadata": {
    "colab": {
     "base_uri": "https://localhost:8080/"
    },
    "id": "IXpu05oRog2U",
    "outputId": "4e596f9a-b9af-4313-9ccf-8112bd9c0865"
   },
   "outputs": [
    {
     "data": {
      "text/html": [
       "\n",
       "        <table>\n",
       "            <tr>\n",
       "                <td><strong>Gene identifier</strong></td><td>SCO5882</td>\n",
       "            </tr><tr>\n",
       "                <td><strong>Name</strong></td><td>redV</td>\n",
       "            </tr><tr>\n",
       "                <td><strong>Memory address</strong></td>\n",
       "                <td>0x7fa655e6f550</td>\n",
       "            </tr><tr>\n",
       "                <td><strong>Functional</strong></td><td>True</td>\n",
       "            </tr><tr>\n",
       "                <td><strong>In 1 reaction(s)</strong></td><td>\n",
       "                    REDS35b\n",
       "                    </td>\n",
       "            </tr>\n",
       "        </table>"
      ],
      "text/plain": [
       "<Gene SCO5882 at 0x7fa655e6f550>"
      ]
     },
     "execution_count": 50,
     "metadata": {},
     "output_type": "execute_result"
    }
   ],
   "source": [
    "model.genes.SCO5882"
   ]
  },
  {
   "cell_type": "code",
   "execution_count": null,
   "metadata": {
    "colab": {
     "base_uri": "https://localhost:8080/"
    },
    "id": "eg8w0K-NSSvx",
    "outputId": "76e059d9-240c-4587-e9e9-4cec73e93a6b"
   },
   "outputs": [
    {
     "data": {
      "text/html": [
       "\n",
       "        <table>\n",
       "            <tr>\n",
       "                <td><strong>Reaction identifier</strong></td><td>REDS35b</td>\n",
       "            </tr><tr>\n",
       "                <td><strong>Name</strong></td><td>4-hydroxy-2,2'-bipyrrole-5-methanal:NAD+ oxidoreductase</td>\n",
       "            </tr><tr>\n",
       "                <td><strong>Memory address</strong></td>\n",
       "                <td>0x7fa654977c90</td>\n",
       "            </tr><tr>\n",
       "                <td><strong>Stoichiometry</strong></td>\n",
       "                <td>\n",
       "                    <p style='text-align:right'>hbm_c + nad_c --> h_c + hbc_c + nadh_c</p>\n",
       "                    <p style='text-align:right'>4-Hydroxy-2,2'-bipyrrole-5-methanol + Nicotinamide adenine dinucleotide --> H+ + 4-Hydroxy-2,2'-bipyrrole-5-carbaldehyde + Nicotinamide adenine dinucleotide - reduced</p>\n",
       "                </td>\n",
       "            </tr><tr>\n",
       "                <td><strong>GPR</strong></td><td>SCO5882</td>\n",
       "            </tr><tr>\n",
       "                <td><strong>Lower bound</strong></td><td>0.0</td>\n",
       "            </tr><tr>\n",
       "                <td><strong>Upper bound</strong></td><td>1000.0</td>\n",
       "            </tr>\n",
       "        </table>\n",
       "        "
      ],
      "text/plain": [
       "<Reaction REDS35b at 0x7fa654977c90>"
      ]
     },
     "execution_count": 51,
     "metadata": {},
     "output_type": "execute_result"
    }
   ],
   "source": [
    "model.reactions.REDS35b"
   ]
  },
  {
   "cell_type": "markdown",
   "metadata": {
    "id": "LeTS-xlCoOgg"
   },
   "source": [
    "**redI**: *4-hydroxy-2,2'-bipyrrole-5-carbaldehyde -  4-methoxy-2,2'-bipyrrole-5-carbaldehyde*"
   ]
  },
  {
   "cell_type": "code",
   "execution_count": null,
   "metadata": {
    "colab": {
     "base_uri": "https://localhost:8080/"
    },
    "id": "Ud5Jib3-opDr",
    "outputId": "3ae5de21-852a-406d-958f-5ea76bf77cb4"
   },
   "outputs": [
    {
     "data": {
      "text/html": [
       "\n",
       "        <table>\n",
       "            <tr>\n",
       "                <td><strong>Gene identifier</strong></td><td>SCO5895</td>\n",
       "            </tr><tr>\n",
       "                <td><strong>Name</strong></td><td>redI</td>\n",
       "            </tr><tr>\n",
       "                <td><strong>Memory address</strong></td>\n",
       "                <td>0x7fa655e73e10</td>\n",
       "            </tr><tr>\n",
       "                <td><strong>Functional</strong></td><td>True</td>\n",
       "            </tr><tr>\n",
       "                <td><strong>In 1 reaction(s)</strong></td><td>\n",
       "                    REDS35\n",
       "                    </td>\n",
       "            </tr>\n",
       "        </table>"
      ],
      "text/plain": [
       "<Gene SCO5895 at 0x7fa655e73e10>"
      ]
     },
     "execution_count": 52,
     "metadata": {},
     "output_type": "execute_result"
    }
   ],
   "source": [
    "model.genes.SCO5895"
   ]
  },
  {
   "cell_type": "code",
   "execution_count": null,
   "metadata": {
    "id": "9mDO4lGxSpSt"
   },
   "outputs": [],
   "source": [
    "model.reactions.REDS35"
   ]
  },
  {
   "cell_type": "markdown",
   "metadata": {
    "id": "LtS6gKpATxiY"
   },
   "source": [
    "### Transport reactions\n"
   ]
  },
  {
   "cell_type": "code",
   "execution_count": null,
   "metadata": {
    "colab": {
     "base_uri": "https://localhost:8080/"
    },
    "id": "Q4NajCDGT092",
    "outputId": "651ec530-34d7-40e3-cbdf-1961b05c16ed"
   },
   "outputs": [
    {
     "data": {
      "text/html": [
       "\n",
       "        <table>\n",
       "            <tr>\n",
       "                <td><strong>Reaction identifier</strong></td><td>DM_RED_c</td>\n",
       "            </tr><tr>\n",
       "                <td><strong>Name</strong></td><td>Sink needed to allow intracellular undecylprodigiosin to leave system</td>\n",
       "            </tr><tr>\n",
       "                <td><strong>Memory address</strong></td>\n",
       "                <td>0x7fa654318510</td>\n",
       "            </tr><tr>\n",
       "                <td><strong>Stoichiometry</strong></td>\n",
       "                <td>\n",
       "                    <p style='text-align:right'>red_c --></p>\n",
       "                    <p style='text-align:right'>undecylprodigiosin --></p>\n",
       "                </td>\n",
       "            </tr><tr>\n",
       "                <td><strong>GPR</strong></td><td></td>\n",
       "            </tr><tr>\n",
       "                <td><strong>Lower bound</strong></td><td>0.0</td>\n",
       "            </tr><tr>\n",
       "                <td><strong>Upper bound</strong></td><td>1000.0</td>\n",
       "            </tr>\n",
       "        </table>\n",
       "        "
      ],
      "text/plain": [
       "<Reaction DM_RED_c at 0x7fa654318510>"
      ]
     },
     "execution_count": 54,
     "metadata": {},
     "output_type": "execute_result"
    }
   ],
   "source": [
    "model.reactions.DM_RED_c"
   ]
  },
  {
   "cell_type": "code",
   "execution_count": null,
   "metadata": {
    "colab": {
     "base_uri": "https://localhost:8080/"
    },
    "id": "OHvWn4q6T2-Y",
    "outputId": "9e43e645-9679-46e7-f332-bcab96c1bac9"
   },
   "outputs": [
    {
     "data": {
      "text/html": [
       "\n",
       "        <table>\n",
       "            <tr>\n",
       "                <td><strong>Reaction identifier</strong></td><td>REDt</td>\n",
       "            </tr><tr>\n",
       "                <td><strong>Name</strong></td><td>undecylprodigiosin transport</td>\n",
       "            </tr><tr>\n",
       "                <td><strong>Memory address</strong></td>\n",
       "                <td>0x7fa6543c5050</td>\n",
       "            </tr><tr>\n",
       "                <td><strong>Stoichiometry</strong></td>\n",
       "                <td>\n",
       "                    <p style='text-align:right'>red_c --> red_e</p>\n",
       "                    <p style='text-align:right'>undecylprodigiosin --> undecylprodigiosin</p>\n",
       "                </td>\n",
       "            </tr><tr>\n",
       "                <td><strong>GPR</strong></td><td></td>\n",
       "            </tr><tr>\n",
       "                <td><strong>Lower bound</strong></td><td>0.0</td>\n",
       "            </tr><tr>\n",
       "                <td><strong>Upper bound</strong></td><td>1000.0</td>\n",
       "            </tr>\n",
       "        </table>\n",
       "        "
      ],
      "text/plain": [
       "<Reaction REDt at 0x7fa6543c5050>"
      ]
     },
     "execution_count": 55,
     "metadata": {},
     "output_type": "execute_result"
    }
   ],
   "source": [
    "model.reactions.REDt"
   ]
  },
  {
   "cell_type": "code",
   "execution_count": null,
   "metadata": {
    "colab": {
     "base_uri": "https://localhost:8080/"
    },
    "id": "WV6sQrFJT70d",
    "outputId": "ea13f649-cc7a-4d36-9308-1b9daeeb8af2"
   },
   "outputs": [
    {
     "data": {
      "text/html": [
       "\n",
       "        <table>\n",
       "            <tr>\n",
       "                <td><strong>Metabolite identifier</strong></td><td>pro__L_c</td>\n",
       "            </tr><tr>\n",
       "                <td><strong>Name</strong></td><td>L-Proline</td>\n",
       "            </tr><tr>\n",
       "                <td><strong>Memory address</strong></td>\n",
       "                <td>0x7fa6562ce850</td>\n",
       "            </tr><tr>\n",
       "                <td><strong>Formula</strong></td><td>C5H9NO2</td>\n",
       "            </tr><tr>\n",
       "                <td><strong>Compartment</strong></td><td>c</td>\n",
       "            </tr><tr>\n",
       "                <td><strong>In 10 reaction(s)</strong></td><td>\n",
       "                    PROTRS, P5CR, PROt4, PROLRM, PROD2, REDS28, PROabc, AMPTASEPG, PROt2r, PROTEIN_PSEUDO\n",
       "                    </td>\n",
       "            </tr>\n",
       "        </table>"
      ],
      "text/plain": [
       "<Metabolite pro__L_c at 0x7fa6562ce850>"
      ]
     },
     "execution_count": 56,
     "metadata": {},
     "output_type": "execute_result"
    }
   ],
   "source": [
    "model.metabolites.get_by_id(\"pro__L_c\")  #we can see that the metabolite is involved in reaction REDS28"
   ]
  },
  {
   "cell_type": "code",
   "execution_count": null,
   "metadata": {
    "id": "d-Xme0KLW9QV"
   },
   "outputs": [],
   "source": [
    "model.metabolites.get_by_id(\"red_c\")  #some reactions involved with undecylprodigiosin in the citoplasm\n",
    "\n",
    "#REDS37 (synthase)\n",
    "#REDt (transport)\n",
    "#DM_RED_c (needed to leave system)\n",
    "#SRUBSYN "
   ]
  },
  {
   "cell_type": "code",
   "execution_count": null,
   "metadata": {
    "colab": {
     "base_uri": "https://localhost:8080/"
    },
    "id": "KLA2v9CsgM5r",
    "outputId": "5c86de1b-2014-45eb-8411-49aaf3613fc8"
   },
   "outputs": [
    {
     "data": {
      "text/html": [
       "\n",
       "        <table>\n",
       "            <tr>\n",
       "                <td><strong>Reaction identifier</strong></td><td>SRUBSYN</td>\n",
       "            </tr><tr>\n",
       "                <td><strong>Name</strong></td><td>SRUBSYN</td>\n",
       "            </tr><tr>\n",
       "                <td><strong>Memory address</strong></td>\n",
       "                <td>0x7fa65486cd50</td>\n",
       "            </tr><tr>\n",
       "                <td><strong>Stoichiometry</strong></td>\n",
       "                <td>\n",
       "                    <p style='text-align:right'>2.0 h_c + o2_c + red_c --> 2.0 h2o_c + strprub_c</p>\n",
       "                    <p style='text-align:right'>2.0 H+ + O2 + undecylprodigiosin --> 2.0 H2O + Streptorubin B</p>\n",
       "                </td>\n",
       "            </tr><tr>\n",
       "                <td><strong>GPR</strong></td><td>SCO5897</td>\n",
       "            </tr><tr>\n",
       "                <td><strong>Lower bound</strong></td><td>0.0</td>\n",
       "            </tr><tr>\n",
       "                <td><strong>Upper bound</strong></td><td>1000.0</td>\n",
       "            </tr>\n",
       "        </table>\n",
       "        "
      ],
      "text/plain": [
       "<Reaction SRUBSYN at 0x7fa65486cd50>"
      ]
     },
     "execution_count": 67,
     "metadata": {},
     "output_type": "execute_result"
    }
   ],
   "source": [
    "model.reactions.SRUBSYN  #reaction\n",
    "#model.metabolites.strprub_c  #product!"
   ]
  },
  {
   "cell_type": "code",
   "execution_count": null,
   "metadata": {
    "colab": {
     "base_uri": "https://localhost:8080/"
    },
    "id": "Br8gMlKQg8Fb",
    "outputId": "8fb743f3-525e-468b-bc9e-c11549ccef89"
   },
   "outputs": [
    {
     "data": {
      "text/html": [
       "\n",
       "        <table>\n",
       "            <tr>\n",
       "                <td><strong>Reaction identifier</strong></td><td>DM_strprub_c</td>\n",
       "            </tr><tr>\n",
       "                <td><strong>Name</strong></td><td>Streptorubin B demand</td>\n",
       "            </tr><tr>\n",
       "                <td><strong>Memory address</strong></td>\n",
       "                <td>0x7fa6542a9550</td>\n",
       "            </tr><tr>\n",
       "                <td><strong>Stoichiometry</strong></td>\n",
       "                <td>\n",
       "                    <p style='text-align:right'>strprub_c --></p>\n",
       "                    <p style='text-align:right'>Streptorubin B --></p>\n",
       "                </td>\n",
       "            </tr><tr>\n",
       "                <td><strong>GPR</strong></td><td></td>\n",
       "            </tr><tr>\n",
       "                <td><strong>Lower bound</strong></td><td>0.0</td>\n",
       "            </tr><tr>\n",
       "                <td><strong>Upper bound</strong></td><td>1000.0</td>\n",
       "            </tr>\n",
       "        </table>\n",
       "        "
      ],
      "text/plain": [
       "<Reaction DM_strprub_c at 0x7fa6542a9550>"
      ]
     },
     "execution_count": 59,
     "metadata": {},
     "output_type": "execute_result"
    }
   ],
   "source": [
    "model.reactions.DM_strprub_c"
   ]
  },
  {
   "cell_type": "code",
   "execution_count": null,
   "metadata": {
    "colab": {
     "base_uri": "https://localhost:8080/"
    },
    "id": "vJ82nhXEfVJa",
    "outputId": "78df39f2-e5d1-45ed-e729-01dc814b04a6"
   },
   "outputs": [
    {
     "data": {
      "text/html": [
       "\n",
       "        <table>\n",
       "            <tr>\n",
       "                <td><strong>Metabolite identifier</strong></td><td>red_e</td>\n",
       "            </tr><tr>\n",
       "                <td><strong>Name</strong></td><td>undecylprodigiosin</td>\n",
       "            </tr><tr>\n",
       "                <td><strong>Memory address</strong></td>\n",
       "                <td>0x7fa656276990</td>\n",
       "            </tr><tr>\n",
       "                <td><strong>Formula</strong></td><td>C25H35N3O</td>\n",
       "            </tr><tr>\n",
       "                <td><strong>Compartment</strong></td><td>e</td>\n",
       "            </tr><tr>\n",
       "                <td><strong>In 1 reaction(s)</strong></td><td>\n",
       "                    REDt\n",
       "                    </td>\n",
       "            </tr>\n",
       "        </table>"
      ],
      "text/plain": [
       "<Metabolite red_e at 0x7fa656276990>"
      ]
     },
     "execution_count": 60,
     "metadata": {},
     "output_type": "execute_result"
    }
   ],
   "source": [
    "model.metabolites.get_by_id(\"red_e\")  #the only reaction involved in undecylprodigiosin in the extracelullar compartment is REDt (transport)"
   ]
  },
  {
   "cell_type": "code",
   "execution_count": null,
   "metadata": {
    "colab": {
     "base_uri": "https://localhost:8080/"
    },
    "id": "F91UvIo-kUsg",
    "outputId": "5b3e0b02-44be-4b1c-d8e1-ffd55db8f079"
   },
   "outputs": [
    {
     "data": {
      "text/html": [
       "\n",
       "        <table>\n",
       "            <tr>\n",
       "                <td><strong>Metabolite identifier</strong></td><td>C21572_c</td>\n",
       "            </tr><tr>\n",
       "                <td><strong>Name</strong></td><td>2-Methyl-3-n-amyl-pyrrole</td>\n",
       "            </tr><tr>\n",
       "                <td><strong>Memory address</strong></td>\n",
       "                <td>0x7fa656570810</td>\n",
       "            </tr><tr>\n",
       "                <td><strong>Formula</strong></td><td>C10H16N</td>\n",
       "            </tr><tr>\n",
       "                <td><strong>Compartment</strong></td><td>c</td>\n",
       "            </tr><tr>\n",
       "                <td><strong>In 1 reaction(s)</strong></td><td>\n",
       "                    PRODSYN\n",
       "                    </td>\n",
       "            </tr>\n",
       "        </table>"
      ],
      "text/plain": [
       "<Metabolite C21572_c at 0x7fa656570810>"
      ]
     },
     "execution_count": 72,
     "metadata": {},
     "output_type": "execute_result"
    }
   ],
   "source": [
    "model.metabolites.C21572_c"
   ]
  },
  {
   "cell_type": "code",
   "execution_count": null,
   "metadata": {
    "colab": {
     "base_uri": "https://localhost:8080/"
    },
    "id": "A2F2crQzmiL-",
    "outputId": "484c09ae-bb62-4f3d-c504-017faf613999"
   },
   "outputs": [
    {
     "data": {
      "text/html": [
       "\n",
       "        <table>\n",
       "            <tr>\n",
       "                <td><strong>Reaction identifier</strong></td><td>PRODSYN</td>\n",
       "            </tr><tr>\n",
       "                <td><strong>Name</strong></td><td>R11662</td>\n",
       "            </tr><tr>\n",
       "                <td><strong>Memory address</strong></td>\n",
       "                <td>0x7fa654b08690</td>\n",
       "            </tr><tr>\n",
       "                <td><strong>Stoichiometry</strong></td>\n",
       "                <td>\n",
       "                    <p style='text-align:right'>C21572_c + atp_c + mbc_c --> C21565_c + adp_c + pi_c</p>\n",
       "                    <p style='text-align:right'>2-Methyl-3-n-amyl-pyrrole + ATP + 4-Methoxy-2,2'-bipyrrole-5-carbaldehyde --> Prodigiosin + ADP + Phosphate</p>\n",
       "                </td>\n",
       "            </tr><tr>\n",
       "                <td><strong>GPR</strong></td><td>SCO5896</td>\n",
       "            </tr><tr>\n",
       "                <td><strong>Lower bound</strong></td><td>0.0</td>\n",
       "            </tr><tr>\n",
       "                <td><strong>Upper bound</strong></td><td>1000.0</td>\n",
       "            </tr>\n",
       "        </table>\n",
       "        "
      ],
      "text/plain": [
       "<Reaction PRODSYN at 0x7fa654b08690>"
      ]
     },
     "execution_count": 79,
     "metadata": {},
     "output_type": "execute_result"
    }
   ],
   "source": [
    "model.reactions.PRODSYN"
   ]
  },
  {
   "cell_type": "code",
   "execution_count": null,
   "metadata": {
    "id": "bEB3W5lFUYQC"
   },
   "outputs": [],
   "source": [
    "model.medium"
   ]
  },
  {
   "cell_type": "code",
   "execution_count": null,
   "metadata": {
    "id": "LojGoOmVCgjj"
   },
   "outputs": [],
   "source": [
    "model.metabolites.pro__L_c\n",
    "model.metabolites.pro__L_e #EX_pro__L_e"
   ]
  },
  {
   "cell_type": "markdown",
   "metadata": {
    "id": "mZ993or0uM25"
   },
   "source": [
    "##2 Check consistency of the model with FASTCC"
   ]
  },
  {
   "cell_type": "code",
   "execution_count": null,
   "metadata": {
    "id": "pR85B8ampkkY"
   },
   "outputs": [],
   "source": [
    "consistent_model = cobra.flux_analysis.fastcc(model)\n",
    "consistent_model.reactions"
   ]
  },
  {
   "cell_type": "code",
   "execution_count": null,
   "metadata": {
    "colab": {
     "base_uri": "https://localhost:8080/"
    },
    "id": "TO5o_YWvs2Hz",
    "outputId": "26e603fb-1166-490c-fcc2-fe20d93dc114"
   },
   "outputs": [
    {
     "name": "stdout",
     "output_type": "stream",
     "text": [
      "From the 2599 reactions found in the model, 1599 reactions are consistent, and 1000 reactions are blocked.\n"
     ]
    }
   ],
   "source": [
    "print(\"From the\",len(model.reactions),\"reactions found in the model,\",len(consistent_model.reactions),\"reactions are consistent, and\",len(model.reactions)-len(consistent_model.reactions),\"reactions are blocked.\")"
   ]
  }
 ],
 "metadata": {
  "colab": {
   "provenance": []
  },
  "kernelspec": {
   "display_name": "Python 3 (ipykernel)",
   "language": "python",
   "name": "python3"
  },
  "language_info": {
   "codemirror_mode": {
    "name": "ipython",
    "version": 3
   },
   "file_extension": ".py",
   "mimetype": "text/x-python",
   "name": "python",
   "nbconvert_exporter": "python",
   "pygments_lexer": "ipython3",
   "version": "3.9.7"
  }
 },
 "nbformat": 4,
 "nbformat_minor": 4
}
