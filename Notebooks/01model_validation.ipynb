{
 "cells": [
  {
   "cell_type": "markdown",
   "metadata": {
    "id": "ZtOe4jDeRzRf"
   },
   "source": [
    "# 01. Model validation"
   ]
  },
  {
   "cell_type": "code",
   "execution_count": 1,
   "metadata": {},
   "outputs": [],
   "source": [
    "#call load_model\n",
    "%run 00load_model.ipynb"
   ]
  },
  {
   "cell_type": "code",
   "execution_count": 2,
   "metadata": {
    "id": "Cxqp9sKMR8Sb"
   },
   "outputs": [
    {
     "data": {
      "text/html": [
       "<h3>Objective</h3><p>1.0 BIOMASS_SCO_tRNA = 0.07461714494432872</p><h4>Uptake</h4><table border=\"1\" class=\"dataframe\">\n",
       "  <thead>\n",
       "    <tr style=\"text-align: right;\">\n",
       "      <th>Metabolite</th>\n",
       "      <th>Reaction</th>\n",
       "      <th>Flux</th>\n",
       "      <th>C-Number</th>\n",
       "      <th>C-Flux</th>\n",
       "    </tr>\n",
       "  </thead>\n",
       "  <tbody>\n",
       "    <tr>\n",
       "      <td>ca2_e</td>\n",
       "      <td>EX_ca2_e</td>\n",
       "      <td>0.0004288</td>\n",
       "      <td>0</td>\n",
       "      <td>0.00%</td>\n",
       "    </tr>\n",
       "    <tr>\n",
       "      <td>cl_e</td>\n",
       "      <td>EX_cl_e</td>\n",
       "      <td>0.0004288</td>\n",
       "      <td>0</td>\n",
       "      <td>0.00%</td>\n",
       "    </tr>\n",
       "    <tr>\n",
       "      <td>cobalt2_e</td>\n",
       "      <td>EX_cobalt2_e</td>\n",
       "      <td>2.644E-06</td>\n",
       "      <td>0</td>\n",
       "      <td>0.00%</td>\n",
       "    </tr>\n",
       "    <tr>\n",
       "      <td>cu2_e</td>\n",
       "      <td>EX_cu2_e</td>\n",
       "      <td>5.836E-05</td>\n",
       "      <td>0</td>\n",
       "      <td>0.00%</td>\n",
       "    </tr>\n",
       "    <tr>\n",
       "      <td>fe2_e</td>\n",
       "      <td>EX_fe2_e</td>\n",
       "      <td>0.001453</td>\n",
       "      <td>0</td>\n",
       "      <td>0.00%</td>\n",
       "    </tr>\n",
       "    <tr>\n",
       "      <td>glc__D_e</td>\n",
       "      <td>EX_glc__D_e</td>\n",
       "      <td>0.8</td>\n",
       "      <td>6</td>\n",
       "      <td>100.00%</td>\n",
       "    </tr>\n",
       "    <tr>\n",
       "      <td>k_e</td>\n",
       "      <td>EX_k_e</td>\n",
       "      <td>0.01608</td>\n",
       "      <td>0</td>\n",
       "      <td>0.00%</td>\n",
       "    </tr>\n",
       "    <tr>\n",
       "      <td>mg2_e</td>\n",
       "      <td>EX_mg2_e</td>\n",
       "      <td>0.0007146</td>\n",
       "      <td>0</td>\n",
       "      <td>0.00%</td>\n",
       "    </tr>\n",
       "    <tr>\n",
       "      <td>mn2_e</td>\n",
       "      <td>EX_mn2_e</td>\n",
       "      <td>5.697E-05</td>\n",
       "      <td>0</td>\n",
       "      <td>0.00%</td>\n",
       "    </tr>\n",
       "    <tr>\n",
       "      <td>mobd_e</td>\n",
       "      <td>EX_mobd_e</td>\n",
       "      <td>2.782E-06</td>\n",
       "      <td>0</td>\n",
       "      <td>0.00%</td>\n",
       "    </tr>\n",
       "    <tr>\n",
       "      <td>nh4_e</td>\n",
       "      <td>EX_nh4_e</td>\n",
       "      <td>0.6518</td>\n",
       "      <td>0</td>\n",
       "      <td>0.00%</td>\n",
       "    </tr>\n",
       "    <tr>\n",
       "      <td>ni2_e</td>\n",
       "      <td>EX_ni2_e</td>\n",
       "      <td>2.658E-05</td>\n",
       "      <td>0</td>\n",
       "      <td>0.00%</td>\n",
       "    </tr>\n",
       "    <tr>\n",
       "      <td>o2_e</td>\n",
       "      <td>EX_o2_e</td>\n",
       "      <td>1.727</td>\n",
       "      <td>0</td>\n",
       "      <td>0.00%</td>\n",
       "    </tr>\n",
       "    <tr>\n",
       "      <td>pi_e</td>\n",
       "      <td>EX_pi_e</td>\n",
       "      <td>0.07386</td>\n",
       "      <td>0</td>\n",
       "      <td>0.00%</td>\n",
       "    </tr>\n",
       "    <tr>\n",
       "      <td>so4_e</td>\n",
       "      <td>EX_so4_e</td>\n",
       "      <td>0.01937</td>\n",
       "      <td>0</td>\n",
       "      <td>0.00%</td>\n",
       "    </tr>\n",
       "    <tr>\n",
       "      <td>zn2_e</td>\n",
       "      <td>EX_zn2_e</td>\n",
       "      <td>2.805E-05</td>\n",
       "      <td>0</td>\n",
       "      <td>0.00%</td>\n",
       "    </tr>\n",
       "  </tbody>\n",
       "</table><h4>Secretion</h4><table border=\"1\" class=\"dataframe\">\n",
       "  <thead>\n",
       "    <tr style=\"text-align: right;\">\n",
       "      <th>Metabolite</th>\n",
       "      <th>Reaction</th>\n",
       "      <th>Flux</th>\n",
       "      <th>C-Number</th>\n",
       "      <th>C-Flux</th>\n",
       "    </tr>\n",
       "  </thead>\n",
       "  <tbody>\n",
       "    <tr>\n",
       "      <td>4crsol_c</td>\n",
       "      <td>DM_4crsol_c</td>\n",
       "      <td>-1.683E-06</td>\n",
       "      <td>7</td>\n",
       "      <td>0.00%</td>\n",
       "    </tr>\n",
       "    <tr>\n",
       "      <td>5drib_c</td>\n",
       "      <td>DM_5drib_c</td>\n",
       "      <td>-2.818E-05</td>\n",
       "      <td>5</td>\n",
       "      <td>0.01%</td>\n",
       "    </tr>\n",
       "    <tr>\n",
       "      <td>amob_c</td>\n",
       "      <td>DM_amob_c</td>\n",
       "      <td>-1.23E-06</td>\n",
       "      <td>15</td>\n",
       "      <td>0.00%</td>\n",
       "    </tr>\n",
       "    <tr>\n",
       "      <td>dalua_c</td>\n",
       "      <td>DM_dalua_c</td>\n",
       "      <td>-5.657E-07</td>\n",
       "      <td>4</td>\n",
       "      <td>0.00%</td>\n",
       "    </tr>\n",
       "    <tr>\n",
       "      <td>5mtr_e</td>\n",
       "      <td>EX_5mtr_e</td>\n",
       "      <td>-0.002891</td>\n",
       "      <td>6</td>\n",
       "      <td>0.94%</td>\n",
       "    </tr>\n",
       "    <tr>\n",
       "      <td>co2_e</td>\n",
       "      <td>EX_co2_e</td>\n",
       "      <td>-1.825</td>\n",
       "      <td>1</td>\n",
       "      <td>99.05%</td>\n",
       "    </tr>\n",
       "    <tr>\n",
       "      <td>h2o_e</td>\n",
       "      <td>EX_h2o_e</td>\n",
       "      <td>-3.874</td>\n",
       "      <td>0</td>\n",
       "      <td>0.00%</td>\n",
       "    </tr>\n",
       "    <tr>\n",
       "      <td>h_e</td>\n",
       "      <td>EX_h_e</td>\n",
       "      <td>-0.3018</td>\n",
       "      <td>0</td>\n",
       "      <td>0.00%</td>\n",
       "    </tr>\n",
       "  </tbody>\n",
       "</table>"
      ],
      "text/plain": [
       "<cobra.summary.model_summary.ModelSummary at 0x1c4a17d3af0>"
      ]
     },
     "execution_count": 2,
     "metadata": {},
     "output_type": "execute_result"
    }
   ],
   "source": [
    "#check features \n",
    "model.compartments          #check both compartments\n",
    "model.medium                #investigate elements on the medium\n",
    "model.summary()"
   ]
  },
  {
   "cell_type": "markdown",
   "metadata": {
    "id": "uc9ghRIjAyja"
   },
   "source": [
    "## 1 Check all the reactions\n"
   ]
  },
  {
   "cell_type": "markdown",
   "metadata": {
    "id": "QgkgKzyRnyP8"
   },
   "source": [
    "Check KEGG pathway gene. Search in model. Get the gene ID (SCOXXXX). Search in the model."
   ]
  },
  {
   "cell_type": "markdown",
   "metadata": {
    "id": "NUETDQWRn0sM"
   },
   "source": [
    "### Pyruvate metabolism (Malonyl CoA as substrate)"
   ]
  },
  {
   "cell_type": "markdown",
   "metadata": {
    "id": "HeJp1QW_Cl49"
   },
   "source": [
    "**redP/redR**:  *Malonyl CoA - Dodecanoyl-[acp]* \n",
    "[Reaction in **KEGG**](https://www.kegg.jp/entry/sco:SCO0330+sco:SCO1346+sco:SCO1815+sco:SCO1831+sco:SCO2387+sco:SCO3502+sco:SCO4501+sco:SCO4681+sco:SCO5886+sco:SCO5887+sco:SCO5888+sco:SCO6249+sco:SCO6264+sco:SCO7266+sco:SCO7810//)"
   ]
  },
  {
   "cell_type": "code",
   "execution_count": 3,
   "metadata": {
    "id": "3YrhD2rTkfgI"
   },
   "outputs": [
    {
     "data": {
      "text/html": [
       "\n",
       "        <table>\n",
       "            <tr>\n",
       "                <td><strong>Gene identifier</strong></td><td>SCO5886</td>\n",
       "            </tr><tr>\n",
       "                <td><strong>Name</strong></td><td>redR</td>\n",
       "            </tr><tr>\n",
       "                <td><strong>Memory address</strong></td>\n",
       "                <td>0x1c4d3ace340</td>\n",
       "            </tr><tr>\n",
       "                <td><strong>Functional</strong></td><td>True</td>\n",
       "            </tr><tr>\n",
       "                <td><strong>In 4 reaction(s)</strong></td><td>\n",
       "                    REDS14, REDS6, REDS18, REDS10\n",
       "                    </td>\n",
       "            </tr>\n",
       "        </table>"
      ],
      "text/plain": [
       "<Gene SCO5886 at 0x1c4d3ace340>"
      ]
     },
     "execution_count": 3,
     "metadata": {},
     "output_type": "execute_result"
    }
   ],
   "source": [
    "#model.genes.SCO5888     #redP - REDS2\n",
    "model.genes.SCO5886     #redR - any reaction in which appears \"undecylprodigiosin\" but check\n",
    "#model.genes.SCO0330     #fabG - too many reactions (47xd)\n",
    "#model.genes.SCO5887     #redQ - REDS1, REDS2\n",
    "#model.genes.SCO2387     #fabD - REDS1, REDS32 \n",
    "#model.genes.SCO5890     #redN - REDS32"
   ]
  },
  {
   "cell_type": "code",
   "execution_count": 4,
   "metadata": {
    "id": "IEYnaItwt3kb"
   },
   "outputs": [
    {
     "data": {
      "text/html": [
       "\n",
       "        <table>\n",
       "            <tr>\n",
       "                <td><strong>Reaction identifier</strong></td><td>REDS14</td>\n",
       "            </tr><tr>\n",
       "                <td><strong>Name</strong></td><td>3-oxoacyl-[acyl-carrier-protein] synthase (n-C10:0)</td>\n",
       "            </tr><tr>\n",
       "                <td><strong>Memory address</strong></td>\n",
       "                <td>0x1c4d4b20b80</td>\n",
       "            </tr><tr>\n",
       "                <td><strong>Stoichiometry</strong></td>\n",
       "                <td>\n",
       "                    <p style='text-align:right'>h_c + malACPredQ_c + ocACPredQ_c --> 3odecACPredQ_c + ACPredQ_c + co2_c</p>\n",
       "                    <p style='text-align:right'>H+ + Malonyl-[acyl-carrier protein] (specific to RED(redQ)) + Octanoyl-ACP (n-C8:0ACP) --> 3-Oxodecanoyl-[acyl-carrier protein] + acyl carrier protein (specific to RED(redQ)) + CO2</p>\n",
       "                </td>\n",
       "            </tr><tr>\n",
       "                <td><strong>GPR</strong></td><td>SCO5886</td>\n",
       "            </tr><tr>\n",
       "                <td><strong>Lower bound</strong></td><td>0.0</td>\n",
       "            </tr><tr>\n",
       "                <td><strong>Upper bound</strong></td><td>1000.0</td>\n",
       "            </tr>\n",
       "        </table>\n",
       "        "
      ],
      "text/plain": [
       "<Reaction REDS14 at 0x1c4d4b20b80>"
      ]
     },
     "execution_count": 4,
     "metadata": {},
     "output_type": "execute_result"
    }
   ],
   "source": [
    "model.reactions.REDS14"
   ]
  },
  {
   "cell_type": "markdown",
   "metadata": {
    "id": "G2GwKFSrlqih"
   },
   "source": [
    "**redJ**: *Dodecanoyl-[acp] - Dodecanoic acid (dodecanoate)*"
   ]
  },
  {
   "cell_type": "code",
   "execution_count": 5,
   "metadata": {
    "colab": {
     "base_uri": "https://localhost:8080/"
    },
    "id": "4E-EpbxXlyVy",
    "outputId": "1dbcffb2-c0e7-4df8-f474-9160b33688e7"
   },
   "outputs": [
    {
     "data": {
      "text/html": [
       "\n",
       "        <table>\n",
       "            <tr>\n",
       "                <td><strong>Gene identifier</strong></td><td>SCO5894</td>\n",
       "            </tr><tr>\n",
       "                <td><strong>Name</strong></td><td>redJ</td>\n",
       "            </tr><tr>\n",
       "                <td><strong>Memory address</strong></td>\n",
       "                <td>0x1c4d3ace670</td>\n",
       "            </tr><tr>\n",
       "                <td><strong>Functional</strong></td><td>True</td>\n",
       "            </tr><tr>\n",
       "                <td><strong>In 1 reaction(s)</strong></td><td>\n",
       "                    REDS22\n",
       "                    </td>\n",
       "            </tr>\n",
       "        </table>"
      ],
      "text/plain": [
       "<Gene SCO5894 at 0x1c4d3ace670>"
      ]
     },
     "execution_count": 5,
     "metadata": {},
     "output_type": "execute_result"
    }
   ],
   "source": [
    "model.genes.SCO5894"
   ]
  },
  {
   "cell_type": "code",
   "execution_count": 6,
   "metadata": {
    "colab": {
     "base_uri": "https://localhost:8080/"
    },
    "id": "yXN4m7SsJN6T",
    "outputId": "fee1776b-3ab9-4aec-b304-313c3ea27c27"
   },
   "outputs": [
    {
     "data": {
      "text/html": [
       "\n",
       "        <table>\n",
       "            <tr>\n",
       "                <td><strong>Reaction identifier</strong></td><td>REDS22</td>\n",
       "            </tr><tr>\n",
       "                <td><strong>Name</strong></td><td>dodecanoyl-redQ thioesterase</td>\n",
       "            </tr><tr>\n",
       "                <td><strong>Memory address</strong></td>\n",
       "                <td>0x1c4d4b3cb20</td>\n",
       "            </tr><tr>\n",
       "                <td><strong>Stoichiometry</strong></td>\n",
       "                <td>\n",
       "                    <p style='text-align:right'>ddcaACPredQ_c + h2o_c --> ACPredQ_c + ddca_c + h_c</p>\n",
       "                    <p style='text-align:right'>Dodecanoyl-ACP (n-C12:0ACP) (redQ) + H2O --> acyl carrier protein (specific to RED(redQ)) + Dodecanoate (n-C12:0) + H+</p>\n",
       "                </td>\n",
       "            </tr><tr>\n",
       "                <td><strong>GPR</strong></td><td>SCO5894</td>\n",
       "            </tr><tr>\n",
       "                <td><strong>Lower bound</strong></td><td>0.0</td>\n",
       "            </tr><tr>\n",
       "                <td><strong>Upper bound</strong></td><td>1000.0</td>\n",
       "            </tr>\n",
       "        </table>\n",
       "        "
      ],
      "text/plain": [
       "<Reaction REDS22 at 0x1c4d4b3cb20>"
      ]
     },
     "execution_count": 6,
     "metadata": {},
     "output_type": "execute_result"
    }
   ],
   "source": [
    "model.reactions.REDS22"
   ]
  },
  {
   "cell_type": "markdown",
   "metadata": {
    "id": "-25-nzv7nJ5Z"
   },
   "source": [
    "**redL**: *Dodecanoic acid - 4-keto-2-undecylpyrroline*"
   ]
  },
  {
   "cell_type": "code",
   "execution_count": 7,
   "metadata": {
    "colab": {
     "base_uri": "https://localhost:8080/"
    },
    "id": "TLVaNXIwlzu9",
    "outputId": "0b8cee38-bc09-4378-e161-e74370392fae"
   },
   "outputs": [
    {
     "data": {
      "text/html": [
       "\n",
       "        <table>\n",
       "            <tr>\n",
       "                <td><strong>Gene identifier</strong></td><td>SCO5892</td>\n",
       "            </tr><tr>\n",
       "                <td><strong>Name</strong></td><td>redL</td>\n",
       "            </tr><tr>\n",
       "                <td><strong>Memory address</strong></td>\n",
       "                <td>0x1c4d3ace550</td>\n",
       "            </tr><tr>\n",
       "                <td><strong>Functional</strong></td><td>True</td>\n",
       "            </tr><tr>\n",
       "                <td><strong>In 4 reaction(s)</strong></td><td>\n",
       "                    REDS24, REDS25, REDS23, REDS26\n",
       "                    </td>\n",
       "            </tr>\n",
       "        </table>"
      ],
      "text/plain": [
       "<Gene SCO5892 at 0x1c4d3ace550>"
      ]
     },
     "execution_count": 7,
     "metadata": {},
     "output_type": "execute_result"
    }
   ],
   "source": [
    "model.genes.SCO5892"
   ]
  },
  {
   "cell_type": "code",
   "execution_count": 8,
   "metadata": {
    "colab": {
     "base_uri": "https://localhost:8080/"
    },
    "id": "qigrqYazJ4u1",
    "outputId": "30d2d337-5435-4cb4-c61e-7fe08722fe55"
   },
   "outputs": [
    {
     "data": {
      "text/html": [
       "\n",
       "        <table>\n",
       "            <tr>\n",
       "                <td><strong>Reaction identifier</strong></td><td>REDS26</td>\n",
       "            </tr><tr>\n",
       "                <td><strong>Name</strong></td><td>glycine acyltransferase/alpha-oxoamine synthase</td>\n",
       "            </tr><tr>\n",
       "                <td><strong>Memory address</strong></td>\n",
       "                <td>0x1c4d4b4dc40</td>\n",
       "            </tr><tr>\n",
       "                <td><strong>Stoichiometry</strong></td>\n",
       "                <td>\n",
       "                    <p style='text-align:right'>3omrsACPredL_c + gly_c --> ACPredL_c + co2_c + h2o_c + upn_c</p>\n",
       "                    <p style='text-align:right'>3-Oxotetradecanoyl-[acyl-carrier protein] + Glycine --> acyl carrier protein (specific to RED(redL)) + CO2 + H2O + 4-Keto-2-undecylpyrroline</p>\n",
       "                </td>\n",
       "            </tr><tr>\n",
       "                <td><strong>GPR</strong></td><td>SCO5892</td>\n",
       "            </tr><tr>\n",
       "                <td><strong>Lower bound</strong></td><td>0.0</td>\n",
       "            </tr><tr>\n",
       "                <td><strong>Upper bound</strong></td><td>1000.0</td>\n",
       "            </tr>\n",
       "        </table>\n",
       "        "
      ],
      "text/plain": [
       "<Reaction REDS26 at 0x1c4d4b4dc40>"
      ]
     },
     "execution_count": 8,
     "metadata": {},
     "output_type": "execute_result"
    }
   ],
   "source": [
    "model.reactions.REDS26"
   ]
  },
  {
   "cell_type": "markdown",
   "metadata": {
    "id": "BXbFBuyInM1A"
   },
   "source": [
    "**redK**: *4-keto-2-undecylpyrroline - 2-undecylpyrrole*"
   ]
  },
  {
   "cell_type": "code",
   "execution_count": 9,
   "metadata": {
    "colab": {
     "base_uri": "https://localhost:8080/"
    },
    "id": "V3kVuwyLnJbR",
    "outputId": "6be90803-3e51-4fcd-a9d1-3179774f6768"
   },
   "outputs": [
    {
     "data": {
      "text/html": [
       "\n",
       "        <table>\n",
       "            <tr>\n",
       "                <td><strong>Gene identifier</strong></td><td>SCO5893</td>\n",
       "            </tr><tr>\n",
       "                <td><strong>Name</strong></td><td>redK</td>\n",
       "            </tr><tr>\n",
       "                <td><strong>Memory address</strong></td>\n",
       "                <td>0x1c4d3ace5e0</td>\n",
       "            </tr><tr>\n",
       "                <td><strong>Functional</strong></td><td>True</td>\n",
       "            </tr><tr>\n",
       "                <td><strong>In 2 reaction(s)</strong></td><td>\n",
       "                    REDS27b, REDS27\n",
       "                    </td>\n",
       "            </tr>\n",
       "        </table>"
      ],
      "text/plain": [
       "<Gene SCO5893 at 0x1c4d3ace5e0>"
      ]
     },
     "execution_count": 9,
     "metadata": {},
     "output_type": "execute_result"
    }
   ],
   "source": [
    "model.genes.SCO5893"
   ]
  },
  {
   "cell_type": "code",
   "execution_count": 10,
   "metadata": {
    "colab": {
     "base_uri": "https://localhost:8080/"
    },
    "id": "RgcsLyggK-2C",
    "outputId": "9a7c6608-c5dd-48ed-faf6-1c86e7b634e8"
   },
   "outputs": [
    {
     "data": {
      "text/html": [
       "\n",
       "        <table>\n",
       "            <tr>\n",
       "                <td><strong>Reaction identifier</strong></td><td>REDS27</td>\n",
       "            </tr><tr>\n",
       "                <td><strong>Name</strong></td><td>2-undecyl-4-pyrrolinone reductase/dehydratase</td>\n",
       "            </tr><tr>\n",
       "                <td><strong>Memory address</strong></td>\n",
       "                <td>0x1c4d4b4de50</td>\n",
       "            </tr><tr>\n",
       "                <td><strong>Stoichiometry</strong></td>\n",
       "                <td>\n",
       "                    <p style='text-align:right'>h_c + nadh_c + upn_c --> h2o_c + nad_c + up_c</p>\n",
       "                    <p style='text-align:right'>H+ + Nicotinamide adenine dinucleotide - reduced + 4-Keto-2-undecylpyrroline --> H2O + Nicotinamide adenine dinucleotide + 2-Undecylpyrrole</p>\n",
       "                </td>\n",
       "            </tr><tr>\n",
       "                <td><strong>GPR</strong></td><td>SCO5893</td>\n",
       "            </tr><tr>\n",
       "                <td><strong>Lower bound</strong></td><td>0.0</td>\n",
       "            </tr><tr>\n",
       "                <td><strong>Upper bound</strong></td><td>1000.0</td>\n",
       "            </tr>\n",
       "        </table>\n",
       "        "
      ],
      "text/plain": [
       "<Reaction REDS27 at 0x1c4d4b4de50>"
      ]
     },
     "execution_count": 10,
     "metadata": {},
     "output_type": "execute_result"
    }
   ],
   "source": [
    "model.reactions.REDS27b\n",
    "model.reactions.REDS27"
   ]
  },
  {
   "cell_type": "markdown",
   "metadata": {
    "id": "h9C9QEXZnZMm"
   },
   "source": [
    "**redH**: *2-undecylpyrrole - undecylprodigiosin*"
   ]
  },
  {
   "cell_type": "code",
   "execution_count": 11,
   "metadata": {
    "colab": {
     "base_uri": "https://localhost:8080/"
    },
    "id": "qz-ffCw8nVWq",
    "outputId": "25d2ffb9-9db7-4043-fc05-aab065a04731"
   },
   "outputs": [
    {
     "data": {
      "text/html": [
       "\n",
       "        <table>\n",
       "            <tr>\n",
       "                <td><strong>Gene identifier</strong></td><td>SCO5896</td>\n",
       "            </tr><tr>\n",
       "                <td><strong>Name</strong></td><td>redH</td>\n",
       "            </tr><tr>\n",
       "                <td><strong>Memory address</strong></td>\n",
       "                <td>0x1c4d3ace730</td>\n",
       "            </tr><tr>\n",
       "                <td><strong>Functional</strong></td><td>True</td>\n",
       "            </tr><tr>\n",
       "                <td><strong>In 2 reaction(s)</strong></td><td>\n",
       "                    REDS37, PRODSYN\n",
       "                    </td>\n",
       "            </tr>\n",
       "        </table>"
      ],
      "text/plain": [
       "<Gene SCO5896 at 0x1c4d3ace730>"
      ]
     },
     "execution_count": 11,
     "metadata": {},
     "output_type": "execute_result"
    }
   ],
   "source": [
    "model.genes.SCO5896"
   ]
  },
  {
   "cell_type": "code",
   "execution_count": 12,
   "metadata": {
    "colab": {
     "base_uri": "https://localhost:8080/"
    },
    "id": "rdjIFOkFLeNb",
    "outputId": "8ad084c7-bc2b-4fc8-b027-2447c5a605b1"
   },
   "outputs": [
    {
     "data": {
      "text/html": [
       "\n",
       "        <table>\n",
       "            <tr>\n",
       "                <td><strong>Reaction identifier</strong></td><td>REDS37</td>\n",
       "            </tr><tr>\n",
       "                <td><strong>Name</strong></td><td>undecylprodigiosin synthase</td>\n",
       "            </tr><tr>\n",
       "                <td><strong>Memory address</strong></td>\n",
       "                <td>0x1c4d4b3ca90</td>\n",
       "            </tr><tr>\n",
       "                <td><strong>Stoichiometry</strong></td>\n",
       "                <td>\n",
       "                    <p style='text-align:right'>atp_c + h2o_c + mbc_c + up_c --> amp_c + 2.0 h_c + 2.0 pi_c + red_c</p>\n",
       "                    <p style='text-align:right'>ATP + H2O + 4-Methoxy-2,2'-bipyrrole-5-carbaldehyde + 2-Undecylpyrrole --> AMP + 2.0 H+ + 2.0 Phosphate + undecylprodigiosin</p>\n",
       "                </td>\n",
       "            </tr><tr>\n",
       "                <td><strong>GPR</strong></td><td>SCO5896</td>\n",
       "            </tr><tr>\n",
       "                <td><strong>Lower bound</strong></td><td>0.0</td>\n",
       "            </tr><tr>\n",
       "                <td><strong>Upper bound</strong></td><td>1000.0</td>\n",
       "            </tr>\n",
       "        </table>\n",
       "        "
      ],
      "text/plain": [
       "<Reaction REDS37 at 0x1c4d4b3ca90>"
      ]
     },
     "execution_count": 12,
     "metadata": {},
     "output_type": "execute_result"
    }
   ],
   "source": [
    "model.reactions.REDS37"
   ]
  },
  {
   "cell_type": "markdown",
   "metadata": {
    "id": "8HldwHfUn9JZ"
   },
   "source": [
    "### Arginine and proline metabolism (L-Proline as substrate)"
   ]
  },
  {
   "cell_type": "markdown",
   "metadata": {
    "id": "RdBEIqYKoHIe"
   },
   "source": [
    "**redM**: *L-proline - L-Prolyl-S-[pcp]*"
   ]
  },
  {
   "cell_type": "code",
   "execution_count": 13,
   "metadata": {
    "colab": {
     "base_uri": "https://localhost:8080/"
    },
    "id": "Vm5KuAnOoHVq",
    "outputId": "301f8fe1-c71b-4538-d3d7-29d9e5af2955"
   },
   "outputs": [
    {
     "data": {
      "text/html": [
       "\n",
       "        <table>\n",
       "            <tr>\n",
       "                <td><strong>Gene identifier</strong></td><td>SCO5891</td>\n",
       "            </tr><tr>\n",
       "                <td><strong>Name</strong></td><td>redM</td>\n",
       "            </tr><tr>\n",
       "                <td><strong>Memory address</strong></td>\n",
       "                <td>0x1c4d3ace520</td>\n",
       "            </tr><tr>\n",
       "                <td><strong>Functional</strong></td><td>True</td>\n",
       "            </tr><tr>\n",
       "                <td><strong>In 1 reaction(s)</strong></td><td>\n",
       "                    REDS28\n",
       "                    </td>\n",
       "            </tr>\n",
       "        </table>"
      ],
      "text/plain": [
       "<Gene SCO5891 at 0x1c4d3ace520>"
      ]
     },
     "execution_count": 13,
     "metadata": {},
     "output_type": "execute_result"
    }
   ],
   "source": [
    "model.genes.SCO5891"
   ]
  },
  {
   "cell_type": "code",
   "execution_count": 14,
   "metadata": {
    "colab": {
     "base_uri": "https://localhost:8080/"
    },
    "id": "ZrJrDVBxNIIc",
    "outputId": "84cf6330-ab61-49e1-9f1c-e237faabebcd"
   },
   "outputs": [
    {
     "data": {
      "text/html": [
       "\n",
       "        <table>\n",
       "            <tr>\n",
       "                <td><strong>Reaction identifier</strong></td><td>REDS28</td>\n",
       "            </tr><tr>\n",
       "                <td><strong>Name</strong></td><td>L-prolyladenylate synthase</td>\n",
       "            </tr><tr>\n",
       "                <td><strong>Memory address</strong></td>\n",
       "                <td>0x1c4d4b4da00</td>\n",
       "            </tr><tr>\n",
       "                <td><strong>Stoichiometry</strong></td>\n",
       "                <td>\n",
       "                    <p style='text-align:right'>atp_c + h_c + pro__L_c --> ppi_c + proamp_c</p>\n",
       "                    <p style='text-align:right'>ATP + H+ + L-Proline --> Diphosphate + L-prolyl-AMP</p>\n",
       "                </td>\n",
       "            </tr><tr>\n",
       "                <td><strong>GPR</strong></td><td>SCO5891</td>\n",
       "            </tr><tr>\n",
       "                <td><strong>Lower bound</strong></td><td>0.0</td>\n",
       "            </tr><tr>\n",
       "                <td><strong>Upper bound</strong></td><td>1000.0</td>\n",
       "            </tr>\n",
       "        </table>\n",
       "        "
      ],
      "text/plain": [
       "<Reaction REDS28 at 0x1c4d4b4da00>"
      ]
     },
     "execution_count": 14,
     "metadata": {},
     "output_type": "execute_result"
    }
   ],
   "source": [
    "model.reactions.REDS28"
   ]
  },
  {
   "cell_type": "markdown",
   "metadata": {
    "id": "WJrOjQrZoJka"
   },
   "source": [
    "**redW**: *L-Prolyl-S-[pcp] - Pyrrolyl-2-carboxyl-s-[pcp]*"
   ]
  },
  {
   "cell_type": "code",
   "execution_count": 15,
   "metadata": {
    "colab": {
     "base_uri": "https://localhost:8080/"
    },
    "id": "CZJmwCduoWoe",
    "outputId": "11967c58-d470-4fbf-fd0c-8216f0c91a2c"
   },
   "outputs": [
    {
     "data": {
      "text/html": [
       "\n",
       "        <table>\n",
       "            <tr>\n",
       "                <td><strong>Gene identifier</strong></td><td>SCO5879</td>\n",
       "            </tr><tr>\n",
       "                <td><strong>Name</strong></td><td>redW</td>\n",
       "            </tr><tr>\n",
       "                <td><strong>Memory address</strong></td>\n",
       "                <td>0x1c4d3ace100</td>\n",
       "            </tr><tr>\n",
       "                <td><strong>Functional</strong></td><td>True</td>\n",
       "            </tr><tr>\n",
       "                <td><strong>In 1 reaction(s)</strong></td><td>\n",
       "                    REDS30\n",
       "                    </td>\n",
       "            </tr>\n",
       "        </table>"
      ],
      "text/plain": [
       "<Gene SCO5879 at 0x1c4d3ace100>"
      ]
     },
     "execution_count": 15,
     "metadata": {},
     "output_type": "execute_result"
    }
   ],
   "source": [
    "model.genes.SCO5879"
   ]
  },
  {
   "cell_type": "code",
   "execution_count": 16,
   "metadata": {
    "colab": {
     "base_uri": "https://localhost:8080/"
    },
    "id": "jYHxLNl3NZEP",
    "outputId": "1d8e09ab-abf8-426c-c7fb-44150183828b"
   },
   "outputs": [
    {
     "data": {
      "text/html": [
       "\n",
       "        <table>\n",
       "            <tr>\n",
       "                <td><strong>Metabolite identifier</strong></td><td>pyrPCPredO_c</td>\n",
       "            </tr><tr>\n",
       "                <td><strong>Name</strong></td><td>L-pyrrolyl-[peptidyl carrier protein] (redO)</td>\n",
       "            </tr><tr>\n",
       "                <td><strong>Memory address</strong></td>\n",
       "                <td>0x1c4d3744820</td>\n",
       "            </tr><tr>\n",
       "                <td><strong>Formula</strong></td><td>C16H24N3O8PRS</td>\n",
       "            </tr><tr>\n",
       "                <td><strong>Compartment</strong></td><td>c</td>\n",
       "            </tr><tr>\n",
       "                <td><strong>In 2 reaction(s)</strong></td><td>\n",
       "                    REDS30, REDS31\n",
       "                    </td>\n",
       "            </tr>\n",
       "        </table>"
      ],
      "text/plain": [
       "<Metabolite pyrPCPredO_c at 0x1c4d3744820>"
      ]
     },
     "execution_count": 16,
     "metadata": {},
     "output_type": "execute_result"
    }
   ],
   "source": [
    "model.metabolites.pyrPCPredO_c"
   ]
  },
  {
   "cell_type": "markdown",
   "metadata": {
    "id": "WpsC3miKoK_x"
   },
   "source": [
    "**redX**: *Pyrrolyl-2-carboxyl-s-[pcp] - pyrrolyl-2-carboxyl-s-[acp]*"
   ]
  },
  {
   "cell_type": "code",
   "execution_count": 17,
   "metadata": {
    "colab": {
     "base_uri": "https://localhost:8080/"
    },
    "id": "_NbiXezcobai",
    "outputId": "2602ba0c-7c7c-4d7b-984f-f1f7348f7b65"
   },
   "outputs": [
    {
     "data": {
      "text/html": [
       "\n",
       "        <table>\n",
       "            <tr>\n",
       "                <td><strong>Gene identifier</strong></td><td>SCO5878</td>\n",
       "            </tr><tr>\n",
       "                <td><strong>Name</strong></td><td>redX</td>\n",
       "            </tr><tr>\n",
       "                <td><strong>Memory address</strong></td>\n",
       "                <td>0x1c4d3ace190</td>\n",
       "            </tr><tr>\n",
       "                <td><strong>Functional</strong></td><td>True</td>\n",
       "            </tr><tr>\n",
       "                <td><strong>In 2 reaction(s)</strong></td><td>\n",
       "                    REDS33, REDS31\n",
       "                    </td>\n",
       "            </tr>\n",
       "        </table>"
      ],
      "text/plain": [
       "<Gene SCO5878 at 0x1c4d3ace190>"
      ]
     },
     "execution_count": 17,
     "metadata": {},
     "output_type": "execute_result"
    }
   ],
   "source": [
    "model.genes.SCO5878"
   ]
  },
  {
   "cell_type": "code",
   "execution_count": 18,
   "metadata": {
    "colab": {
     "base_uri": "https://localhost:8080/"
    },
    "id": "s71MJvhDNv0h",
    "outputId": "14ea865c-465e-4236-e450-77fb9a32a4f5"
   },
   "outputs": [
    {
     "data": {
      "text/html": [
       "\n",
       "        <table>\n",
       "            <tr>\n",
       "                <td><strong>Reaction identifier</strong></td><td>REDS33</td>\n",
       "            </tr><tr>\n",
       "                <td><strong>Name</strong></td><td>beta-keto-beta-pyrrolyl-propanoyl-[acyl-carrier-protein] synthase</td>\n",
       "            </tr><tr>\n",
       "                <td><strong>Memory address</strong></td>\n",
       "                <td>0x1c4d4b5f5b0</td>\n",
       "            </tr><tr>\n",
       "                <td><strong>Stoichiometry</strong></td>\n",
       "                <td>\n",
       "                    <p style='text-align:right'>h_c + malACPredN_c + pyrKSredX_c --> KSredX_c + co2_c + kppACPredN_c</p>\n",
       "                    <p style='text-align:right'>H+ + Malonyl-[acyl-carrier protein] (specific to RED(redN)) + L-pyrrolyl-redX-ketoacyl synthases domain --> redX-ketoacyl synthases domain + CO2 + beta-keto-beta-pyrrolyl-propanoyl-[acyl-carrier-...</p>\n",
       "                </td>\n",
       "            </tr><tr>\n",
       "                <td><strong>GPR</strong></td><td>SCO5878 and SCO5890</td>\n",
       "            </tr><tr>\n",
       "                <td><strong>Lower bound</strong></td><td>0.0</td>\n",
       "            </tr><tr>\n",
       "                <td><strong>Upper bound</strong></td><td>1000.0</td>\n",
       "            </tr>\n",
       "        </table>\n",
       "        "
      ],
      "text/plain": [
       "<Reaction REDS33 at 0x1c4d4b5f5b0>"
      ]
     },
     "execution_count": 18,
     "metadata": {},
     "output_type": "execute_result"
    }
   ],
   "source": [
    "model.reactions.REDS33"
   ]
  },
  {
   "cell_type": "markdown",
   "metadata": {
    "id": "Qp55LRnHoMHX"
   },
   "source": [
    "**redN**: * pyrrolyl-2-carboxyl-s-[acp] - 4-hydroxy-2,2-bipymole-5-methanol*"
   ]
  },
  {
   "cell_type": "code",
   "execution_count": 19,
   "metadata": {
    "colab": {
     "base_uri": "https://localhost:8080/"
    },
    "id": "D6SEWSG4ogRV",
    "outputId": "168304e5-8bad-46f6-8001-6c9f4d4c526e"
   },
   "outputs": [
    {
     "data": {
      "text/html": [
       "\n",
       "        <table>\n",
       "            <tr>\n",
       "                <td><strong>Gene identifier</strong></td><td>SCO5890</td>\n",
       "            </tr><tr>\n",
       "                <td><strong>Name</strong></td><td>redN</td>\n",
       "            </tr><tr>\n",
       "                <td><strong>Memory address</strong></td>\n",
       "                <td>0x1c4d3ace490</td>\n",
       "            </tr><tr>\n",
       "                <td><strong>Functional</strong></td><td>True</td>\n",
       "            </tr><tr>\n",
       "                <td><strong>In 3 reaction(s)</strong></td><td>\n",
       "                    REDS32, REDS33, REDS34\n",
       "                    </td>\n",
       "            </tr>\n",
       "        </table>"
      ],
      "text/plain": [
       "<Gene SCO5890 at 0x1c4d3ace490>"
      ]
     },
     "execution_count": 19,
     "metadata": {},
     "output_type": "execute_result"
    }
   ],
   "source": [
    "model.genes.SCO5890"
   ]
  },
  {
   "cell_type": "code",
   "execution_count": 20,
   "metadata": {
    "colab": {
     "base_uri": "https://localhost:8080/"
    },
    "id": "1Jn1Lg-_R16e",
    "outputId": "b63fd01d-6c6c-40e4-a341-1979edaac04d"
   },
   "outputs": [
    {
     "data": {
      "text/html": [
       "\n",
       "        <table>\n",
       "            <tr>\n",
       "                <td><strong>Reaction identifier</strong></td><td>REDS34</td>\n",
       "            </tr><tr>\n",
       "                <td><strong>Name</strong></td><td>L-serine acyltransferase/alpha-oxoamine synthase</td>\n",
       "            </tr><tr>\n",
       "                <td><strong>Memory address</strong></td>\n",
       "                <td>0x1c4d4b6e040</td>\n",
       "            </tr><tr>\n",
       "                <td><strong>Stoichiometry</strong></td>\n",
       "                <td>\n",
       "                    <p style='text-align:right'>kppACPredN_c + ser__L_c --> ACPredN_c + co2_c + h2o_c + hbm_c</p>\n",
       "                    <p style='text-align:right'>beta-keto-beta-pyrrolyl-propanoyl-[acyl-carrier-protein] (redN) + L-Serine --> acyl carrier protein (specific to RED(redN)) + CO2 + H2O + 4-Hydroxy-2,2'-bipyrrole-5-methanol</p>\n",
       "                </td>\n",
       "            </tr><tr>\n",
       "                <td><strong>GPR</strong></td><td>SCO5890</td>\n",
       "            </tr><tr>\n",
       "                <td><strong>Lower bound</strong></td><td>0.0</td>\n",
       "            </tr><tr>\n",
       "                <td><strong>Upper bound</strong></td><td>1000.0</td>\n",
       "            </tr>\n",
       "        </table>\n",
       "        "
      ],
      "text/plain": [
       "<Reaction REDS34 at 0x1c4d4b6e040>"
      ]
     },
     "execution_count": 20,
     "metadata": {},
     "output_type": "execute_result"
    }
   ],
   "source": [
    "model.reactions.REDS34"
   ]
  },
  {
   "cell_type": "markdown",
   "metadata": {
    "id": "_TNr2YDqoNrv"
   },
   "source": [
    "**redV**: *4-hydroxy-2,2-bipymole-5-methanol - 4-hydroxy-2,2'-bipyrrole-5-carbaldehyde*"
   ]
  },
  {
   "cell_type": "code",
   "execution_count": 21,
   "metadata": {
    "colab": {
     "base_uri": "https://localhost:8080/"
    },
    "id": "IXpu05oRog2U",
    "outputId": "4e596f9a-b9af-4313-9ccf-8112bd9c0865"
   },
   "outputs": [
    {
     "data": {
      "text/html": [
       "\n",
       "        <table>\n",
       "            <tr>\n",
       "                <td><strong>Gene identifier</strong></td><td>SCO5882</td>\n",
       "            </tr><tr>\n",
       "                <td><strong>Name</strong></td><td>redV</td>\n",
       "            </tr><tr>\n",
       "                <td><strong>Memory address</strong></td>\n",
       "                <td>0x1c4d3ace220</td>\n",
       "            </tr><tr>\n",
       "                <td><strong>Functional</strong></td><td>True</td>\n",
       "            </tr><tr>\n",
       "                <td><strong>In 1 reaction(s)</strong></td><td>\n",
       "                    REDS35b\n",
       "                    </td>\n",
       "            </tr>\n",
       "        </table>"
      ],
      "text/plain": [
       "<Gene SCO5882 at 0x1c4d3ace220>"
      ]
     },
     "execution_count": 21,
     "metadata": {},
     "output_type": "execute_result"
    }
   ],
   "source": [
    "model.genes.SCO5882"
   ]
  },
  {
   "cell_type": "code",
   "execution_count": 22,
   "metadata": {
    "colab": {
     "base_uri": "https://localhost:8080/"
    },
    "id": "eg8w0K-NSSvx",
    "outputId": "76e059d9-240c-4587-e9e9-4cec73e93a6b"
   },
   "outputs": [
    {
     "data": {
      "text/html": [
       "\n",
       "        <table>\n",
       "            <tr>\n",
       "                <td><strong>Reaction identifier</strong></td><td>REDS35b</td>\n",
       "            </tr><tr>\n",
       "                <td><strong>Name</strong></td><td>4-hydroxy-2,2'-bipyrrole-5-methanal:NAD+ oxidoreductase</td>\n",
       "            </tr><tr>\n",
       "                <td><strong>Memory address</strong></td>\n",
       "                <td>0x1c4d4b6e430</td>\n",
       "            </tr><tr>\n",
       "                <td><strong>Stoichiometry</strong></td>\n",
       "                <td>\n",
       "                    <p style='text-align:right'>hbm_c + nad_c --> h_c + hbc_c + nadh_c</p>\n",
       "                    <p style='text-align:right'>4-Hydroxy-2,2'-bipyrrole-5-methanol + Nicotinamide adenine dinucleotide --> H+ + 4-Hydroxy-2,2'-bipyrrole-5-carbaldehyde + Nicotinamide adenine dinucleotide - reduced</p>\n",
       "                </td>\n",
       "            </tr><tr>\n",
       "                <td><strong>GPR</strong></td><td>SCO5882</td>\n",
       "            </tr><tr>\n",
       "                <td><strong>Lower bound</strong></td><td>0.0</td>\n",
       "            </tr><tr>\n",
       "                <td><strong>Upper bound</strong></td><td>1000.0</td>\n",
       "            </tr>\n",
       "        </table>\n",
       "        "
      ],
      "text/plain": [
       "<Reaction REDS35b at 0x1c4d4b6e430>"
      ]
     },
     "execution_count": 22,
     "metadata": {},
     "output_type": "execute_result"
    }
   ],
   "source": [
    "model.reactions.REDS35b"
   ]
  },
  {
   "cell_type": "markdown",
   "metadata": {
    "id": "LeTS-xlCoOgg"
   },
   "source": [
    "**redI**: *4-hydroxy-2,2'-bipyrrole-5-carbaldehyde -  4-methoxy-2,2'-bipyrrole-5-carbaldehyde*"
   ]
  },
  {
   "cell_type": "code",
   "execution_count": 23,
   "metadata": {
    "colab": {
     "base_uri": "https://localhost:8080/"
    },
    "id": "Ud5Jib3-opDr",
    "outputId": "3ae5de21-852a-406d-958f-5ea76bf77cb4"
   },
   "outputs": [
    {
     "data": {
      "text/html": [
       "\n",
       "        <table>\n",
       "            <tr>\n",
       "                <td><strong>Gene identifier</strong></td><td>SCO5895</td>\n",
       "            </tr><tr>\n",
       "                <td><strong>Name</strong></td><td>redI</td>\n",
       "            </tr><tr>\n",
       "                <td><strong>Memory address</strong></td>\n",
       "                <td>0x1c4d3ace6a0</td>\n",
       "            </tr><tr>\n",
       "                <td><strong>Functional</strong></td><td>True</td>\n",
       "            </tr><tr>\n",
       "                <td><strong>In 1 reaction(s)</strong></td><td>\n",
       "                    REDS35\n",
       "                    </td>\n",
       "            </tr>\n",
       "        </table>"
      ],
      "text/plain": [
       "<Gene SCO5895 at 0x1c4d3ace6a0>"
      ]
     },
     "execution_count": 23,
     "metadata": {},
     "output_type": "execute_result"
    }
   ],
   "source": [
    "model.genes.SCO5895"
   ]
  },
  {
   "cell_type": "code",
   "execution_count": 24,
   "metadata": {
    "id": "9mDO4lGxSpSt"
   },
   "outputs": [
    {
     "data": {
      "text/html": [
       "\n",
       "        <table>\n",
       "            <tr>\n",
       "                <td><strong>Reaction identifier</strong></td><td>REDS35</td>\n",
       "            </tr><tr>\n",
       "                <td><strong>Name</strong></td><td>4-hydroxy-2,2'-bipyrrole-5-methanol methyltransferase</td>\n",
       "            </tr><tr>\n",
       "                <td><strong>Memory address</strong></td>\n",
       "                <td>0x1c4d4b31d00</td>\n",
       "            </tr><tr>\n",
       "                <td><strong>Stoichiometry</strong></td>\n",
       "                <td>\n",
       "                    <p style='text-align:right'>amet_c + hbm_c --> ahcys_c + h_c + mbm_c</p>\n",
       "                    <p style='text-align:right'>S-Adenosyl-L-methionine + 4-Hydroxy-2,2'-bipyrrole-5-methanol --> S-Adenosyl-L-homocysteine + H+ + 4-methoxy-2,2'-bipyrrole-5-methanol</p>\n",
       "                </td>\n",
       "            </tr><tr>\n",
       "                <td><strong>GPR</strong></td><td>SCO5895</td>\n",
       "            </tr><tr>\n",
       "                <td><strong>Lower bound</strong></td><td>0.0</td>\n",
       "            </tr><tr>\n",
       "                <td><strong>Upper bound</strong></td><td>1000.0</td>\n",
       "            </tr>\n",
       "        </table>\n",
       "        "
      ],
      "text/plain": [
       "<Reaction REDS35 at 0x1c4d4b31d00>"
      ]
     },
     "execution_count": 24,
     "metadata": {},
     "output_type": "execute_result"
    }
   ],
   "source": [
    "model.reactions.REDS35"
   ]
  },
  {
   "cell_type": "markdown",
   "metadata": {
    "id": "LtS6gKpATxiY"
   },
   "source": [
    "### Transport reactions\n"
   ]
  },
  {
   "cell_type": "code",
   "execution_count": 25,
   "metadata": {
    "colab": {
     "base_uri": "https://localhost:8080/"
    },
    "id": "Q4NajCDGT092",
    "outputId": "651ec530-34d7-40e3-cbdf-1961b05c16ed"
   },
   "outputs": [
    {
     "data": {
      "text/html": [
       "\n",
       "        <table>\n",
       "            <tr>\n",
       "                <td><strong>Reaction identifier</strong></td><td>DM_RED_c</td>\n",
       "            </tr><tr>\n",
       "                <td><strong>Name</strong></td><td>Sink needed to allow intracellular undecylprodigiosin to leave system</td>\n",
       "            </tr><tr>\n",
       "                <td><strong>Memory address</strong></td>\n",
       "                <td>0x1c4d507fd00</td>\n",
       "            </tr><tr>\n",
       "                <td><strong>Stoichiometry</strong></td>\n",
       "                <td>\n",
       "                    <p style='text-align:right'>red_c --></p>\n",
       "                    <p style='text-align:right'>undecylprodigiosin --></p>\n",
       "                </td>\n",
       "            </tr><tr>\n",
       "                <td><strong>GPR</strong></td><td></td>\n",
       "            </tr><tr>\n",
       "                <td><strong>Lower bound</strong></td><td>0.0</td>\n",
       "            </tr><tr>\n",
       "                <td><strong>Upper bound</strong></td><td>1000.0</td>\n",
       "            </tr>\n",
       "        </table>\n",
       "        "
      ],
      "text/plain": [
       "<Reaction DM_RED_c at 0x1c4d507fd00>"
      ]
     },
     "execution_count": 25,
     "metadata": {},
     "output_type": "execute_result"
    }
   ],
   "source": [
    "model.reactions.DM_RED_c"
   ]
  },
  {
   "cell_type": "code",
   "execution_count": 26,
   "metadata": {
    "colab": {
     "base_uri": "https://localhost:8080/"
    },
    "id": "OHvWn4q6T2-Y",
    "outputId": "9e43e645-9679-46e7-f332-bcab96c1bac9"
   },
   "outputs": [
    {
     "data": {
      "text/html": [
       "\n",
       "        <table>\n",
       "            <tr>\n",
       "                <td><strong>Reaction identifier</strong></td><td>REDt</td>\n",
       "            </tr><tr>\n",
       "                <td><strong>Name</strong></td><td>undecylprodigiosin transport</td>\n",
       "            </tr><tr>\n",
       "                <td><strong>Memory address</strong></td>\n",
       "                <td>0x1c4d4fab8b0</td>\n",
       "            </tr><tr>\n",
       "                <td><strong>Stoichiometry</strong></td>\n",
       "                <td>\n",
       "                    <p style='text-align:right'>red_c --> red_e</p>\n",
       "                    <p style='text-align:right'>undecylprodigiosin --> undecylprodigiosin</p>\n",
       "                </td>\n",
       "            </tr><tr>\n",
       "                <td><strong>GPR</strong></td><td></td>\n",
       "            </tr><tr>\n",
       "                <td><strong>Lower bound</strong></td><td>0.0</td>\n",
       "            </tr><tr>\n",
       "                <td><strong>Upper bound</strong></td><td>1000.0</td>\n",
       "            </tr>\n",
       "        </table>\n",
       "        "
      ],
      "text/plain": [
       "<Reaction REDt at 0x1c4d4fab8b0>"
      ]
     },
     "execution_count": 26,
     "metadata": {},
     "output_type": "execute_result"
    }
   ],
   "source": [
    "model.reactions.REDt"
   ]
  },
  {
   "cell_type": "code",
   "execution_count": 27,
   "metadata": {
    "colab": {
     "base_uri": "https://localhost:8080/"
    },
    "id": "WV6sQrFJT70d",
    "outputId": "ea13f649-cc7a-4d36-9308-1b9daeeb8af2"
   },
   "outputs": [
    {
     "data": {
      "text/html": [
       "\n",
       "        <table>\n",
       "            <tr>\n",
       "                <td><strong>Metabolite identifier</strong></td><td>pro__L_c</td>\n",
       "            </tr><tr>\n",
       "                <td><strong>Name</strong></td><td>L-Proline</td>\n",
       "            </tr><tr>\n",
       "                <td><strong>Memory address</strong></td>\n",
       "                <td>0x1c4d372d700</td>\n",
       "            </tr><tr>\n",
       "                <td><strong>Formula</strong></td><td>C5H9NO2</td>\n",
       "            </tr><tr>\n",
       "                <td><strong>Compartment</strong></td><td>c</td>\n",
       "            </tr><tr>\n",
       "                <td><strong>In 10 reaction(s)</strong></td><td>\n",
       "                    REDS28, AMPTASEPG, PROLRM, PROTRS, PROTEIN_PSEUDO, PROabc, PROt2r, P5CR, PROD2, PROt4\n",
       "                    </td>\n",
       "            </tr>\n",
       "        </table>"
      ],
      "text/plain": [
       "<Metabolite pro__L_c at 0x1c4d372d700>"
      ]
     },
     "execution_count": 27,
     "metadata": {},
     "output_type": "execute_result"
    }
   ],
   "source": [
    "model.metabolites.get_by_id(\"pro__L_c\")  #we can see that the metabolite is involved in reaction REDS28"
   ]
  },
  {
   "cell_type": "code",
   "execution_count": 28,
   "metadata": {
    "id": "d-Xme0KLW9QV"
   },
   "outputs": [
    {
     "data": {
      "text/html": [
       "\n",
       "        <table>\n",
       "            <tr>\n",
       "                <td><strong>Metabolite identifier</strong></td><td>red_c</td>\n",
       "            </tr><tr>\n",
       "                <td><strong>Name</strong></td><td>undecylprodigiosin</td>\n",
       "            </tr><tr>\n",
       "                <td><strong>Memory address</strong></td>\n",
       "                <td>0x1c4d3744e20</td>\n",
       "            </tr><tr>\n",
       "                <td><strong>Formula</strong></td><td>C25H35N3O</td>\n",
       "            </tr><tr>\n",
       "                <td><strong>Compartment</strong></td><td>c</td>\n",
       "            </tr><tr>\n",
       "                <td><strong>In 4 reaction(s)</strong></td><td>\n",
       "                    DM_RED_c, REDS37, SRUBSYN, REDt\n",
       "                    </td>\n",
       "            </tr>\n",
       "        </table>"
      ],
      "text/plain": [
       "<Metabolite red_c at 0x1c4d3744e20>"
      ]
     },
     "execution_count": 28,
     "metadata": {},
     "output_type": "execute_result"
    }
   ],
   "source": [
    "model.metabolites.get_by_id(\"red_c\")  #some reactions involved with undecylprodigiosin in the citoplasm\n",
    "\n",
    "#REDS37 (synthase)\n",
    "#REDt (transport)\n",
    "#DM_RED_c (needed to leave system)\n",
    "#SRUBSYN "
   ]
  },
  {
   "cell_type": "code",
   "execution_count": 29,
   "metadata": {
    "colab": {
     "base_uri": "https://localhost:8080/"
    },
    "id": "KLA2v9CsgM5r",
    "outputId": "5c86de1b-2014-45eb-8411-49aaf3613fc8"
   },
   "outputs": [
    {
     "data": {
      "text/html": [
       "\n",
       "        <table>\n",
       "            <tr>\n",
       "                <td><strong>Reaction identifier</strong></td><td>SRUBSYN</td>\n",
       "            </tr><tr>\n",
       "                <td><strong>Name</strong></td><td>SRUBSYN</td>\n",
       "            </tr><tr>\n",
       "                <td><strong>Memory address</strong></td>\n",
       "                <td>0x1c4d4bf18b0</td>\n",
       "            </tr><tr>\n",
       "                <td><strong>Stoichiometry</strong></td>\n",
       "                <td>\n",
       "                    <p style='text-align:right'>2.0 h_c + o2_c + red_c --> 2.0 h2o_c + strprub_c</p>\n",
       "                    <p style='text-align:right'>2.0 H+ + O2 + undecylprodigiosin --> 2.0 H2O + Streptorubin B</p>\n",
       "                </td>\n",
       "            </tr><tr>\n",
       "                <td><strong>GPR</strong></td><td>SCO5897</td>\n",
       "            </tr><tr>\n",
       "                <td><strong>Lower bound</strong></td><td>0.0</td>\n",
       "            </tr><tr>\n",
       "                <td><strong>Upper bound</strong></td><td>1000.0</td>\n",
       "            </tr>\n",
       "        </table>\n",
       "        "
      ],
      "text/plain": [
       "<Reaction SRUBSYN at 0x1c4d4bf18b0>"
      ]
     },
     "execution_count": 29,
     "metadata": {},
     "output_type": "execute_result"
    }
   ],
   "source": [
    "model.reactions.SRUBSYN  #reaction\n",
    "#model.metabolites.strprub_c  #product!"
   ]
  },
  {
   "cell_type": "code",
   "execution_count": 30,
   "metadata": {
    "colab": {
     "base_uri": "https://localhost:8080/"
    },
    "id": "Br8gMlKQg8Fb",
    "outputId": "8fb743f3-525e-468b-bc9e-c11549ccef89"
   },
   "outputs": [
    {
     "data": {
      "text/html": [
       "\n",
       "        <table>\n",
       "            <tr>\n",
       "                <td><strong>Reaction identifier</strong></td><td>DM_strprub_c</td>\n",
       "            </tr><tr>\n",
       "                <td><strong>Name</strong></td><td>Streptorubin B demand</td>\n",
       "            </tr><tr>\n",
       "                <td><strong>Memory address</strong></td>\n",
       "                <td>0x1c4d509a790</td>\n",
       "            </tr><tr>\n",
       "                <td><strong>Stoichiometry</strong></td>\n",
       "                <td>\n",
       "                    <p style='text-align:right'>strprub_c --></p>\n",
       "                    <p style='text-align:right'>Streptorubin B --></p>\n",
       "                </td>\n",
       "            </tr><tr>\n",
       "                <td><strong>GPR</strong></td><td></td>\n",
       "            </tr><tr>\n",
       "                <td><strong>Lower bound</strong></td><td>0.0</td>\n",
       "            </tr><tr>\n",
       "                <td><strong>Upper bound</strong></td><td>1000.0</td>\n",
       "            </tr>\n",
       "        </table>\n",
       "        "
      ],
      "text/plain": [
       "<Reaction DM_strprub_c at 0x1c4d509a790>"
      ]
     },
     "execution_count": 30,
     "metadata": {},
     "output_type": "execute_result"
    }
   ],
   "source": [
    "model.reactions.DM_strprub_c"
   ]
  },
  {
   "cell_type": "code",
   "execution_count": 31,
   "metadata": {
    "colab": {
     "base_uri": "https://localhost:8080/"
    },
    "id": "vJ82nhXEfVJa",
    "outputId": "78df39f2-e5d1-45ed-e729-01dc814b04a6"
   },
   "outputs": [
    {
     "data": {
      "text/html": [
       "\n",
       "        <table>\n",
       "            <tr>\n",
       "                <td><strong>Metabolite identifier</strong></td><td>red_e</td>\n",
       "            </tr><tr>\n",
       "                <td><strong>Name</strong></td><td>undecylprodigiosin</td>\n",
       "            </tr><tr>\n",
       "                <td><strong>Memory address</strong></td>\n",
       "                <td>0x1c4d3744e50</td>\n",
       "            </tr><tr>\n",
       "                <td><strong>Formula</strong></td><td>C25H35N3O</td>\n",
       "            </tr><tr>\n",
       "                <td><strong>Compartment</strong></td><td>e</td>\n",
       "            </tr><tr>\n",
       "                <td><strong>In 1 reaction(s)</strong></td><td>\n",
       "                    REDt\n",
       "                    </td>\n",
       "            </tr>\n",
       "        </table>"
      ],
      "text/plain": [
       "<Metabolite red_e at 0x1c4d3744e50>"
      ]
     },
     "execution_count": 31,
     "metadata": {},
     "output_type": "execute_result"
    }
   ],
   "source": [
    "model.metabolites.get_by_id(\"red_e\")  #the only reaction involved in undecylprodigiosin in the extracelullar compartment is REDt (transport)"
   ]
  },
  {
   "cell_type": "code",
   "execution_count": 32,
   "metadata": {
    "colab": {
     "base_uri": "https://localhost:8080/"
    },
    "id": "F91UvIo-kUsg",
    "outputId": "5b3e0b02-44be-4b1c-d8e1-ffd55db8f079"
   },
   "outputs": [
    {
     "data": {
      "text/html": [
       "\n",
       "        <table>\n",
       "            <tr>\n",
       "                <td><strong>Metabolite identifier</strong></td><td>C21572_c</td>\n",
       "            </tr><tr>\n",
       "                <td><strong>Name</strong></td><td>2-Methyl-3-n-amyl-pyrrole</td>\n",
       "            </tr><tr>\n",
       "                <td><strong>Memory address</strong></td>\n",
       "                <td>0x1c4d3495f70</td>\n",
       "            </tr><tr>\n",
       "                <td><strong>Formula</strong></td><td>C10H16N</td>\n",
       "            </tr><tr>\n",
       "                <td><strong>Compartment</strong></td><td>c</td>\n",
       "            </tr><tr>\n",
       "                <td><strong>In 1 reaction(s)</strong></td><td>\n",
       "                    PRODSYN\n",
       "                    </td>\n",
       "            </tr>\n",
       "        </table>"
      ],
      "text/plain": [
       "<Metabolite C21572_c at 0x1c4d3495f70>"
      ]
     },
     "execution_count": 32,
     "metadata": {},
     "output_type": "execute_result"
    }
   ],
   "source": [
    "model.metabolites.C21572_c"
   ]
  },
  {
   "cell_type": "code",
   "execution_count": 33,
   "metadata": {
    "colab": {
     "base_uri": "https://localhost:8080/"
    },
    "id": "A2F2crQzmiL-",
    "outputId": "484c09ae-bb62-4f3d-c504-017faf613999"
   },
   "outputs": [
    {
     "data": {
      "text/html": [
       "\n",
       "        <table>\n",
       "            <tr>\n",
       "                <td><strong>Reaction identifier</strong></td><td>PRODSYN</td>\n",
       "            </tr><tr>\n",
       "                <td><strong>Name</strong></td><td>R11662</td>\n",
       "            </tr><tr>\n",
       "                <td><strong>Memory address</strong></td>\n",
       "                <td>0x1c4d4a6dd60</td>\n",
       "            </tr><tr>\n",
       "                <td><strong>Stoichiometry</strong></td>\n",
       "                <td>\n",
       "                    <p style='text-align:right'>C21572_c + atp_c + mbc_c --> C21565_c + adp_c + pi_c</p>\n",
       "                    <p style='text-align:right'>2-Methyl-3-n-amyl-pyrrole + ATP + 4-Methoxy-2,2'-bipyrrole-5-carbaldehyde --> Prodigiosin + ADP + Phosphate</p>\n",
       "                </td>\n",
       "            </tr><tr>\n",
       "                <td><strong>GPR</strong></td><td>SCO5896</td>\n",
       "            </tr><tr>\n",
       "                <td><strong>Lower bound</strong></td><td>0.0</td>\n",
       "            </tr><tr>\n",
       "                <td><strong>Upper bound</strong></td><td>1000.0</td>\n",
       "            </tr>\n",
       "        </table>\n",
       "        "
      ],
      "text/plain": [
       "<Reaction PRODSYN at 0x1c4d4a6dd60>"
      ]
     },
     "execution_count": 33,
     "metadata": {},
     "output_type": "execute_result"
    }
   ],
   "source": [
    "model.reactions.PRODSYN"
   ]
  },
  {
   "cell_type": "code",
   "execution_count": 34,
   "metadata": {
    "id": "bEB3W5lFUYQC"
   },
   "outputs": [
    {
     "data": {
      "text/plain": [
       "{'EX_ca2_e': 1000.0,\n",
       " 'EX_cl_e': 1000.0,\n",
       " 'EX_co2_e': 1000.0,\n",
       " 'EX_cobalt2_e': 1000.0,\n",
       " 'EX_cu2_e': 1000.0,\n",
       " 'EX_fe2_e': 1000.0,\n",
       " 'EX_fe3_e': 1000.0,\n",
       " 'EX_glc__D_e': 0.8,\n",
       " 'EX_h2o_e': 1000.0,\n",
       " 'EX_h_e': 1000.0,\n",
       " 'EX_k_e': 1000.0,\n",
       " 'EX_mg2_e': 1000.0,\n",
       " 'EX_mn2_e': 1000.0,\n",
       " 'EX_mobd_e': 1000.0,\n",
       " 'EX_na1_e': 1000.0,\n",
       " 'EX_nh4_e': 1000.0,\n",
       " 'EX_ni2_e': 1000.0,\n",
       " 'EX_o2_e': 1000.0,\n",
       " 'EX_pi_e': 1000.0,\n",
       " 'EX_so4_e': 1000.0,\n",
       " 'EX_tungs_e': 1000.0,\n",
       " 'EX_zn2_e': 1000.0}"
      ]
     },
     "execution_count": 34,
     "metadata": {},
     "output_type": "execute_result"
    }
   ],
   "source": [
    "model.medium"
   ]
  },
  {
   "cell_type": "code",
   "execution_count": 35,
   "metadata": {
    "id": "LojGoOmVCgjj"
   },
   "outputs": [
    {
     "data": {
      "text/html": [
       "\n",
       "        <table>\n",
       "            <tr>\n",
       "                <td><strong>Metabolite identifier</strong></td><td>pro__L_e</td>\n",
       "            </tr><tr>\n",
       "                <td><strong>Name</strong></td><td>L-Proline</td>\n",
       "            </tr><tr>\n",
       "                <td><strong>Memory address</strong></td>\n",
       "                <td>0x1c4d372d730</td>\n",
       "            </tr><tr>\n",
       "                <td><strong>Formula</strong></td><td>C5H9NO2</td>\n",
       "            </tr><tr>\n",
       "                <td><strong>Compartment</strong></td><td>e</td>\n",
       "            </tr><tr>\n",
       "                <td><strong>In 4 reaction(s)</strong></td><td>\n",
       "                    PROabc, PROt2r, EX_pro__L_e, PROt4\n",
       "                    </td>\n",
       "            </tr>\n",
       "        </table>"
      ],
      "text/plain": [
       "<Metabolite pro__L_e at 0x1c4d372d730>"
      ]
     },
     "execution_count": 35,
     "metadata": {},
     "output_type": "execute_result"
    }
   ],
   "source": [
    "model.metabolites.pro__L_c\n",
    "model.metabolites.pro__L_e #EX_pro__L_e"
   ]
  },
  {
   "cell_type": "markdown",
   "metadata": {
    "id": "mZ993or0uM25"
   },
   "source": [
    "##2 Check consistency of the model with FASTCC"
   ]
  },
  {
   "cell_type": "code",
   "execution_count": 36,
   "metadata": {
    "id": "pR85B8ampkkY"
   },
   "outputs": [
    {
     "name": "stderr",
     "output_type": "stream",
     "text": [
      "C:\\JupyterLab\\resources\\jlab_server\\lib\\site-packages\\cobra\\core\\group.py:148: UserWarning: need to pass in a list\n",
      "  warn(\"need to pass in a list\")\n"
     ]
    },
    {
     "data": {
      "text/plain": [
       "[<Reaction BIOMASS_SCO at 0x1c4d68d0910>,\n",
       " <Reaction BIOMASS_SCO_tRNA at 0x1c4d68d0c70>,\n",
       " <Reaction CARBOHYDRATE_PSEUDO at 0x1c4d68d0520>,\n",
       " <Reaction CELL_WALL_PSEUDO at 0x1c4d68d09a0>,\n",
       " <Reaction DNA_PSEUDO at 0x1c4d68d0e20>,\n",
       " <Reaction LIPID_PSEUDO at 0x1c4d68d09d0>,\n",
       " <Reaction MISC_PSEUDO at 0x1c4d68d00a0>,\n",
       " <Reaction PROTEIN_PSEUDO at 0x1c4d68d05b0>,\n",
       " <Reaction PROTEIN_PSEUDO_tRNA at 0x1c4d68d0220>,\n",
       " <Reaction RNA_PSEUDO at 0x1c4d68d0c40>,\n",
       " <Reaction ATPM at 0x1c4d68d0100>,\n",
       " <Reaction 2MBCOATA at 0x1c4d68d7dc0>,\n",
       " <Reaction 2METBOD at 0x1c4d68c9220>,\n",
       " <Reaction 33BIFLAV at 0x1c4d68c9cd0>,\n",
       " <Reaction 34HPPOR at 0x1c4d68c9df0>,\n",
       " <Reaction 38BIFLAVS at 0x1c4d68c9f10>,\n",
       " <Reaction 3HAD100 at 0x1c4d645d280>,\n",
       " <Reaction 3HAD110 at 0x1c4d645d3a0>,\n",
       " <Reaction 3HAD120 at 0x1c4d645d4c0>,\n",
       " <Reaction 3HAD121 at 0x1c4d645d6a0>,\n",
       " <Reaction 3HAD130 at 0x1c4d645d760>,\n",
       " <Reaction 3HAD140 at 0x1c4d645d820>,\n",
       " <Reaction 3HAD141 at 0x1c4d645d8e0>,\n",
       " <Reaction 3HAD150 at 0x1c4d645d9a0>,\n",
       " <Reaction 3HAD160 at 0x1c4d645da60>,\n",
       " <Reaction 3HAD161 at 0x1c4d645db20>,\n",
       " <Reaction 3HAD40 at 0x1c4d645de20>,\n",
       " <Reaction 3HAD50 at 0x1c4d645dee0>,\n",
       " <Reaction 3HAD60 at 0x1c4d645dfa0>,\n",
       " <Reaction 3HAD70 at 0x1c4d645d580>,\n",
       " <Reaction 3HAD80 at 0x1c4d645d5e0>,\n",
       " <Reaction 3HAD90 at 0x1c4d644e220>,\n",
       " <Reaction 3HADai110 at 0x1c4d644e2e0>,\n",
       " <Reaction 3HADai130 at 0x1c4d644e3a0>,\n",
       " <Reaction 3HADai150 at 0x1c4d644e460>,\n",
       " <Reaction 3HADai170 at 0x1c4d644e520>,\n",
       " <Reaction 3HADai70 at 0x1c4d644e5e0>,\n",
       " <Reaction 3HADai90 at 0x1c4d644e6a0>,\n",
       " <Reaction 3HADi100 at 0x1c4d644e760>,\n",
       " <Reaction 3HADi110 at 0x1c4d644e820>,\n",
       " <Reaction 3HADi120 at 0x1c4d644e8e0>,\n",
       " <Reaction 3HADi130 at 0x1c4d644e9a0>,\n",
       " <Reaction 3HADi140 at 0x1c4d644ea60>,\n",
       " <Reaction 3HADi150 at 0x1c4d644eb20>,\n",
       " <Reaction 3HADi160 at 0x1c4d644ebe0>,\n",
       " <Reaction 3HADi170 at 0x1c4d644eca0>,\n",
       " <Reaction 3HADi60 at 0x1c4d644ee20>,\n",
       " <Reaction 3HADi70 at 0x1c4d644eee0>,\n",
       " <Reaction 3HADi80 at 0x1c4d644efa0>,\n",
       " <Reaction 3HADi90 at 0x1c4d644e160>,\n",
       " <Reaction 3HBCOADH at 0x1c4d644e0a0>,\n",
       " <Reaction 3HBCOAHL at 0x1c4d6460220>,\n",
       " <Reaction 3OADPCOAT at 0x1c4d6460eb0>,\n",
       " <Reaction 3OAR100 at 0x1c4d6460f70>,\n",
       " <Reaction 3OAR110 at 0x1c4d6460fd0>,\n",
       " <Reaction 3OAR120 at 0x1c4d645f2e0>,\n",
       " <Reaction 3OAR121 at 0x1c4d645f1f0>,\n",
       " <Reaction 3OAR130 at 0x1c4d645f250>,\n",
       " <Reaction 3OAR140 at 0x1c4d645f340>,\n",
       " <Reaction 3OAR141 at 0x1c4d645f880>,\n",
       " <Reaction 3OAR150 at 0x1c4d645fc10>,\n",
       " <Reaction 3OAR160 at 0x1c4d6a6d070>,\n",
       " <Reaction 3OAR161 at 0x1c4d6a6d370>,\n",
       " <Reaction 3OAR40 at 0x1c4d6a481f0>,\n",
       " <Reaction 3OAR50 at 0x1c4d6a48580>,\n",
       " <Reaction 3OAR60 at 0x1c4d6a48910>,\n",
       " <Reaction 3OAR70 at 0x1c4d6a48ca0>,\n",
       " <Reaction 3OAR80 at 0x1c4d6a33070>,\n",
       " <Reaction 3OAR90 at 0x1c4d6a33400>,\n",
       " <Reaction 3OARai110 at 0x1c4d6a33790>,\n",
       " <Reaction 3OARai130 at 0x1c4d6a33b20>,\n",
       " <Reaction 3OARai150 at 0x1c4d6a33eb0>,\n",
       " <Reaction 3OARai170 at 0x1c4d64f1280>,\n",
       " <Reaction 3OARai70 at 0x1c4d64f1610>,\n",
       " <Reaction 3OARai90 at 0x1c4d64f19a0>,\n",
       " <Reaction 3OARi100 at 0x1c4d64f1d30>,\n",
       " <Reaction 3OARi110 at 0x1c4d6a32100>,\n",
       " <Reaction 3OARi120 at 0x1c4d6a32490>,\n",
       " <Reaction 3OARi130 at 0x1c4d6a32820>,\n",
       " <Reaction 3OARi140 at 0x1c4d6a32bb0>,\n",
       " <Reaction 3OARi150 at 0x1c4d6a32f40>,\n",
       " <Reaction 3OARi160 at 0x1c4d650e310>,\n",
       " <Reaction 3OARi170 at 0x1c4d650e6a0>,\n",
       " <Reaction 3OARi60 at 0x1c4d650edc0>,\n",
       " <Reaction 3OARi70 at 0x1c4d386b190>,\n",
       " <Reaction 3OARi80 at 0x1c4d386b520>,\n",
       " <Reaction 3OARi90 at 0x1c4d386b8b0>,\n",
       " <Reaction 3OAS100 at 0x1c4d386bc40>,\n",
       " <Reaction 3OAS110 at 0x1c4d3875040>,\n",
       " <Reaction 3OAS120 at 0x1c4d38753a0>,\n",
       " <Reaction 3OAS121 at 0x1c4d3875730>,\n",
       " <Reaction 3OAS130 at 0x1c4d3875ac0>,\n",
       " <Reaction 3OAS140 at 0x1c4d3875e50>,\n",
       " <Reaction 3OAS141 at 0x1c4d3870100>,\n",
       " <Reaction 3OAS150 at 0x1c4d3870370>,\n",
       " <Reaction 3OAS160 at 0x1c4d38705e0>,\n",
       " <Reaction 3OAS161 at 0x1c4d3870850>,\n",
       " <Reaction 3OAS50 at 0x1c4d68ff250>,\n",
       " <Reaction 3OAS60 at 0x1c4d68ff4c0>,\n",
       " <Reaction 3OAS70 at 0x1c4d68ff730>,\n",
       " <Reaction 3OAS80 at 0x1c4d68ff9a0>,\n",
       " <Reaction 3OAS90 at 0x1c4d68ffc10>,\n",
       " <Reaction 3OASai110 at 0x1c4d68ffe80>,\n",
       " <Reaction 3OASai130 at 0x1c4d68f7130>,\n",
       " <Reaction 3OASai150 at 0x1c4d68f73a0>,\n",
       " <Reaction 3OASai170 at 0x1c4d68f7610>,\n",
       " <Reaction 3OASai70 at 0x1c4d68f7880>,\n",
       " <Reaction 3OASai90 at 0x1c4d68f7af0>,\n",
       " <Reaction 3OASi100 at 0x1c4d68f7d60>,\n",
       " <Reaction 3OASi110 at 0x1c4d6910040>,\n",
       " <Reaction 3OASi120 at 0x1c4d6910280>,\n",
       " <Reaction 3OASi130 at 0x1c4d69104f0>,\n",
       " <Reaction 3OASi140 at 0x1c4d6910760>,\n",
       " <Reaction 3OASi150 at 0x1c4d69109d0>,\n",
       " <Reaction 3OASi160 at 0x1c4d6910c40>,\n",
       " <Reaction 3OASi170 at 0x1c4d6910eb0>,\n",
       " <Reaction 3OASi60 at 0x1c4d69013d0>,\n",
       " <Reaction 3OASi70 at 0x1c4d6901640>,\n",
       " <Reaction 3OASi80 at 0x1c4d69018b0>,\n",
       " <Reaction 3OASi90 at 0x1c4d6901b20>,\n",
       " <Reaction 3OXCOAT at 0x1c4d69072b0>,\n",
       " <Reaction 4HBHYOX at 0x1c4d6914220>,\n",
       " <Reaction 5DGLCNR at 0x1c4d68f5f10>,\n",
       " <Reaction 5DOAN at 0x1c4d68f5e20>,\n",
       " <Reaction 6ADOFUT at 0x1c4d63b04f0>,\n",
       " <Reaction AACOATi at 0x1c4d63b0730>,\n",
       " <Reaction ABTA at 0x1c4d63b0f40>,\n",
       " <Reaction ABUTD at 0x1c4d63c51f0>,\n",
       " <Reaction ACACT1r at 0x1c4d63c5190>,\n",
       " <Reaction ACACT2r at 0x1c4d63c5820>,\n",
       " <Reaction ACACT6r at 0x1c4d63c5ca0>,\n",
       " <Reaction ACBIPGT at 0x1c4d63b6460>,\n",
       " <Reaction ACCOAC at 0x1c4d63b6940>,\n",
       " <Reaction ACCOAC_1 at 0x1c4d63b6bb0>,\n",
       " <Reaction ACCS at 0x1c4d63b6e20>,\n",
       " <Reaction ACGAMK at 0x1c4d63d9280>,\n",
       " <Reaction ACGK at 0x1c4d63d97c0>,\n",
       " <Reaction ACGS at 0x1c4d63d9be0>,\n",
       " <Reaction ACHBS at 0x1c4d63d9d00>,\n",
       " <Reaction ACKr at 0x1c4d63d9fd0>,\n",
       " <Reaction ACLS at 0x1c4d63d9ee0>,\n",
       " <Reaction ACOAD1f at 0x1c4d63c7790>,\n",
       " <Reaction ACOAD2f at 0x1c4d63c7880>,\n",
       " <Reaction ACOAD9 at 0x1c4d63d7910>,\n",
       " <Reaction ACOADH1 at 0x1c4d63d7b50>,\n",
       " <Reaction ACOATA at 0x1c4d63d7d90>,\n",
       " <Reaction ACODA at 0x1c4d63d7490>,\n",
       " <Reaction ACONIs at 0x1c4d63d01c0>,\n",
       " <Reaction ACONMT at 0x1c4d63d04f0>,\n",
       " <Reaction ACONTa at 0x1c4d63d0790>,\n",
       " <Reaction ACONTb at 0x1c4d63d02b0>,\n",
       " <Reaction ACOTA at 0x1c4d63d0be0>,\n",
       " <Reaction ACPPAT120 at 0x1c4d63d0d00>,\n",
       " <Reaction ACPPAT140 at 0x1c4d63d0e20>,\n",
       " <Reaction ACPPAT141 at 0x1c4d63d0f40>,\n",
       " <Reaction ACPPAT150 at 0x1c4d63d0fd0>,\n",
       " <Reaction ACPPAT160 at 0x1c4d63c8220>,\n",
       " <Reaction ACPPAT161 at 0x1c4d63c82e0>,\n",
       " <Reaction ACPPATai150 at 0x1c4d63c85e0>,\n",
       " <Reaction ACPPATai170 at 0x1c4d63c86a0>,\n",
       " <Reaction ACPPATi140 at 0x1c4d63c8760>,\n",
       " <Reaction ACPPATi150 at 0x1c4d63c8820>,\n",
       " <Reaction ACPPATi160 at 0x1c4d63c88e0>,\n",
       " <Reaction ACPPATi170 at 0x1c4d63c89a0>,\n",
       " <Reaction ACPS1 at 0x1c4d63c8b20>,\n",
       " <Reaction ACPSact at 0x1c4d63c8be0>,\n",
       " <Reaction ACPScda at 0x1c4d63c8ca0>,\n",
       " <Reaction ACPScpk at 0x1c4d63c8160>,\n",
       " <Reaction ACPSpdscpk at 0x1c4d63c8dc0>,\n",
       " <Reaction ACPSredL at 0x1c4d63c8ee0>,\n",
       " <Reaction ACPSredN at 0x1c4d63c8f70>,\n",
       " <Reaction ACPSredQ at 0x1c4d63c8fa0>,\n",
       " <Reaction ACPpds at 0x1c4d63b4220>,\n",
       " <Reaction ACPpdsact at 0x1c4d63b4340>,\n",
       " <Reaction ACPpdscda at 0x1c4d63b4460>,\n",
       " <Reaction ACPpdsredL at 0x1c4d63b4580>,\n",
       " <Reaction ACPpdsredN at 0x1c4d63b46a0>,\n",
       " <Reaction ACPpdsredQ at 0x1c4d63b47c0>,\n",
       " <Reaction ACS at 0x1c4d63b4a00>,\n",
       " <Reaction ACS2 at 0x1c4d63b4b20>,\n",
       " <Reaction ACTCOALIG at 0x1c4d63b4cd0>,\n",
       " <Reaction ACTCOAT at 0x1c4d63b4eb0>,\n",
       " <Reaction ACTS1 at 0x1c4d63b4be0>,\n",
       " <Reaction ACTS10 at 0x1c4d63b81c0>,\n",
       " <Reaction ACTS11 at 0x1c4d63b8610>,\n",
       " <Reaction ACTS12 at 0x1c4d63b8730>,\n",
       " <Reaction ACTS13 at 0x1c4d63b8850>,\n",
       " <Reaction ACTS14 at 0x1c4d63b8970>,\n",
       " <Reaction ACTS15 at 0x1c4d63b8a90>,\n",
       " <Reaction ACTS16 at 0x1c4d63b8bb0>,\n",
       " <Reaction ACTS16b at 0x1c4d63b8d60>,\n",
       " <Reaction ACTS17 at 0x1c4d63b8f40>,\n",
       " <Reaction ACTS18 at 0x1c4d63b8cd0>,\n",
       " <Reaction ACTS19 at 0x1c4d63b8c70>,\n",
       " <Reaction ACTS2 at 0x1c4d63ef610>,\n",
       " <Reaction ACTS3 at 0x1c4d63ef580>,\n",
       " <Reaction ACTS4 at 0x1c4d63ef970>,\n",
       " <Reaction ACTS5 at 0x1c4d63efa00>,\n",
       " <Reaction ACTS6 at 0x1c4d63efa60>,\n",
       " <Reaction ACTS7 at 0x1c4d63efc70>,\n",
       " <Reaction ACTS8 at 0x1c4d63efe80>,\n",
       " <Reaction ACTS9 at 0x1c4d63ef850>,\n",
       " <Reaction ADA at 0x1c4d63ef8b0>,\n",
       " <Reaction ADCL at 0x1c4d63e2700>,\n",
       " <Reaction ADCPS2 at 0x1c4d63e2910>,\n",
       " <Reaction ADCS at 0x1c4d63e2df0>,\n",
       " <Reaction ADCYRS at 0x1c4d63e2f10>,\n",
       " <Reaction ADK1 at 0x1c4d63e2fd0>,\n",
       " <Reaction ADK2 at 0x1c4d63e2fa0>,\n",
       " <Reaction ADK3 at 0x1c4d63d8220>,\n",
       " <Reaction ADK4 at 0x1c4d63d84c0>,\n",
       " <Reaction ADMDC at 0x1c4d63d85e0>,\n",
       " <Reaction ADNCYC at 0x1c4d63d8700>,\n",
       " <Reaction ADNK1 at 0x1c4d63d8820>,\n",
       " <Reaction ADNUC at 0x1c4d63d8a00>,\n",
       " <Reaction ADOCBLS at 0x1c4d63d8b20>,\n",
       " <Reaction ADOXFUTS at 0x1c4d63d8c40>,\n",
       " <Reaction ADPT at 0x1c4d63d8e80>,\n",
       " <Reaction ADSK at 0x1c4d63d8fa0>,\n",
       " <Reaction ADSL1r at 0x1c4d63ba220>,\n",
       " <Reaction ADSL2r at 0x1c4d63ba340>,\n",
       " <Reaction ADSS at 0x1c4d63ba460>,\n",
       " <Reaction ADXFUTNS at 0x1c4d63ba580>,\n",
       " <Reaction AGDC at 0x1c4d63ba6a0>,\n",
       " <Reaction AGPAT140 at 0x1c4d63babe0>,\n",
       " <Reaction AGPAT150 at 0x1c4d63badc0>,\n",
       " <Reaction AGPAT160 at 0x1c4d63bae20>,\n",
       " <Reaction AGPAT161 at 0x1c4d63baeb0>,\n",
       " <Reaction AGPATai150 at 0x1c4d63dda30>,\n",
       " <Reaction AGPATai170 at 0x1c4d63ddd00>,\n",
       " <Reaction AGPATi140 at 0x1c4d63ec040>,\n",
       " <Reaction AGPATi150 at 0x1c4d63ec2e0>,\n",
       " <Reaction AGPATi160 at 0x1c4d63ec5b0>,\n",
       " <Reaction AGPATi170 at 0x1c4d63ec880>,\n",
       " <Reaction AGPR at 0x1c4d63ece20>,\n",
       " <Reaction AGT at 0x1c4d63e0130>,\n",
       " <Reaction AHCi at 0x1c4d63e0400>,\n",
       " <Reaction AHMMPS at 0x1c4d63e0e20>,\n",
       " <Reaction AICART at 0x1c4d63d10a0>,\n",
       " <Reaction AIRCr at 0x1c4d63d1280>,\n",
       " <Reaction AKGDH at 0x1c4d63d1430>,\n",
       " <Reaction AKGDH2 at 0x1c4d63d13a0>,\n",
       " <Reaction AKP1 at 0x1c4d63d1760>,\n",
       " <Reaction ALAALAD at 0x1c4d63d1670>,\n",
       " <Reaction ALAALAr at 0x1c4d63d16d0>,\n",
       " <Reaction ALAD_L at 0x1c4d63d17c0>,\n",
       " <Reaction ALAR at 0x1c4d63bb580>,\n",
       " <Reaction ALAS at 0x1c4d63bb850>,\n",
       " <Reaction ALATA_D2 at 0x1c4d63bb970>,\n",
       " <Reaction ALATA_L at 0x1c4d63bba90>,\n",
       " <Reaction ALATA_L2 at 0x1c4d63bbc70>,\n",
       " <Reaction ALATRS at 0x1c4d63bbbb0>,\n",
       " <Reaction ALBFLOLR at 0x1c4d63bbf70>,\n",
       " <Reaction ALBFLOLS at 0x1c4d63bbb50>,\n",
       " <Reaction ALBFLONR at 0x1c4d63bbd00>,\n",
       " <Reaction ALBFLONS at 0x1c4d63d24c0>,\n",
       " <Reaction ALCD19 at 0x1c4d63d25e0>,\n",
       " <Reaction ALCD19y at 0x1c4d63d2700>,\n",
       " <Reaction ALCD2s at 0x1c4d63d2820>,\n",
       " <Reaction ALCD2x at 0x1c4d63d28e0>,\n",
       " <Reaction ALCD2y at 0x1c4d63d2c40>,\n",
       " <Reaction ALDD1 at 0x1c4d63d2940>,\n",
       " <Reaction ALDD19xr at 0x1c4d63d29d0>,\n",
       " <Reaction ALDD2x at 0x1c4d63d2ca0>,\n",
       " <Reaction ALDH at 0x1c4d63cd3d0>,\n",
       " <Reaction ALLTAMH2 at 0x1c4d63cd670>,\n",
       " <Reaction ALLTN at 0x1c4d63cd730>,\n",
       " <Reaction ALPHNH at 0x1c4d63cd790>,\n",
       " <Reaction AMALT1 at 0x1c4d63cddc0>,\n",
       " <Reaction AMALT2 at 0x1c4d63cdee0>,\n",
       " <Reaction AMALT3 at 0x1c4d63cdfa0>,\n",
       " <Reaction AMALT4 at 0x1c4d63cdf70>,\n",
       " <Reaction AMAOTr at 0x1c4d63e8280>,\n",
       " <Reaction AMMQLT9 at 0x1c4d63e89d0>,\n",
       " <Reaction AMMQT9 at 0x1c4d63e8a30>,\n",
       " <Reaction ANPRT at 0x1c4d63e88e0>,\n",
       " <Reaction ANS at 0x1c4d63d56d0>,\n",
       " <Reaction ANTDIOx at 0x1c4d63d52b0>,\n",
       " <Reaction ANTDIOy at 0x1c4d63d5a30>,\n",
       " <Reaction AOXSr2 at 0x1c4d63d5a90>,\n",
       " <Reaction APAT2r at 0x1c4d63d5f70>,\n",
       " <Reaction APATc at 0x1c4d63c4460>,\n",
       " <Reaction APATr at 0x1c4d63c43a0>,\n",
       " <Reaction APG3PAT140 at 0x1c4d63c47f0>,\n",
       " <Reaction APG3PAT150 at 0x1c4d63c4e20>,\n",
       " <Reaction APG3PAT160 at 0x1c4d63c4ee0>,\n",
       " <Reaction APG3PAT161 at 0x1c4d63c4fa0>,\n",
       " <Reaction APG3PATai150 at 0x1c4d65c32e0>,\n",
       " <Reaction APG3PATai170 at 0x1c4d65c33a0>,\n",
       " <Reaction APG3PATi140 at 0x1c4d65c3460>,\n",
       " <Reaction APG3PATi150 at 0x1c4d65c3520>,\n",
       " <Reaction APG3PATi160 at 0x1c4d65c35e0>,\n",
       " <Reaction APG3PATi170 at 0x1c4d65c36a0>,\n",
       " <Reaction APH120 at 0x1c4d65c3820>,\n",
       " <Reaction APH141 at 0x1c4d65c39a0>,\n",
       " <Reaction APRAUR at 0x1c4d65de9a0>,\n",
       " <Reaction APTNAT at 0x1c4d65deac0>,\n",
       " <Reaction ARGDr at 0x1c4d65cc100>,\n",
       " <Reaction ARGSL at 0x1c4d65cc3a0>,\n",
       " <Reaction ARGSS at 0x1c4d65cc280>,\n",
       " <Reaction ARGTRS at 0x1c4d65cc550>,\n",
       " <Reaction ASAD at 0x1c4d65cc7f0>,\n",
       " <Reaction ASNN at 0x1c4d65ccc40>,\n",
       " <Reaction ASNS1 at 0x1c4d65ccf70>,\n",
       " <Reaction ASNTRS at 0x1c4d65ccf10>,\n",
       " <Reaction ASP1DC at 0x1c4d65df1f0>,\n",
       " <Reaction ASPCT at 0x1c4d65df130>,\n",
       " <Reaction ASPK at 0x1c4d65df3d0>,\n",
       " <Reaction ASPO at 0x1c4d65df460>,\n",
       " <Reaction ASPO1 at 0x1c4d65df2b0>,\n",
       " <Reaction ASPO3 at 0x1c4d65df700>,\n",
       " <Reaction ASPO5 at 0x1c4d65df820>,\n",
       " <Reaction ASPO6 at 0x1c4d65df940>,\n",
       " <Reaction ASPO6_2 at 0x1c4d65dfa60>,\n",
       " <Reaction ASPT at 0x1c4d65dfb80>,\n",
       " <Reaction ASPTA at 0x1c4d65dfca0>,\n",
       " <Reaction ASPTRS at 0x1c4d65dfdc0>,\n",
       " <Reaction ATAH at 0x1c4d65dff70>,\n",
       " <Reaction ATNS_nh4 at 0x1c4d65dffa0>,\n",
       " <Reaction ATPHs at 0x1c4d65b0400>,\n",
       " <Reaction ATPPRT at 0x1c4d65b0370>,\n",
       " <Reaction BCOATA at 0x1c4d65b0be0>,\n",
       " <Reaction BDH at 0x1c4d65b0fd0>,\n",
       " <Reaction BFORMDC at 0x1c4d65e7880>,\n",
       " <Reaction BPNT at 0x1c4d65e7f40>,\n",
       " <Reaction BTNC at 0x1c4d65b3910>,\n",
       " <Reaction BTS5 at 0x1c4d65b3af0>,\n",
       " <Reaction BUTCOAL at 0x1c4d65b3c40>,\n",
       " <Reaction CAT at 0x1c4d65e4370>,\n",
       " <Reaction CBPS at 0x1c4d65e4b20>,\n",
       " <Reaction CCCR at 0x1c4d65e4b80>,\n",
       " <Reaction CDAS1 at 0x1c4d65e4f70>,\n",
       " <Reaction CDAS10 at 0x1c4d65e4a30>,\n",
       " <Reaction CDAS11 at 0x1c4d65e4a90>,\n",
       " <Reaction CDAS12 at 0x1c4d65e6370>,\n",
       " <Reaction CDAS13 at 0x1c4d65e65b0>,\n",
       " <Reaction CDAS14a at 0x1c4d65e6280>,\n",
       " <Reaction CDAS14b at 0x1c4d65e66d0>,\n",
       " <Reaction CDAS15 at 0x1c4d65e67f0>,\n",
       " <Reaction CDAS16 at 0x1c4d65e6910>,\n",
       " <Reaction CDAS17 at 0x1c4d65e6a30>,\n",
       " <Reaction CDAS18 at 0x1c4d65e6b50>,\n",
       " <Reaction CDAS19 at 0x1c4d65e6c70>,\n",
       " <Reaction CDAS2 at 0x1c4d65e6e20>,\n",
       " <Reaction CDAS3 at 0x1c4d65e6d90>,\n",
       " <Reaction CDAS4 at 0x1c4d65e6f40>,\n",
       " <Reaction CDAS5x at 0x1c4d65e01f0>,\n",
       " <Reaction CDAS5y at 0x1c4d65e0250>,\n",
       " <Reaction CDAS6 at 0x1c4d65e0a60>,\n",
       " <Reaction CDAS7 at 0x1c4d65e02e0>,\n",
       " <Reaction CDAS8 at 0x1c4d65e0b80>,\n",
       " <Reaction CDAS9x at 0x1c4d65e0c40>,\n",
       " <Reaction CDAS9y at 0x1c4d65e0ca0>,\n",
       " <Reaction CDPMEK at 0x1c4d65bc4c0>,\n",
       " <Reaction CHIRAISO at 0x1c4d65bc700>,\n",
       " <Reaction CHORDH at 0x1c4d65bcb20>,\n",
       " <Reaction CHORM at 0x1c4d65bcb80>,\n",
       " <Reaction CHORS at 0x1c4d65bcc70>,\n",
       " <Reaction CIGAMS at 0x1c4d65bf280>,\n",
       " <Reaction CITCIa2 at 0x1c4d65bf700>,\n",
       " <Reaction CITCIb at 0x1c4d65bf820>,\n",
       " <Reaction CITL at 0x1c4d65bf8e0>,\n",
       " <Reaction CITMS at 0x1c4d65bfc70>,\n",
       " <Reaction CLPNS140 at 0x1c4d65bf940>,\n",
       " <Reaction CLPNS150 at 0x1c4d65c7400>,\n",
       " <Reaction CLPNS160 at 0x1c4d65c7760>,\n",
       " <Reaction CLPNS161 at 0x1c4d65c7880>,\n",
       " <Reaction CLPNSII140 at 0x1c4d65c7e20>,\n",
       " <Reaction CLPNSII150 at 0x1c4d65c7fd0>,\n",
       " <Reaction CLPNSII160 at 0x1c4d65d51c0>,\n",
       " <Reaction CLPNSII161 at 0x1c4d65d52e0>,\n",
       " <Reaction CLPNSIIai150 at 0x1c4d65d5760>,\n",
       " <Reaction CLPNSIIai170 at 0x1c4d65d5880>,\n",
       " <Reaction CLPNSIIi140 at 0x1c4d65d59a0>,\n",
       " <Reaction CLPNSIIi150 at 0x1c4d65d5ac0>,\n",
       " <Reaction CLPNSIIi160 at 0x1c4d65d5be0>,\n",
       " <Reaction CLPNSIIi170 at 0x1c4d65d5d00>,\n",
       " <Reaction CLPNSai150 at 0x1c4d65d5f40>,\n",
       " <Reaction CLPNSai170 at 0x1c4d65d5fd0>,\n",
       " <Reaction CLPNSi140 at 0x1c4d65d81c0>,\n",
       " <Reaction CLPNSi150 at 0x1c4d65d82e0>,\n",
       " <Reaction CLPNSi160 at 0x1c4d65d8400>,\n",
       " <Reaction CLPNSi170 at 0x1c4d65d8520>,\n",
       " <Reaction CMLDC at 0x1c4d65d8880>,\n",
       " <Reaction COCHL at 0x1c4d65d8df0>,\n",
       " <Reaction COELICHELINR1 at 0x1c4d65ec100>,\n",
       " <Reaction COELICHELINR2 at 0x1c4d65ec3a0>,\n",
       " <Reaction COELICHELINR3 at 0x1c4d65ec280>,\n",
       " <Reaction COELICHELINexs at 0x1c4d65ec580>,\n",
       " <Reaction CPKS1 at 0x1c4d65eca60>,\n",
       " <Reaction CPKS2 at 0x1c4d65ecb80>,\n",
       " <Reaction CPKS3 at 0x1c4d65ecca0>,\n",
       " <Reaction CPKS4a at 0x1c4d65ecdc0>,\n",
       " <Reaction CPKS4b at 0x1c4d65ecee0>,\n",
       " <Reaction CPKS5 at 0x1c4d65ecfa0>,\n",
       " <Reaction CPMPS at 0x1c4d65ecf70>,\n",
       " <Reaction CPPPGO2 at 0x1c4d65c8280>,\n",
       " <Reaction CS at 0x1c4d65c8340>,\n",
       " <Reaction CSND at 0x1c4d65c8820>,\n",
       " <Reaction CTECOAI6 at 0x1c4d65c8a60>,\n",
       " <Reaction CTPS1 at 0x1c4d65c8f70>,\n",
       " <Reaction CTPS2 at 0x1c4d65b51f0>,\n",
       " <Reaction CYO1ab at 0x1c4d65b5fd0>,\n",
       " <Reaction CYO2b at 0x1c4d65b5ee0>,\n",
       " <Reaction CYRDAAT at 0x1c4d65b5f40>,\n",
       " <Reaction CYRDAR at 0x1c4d65e8370>,\n",
       " <Reaction CYSDS at 0x1c4d65e8dc0>,\n",
       " <Reaction CYSS at 0x1c4d65e8460>,\n",
       " <Reaction CYSTGL at 0x1c4d65e8ee0>,\n",
       " <Reaction CYSTL at 0x1c4d65e8f70>,\n",
       " <Reaction CYSTRS at 0x1c4d65e8fa0>,\n",
       " <Reaction CYSTS at 0x1c4d65ee2b0>,\n",
       " <Reaction CYTD at 0x1c4d65ee5e0>,\n",
       " <Reaction CYTDH at 0x1c4d65ee910>,\n",
       " <Reaction CYTDK1 at 0x1c4d65eea30>,\n",
       " <Reaction CYTDK2 at 0x1c4d65eebe0>,\n",
       " <Reaction CYTK1 at 0x1c4d65eeb50>,\n",
       " <Reaction CYTK2 at 0x1c4d65eee80>,\n",
       " <Reaction D4DGCD at 0x1c4d65eef40>,\n",
       " <Reaction D5KGK at 0x1c4d65eefa0>,\n",
       " <Reaction D5KGPA at 0x1c4d65d3220>,\n",
       " <Reaction DACGKIN at 0x1c4d65d3730>,\n",
       " <Reaction DADA at 0x1c4d65d3610>,\n",
       " <Reaction DADK at 0x1c4d65d38e0>,\n",
       " <Reaction DAPAT at 0x1c4d65d3850>,\n",
       " <Reaction DAPDC at 0x1c4d65d3b20>,\n",
       " <Reaction DAPE at 0x1c4d65d3c10>,\n",
       " <Reaction DASYN140 at 0x1c4d65d3f40>,\n",
       " <Reaction DASYN150 at 0x1c4d65db4c0>,\n",
       " <Reaction DASYN160 at 0x1c4d65db5e0>,\n",
       " <Reaction DASYN161 at 0x1c4d65db700>,\n",
       " <Reaction DASYNai150 at 0x1c4d65dbb80>,\n",
       " <Reaction DASYNai170 at 0x1c4d65dbca0>,\n",
       " <Reaction DASYNi140 at 0x1c4d65dbdc0>,\n",
       " <Reaction DASYNi150 at 0x1c4d65dbee0>,\n",
       " <Reaction DASYNi160 at 0x1c4d65dbfa0>,\n",
       " <Reaction DASYNi170 at 0x1c4d65dbf70>,\n",
       " <Reaction DB4PS at 0x1c4d66f84c0>,\n",
       " <Reaction DBTS at 0x1c4d66f85e0>,\n",
       " <Reaction DCTPD at 0x1c4d66f8940>,\n",
       " <Reaction DCTPD2 at 0x1c4d66f8a00>,\n",
       " <Reaction DDPA at 0x1c4d6706310>,\n",
       " <Reaction DGI at 0x1c4d6706760>,\n",
       " <Reaction DGK1 at 0x1c4d6706ac0>,\n",
       " <Reaction DHAD1 at 0x1c4d6703550>,\n",
       " <Reaction DHAD2 at 0x1c4d6703670>,\n",
       " <Reaction DHAK at 0x1c4d6703820>,\n",
       " <Reaction DHAPT at 0x1c4d6703880>,\n",
       " <Reaction DHDPRy at 0x1c4d6703fd0>,\n",
       " <Reaction DHDPS at 0x1c4d6703ee0>,\n",
       " <Reaction DHFR at 0x1c4d6703f40>,\n",
       " <Reaction DHFS at 0x1c4d66f43d0>,\n",
       " <Reaction DHNAI at 0x1c4d66f4820>,\n",
       " <Reaction DHNANT4 at 0x1c4d66f44f0>,\n",
       " <Reaction DHNAOT9 at 0x1c4d66f4940>,\n",
       " <Reaction DHNAS at 0x1c4d66f4b20>,\n",
       " <Reaction DHNPA2r at 0x1c4d66f4bb0>,\n",
       " <Reaction DHORD4 at 0x1c4d66f4a60>,\n",
       " <Reaction DHORD5 at 0x1c4d66f4f10>,\n",
       " <Reaction DHORTS at 0x1c4d66f4fd0>,\n",
       " <Reaction DHPPDA2 at 0x1c4d670c2b0>,\n",
       " <Reaction DHPS at 0x1c4d670c3d0>,\n",
       " <Reaction DHPS2 at 0x1c4d670c4f0>,\n",
       " <Reaction DHQS at 0x1c4d670c610>,\n",
       " <Reaction DHQTi at 0x1c4d670c7c0>,\n",
       " <Reaction DIOP5OR at 0x1c4d670cc70>,\n",
       " <Reaction DMATT at 0x1c4d670cd90>,\n",
       " <Reaction DMBZIDS at 0x1c4d670ceb0>,\n",
       " <Reaction DMPPS at 0x1c4d670cfd0>,\n",
       " <Reaction DNADDP at 0x1c4d66fe670>,\n",
       " <Reaction DNMPPA at 0x1c4d66fe0a0>,\n",
       " <Reaction DNTPPA_1 at 0x1c4d66fe910>,\n",
       " <Reaction DPCOAK at 0x1c4d66fec10>,\n",
       " <Reaction DPR at 0x1c4d66fedf0>,\n",
       " <Reaction DRPA at 0x1c4d66f24c0>,\n",
       " <Reaction DTMPK at 0x1c4d66f2940>,\n",
       " <Reaction DURIK1 at 0x1c4d66f2b20>,\n",
       " <Reaction DURIPP at 0x1c4d66f2a60>,\n",
       " <Reaction DUTPDP at 0x1c4d66f2bb0>,\n",
       " <Reaction DX5PGLYCPL at 0x1c4d66f2eb0>,\n",
       " <Reaction DXFUTOR at 0x1c4d66f2fd0>,\n",
       " <Reaction DXPRIi at 0x1c4d66f2f70>,\n",
       " <Reaction DXPS at 0x1c4d66f1340>,\n",
       " <Reaction EAR100x at 0x1c4d66f16a0>,\n",
       " <Reaction EAR100y at 0x1c4d66f1a60>,\n",
       " <Reaction EAR110x at 0x1c4d66f1ac0>,\n",
       " <Reaction EAR110y at 0x1c4d66f19d0>,\n",
       " <Reaction EAR120x at 0x1c4d66f1f40>,\n",
       " <Reaction EAR120y at 0x1c4d66f1fd0>,\n",
       " <Reaction EAR121x at 0x1c4d67211c0>,\n",
       " <Reaction EAR121y at 0x1c4d67212e0>,\n",
       " <Reaction EAR130x at 0x1c4d6721400>,\n",
       " <Reaction EAR130y at 0x1c4d6721520>,\n",
       " <Reaction EAR140x at 0x1c4d6721640>,\n",
       " <Reaction EAR140y at 0x1c4d6721760>,\n",
       " <Reaction EAR141x at 0x1c4d6721880>,\n",
       " <Reaction EAR141y at 0x1c4d67219a0>,\n",
       " <Reaction EAR150x at 0x1c4d6721ac0>,\n",
       " <Reaction EAR150y at 0x1c4d6721be0>,\n",
       " <Reaction EAR160x at 0x1c4d6721d00>,\n",
       " <Reaction EAR160y at 0x1c4d6721e20>,\n",
       " <Reaction EAR161x at 0x1c4d6721f40>,\n",
       " <Reaction EAR161y at 0x1c4d6721fd0>,\n",
       " <Reaction EAR40x at 0x1c4d66f6880>,\n",
       " <Reaction EAR40y at 0x1c4d66f69a0>,\n",
       " <Reaction EAR50x at 0x1c4d66f6ac0>,\n",
       " <Reaction EAR50y at 0x1c4d66f6be0>,\n",
       " <Reaction EAR60x at 0x1c4d66f6d00>,\n",
       " <Reaction EAR60y at 0x1c4d66f6e20>,\n",
       " <Reaction EAR70x at 0x1c4d66f6f40>,\n",
       " <Reaction EAR70y at 0x1c4d66f6fd0>,\n",
       " <Reaction EAR80x at 0x1c4d66f91c0>,\n",
       " <Reaction EAR80y at 0x1c4d66f92e0>,\n",
       " <Reaction EAR90x at 0x1c4d66f9400>,\n",
       " <Reaction EAR90y at 0x1c4d66f9520>,\n",
       " <Reaction EARai110x at 0x1c4d66f9640>,\n",
       " <Reaction EARai110y at 0x1c4d66f9760>,\n",
       " <Reaction EARai130x at 0x1c4d66f9880>,\n",
       " <Reaction EARai130y at 0x1c4d66f99a0>,\n",
       " <Reaction EARai150x at 0x1c4d66f9ac0>,\n",
       " <Reaction EARai150y at 0x1c4d66f9be0>,\n",
       " <Reaction EARai170x at 0x1c4d66f9d00>,\n",
       " <Reaction EARai170y at 0x1c4d66f9e20>,\n",
       " <Reaction EARai70x at 0x1c4d66f9f40>,\n",
       " <Reaction EARai70y at 0x1c4d66f9fd0>,\n",
       " <Reaction EARai90x at 0x1c4d67281c0>,\n",
       " <Reaction EARai90y at 0x1c4d67282e0>,\n",
       " <Reaction EARi100x at 0x1c4d6728400>,\n",
       " <Reaction EARi100y at 0x1c4d6728520>,\n",
       " <Reaction EARi110x at 0x1c4d6728640>,\n",
       " <Reaction EARi110y at 0x1c4d6728760>,\n",
       " <Reaction EARi120x at 0x1c4d6728880>,\n",
       " <Reaction EARi120y at 0x1c4d67289a0>,\n",
       " <Reaction EARi130x at 0x1c4d6728ac0>,\n",
       " <Reaction EARi130y at 0x1c4d6728be0>,\n",
       " <Reaction EARi140x at 0x1c4d6728d00>,\n",
       " <Reaction EARi140y at 0x1c4d6728e20>,\n",
       " <Reaction EARi150x at 0x1c4d6728f40>,\n",
       " <Reaction EARi150y at 0x1c4d6728fd0>,\n",
       " <Reaction EARi160x at 0x1c4d672c1c0>,\n",
       " <Reaction EARi160y at 0x1c4d672c2e0>,\n",
       " <Reaction EARi170x at 0x1c4d672c400>,\n",
       " <Reaction EARi170y at 0x1c4d672c520>,\n",
       " <Reaction EARi60x at 0x1c4d672c880>,\n",
       " <Reaction EARi60y at 0x1c4d672c9a0>,\n",
       " <Reaction EARi70x at 0x1c4d672cac0>,\n",
       " <Reaction EARi70y at 0x1c4d672cbe0>,\n",
       " <Reaction EARi80x at 0x1c4d672cd00>,\n",
       " <Reaction EARi80y at 0x1c4d672ce20>,\n",
       " <Reaction EARi90x at 0x1c4d672cf40>,\n",
       " <Reaction EARi90y at 0x1c4d672cfd0>,\n",
       " <Reaction ECOAH1 at 0x1c4d67191c0>,\n",
       " <Reaction ECOAH12 at 0x1c4d67192e0>,\n",
       " <Reaction ECOAH2 at 0x1c4d6719400>,\n",
       " <Reaction ECOAH6 at 0x1c4d6719a30>,\n",
       " <Reaction ECOAH9ir at 0x1c4d6719520>,\n",
       " <Reaction EGMEACPR at 0x1c4d672e2b0>,\n",
       " <Reaction EIZOO at 0x1c4d672ebe0>,\n",
       " <Reaction ENO at 0x1c4d6709340>,\n",
       " <Reaction EPIZSYN at 0x1c4d6709460>,\n",
       " <Reaction EPMEACPR at 0x1c4d6709610>,\n",
       " <Reaction ERTHMMOR at 0x1c4d6709580>,\n",
       " <Reaction FACOAE100 at 0x1c4d6709f70>,\n",
       " <Reaction FACOAE120 at 0x1c4d6709f10>,\n",
       " <Reaction FACOAE140 at 0x1c4d67101f0>,\n",
       " <Reaction FACOAE141 at 0x1c4d6710280>,\n",
       " <Reaction FACOAE160 at 0x1c4d67102e0>,\n",
       " <Reaction FACOAE161 at 0x1c4d67104f0>,\n",
       " <Reaction FACOAE180 at 0x1c4d6710700>,\n",
       " <Reaction FACOAE181 at 0x1c4d6710910>,\n",
       " <Reaction FACOAE60 at 0x1c4d6710b20>,\n",
       " <Reaction FACOAE80 at 0x1c4d6710d30>,\n",
       " <Reaction FACOAL100 at 0x1c4d6710130>,\n",
       " <Reaction FACOAL120 at 0x1c4d6710070>,\n",
       " <Reaction FACOAL140 at 0x1c4d672f3a0>,\n",
       " <Reaction FACOAL141 at 0x1c4d672f100>,\n",
       " <Reaction FACOAL160 at 0x1c4d672f190>,\n",
       " <Reaction FACOAL161 at 0x1c4d672f5b0>,\n",
       " <Reaction FACOAL180 at 0x1c4d672fbb0>,\n",
       " <Reaction FACOAL181 at 0x1c4d6727040>,\n",
       " <Reaction FACOAL60 at 0x1c4d6727490>,\n",
       " <Reaction FACOAL80 at 0x1c4d67278e0>,\n",
       " <Reaction FADRx2 at 0x1c4d6727d30>,\n",
       " <Reaction FANH at 0x1c4d66f5eb0>,\n",
       " <Reaction FBA at 0x1c4d67166d0>,\n",
       " <Reaction FBA2 at 0x1c4d67165b0>,\n",
       " <Reaction FBA3 at 0x1c4d67167f0>,\n",
       " <Reaction FBP at 0x1c4d6716a00>,\n",
       " <Reaction FCLT at 0x1c4d6716910>,\n",
       " <Reaction FDH at 0x1c4d6716e20>,\n",
       " <Reaction FE3Ri at 0x1c4d67181c0>,\n",
       " <Reaction FEOXAMBR1 at 0x1c4d6718400>,\n",
       " <Reaction FEOXAMBR2 at 0x1c4d67185e0>,\n",
       " <Reaction FEOXAMBR3 at 0x1c4d67186a0>,\n",
       " <Reaction FEOXAMBexs at 0x1c4d6718760>,\n",
       " <Reaction FEOXAMER1 at 0x1c4d6718820>,\n",
       " <Reaction FEOXAMER2 at 0x1c4d67188e0>,\n",
       " <Reaction FEOXAMER3 at 0x1c4d67184c0>,\n",
       " <Reaction FEOXAMEexs at 0x1c4d6718ac0>,\n",
       " <Reaction FERO at 0x1c4d6718b80>,\n",
       " <Reaction FESD1s at 0x1c4d6718df0>,\n",
       " <Reaction FESR at 0x1c4d6718e50>,\n",
       " <Reaction FGLU at 0x1c4d63ad940>,\n",
       " <Reaction FKYNH at 0x1c4d63ad370>,\n",
       " <Reaction FLVR at 0x1c4d63add90>,\n",
       " <Reaction FMNAT at 0x1c4d63ad550>,\n",
       " <Reaction FMNRx at 0x1c4d63ad250>,\n",
       " <Reaction FMNRx2 at 0x1c4d63ad3a0>,\n",
       " <Reaction FNOR at 0x1c4d63adc10>,\n",
       " <Reaction FORAMD at 0x1c4d63ad4c0>,\n",
       " <Reaction FRD3 at 0x1c4d63a51f0>,\n",
       " <Reaction FRD8 at 0x1c4d63a53d0>,\n",
       " <Reaction FRTT at 0x1c4d63a5670>,\n",
       " <Reaction FRU6PE4P at 0x1c4d63a5700>,\n",
       " <Reaction FRUK at 0x1c4d63a5970>,\n",
       " <Reaction FTHFCL_1 at 0x1c4d63a54f0>,\n",
       " <Reaction FTHFD at 0x1c4d63a5a00>,\n",
       " <Reaction FUM at 0x1c4d63a5d30>,\n",
       " <Reaction FUMAC at 0x1c4d63a5e50>,\n",
       " <Reaction FUTH at 0x1c4d63a5f70>,\n",
       " <Reaction G1Dx at 0x1c4d6395160>,\n",
       " <Reaction G1PACT at 0x1c4d6395490>,\n",
       " <Reaction G1SAT at 0x1c4d6395850>,\n",
       " <Reaction G3PCT at 0x1c4d6395970>,\n",
       " <Reaction G3PD at 0x1c4d6395a90>,\n",
       " <Reaction G3PD2 at 0x1c4d6395c40>,\n",
       " <Reaction G3PD5 at 0x1c4d6395e80>,\n",
       " <Reaction G3PD6 at 0x1c4d6395bb0>,\n",
       " <Reaction G3PD7 at 0x1c4d6395b50>,\n",
       " <Reaction G5SADs at 0x1c4d6395f10>,\n",
       " <Reaction G5SAT at 0x1c4d6370340>,\n",
       " <Reaction G5SD at 0x1c4d6370a60>,\n",
       " <Reaction G6PDA at 0x1c4d63703d0>,\n",
       " <Reaction G6PDH2r at 0x1c4d6370c70>,\n",
       " <Reaction GABTA at 0x1c4d6370be0>,\n",
       " <Reaction GALT at 0x1c4d63a6ee0>,\n",
       " <Reaction GALUi at 0x1c4d639e4f0>,\n",
       " <Reaction GAPD at 0x1c4d639e460>,\n",
       " <Reaction GARFT at 0x1c4d639e7c0>,\n",
       " <Reaction GCALDD at 0x1c4d639e8e0>,\n",
       " <Reaction GCCc at 0x1c4d639ea90>,\n",
       " <Reaction GDPDPK at 0x1c4d63af340>,\n",
       " <Reaction GDPMNP at 0x1c4d63af580>,\n",
       " <Reaction GDPTPDP at 0x1c4d63af730>,\n",
       " <Reaction GEOSMS at 0x1c4d63af6a0>,\n",
       " <Reaction GERDPM at 0x1c4d63afb80>,\n",
       " <Reaction GERMA at 0x1c4d63afe20>,\n",
       " <Reaction GERMB at 0x1c4d63aff40>,\n",
       " <Reaction GERMC at 0x1c4d63affd0>,\n",
       " <Reaction GERMD at 0x1c4d63930a0>,\n",
       " <Reaction GF6PTA at 0x1c4d63934c0>,\n",
       " <Reaction GGTT at 0x1c4d6393e20>,\n",
       " <Reaction GHMT2r at 0x1c4d6393ee0>,\n",
       " <Reaction GK1i at 0x1c4d6393f40>,\n",
       " <Reaction GK2i at 0x1c4d639f400>,\n",
       " <Reaction GLBRAN2 at 0x1c4d639f5b0>,\n",
       " <Reaction GLC15LACH at 0x1c4d639f520>,\n",
       " <Reaction GLCP at 0x1c4d639f940>,\n",
       " <Reaction GLCP2 at 0x1c4d639fa30>,\n",
       " <Reaction GLCRAL at 0x1c4d639fd60>,\n",
       " <Reaction GLCS1 at 0x1c4d639ffa0>,\n",
       " <Reaction GLDBRAN2 at 0x1c4d637a250>,\n",
       " <Reaction GLGC at 0x1c4d637a2b0>,\n",
       " <Reaction GLNS at 0x1c4d637a790>,\n",
       " <Reaction GLNTRS at 0x1c4d637a700>,\n",
       " <Reaction GLU5K at 0x1c4d637aa60>,\n",
       " <Reaction GLUAAT at 0x1c4d637ab20>,\n",
       " <Reaction GLUDC at 0x1c4d637af40>,\n",
       " <Reaction GLUDxi at 0x1c4d637afd0>,\n",
       " <Reaction GLUDyi at 0x1c4d63791c0>,\n",
       " <Reaction GLUN at 0x1c4d6379400>,\n",
       " <Reaction GLUPRT at 0x1c4d6379520>,\n",
       " <Reaction GLUR at 0x1c4d6379700>,\n",
       " <Reaction GLUSAD at 0x1c4d63795e0>,\n",
       " <Reaction GLUSx at 0x1c4d6379820>,\n",
       " <Reaction GLUSy at 0x1c4d6379940>,\n",
       " <Reaction GLUTCOADHc at 0x1c4d6379a60>,\n",
       " <Reaction GLUTPAT at 0x1c4d6379c10>,\n",
       " <Reaction GLUTRR at 0x1c4d6379df0>,\n",
       " <Reaction GLUTRS at 0x1c4d6379b20>,\n",
       " <Reaction GLXCL at 0x1c4d6379b80>,\n",
       " <Reaction GLYALDDr at 0x1c4d68ecf10>,\n",
       " <Reaction GLYCDx at 0x1c4d63ae7c0>,\n",
       " <Reaction GLYCK at 0x1c4d63ae880>,\n",
       " <Reaction GLYCK2 at 0x1c4d63aeac0>,\n",
       " <Reaction GLYCL at 0x1c4d63aeb80>,\n",
       " <Reaction GLYCTD at 0x1c4d63aec70>,\n",
       " <Reaction GLYCTO1 at 0x1c4d63aee20>,\n",
       " <Reaction GLYCTO2 at 0x1c4d63aefa0>,\n",
       " <Reaction GLYCTO3 at 0x1c4d63aebe0>,\n",
       " <Reaction GLYCTO4 at 0x1c4d63aef40>,\n",
       " <Reaction GLYDHD at 0x1c4d63aed90>,\n",
       " <Reaction GLYK at 0x1c4d638d760>,\n",
       " <Reaction GLYO1 at 0x1c4d638d7f0>,\n",
       " <Reaction GLYTRS at 0x1c4d638d9a0>,\n",
       " <Reaction GMPS at 0x1c4d638dd90>,\n",
       " <Reaction GMPS2 at 0x1c4d638de50>,\n",
       " <Reaction GND at 0x1c4d638df10>,\n",
       " <Reaction GNK at 0x1c4d638dfd0>,\n",
       " <Reaction GNNUC at 0x1c4d638dee0>,\n",
       " <Reaction GRMCRDS at 0x1c4d638f2e0>,\n",
       " <Reaction GRMCROS at 0x1c4d6385790>,\n",
       " <Reaction GRTT at 0x1c4d63859d0>,\n",
       " <Reaction GSMNSYN at 0x1c4d6385b80>,\n",
       " <Reaction GTPCI at 0x1c4d6385f40>,\n",
       " <Reaction GTPCII2 at 0x1c4d6385f10>,\n",
       " <Reaction GTPDPDP at 0x1c4d6385c10>,\n",
       " <Reaction GTPDPK at 0x1c4d6385fd0>,\n",
       " <Reaction GTPHs at 0x1c4d63aa580>,\n",
       " <Reaction GUACYC at 0x1c4d63aa670>,\n",
       " <Reaction GUAPRT at 0x1c4d63aa820>,\n",
       " <Reaction H2SO at 0x1c4d63aacd0>,\n",
       " <Reaction HACD1 at 0x1c4d63aad90>,\n",
       " <Reaction HACD2 at 0x1c4d63aae50>,\n",
       " <Reaction HACD6 at 0x1c4d63aae20>,\n",
       " <Reaction HACD9 at 0x1c4d63758b0>,\n",
       " <Reaction HBADAS at 0x1c4d6375c10>,\n",
       " <Reaction HBCOA3E at 0x1c4d6375d90>,\n",
       " <Reaction HBCO_nadp at 0x1c4d6375e50>,\n",
       " <Reaction HCO3E at 0x1c4d6375df0>,\n",
       " <Reaction HCYSMT at 0x1c4d6375e20>,\n",
       " <Reaction HEMEAS at 0x1c4d63919a0>,\n",
       " <Reaction HEMEOS at 0x1c4d6391a60>,\n",
       " <Reaction HEPTT at 0x1c4d6391be0>,\n",
       " <Reaction HEX1 at 0x1c4d6391d60>,\n",
       " <Reaction HEX7 at 0x1c4d6391ee0>,\n",
       " <Reaction HEXTT at 0x1c4d6391eb0>,\n",
       " <Reaction HGNTOR at 0x1c4d6391df0>,\n",
       " <Reaction HIBD at 0x1c4d6391f40>,\n",
       " <Reaction HISNH4L at 0x1c4d6381580>,\n",
       " <Reaction HISTD at 0x1c4d6381640>,\n",
       " <Reaction HISTDa at 0x1c4d6381700>,\n",
       " <Reaction HISTDb at 0x1c4d63817c0>,\n",
       " <Reaction HISTP at 0x1c4d6381880>,\n",
       " <Reaction HISTRS at 0x1c4d6381940>,\n",
       " <Reaction HMBS at 0x1c4d6381ac0>,\n",
       " <Reaction HMGL at 0x1c4d6381b80>,\n",
       " <Reaction HMPK1 at 0x1c4d6381d30>,\n",
       " <Reaction HMPK2 at 0x1c4d6381eb0>,\n",
       " <Reaction HMPK3 at 0x1c4d6381f40>,\n",
       " <Reaction HMPK4 at 0x1c4d6381b50>,\n",
       " <Reaction HOXPR2 at 0x1c4d6381fa0>,\n",
       " <Reaction HPPK2 at 0x1c4d63a9550>,\n",
       " <Reaction HPYRI at 0x1c4d63a97c0>,\n",
       " <Reaction HPYRRx at 0x1c4d63a9a30>,\n",
       " <Reaction HPYRRy at 0x1c4d63a9af0>,\n",
       " <Reaction HSDxi at 0x1c4d63a9bb0>,\n",
       " <Reaction HSDy at 0x1c4d63a9c70>,\n",
       " <Reaction HSK at 0x1c4d63a9d30>,\n",
       " <Reaction HSST at 0x1c4d63a9e20>,\n",
       " <Reaction HSTPT at 0x1c4d63a9fd0>,\n",
       " <Reaction HURH at 0x1c4d63a9f40>,\n",
       " <Reaction HXAND at 0x1c4d63a9d90>,\n",
       " <Reaction HXPRT at 0x1c4d63a9df0>,\n",
       " <Reaction IACGAMS2 at 0x1c4d63a1580>,\n",
       " <Reaction IBCOAQ9R at 0x1c4d63a1700>,\n",
       " <Reaction IBCOATA at 0x1c4d63a1b50>,\n",
       " <Reaction IBTMr at 0x1c4d63a1c10>,\n",
       " <Reaction ICDHyr at 0x1c4d63a1d00>,\n",
       " <Reaction ICHORS at 0x1c4d63a1eb0>,\n",
       " <Reaction ICL at 0x1c4d63a1fd0>,\n",
       " <Reaction ICYSDS at 0x1c4d63a1c70>,\n",
       " <Reaction IDOND at 0x1c4d63a1cd0>,\n",
       " <Reaction IDOND2 at 0x1c4d63a1b20>,\n",
       " <Reaction IDPS2 at 0x1c4d647b820>,\n",
       " <Reaction IG3PS at 0x1c4d647b9d0>,\n",
       " <Reaction IGAMD at 0x1c4d647ba90>,\n",
       " <Reaction IGPDH at 0x1c4d647bb50>,\n",
       " <Reaction IGPS at 0x1c4d647bc40>,\n",
       " <Reaction ILEDHr at 0x1c4d647bdf0>,\n",
       " <Reaction ILETA at 0x1c4d647bf70>,\n",
       " <Reaction ILETRS at 0x1c4d647bfd0>,\n",
       " <Reaction IMPC at 0x1c4d647bbb0>,\n",
       " <Reaction IMPD at 0x1c4d647bdc0>,\n",
       " <Reaction INS2D at 0x1c4d647bd60>,\n",
       " <Reaction INSDH at 0x1c4d6471550>,\n",
       " <Reaction INSH at 0x1c4d6471640>,\n",
       " <Reaction IPDDI at 0x1c4d6471a90>,\n",
       " <Reaction IPDPS at 0x1c4d6471b50>,\n",
       " <Reaction IPMD at 0x1c4d6471c10>,\n",
       " <Reaction IPPMIa at 0x1c4d6471cd0>,\n",
       " <Reaction IPPMIb at 0x1c4d6471d90>,\n",
       " <Reaction IPPS at 0x1c4d6471e50>,\n",
       " <Reaction ITPOCL at 0x1c4d6471f40>,\n",
       " <Reaction IVCOATA at 0x1c4d6471fa0>,\n",
       " <Reaction IZPN at 0x1c4d6471d60>,\n",
       " <Reaction KARA1 at 0x1c4d6471ee0>,\n",
       " <Reaction KARA1i at 0x1c4d6471eb0>,\n",
       " <Reaction KARA2 at 0x1c4d6472880>,\n",
       " <Reaction KARI at 0x1c4d6472a30>,\n",
       " <Reaction KARI_23dhmb at 0x1c4d6472be0>,\n",
       " <Reaction KARI_23dhmp at 0x1c4d6472d90>,\n",
       " <Reaction KARI_3hmoa at 0x1c4d6472f40>,\n",
       " <Reaction KAS14 at 0x1c4d6472fa0>,\n",
       " <Reaction KAS15 at 0x1c4d6472d00>,\n",
       " <Reaction KHK at 0x1c4d6472eb0>,\n",
       " <Reaction KYN at 0x1c4d64ab820>,\n",
       " <Reaction LACDHCYT at 0x1c4d64ab9a0>,\n",
       " <Reaction LDH_D at 0x1c4d6476490>,\n",
       " <Reaction LEUTA at 0x1c4d6476550>,\n",
       " <Reaction LEUTRS at 0x1c4d6476610>,\n",
       " <Reaction LFORKYNHYD at 0x1c4d6476700>,\n",
       " <Reaction LIPOCT at 0x1c4d6476c70>,\n",
       " <Reaction LIPOS at 0x1c4d6476d30>,\n",
       " <Reaction LLEUDr at 0x1c4d6476df0>,\n",
       " <Reaction LTHRK at 0x1c4d6476fd0>,\n",
       " <Reaction LYSDC at 0x1c4d6476dc0>,\n",
       " <Reaction LYSTRS at 0x1c4d64a3340>,\n",
       " <Reaction MACACI at 0x1c4d64a38b0>,\n",
       " <Reaction MACCOAT at 0x1c4d64a3940>,\n",
       " <Reaction MACPD at 0x1c4d64a3c40>,\n",
       " <Reaction MALACPMT at 0x1c4d64a3e80>,\n",
       " <Reaction MALS at 0x1c4d649e370>,\n",
       " <Reaction MALT at 0x1c4d649e4f0>,\n",
       " <Reaction MALTHIK at 0x1c4d649e6a0>,\n",
       " <Reaction MAN1PT at 0x1c4d649ea30>,\n",
       " <Reaction MBCOA2 at 0x1c4d649ed90>,\n",
       " <Reaction MBCOA3 at 0x1c4d649ef10>,\n",
       " <Reaction MBCOAi at 0x1c4d649efa0>,\n",
       " <Reaction MCCC at 0x1c4d649ed60>,\n",
       " <Reaction MCOALY at 0x1c4d649e340>,\n",
       " <Reaction MCOATA at 0x1c4d649efd0>,\n",
       " <Reaction MCTP1A at 0x1c4d64a1c10>,\n",
       " <Reaction MDDCP1 at 0x1c4d64a18b0>,\n",
       " <Reaction MDDCP3 at 0x1c4d64a1fa0>,\n",
       " <Reaction MDDCP4 at 0x1c4d64a1d90>,\n",
       " <Reaction MDDEP1 at 0x1c4d649fc10>,\n",
       " <Reaction MDDEP3 at 0x1c4d649f610>,\n",
       " <Reaction MDH at 0x1c4d649fd30>,\n",
       " <Reaction ME1 at 0x1c4d64ac910>,\n",
       " <Reaction ME2 at 0x1c4d64aca60>,\n",
       " <Reaction MECDPDH2 at 0x1c4d64acc40>,\n",
       " <Reaction MECDPS at 0x1c4d64aceb0>,\n",
       " <Reaction MEPCT at 0x1c4d64acf70>,\n",
       " <Reaction METAT at 0x1c4d64acf10>,\n",
       " <Reaction METOX1s at 0x1c4d64acee0>,\n",
       " <Reaction METOX2s at 0x1c4d6484640>,\n",
       " <Reaction METS at 0x1c4d6484730>,\n",
       " <Reaction METSOXR1 at 0x1c4d64848b0>,\n",
       " <Reaction METSOXR2 at 0x1c4d6484970>,\n",
       " <Reaction METTRS at 0x1c4d6484a30>,\n",
       " <Reaction MGCH at 0x1c4d6484af0>,\n",
       " <Reaction MI1PP at 0x1c4d6484a00>,\n",
       " <Reaction MI1PS at 0x1c4d6484ac0>,\n",
       " <Reaction MI1PS2 at 0x1c4d6487610>,\n",
       " <Reaction MI3PP at 0x1c4d6487700>,\n",
       " <Reaction MLTG2 at 0x1c4d6487c70>,\n",
       " <Reaction MLTG3 at 0x1c4d6487d90>,\n",
       " <Reaction MLTG4 at 0x1c4d6487880>,\n",
       " <Reaction MLTG5 at 0x1c4d648a820>,\n",
       " <Reaction MLTP1 at 0x1c4d648abe0>,\n",
       " <Reaction MLTP2 at 0x1c4d648ad60>,\n",
       " <Reaction MLTP3 at 0x1c4d648afa0>,\n",
       " <Reaction MMCOAL at 0x1c4d648abb0>,\n",
       " <Reaction MME at 0x1c4d648af40>,\n",
       " <Reaction MMM at 0x1c4d648a7f0>,\n",
       " <Reaction MMSAD3 at 0x1c4d648d460>,\n",
       " <Reaction MMSAD5 at 0x1c4d648d520>,\n",
       " <Reaction MMTSAO at 0x1c4d648da60>,\n",
       " <Reaction MOADSUx at 0x1c4d648de80>,\n",
       " <Reaction MOCOS at 0x1c4d648df10>,\n",
       " <Reaction MOGDS at 0x1c4d648dfd0>,\n",
       " <Reaction MOHMT at 0x1c4d648dfa0>,\n",
       " <Reaction MPL at 0x1c4d648dd00>,\n",
       " <Reaction MPTAT at 0x1c4d64915b0>,\n",
       " <Reaction MPTG at 0x1c4d6491670>,\n",
       " <Reaction MPTS at 0x1c4d64918e0>,\n",
       " <Reaction MPTSS at 0x1c4d64919a0>,\n",
       " <Reaction MSHS at 0x1c4d6491cd0>,\n",
       " <Reaction MTAM_nh4 at 0x1c4d6491eb0>,\n",
       " <Reaction MTAN at 0x1c4d6491580>,\n",
       " <Reaction MTFHSs at 0x1c4d64944c0>,\n",
       " <Reaction MTHFC at 0x1c4d64945b0>,\n",
       " <Reaction MTHFD at 0x1c4d6494730>,\n",
       " <Reaction MTHFR2 at 0x1c4d64947c0>,\n",
       " <Reaction MTHFR3_1 at 0x1c4d6494880>,\n",
       " <Reaction MTI at 0x1c4d6494940>,\n",
       " <Reaction MUCCY at 0x1c4d6494ac0>,\n",
       " <Reaction MYCTR at 0x1c4d6494df0>,\n",
       " <Reaction NADDP at 0x1c4d6494b80>,\n",
       " <Reaction NADH10b at 0x1c4d6494e80>,\n",
       " <Reaction NADH2r at 0x1c4d6494e50>,\n",
       " <Reaction NADH9 at 0x1c4d64977c0>,\n",
       " <Reaction NADHXDH at 0x1c4d6497880>,\n",
       " <Reaction NADHXE at 0x1c4d6497b20>,\n",
       " <Reaction NADHXSs__R at 0x1c4d6497af0>,\n",
       " <Reaction NADHXSs__S at 0x1c4d6497790>,\n",
       " <Reaction NADK at 0x1c4d6497310>,\n",
       " <Reaction NADPHQR4 at 0x1c4d649c370>,\n",
       " <Reaction NADS1 at 0x1c4d649c670>,\n",
       " <Reaction NADS2 at 0x1c4d649c730>,\n",
       " <Reaction NADTRHD at 0x1c4d649c7f0>,\n",
       " <Reaction NAMNPP at 0x1c4d649c8e0>,\n",
       " <Reaction NCTPPRT at 0x1c4d649ca60>,\n",
       " <Reaction NDPK1 at 0x1c4d649cb50>,\n",
       " <Reaction NDPK2 at 0x1c4d649cd00>,\n",
       " <Reaction NDPK3 at 0x1c4d649ceb0>,\n",
       " <Reaction NDPK4 at 0x1c4d649cc70>,\n",
       " <Reaction NDPK5 at 0x1c4d649ce80>,\n",
       " <Reaction NDPK6 at 0x1c4d649ce20>,\n",
       " <Reaction NDPK7 at 0x1c4d649cfd0>,\n",
       " <Reaction NDPK8 at 0x1c4d64ae370>,\n",
       " <Reaction NDPK9 at 0x1c4d64ae430>,\n",
       " <Reaction NMNAT at 0x1c4d64ae670>,\n",
       " <Reaction NMNDA at 0x1c4d64ae730>,\n",
       " <Reaction NMNHYD at 0x1c4d64ae820>,\n",
       " <Reaction NNAM at 0x1c4d64ae9a0>,\n",
       " <Reaction NNATr at 0x1c4d64aea60>,\n",
       " <Reaction NNDMBRT at 0x1c4d64aeb20>,\n",
       " <Reaction NNDPR at 0x1c4d64aebe0>,\n",
       " <Reaction NP1 at 0x1c4d64aef70>,\n",
       " <Reaction NPHS at 0x1c4d64aed60>,\n",
       " <Reaction NT5C at 0x1c4d64aebb0>,\n",
       " <Reaction NTD10e at 0x1c4d64aa4c0>,\n",
       " <Reaction NTD11e at 0x1c4d64aa580>,\n",
       " <Reaction NTD2e at 0x1c4d64aa7c0>,\n",
       " <Reaction NTP1 at 0x1c4d64aadc0>,\n",
       " <Reaction NTP10 at 0x1c4d64aae80>,\n",
       " <Reaction NTP3 at 0x1c4d64aaf40>,\n",
       " <Reaction NTP5 at 0x1c4d64aaf10>,\n",
       " <Reaction NTPP1 at 0x1c4d64aafd0>,\n",
       " <Reaction NTPP11 at 0x1c4d64aafa0>,\n",
       " <Reaction NTPP2 at 0x1c4d6673340>,\n",
       " <Reaction NTPP3 at 0x1c4d6673430>,\n",
       " <Reaction NTPP4 at 0x1c4d66735e0>,\n",
       " <Reaction NTPP5 at 0x1c4d6673760>,\n",
       " <Reaction NTPP6 at 0x1c4d6673820>,\n",
       " <Reaction NTPP7 at 0x1c4d66738e0>,\n",
       " <Reaction NTPP8 at 0x1c4d66739a0>,\n",
       " <Reaction NTPP9 at 0x1c4d6673a60>,\n",
       " <Reaction NTPTP1 at 0x1c4d6673b20>,\n",
       " <Reaction NTPTP2 at 0x1c4d6673be0>,\n",
       " <Reaction OAADC at 0x1c4d6673ee0>,\n",
       " <Reaction OCOAT1 at 0x1c4d6673ca0>,\n",
       " <Reaction OCT at 0x1c4d6673fa0>,\n",
       " <Reaction OCTSYN at 0x1c4d66767c0>,\n",
       " <Reaction OCTTT at 0x1c4d6676940>,\n",
       " <Reaction OGMEACPD at 0x1c4d6676a00>,\n",
       " <Reaction OGMEACPR at 0x1c4d6676ac0>,\n",
       " <Reaction OGMEACPS2 at 0x1c4d6676b80>,\n",
       " <Reaction OHCUS at 0x1c4d6676c10>,\n",
       " <Reaction OIVD1r at 0x1c4d6676f70>,\n",
       " <Reaction OIVD2 at 0x1c4d6676b50>,\n",
       " <Reaction OIVD3 at 0x1c4d6676df0>,\n",
       " <Reaction OMCDC at 0x1c4d6676a90>,\n",
       " <Reaction OMPDC at 0x1c4d667a850>,\n",
       " <Reaction OPMEACPD at 0x1c4d667a3a0>,\n",
       " <Reaction OPMEACPR at 0x1c4d667ca30>,\n",
       " <Reaction OPMEACPS at 0x1c4d667cbe0>,\n",
       " <Reaction ORNDC at 0x1c4d667cbb0>,\n",
       " <Reaction ORNTA at 0x1c4d667cd90>,\n",
       " <Reaction ORNTAC at 0x1c4d667cb50>,\n",
       " <Reaction ORPT at 0x1c4d667f580>,\n",
       " <Reaction OXBPTA at 0x1c4d667f730>,\n",
       " <Reaction OXOAEL at 0x1c4d667fa00>,\n",
       " <Reaction OXPTNDH at 0x1c4d667fac0>,\n",
       " <Reaction P5CD at 0x1c4d667fb50>,\n",
       " <Reaction P5CR at 0x1c4d667f700>,\n",
       " <Reaction PAAT at 0x1c4d667ffd0>,\n",
       " <Reaction PACCOAL at 0x1c4d66818e0>,\n",
       " <Reaction PACPTc at 0x1c4d66819a0>,\n",
       " <Reaction PANTS at 0x1c4d6681a60>,\n",
       " <Reaction PAPA120 at 0x1c4d6681ca0>,\n",
       " <Reaction PAPA140 at 0x1c4d6681d90>,\n",
       " <Reaction PAPA150 at 0x1c4d6681fd0>,\n",
       " <Reaction PAPA160 at 0x1c4d6681970>,\n",
       " <Reaction PAPA161 at 0x1c4d6681eb0>,\n",
       " <Reaction PAPAai150 at 0x1c4d6685370>,\n",
       " <Reaction PAPAai170 at 0x1c4d6685400>,\n",
       " <Reaction PAPAi140 at 0x1c4d6685490>,\n",
       " <Reaction PAPAi150 at 0x1c4d6685520>,\n",
       " <Reaction PAPAi160 at 0x1c4d66855b0>,\n",
       " <Reaction PAPAi170 at 0x1c4d6685640>,\n",
       " <Reaction PAPPT3 at 0x1c4d6685760>,\n",
       " <Reaction PAPSR at 0x1c4d66857f0>,\n",
       " <Reaction PAPSR3 at 0x1c4d6685880>,\n",
       " <Reaction PC at 0x1c4d6685940>,\n",
       " <Reaction PC11M at 0x1c4d6685a00>,\n",
       " <Reaction PC17M at 0x1c4d6685c40>,\n",
       " <Reaction PC20M at 0x1c4d6685dc0>,\n",
       " <Reaction PC3BS at 0x1c4d6685e80>,\n",
       " <Reaction PC6AR at 0x1c4d6685f40>,\n",
       " <Reaction PC6AS at 0x1c4d6685f10>,\n",
       " <Reaction PC6YM at 0x1c4d6685fa0>,\n",
       " <Reaction PC8XM at 0x1c4d6685fd0>,\n",
       " <Reaction PCADYOX at 0x1c4d6685e50>,\n",
       " <Reaction PCOATA at 0x1c4d66884c0>,\n",
       " <Reaction PCPSredO at 0x1c4d66885b0>,\n",
       " <Reaction PCPpdsredO at 0x1c4d6688760>,\n",
       " <Reaction PDE1 at 0x1c4d6688910>,\n",
       " <Reaction PDE4 at 0x1c4d6688c70>,\n",
       " <Reaction PDH at 0x1c4d6688df0>,\n",
       " <Reaction PDH3 at 0x1c4d6688eb0>,\n",
       " <Reaction PEAMNO at 0x1c4d6688dc0>,\n",
       " <Reaction PEPCK at 0x1c4d668cdf0>,\n",
       " <Reaction PFK at 0x1c4d668cdc0>,\n",
       " <Reaction PFK_3 at 0x1c4d668ca00>,\n",
       " <Reaction PGAMT at 0x1c4d668cbe0>,\n",
       " <Reaction PGCD at 0x1c4d668cf70>,\n",
       " <Reaction PGI at 0x1c4d668f700>,\n",
       " ...]"
      ]
     },
     "execution_count": 36,
     "metadata": {},
     "output_type": "execute_result"
    }
   ],
   "source": [
    "consistent_model = cobra.flux_analysis.fastcc(model)\n",
    "consistent_model.reactions"
   ]
  },
  {
   "cell_type": "code",
   "execution_count": 37,
   "metadata": {
    "colab": {
     "base_uri": "https://localhost:8080/"
    },
    "id": "TO5o_YWvs2Hz",
    "outputId": "26e603fb-1166-490c-fcc2-fe20d93dc114"
   },
   "outputs": [
    {
     "name": "stdout",
     "output_type": "stream",
     "text": [
      "From the 2599 reactions found in the model, 1598 reactions are consistent, and 1001 reactions are blocked.\n"
     ]
    }
   ],
   "source": [
    "print(\"From the\",len(model.reactions),\"reactions found in the model,\",len(consistent_model.reactions),\"reactions are consistent, and\",len(model.reactions)-len(consistent_model.reactions),\"reactions are blocked.\")"
   ]
  }
 ],
 "metadata": {
  "colab": {
   "provenance": []
  },
  "kernelspec": {
   "display_name": "Python 3 (ipykernel)",
   "language": "python",
   "name": "python3"
  },
  "language_info": {
   "codemirror_mode": {
    "name": "ipython",
    "version": 3
   },
   "file_extension": ".py",
   "mimetype": "text/x-python",
   "name": "python",
   "nbconvert_exporter": "python",
   "pygments_lexer": "ipython3",
   "version": "3.8.12"
  },
  "widgets": {
   "application/vnd.jupyter.widget-state+json": {
    "state": {},
    "version_major": 2,
    "version_minor": 0
   }
  }
 },
 "nbformat": 4,
 "nbformat_minor": 4
}
