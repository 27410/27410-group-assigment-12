{
 "cells": [
  {
   "cell_type": "markdown",
   "id": "e9ffb196-82d1-490e-9c61-822ac3ce594b",
   "metadata": {
    "tags": []
   },
   "source": [
    "# 04. Dynamic Flux Balance Analysis"
   ]
  },
  {
   "cell_type": "markdown",
   "id": "412ece70-1c2f-4d43-9376-f21cc01d6fe4",
   "metadata": {
    "tags": []
   },
   "source": [
    "The code below is adapted from the dynamic flux balance analysis page of the [copbrapy documentation website](https://cobrapy.readthedocs.io/en/latest/dfba.html) with glucose uptake data from the article: <br/>\n",
    "Van Wezel, G.P., Mahr, K., König, M., Traag, B.A., Pimentel-Schmitt, E.F., Willimek, A. and Titgemeyer, F. <br/> (2005), GlcP constitutes the major glucose uptake system of Streptomyces coelicolor A3(2).<br/> Molecular Microbiology, 55: 624-636. https://doi.org/10.1111/j.1365-2958.2004.04413.x"
   ]
  },
  {
   "cell_type": "code",
   "execution_count": 1,
   "id": "cf2e39bc-76aa-4831-8937-98b8d92df7bc",
   "metadata": {},
   "outputs": [],
   "source": [
    "#call load_model\n",
    "%run 00load_model.ipynb"
   ]
  },
  {
   "cell_type": "code",
   "execution_count": 6,
   "id": "81aa1d31-9d4d-42be-be3f-ff8f072d929f",
   "metadata": {},
   "outputs": [],
   "source": [
    "def add_dynamic_bounds(model, y):\n",
    "    \"\"\"Use external concentrations to bound the uptake flux of glucose.\"\"\"\n",
    "    biomass, glucose = y  # expand the boundary species\n",
    "    glucose_max_import = -1.32 * glucose / (0.137 + glucose) #Glucose uptake of S. coelicolor according to Van Wezel et al.\n",
    "    model.reactions.EX_glc__D_e.lower_bound = glucose_max_import\n",
    "\n",
    "\n",
    "def dynamic_system(t, y):\n",
    "    \"\"\"Calculate the time derivative of external species.\"\"\"\n",
    "\n",
    "    biomass, glucose = y  # expand the boundary species\n",
    "\n",
    "    # Calculate the specific exchanges fluxes at the given external concentrations.\n",
    "    with model:\n",
    "        add_dynamic_bounds(model, y)\n",
    "\n",
    "        cobra.util.add_lp_feasibility(model)\n",
    "        feasibility = cobra.util.fix_objective_as_constraint(model)\n",
    "        lex_constraints = cobra.util.add_lexicographic_constraints(model, ['BIOMASS_SCO_tRNA', 'EX_glc__D_e'], ['max','max'])\n",
    "\n",
    "    # Since the calculated fluxes are specific rates, we multiply them by the\n",
    "    # biomass concentration to get the bulk exchange rates.\n",
    "    fluxes = lex_constraints.values\n",
    "    fluxes *= biomass\n",
    "\n",
    "    return fluxes\n",
    "\n",
    "\n",
    "def infeasible_event(t, y):\n",
    "    \"\"\"\n",
    "    Determine solution feasibility.\n",
    "\n",
    "    Avoiding infeasible solutions is handled by solve_ivp's built-in event detection.\n",
    "    This function re-solves the LP to determine whether or not the solution is feasible\n",
    "    (and if not, how far it is from feasibility). When the sign of this function changes\n",
    "    from -epsilon to positive, we know the solution is no longer feasible.\n",
    "\n",
    "    \"\"\"\n",
    "\n",
    "    with model:\n",
    "\n",
    "        add_dynamic_bounds(model, y)\n",
    "\n",
    "        cobra.util.add_lp_feasibility(model)\n",
    "        feasibility = cobra.util.fix_objective_as_constraint(model)\n",
    "\n",
    "    return feasibility - infeasible_event.epsilon\n",
    "\n",
    "infeasible_event.epsilon = 1E-6\n",
    "infeasible_event.direction = 1\n",
    "infeasible_event.terminal = True"
   ]
  },
  {
   "cell_type": "code",
   "execution_count": 3,
   "id": "e01e97d2-181d-4f14-b3cf-f59243d3c61c",
   "metadata": {
    "tags": []
   },
   "outputs": [],
   "source": [
    "ts = np.linspace(0, 15, 20)  # Desired integration resolution and interval\n",
    "y0 = [0.1, 10]\n",
    "\n",
    "\n",
    "sol = solve_ivp(\n",
    "    fun=dynamic_system,\n",
    "    events=[infeasible_event],\n",
    "    t_span=(ts.min(), ts.max()),\n",
    "    y0=y0,\n",
    "    t_eval=ts,\n",
    "    rtol=1e-6,\n",
    "    atol=1e-8,\n",
    "    method='BDF'\n",
    "    )"
   ]
  },
  {
   "cell_type": "code",
   "execution_count": 4,
   "id": "cc5c4bf4-78c9-44b9-bf09-a82850467a7a",
   "metadata": {},
   "outputs": [
    {
     "data": {
      "text/plain": [
       "  message: 'The solver successfully reached the end of the integration interval.'\n",
       "     nfev: 69\n",
       "     njev: 1\n",
       "      nlu: 9\n",
       "      sol: None\n",
       "   status: 0\n",
       "  success: True\n",
       "        t: array([ 0.        ,  0.78947368,  1.57894737,  2.36842105,  3.15789474,\n",
       "        3.94736842,  4.73684211,  5.52631579,  6.31578947,  7.10526316,\n",
       "        7.89473684,  8.68421053,  9.47368421, 10.26315789, 11.05263158,\n",
       "       11.84210526, 12.63157895, 13.42105263, 14.21052632, 15.        ])\n",
       " t_events: [array([], dtype=float64)]\n",
       "        y: array([[ 0.1       ,  0.11054846,  0.12220745,  0.13509353,  0.14933519,\n",
       "         0.16507415,  0.18246671,  0.20168525,  0.22291963,  0.24637887,\n",
       "         0.27229306,  0.30091496,  0.33252189,  0.3674175 ,  0.40593328,\n",
       "         0.44842939,  0.49529558,  0.54694786,  0.60382292,  0.66636273],\n",
       "       [10.        ,  9.89187278,  9.77236076,  9.6402687 ,  9.49427877,\n",
       "         9.33293754,  9.1546418 ,  8.95762339,  8.73993429,  8.4994296 ,\n",
       "         8.233748  ,  7.94029433,  7.61622082,  7.25840773,  6.86344722,\n",
       "         6.42763353,  5.94695246,  5.41711079,  4.83358867,  4.1917859 ]])\n",
       " y_events: [array([], dtype=float64)]"
      ]
     },
     "execution_count": 4,
     "metadata": {},
     "output_type": "execute_result"
    }
   ],
   "source": [
    "sol"
   ]
  },
  {
   "cell_type": "code",
   "execution_count": 5,
   "id": "1501f2eb-7930-4790-8f7b-e05c00d4a214",
   "metadata": {},
   "outputs": [
    {
     "data": {
      "image/png": "[encoded data removed]",
      "text/plain": [
       "<Figure size 576x360 with 2 Axes>"
      ]
     },
     "metadata": {
      "needs_background": "light"
     },
     "output_type": "display_data"
    }
   ],
   "source": [
    "plt.figure(figsize=(8, 5))\n",
    "ax = plt.subplot(111)\n",
    "ax.plot(sol.t, sol.y.T[:, 1], color='g')\n",
    "ax2 = plt.twinx(ax)\n",
    "ax2.plot(sol.t, sol.y.T[:, 0], color='r')\n",
    "\n",
    "ax.set_xlabel('Time Steps')\n",
    "ax.set_ylabel('Glucose', color='g')\n",
    "ax.grid(False)\n",
    "ax2.set_ylabel('Biomass', color='r')\n",
    "ax2.grid(False)"
   ]
  }
 ],
 "metadata": {
  "kernelspec": {
   "display_name": "Python 3 (ipykernel)",
   "language": "python",
   "name": "python3"
  },
  "language_info": {
   "codemirror_mode": {
    "name": "ipython",
    "version": 3
   },
   "file_extension": ".py",
   "mimetype": "text/x-python",
   "name": "python",
   "nbconvert_exporter": "python",
   "pygments_lexer": "ipython3",
   "version": "3.8.12"
  },
  "widgets": {
   "application/vnd.jupyter.widget-state+json": {
    "state": {},
    "version_major": 2,
    "version_minor": 0
   }
  }
 },
 "nbformat": 4,
 "nbformat_minor": 5
}
