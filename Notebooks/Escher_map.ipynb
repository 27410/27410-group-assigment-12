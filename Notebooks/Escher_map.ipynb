{
 "cells": [
  {
   "cell_type": "markdown",
   "id": "2e749c9b-d4d8-43de-874d-94505748eee7",
   "metadata": {},
   "source": [
    "# Escher map"
   ]
  },
  {
   "cell_type": "code",
   "execution_count": 1,
   "id": "30d55632",
   "metadata": {},
   "outputs": [],
   "source": [
    "import escher\n",
    "from escher import Builder\n",
    "import cobra\n",
    "from time import sleep"
   ]
  },
  {
   "cell_type": "code",
   "execution_count": 2,
   "id": "40c206c1",
   "metadata": {},
   "outputs": [],
   "source": [
    "escher.rc['never_ask_before_quit'] = True"
   ]
  },
  {
   "cell_type": "code",
   "execution_count": 9,
   "id": "0afc8160",
   "metadata": {},
   "outputs": [],
   "source": [
    "builder = Builder(\n",
    "    model_json = \"../Models/model_map.json\"\n",
    ")\n"
   ]
  },
  {
   "cell_type": "code",
   "execution_count": 10,
   "id": "b6dcd5c5",
   "metadata": {},
   "outputs": [
    {
     "data": {
      "application/vnd.jupyter.widget-view+json": {
       "model_id": "9da4754a33284aa6bbfb84955e8ad724",
       "version_major": 2,
       "version_minor": 0
      },
      "text/plain": [
       "Builder(never_ask_before_quit=True)"
      ]
     },
     "metadata": {},
     "output_type": "display_data"
    }
   ],
   "source": [
    "builder"
   ]
  },
  {
   "cell_type": "code",
   "execution_count": null,
   "id": "a3bf84e6",
   "metadata": {},
   "outputs": [],
   "source": []
  }
 ],
 "metadata": {
  "kernelspec": {
   "display_name": "Python 3 (ipykernel)",
   "language": "python",
   "name": "python3"
  },
  "language_info": {
   "codemirror_mode": {
    "name": "ipython",
    "version": 3
   },
   "file_extension": ".py",
   "mimetype": "text/x-python",
   "name": "python",
   "nbconvert_exporter": "python",
   "pygments_lexer": "ipython3",
   "version": "3.8.12"
  },
  "widgets": {
   "application/vnd.jupyter.widget-state+json": {
    "state": {},
    "version_major": 2,
    "version_minor": 0
   }
  }
 },
 "nbformat": 4,
 "nbformat_minor": 5
}
