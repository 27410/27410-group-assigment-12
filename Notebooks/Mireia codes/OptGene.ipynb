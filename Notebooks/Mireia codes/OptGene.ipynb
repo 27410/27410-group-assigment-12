{
 "cells": [
  {
   "cell_type": "markdown",
   "id": "658c984e-98f9-451e-a09b-05fdf0a585b0",
   "metadata": {},
   "source": [
    "# OptGene"
   ]
  },
  {
   "cell_type": "code",
   "execution_count": 2,
   "id": "59ea238a-3754-4513-a767-2dfb2354e266",
   "metadata": {
    "collapsed": true,
    "jupyter": {
     "outputs_hidden": true
    },
    "tags": []
   },
   "outputs": [
    {
     "name": "stdout",
     "output_type": "stream",
     "text": [
      "Collecting cameo\n",
      "  Using cached cameo-0.13.6-py2.py3-none-any.whl (13.9 MB)\n",
      "Requirement already satisfied: IProgress>=0.4 in c:\\users\\mirei\\anaconda3\\lib\\site-packages (from cameo) (0.4)\n",
      "Requirement already satisfied: optlang>=1.4.2 in c:\\users\\mirei\\anaconda3\\lib\\site-packages (from cameo) (1.6.0)\n",
      "Requirement already satisfied: numexpr>=2.4 in c:\\users\\mirei\\anaconda3\\lib\\site-packages (from cameo) (2.8.3)\n",
      "Requirement already satisfied: ordered-set>=1.2 in c:\\users\\mirei\\anaconda3\\lib\\site-packages (from cameo) (4.1.0)\n",
      "Requirement already satisfied: cobra>=0.11.1 in c:\\users\\mirei\\anaconda3\\lib\\site-packages (from cameo) (0.23.0)\n",
      "Requirement already satisfied: future>=0.15.2 in c:\\users\\mirei\\anaconda3\\lib\\site-packages (from cameo) (0.18.2)\n",
      "Requirement already satisfied: lazy-object-proxy>=1.2.0 in c:\\users\\mirei\\anaconda3\\lib\\site-packages (from cameo) (1.6.0)\n",
      "Requirement already satisfied: numpy>=1.9.1 in c:\\users\\mirei\\anaconda3\\lib\\site-packages (from cameo) (1.23.4)\n",
      "Requirement already satisfied: palettable>=2.1.1 in c:\\users\\mirei\\anaconda3\\lib\\site-packages (from cameo) (3.3.0)\n",
      "Requirement already satisfied: escher>=1.1.2 in c:\\users\\mirei\\anaconda3\\lib\\site-packages (from cameo) (1.7.3)\n",
      "Requirement already satisfied: inspyred>=1.0 in c:\\users\\mirei\\anaconda3\\lib\\site-packages (from cameo) (1.0.1)\n",
      "Requirement already satisfied: click>=6.7 in c:\\users\\mirei\\anaconda3\\lib\\site-packages (from cameo) (8.0.4)\n",
      "Requirement already satisfied: networkx>=2.4 in c:\\users\\mirei\\anaconda3\\lib\\site-packages (from cameo) (2.8.4)\n",
      "Requirement already satisfied: pandas>=1.1.3 in c:\\users\\mirei\\anaconda3\\lib\\site-packages (from cameo) (1.4.4)\n",
      "Requirement already satisfied: requests>=2.10.0 in c:\\users\\mirei\\anaconda3\\lib\\site-packages (from cameo) (2.28.1)\n",
      "Requirement already satisfied: openpyxl>=2.4.5 in c:\\users\\mirei\\anaconda3\\lib\\site-packages (from cameo) (3.0.10)\n",
      "Requirement already satisfied: gnomic==1.0.1 in c:\\users\\mirei\\anaconda3\\lib\\site-packages (from cameo) (1.0.1)\n",
      "Requirement already satisfied: blessings>=1.5.1 in c:\\users\\mirei\\anaconda3\\lib\\site-packages (from cameo) (1.7)\n",
      "Requirement already satisfied: scipy>=0.14.0 in c:\\users\\mirei\\anaconda3\\lib\\site-packages (from cameo) (1.9.1)\n",
      "Requirement already satisfied: grako==3.18.1 in c:\\users\\mirei\\anaconda3\\lib\\site-packages (from gnomic==1.0.1->cameo) (3.18.1)\n",
      "Requirement already satisfied: six>=1.8.0 in c:\\users\\mirei\\anaconda3\\lib\\site-packages (from gnomic==1.0.1->cameo) (1.16.0)\n",
      "Requirement already satisfied: colorama in c:\\users\\mirei\\anaconda3\\lib\\site-packages (from click>=6.7->cameo) (0.4.5)\n",
      "Requirement already satisfied: python-libsbml==5.19.2 in c:\\users\\mirei\\anaconda3\\lib\\site-packages (from cobra>=0.11.1->cameo) (5.19.2)\n",
      "Requirement already satisfied: depinfo~=1.7 in c:\\users\\mirei\\anaconda3\\lib\\site-packages (from cobra>=0.11.1->cameo) (1.7.0)\n",
      "Requirement already satisfied: httpx~=0.14 in c:\\users\\mirei\\anaconda3\\lib\\site-packages (from cobra>=0.11.1->cameo) (0.23.0)\n",
      "Requirement already satisfied: ruamel.yaml~=0.16 in c:\\users\\mirei\\anaconda3\\lib\\site-packages (from cobra>=0.11.1->cameo) (0.17.21)\n",
      "Requirement already satisfied: pydantic~=1.6 in c:\\users\\mirei\\anaconda3\\lib\\site-packages (from cobra>=0.11.1->cameo) (1.10.2)\n",
      "Requirement already satisfied: importlib-resources in c:\\users\\mirei\\anaconda3\\lib\\site-packages (from cobra>=0.11.1->cameo) (5.10.0)\n",
      "Requirement already satisfied: swiglpk in c:\\users\\mirei\\anaconda3\\lib\\site-packages (from cobra>=0.11.1->cameo) (5.0.8)\n",
      "Requirement already satisfied: diskcache~=5.0 in c:\\users\\mirei\\anaconda3\\lib\\site-packages (from cobra>=0.11.1->cameo) (5.4.0)\n",
      "Requirement already satisfied: appdirs~=1.4 in c:\\users\\mirei\\anaconda3\\lib\\site-packages (from cobra>=0.11.1->cameo) (1.4.4)\n",
      "Requirement already satisfied: rich>=8.0 in c:\\users\\mirei\\anaconda3\\lib\\site-packages (from cobra>=0.11.1->cameo) (12.6.0)\n",
      "Requirement already satisfied: Jinja2<3,>=2.7.3 in c:\\users\\mirei\\anaconda3\\lib\\site-packages (from escher>=1.1.2->cameo) (2.11.3)\n",
      "Requirement already satisfied: pytest<5,>=4.0.1 in c:\\users\\mirei\\anaconda3\\lib\\site-packages (from escher>=1.1.2->cameo) (4.6.11)\n",
      "Requirement already satisfied: jsonschema<4,>=3.0.1 in c:\\users\\mirei\\anaconda3\\lib\\site-packages (from escher>=1.1.2->cameo) (3.2.0)\n",
      "Requirement already satisfied: ipywidgets<8,>=7.4.0 in c:\\users\\mirei\\anaconda3\\lib\\site-packages (from escher>=1.1.2->cameo) (7.7.2)\n",
      "Requirement already satisfied: packaging in c:\\users\\mirei\\anaconda3\\lib\\site-packages (from numexpr>=2.4->cameo) (21.3)\n",
      "Requirement already satisfied: et_xmlfile in c:\\users\\mirei\\anaconda3\\lib\\site-packages (from openpyxl>=2.4.5->cameo) (1.1.0)\n",
      "Requirement already satisfied: sympy>=1.0 in c:\\users\\mirei\\anaconda3\\lib\\site-packages (from optlang>=1.4.2->cameo) (1.10.1)\n",
      "Requirement already satisfied: pytz>=2020.1 in c:\\users\\mirei\\anaconda3\\lib\\site-packages (from pandas>=1.1.3->cameo) (2022.1)\n",
      "Requirement already satisfied: python-dateutil>=2.8.1 in c:\\users\\mirei\\anaconda3\\lib\\site-packages (from pandas>=1.1.3->cameo) (2.8.2)\n",
      "Requirement already satisfied: idna<4,>=2.5 in c:\\users\\mirei\\anaconda3\\lib\\site-packages (from requests>=2.10.0->cameo) (3.4)\n",
      "Requirement already satisfied: urllib3<1.27,>=1.21.1 in c:\\users\\mirei\\anaconda3\\lib\\site-packages (from requests>=2.10.0->cameo) (1.26.12)\n",
      "Requirement already satisfied: charset-normalizer<3,>=2 in c:\\users\\mirei\\anaconda3\\lib\\site-packages (from requests>=2.10.0->cameo) (2.0.4)\n",
      "Requirement already satisfied: certifi>=2017.4.17 in c:\\users\\mirei\\anaconda3\\lib\\site-packages (from requests>=2.10.0->cameo) (2022.9.24)\n",
      "Requirement already satisfied: sniffio in c:\\users\\mirei\\anaconda3\\lib\\site-packages (from httpx~=0.14->cobra>=0.11.1->cameo) (1.2.0)\n",
      "Requirement already satisfied: rfc3986[idna2008]<2,>=1.3 in c:\\users\\mirei\\anaconda3\\lib\\site-packages (from httpx~=0.14->cobra>=0.11.1->cameo) (1.5.0)\n",
      "Requirement already satisfied: httpcore<0.16.0,>=0.15.0 in c:\\users\\mirei\\anaconda3\\lib\\site-packages (from httpx~=0.14->cobra>=0.11.1->cameo) (0.15.0)\n",
      "Requirement already satisfied: ipykernel>=4.5.1 in c:\\users\\mirei\\anaconda3\\lib\\site-packages (from ipywidgets<8,>=7.4.0->escher>=1.1.2->cameo) (6.15.2)\n",
      "Requirement already satisfied: ipython-genutils~=0.2.0 in c:\\users\\mirei\\anaconda3\\lib\\site-packages (from ipywidgets<8,>=7.4.0->escher>=1.1.2->cameo) (0.2.0)\n",
      "Requirement already satisfied: widgetsnbextension~=3.6.0 in c:\\users\\mirei\\anaconda3\\lib\\site-packages (from ipywidgets<8,>=7.4.0->escher>=1.1.2->cameo) (3.6.1)\n",
      "Requirement already satisfied: ipython>=4.0.0 in c:\\users\\mirei\\anaconda3\\lib\\site-packages (from ipywidgets<8,>=7.4.0->escher>=1.1.2->cameo) (7.31.1)\n",
      "Requirement already satisfied: jupyterlab-widgets<3,>=1.0.0 in c:\\users\\mirei\\anaconda3\\lib\\site-packages (from ipywidgets<8,>=7.4.0->escher>=1.1.2->cameo) (1.1.1)\n",
      "Requirement already satisfied: traitlets>=4.3.1 in c:\\users\\mirei\\anaconda3\\lib\\site-packages (from ipywidgets<8,>=7.4.0->escher>=1.1.2->cameo) (5.1.1)\n",
      "Requirement already satisfied: MarkupSafe>=0.23 in c:\\users\\mirei\\anaconda3\\lib\\site-packages (from Jinja2<3,>=2.7.3->escher>=1.1.2->cameo) (2.0.1)\n",
      "Requirement already satisfied: pyrsistent>=0.14.0 in c:\\users\\mirei\\anaconda3\\lib\\site-packages (from jsonschema<4,>=3.0.1->escher>=1.1.2->cameo) (0.18.0)\n",
      "Requirement already satisfied: setuptools in c:\\users\\mirei\\anaconda3\\lib\\site-packages (from jsonschema<4,>=3.0.1->escher>=1.1.2->cameo) (65.5.0)\n",
      "Requirement already satisfied: attrs>=17.4.0 in c:\\users\\mirei\\anaconda3\\lib\\site-packages (from jsonschema<4,>=3.0.1->escher>=1.1.2->cameo) (22.1.0)\n",
      "Requirement already satisfied: typing-extensions>=4.1.0 in c:\\users\\mirei\\anaconda3\\lib\\site-packages (from pydantic~=1.6->cobra>=0.11.1->cameo) (4.3.0)\n",
      "Requirement already satisfied: more-itertools>=4.0.0 in c:\\users\\mirei\\anaconda3\\lib\\site-packages (from pytest<5,>=4.0.1->escher>=1.1.2->cameo) (9.0.0)\n",
      "Requirement already satisfied: wcwidth in c:\\users\\mirei\\anaconda3\\lib\\site-packages (from pytest<5,>=4.0.1->escher>=1.1.2->cameo) (0.2.5)\n",
      "Requirement already satisfied: pluggy<1.0,>=0.12 in c:\\users\\mirei\\anaconda3\\lib\\site-packages (from pytest<5,>=4.0.1->escher>=1.1.2->cameo) (0.13.1)\n",
      "Requirement already satisfied: atomicwrites>=1.0 in c:\\users\\mirei\\anaconda3\\lib\\site-packages (from pytest<5,>=4.0.1->escher>=1.1.2->cameo) (1.4.0)\n",
      "Requirement already satisfied: py>=1.5.0 in c:\\users\\mirei\\anaconda3\\lib\\site-packages (from pytest<5,>=4.0.1->escher>=1.1.2->cameo) (1.11.0)\n",
      "Requirement already satisfied: pygments<3.0.0,>=2.6.0 in c:\\users\\mirei\\anaconda3\\lib\\site-packages (from rich>=8.0->cobra>=0.11.1->cameo) (2.11.2)\n",
      "Requirement already satisfied: commonmark<0.10.0,>=0.9.0 in c:\\users\\mirei\\anaconda3\\lib\\site-packages (from rich>=8.0->cobra>=0.11.1->cameo) (0.9.1)\n",
      "Requirement already satisfied: ruamel.yaml.clib>=0.2.6 in c:\\users\\mirei\\anaconda3\\lib\\site-packages (from ruamel.yaml~=0.16->cobra>=0.11.1->cameo) (0.2.7)\n",
      "Requirement already satisfied: mpmath>=0.19 in c:\\users\\mirei\\anaconda3\\lib\\site-packages (from sympy>=1.0->optlang>=1.4.2->cameo) (1.2.1)\n",
      "Requirement already satisfied: zipp>=3.1.0 in c:\\users\\mirei\\anaconda3\\lib\\site-packages (from importlib-resources->cobra>=0.11.1->cameo) (3.8.0)\n",
      "Requirement already satisfied: pyparsing!=3.0.5,>=2.0.2 in c:\\users\\mirei\\anaconda3\\lib\\site-packages (from packaging->numexpr>=2.4->cameo) (3.0.9)\n",
      "Requirement already satisfied: anyio==3.* in c:\\users\\mirei\\anaconda3\\lib\\site-packages (from httpcore<0.16.0,>=0.15.0->httpx~=0.14->cobra>=0.11.1->cameo) (3.5.0)\n",
      "Requirement already satisfied: h11<0.13,>=0.11 in c:\\users\\mirei\\anaconda3\\lib\\site-packages (from httpcore<0.16.0,>=0.15.0->httpx~=0.14->cobra>=0.11.1->cameo) (0.12.0)\n",
      "Requirement already satisfied: debugpy>=1.0 in c:\\users\\mirei\\anaconda3\\lib\\site-packages (from ipykernel>=4.5.1->ipywidgets<8,>=7.4.0->escher>=1.1.2->cameo) (1.5.1)\n",
      "Requirement already satisfied: nest-asyncio in c:\\users\\mirei\\anaconda3\\lib\\site-packages (from ipykernel>=4.5.1->ipywidgets<8,>=7.4.0->escher>=1.1.2->cameo) (1.5.5)\n",
      "Requirement already satisfied: tornado>=6.1 in c:\\users\\mirei\\anaconda3\\lib\\site-packages (from ipykernel>=4.5.1->ipywidgets<8,>=7.4.0->escher>=1.1.2->cameo) (6.2)\n",
      "Requirement already satisfied: jupyter-client>=6.1.12 in c:\\users\\mirei\\anaconda3\\lib\\site-packages (from ipykernel>=4.5.1->ipywidgets<8,>=7.4.0->escher>=1.1.2->cameo) (7.4.7)\n",
      "Requirement already satisfied: pyzmq>=17 in c:\\users\\mirei\\anaconda3\\lib\\site-packages (from ipykernel>=4.5.1->ipywidgets<8,>=7.4.0->escher>=1.1.2->cameo) (23.2.0)\n",
      "Requirement already satisfied: matplotlib-inline>=0.1 in c:\\users\\mirei\\anaconda3\\lib\\site-packages (from ipykernel>=4.5.1->ipywidgets<8,>=7.4.0->escher>=1.1.2->cameo) (0.1.6)\n",
      "Requirement already satisfied: psutil in c:\\users\\mirei\\anaconda3\\lib\\site-packages (from ipykernel>=4.5.1->ipywidgets<8,>=7.4.0->escher>=1.1.2->cameo) (5.9.0)\n",
      "Requirement already satisfied: pickleshare in c:\\users\\mirei\\anaconda3\\lib\\site-packages (from ipython>=4.0.0->ipywidgets<8,>=7.4.0->escher>=1.1.2->cameo) (0.7.5)\n",
      "Requirement already satisfied: backcall in c:\\users\\mirei\\anaconda3\\lib\\site-packages (from ipython>=4.0.0->ipywidgets<8,>=7.4.0->escher>=1.1.2->cameo) (0.2.0)\n",
      "Requirement already satisfied: prompt-toolkit!=3.0.0,!=3.0.1,<3.1.0,>=2.0.0 in c:\\users\\mirei\\anaconda3\\lib\\site-packages (from ipython>=4.0.0->ipywidgets<8,>=7.4.0->escher>=1.1.2->cameo) (3.0.20)\n",
      "Requirement already satisfied: jedi>=0.16 in c:\\users\\mirei\\anaconda3\\lib\\site-packages (from ipython>=4.0.0->ipywidgets<8,>=7.4.0->escher>=1.1.2->cameo) (0.18.1)\n",
      "Requirement already satisfied: decorator in c:\\users\\mirei\\anaconda3\\lib\\site-packages (from ipython>=4.0.0->ipywidgets<8,>=7.4.0->escher>=1.1.2->cameo) (5.1.1)\n",
      "Requirement already satisfied: notebook>=4.4.1 in c:\\users\\mirei\\anaconda3\\lib\\site-packages (from widgetsnbextension~=3.6.0->ipywidgets<8,>=7.4.0->escher>=1.1.2->cameo) (6.4.12)\n",
      "Requirement already satisfied: parso<0.9.0,>=0.8.0 in c:\\users\\mirei\\anaconda3\\lib\\site-packages (from jedi>=0.16->ipython>=4.0.0->ipywidgets<8,>=7.4.0->escher>=1.1.2->cameo) (0.8.3)\n",
      "Requirement already satisfied: jupyter-core>=4.9.2 in c:\\users\\mirei\\anaconda3\\lib\\site-packages (from jupyter-client>=6.1.12->ipykernel>=4.5.1->ipywidgets<8,>=7.4.0->escher>=1.1.2->cameo) (4.11.2)\n",
      "Requirement already satisfied: entrypoints in c:\\users\\mirei\\anaconda3\\lib\\site-packages (from jupyter-client>=6.1.12->ipykernel>=4.5.1->ipywidgets<8,>=7.4.0->escher>=1.1.2->cameo) (0.4)\n",
      "Requirement already satisfied: terminado>=0.8.3 in c:\\users\\mirei\\anaconda3\\lib\\site-packages (from notebook>=4.4.1->widgetsnbextension~=3.6.0->ipywidgets<8,>=7.4.0->escher>=1.1.2->cameo) (0.13.1)\n",
      "Requirement already satisfied: prometheus-client in c:\\users\\mirei\\anaconda3\\lib\\site-packages (from notebook>=4.4.1->widgetsnbextension~=3.6.0->ipywidgets<8,>=7.4.0->escher>=1.1.2->cameo) (0.14.1)\n",
      "Requirement already satisfied: nbconvert>=5 in c:\\users\\mirei\\anaconda3\\lib\\site-packages (from notebook>=4.4.1->widgetsnbextension~=3.6.0->ipywidgets<8,>=7.4.0->escher>=1.1.2->cameo) (6.4.4)\n",
      "Requirement already satisfied: Send2Trash>=1.8.0 in c:\\users\\mirei\\anaconda3\\lib\\site-packages (from notebook>=4.4.1->widgetsnbextension~=3.6.0->ipywidgets<8,>=7.4.0->escher>=1.1.2->cameo) (1.8.0)\n",
      "Requirement already satisfied: argon2-cffi in c:\\users\\mirei\\anaconda3\\lib\\site-packages (from notebook>=4.4.1->widgetsnbextension~=3.6.0->ipywidgets<8,>=7.4.0->escher>=1.1.2->cameo) (21.3.0)\n",
      "Requirement already satisfied: nbformat in c:\\users\\mirei\\anaconda3\\lib\\site-packages (from notebook>=4.4.1->widgetsnbextension~=3.6.0->ipywidgets<8,>=7.4.0->escher>=1.1.2->cameo) (5.5.0)\n",
      "Requirement already satisfied: pywin32>=1.0 in c:\\users\\mirei\\anaconda3\\lib\\site-packages (from jupyter-core>=4.9.2->jupyter-client>=6.1.12->ipykernel>=4.5.1->ipywidgets<8,>=7.4.0->escher>=1.1.2->cameo) (302)\n",
      "Requirement already satisfied: testpath in c:\\users\\mirei\\anaconda3\\lib\\site-packages (from nbconvert>=5->notebook>=4.4.1->widgetsnbextension~=3.6.0->ipywidgets<8,>=7.4.0->escher>=1.1.2->cameo) (0.6.0)\n",
      "Requirement already satisfied: pandocfilters>=1.4.1 in c:\\users\\mirei\\anaconda3\\lib\\site-packages (from nbconvert>=5->notebook>=4.4.1->widgetsnbextension~=3.6.0->ipywidgets<8,>=7.4.0->escher>=1.1.2->cameo) (1.5.0)\n",
      "Requirement already satisfied: mistune<2,>=0.8.1 in c:\\users\\mirei\\anaconda3\\lib\\site-packages (from nbconvert>=5->notebook>=4.4.1->widgetsnbextension~=3.6.0->ipywidgets<8,>=7.4.0->escher>=1.1.2->cameo) (0.8.4)\n",
      "Requirement already satisfied: nbclient<0.6.0,>=0.5.0 in c:\\users\\mirei\\anaconda3\\lib\\site-packages (from nbconvert>=5->notebook>=4.4.1->widgetsnbextension~=3.6.0->ipywidgets<8,>=7.4.0->escher>=1.1.2->cameo) (0.5.13)\n",
      "Requirement already satisfied: bleach in c:\\users\\mirei\\anaconda3\\lib\\site-packages (from nbconvert>=5->notebook>=4.4.1->widgetsnbextension~=3.6.0->ipywidgets<8,>=7.4.0->escher>=1.1.2->cameo) (4.1.0)\n",
      "Requirement already satisfied: beautifulsoup4 in c:\\users\\mirei\\anaconda3\\lib\\site-packages (from nbconvert>=5->notebook>=4.4.1->widgetsnbextension~=3.6.0->ipywidgets<8,>=7.4.0->escher>=1.1.2->cameo) (4.11.1)\n",
      "Requirement already satisfied: jupyterlab-pygments in c:\\users\\mirei\\anaconda3\\lib\\site-packages (from nbconvert>=5->notebook>=4.4.1->widgetsnbextension~=3.6.0->ipywidgets<8,>=7.4.0->escher>=1.1.2->cameo) (0.1.2)\n",
      "Requirement already satisfied: defusedxml in c:\\users\\mirei\\anaconda3\\lib\\site-packages (from nbconvert>=5->notebook>=4.4.1->widgetsnbextension~=3.6.0->ipywidgets<8,>=7.4.0->escher>=1.1.2->cameo) (0.7.1)\n",
      "Requirement already satisfied: fastjsonschema in c:\\users\\mirei\\anaconda3\\lib\\site-packages (from nbformat->notebook>=4.4.1->widgetsnbextension~=3.6.0->ipywidgets<8,>=7.4.0->escher>=1.1.2->cameo) (2.16.2)\n",
      "Requirement already satisfied: pywinpty>=1.1.0 in c:\\users\\mirei\\anaconda3\\lib\\site-packages (from terminado>=0.8.3->notebook>=4.4.1->widgetsnbextension~=3.6.0->ipywidgets<8,>=7.4.0->escher>=1.1.2->cameo) (2.0.2)\n",
      "Requirement already satisfied: argon2-cffi-bindings in c:\\users\\mirei\\anaconda3\\lib\\site-packages (from argon2-cffi->notebook>=4.4.1->widgetsnbextension~=3.6.0->ipywidgets<8,>=7.4.0->escher>=1.1.2->cameo) (21.2.0)\n",
      "Requirement already satisfied: cffi>=1.0.1 in c:\\users\\mirei\\anaconda3\\lib\\site-packages (from argon2-cffi-bindings->argon2-cffi->notebook>=4.4.1->widgetsnbextension~=3.6.0->ipywidgets<8,>=7.4.0->escher>=1.1.2->cameo) (1.15.1)\n",
      "Requirement already satisfied: soupsieve>1.2 in c:\\users\\mirei\\anaconda3\\lib\\site-packages (from beautifulsoup4->nbconvert>=5->notebook>=4.4.1->widgetsnbextension~=3.6.0->ipywidgets<8,>=7.4.0->escher>=1.1.2->cameo) (2.3.2.post1)\n",
      "Requirement already satisfied: webencodings in c:\\users\\mirei\\anaconda3\\lib\\site-packages (from bleach->nbconvert>=5->notebook>=4.4.1->widgetsnbextension~=3.6.0->ipywidgets<8,>=7.4.0->escher>=1.1.2->cameo) (0.5.1)\n",
      "Requirement already satisfied: pycparser in c:\\users\\mirei\\anaconda3\\lib\\site-packages (from cffi>=1.0.1->argon2-cffi-bindings->argon2-cffi->notebook>=4.4.1->widgetsnbextension~=3.6.0->ipywidgets<8,>=7.4.0->escher>=1.1.2->cameo) (2.21)\n",
      "Installing collected packages: cameo\n",
      "Successfully installed cameo-0.13.6\n"
     ]
    }
   ],
   "source": [
    "!pip install cameo"
   ]
  },
  {
   "cell_type": "code",
   "execution_count": 4,
   "id": "7dc81065-2478-4d3e-acfd-71608ef39719",
   "metadata": {},
   "outputs": [],
   "source": [
    "from cameo.strain_design import OptGene"
   ]
  },
  {
   "cell_type": "code",
   "execution_count": 5,
   "id": "e1d18820-4430-4731-a8d5-42c30928f663",
   "metadata": {},
   "outputs": [],
   "source": [
    "from cobra.io import read_sbml_model\n",
    "model = read_sbml_model('Sco-GEM.xml')"
   ]
  },
  {
   "cell_type": "code",
   "execution_count": 7,
   "id": "4bb01a59-bfb1-4f60-aa60-7adc2ddbb344",
   "metadata": {},
   "outputs": [],
   "source": [
    "optgene = OptGene(model)"
   ]
  },
  {
   "cell_type": "code",
   "execution_count": 15,
   "id": "a2b97323-46df-4d15-a57f-8f920644d5f3",
   "metadata": {
    "collapsed": true,
    "jupyter": {
     "outputs_hidden": true
    },
    "tags": []
   },
   "outputs": [
    {
     "data": {
      "text/plain": [
       "{'GUROBI': False,\n",
       " 'GLPK': True,\n",
       " 'MOSEK': False,\n",
       " 'CPLEX': True,\n",
       " 'COINOR_CBC': False,\n",
       " 'SCIPY': True,\n",
       " 'OSQP': False}"
      ]
     },
     "execution_count": 15,
     "metadata": {},
     "output_type": "execute_result"
    }
   ],
   "source": [
    "import optlang\n",
    "optlang.available_solvers"
   ]
  },
  {
   "cell_type": "code",
   "execution_count": 16,
   "id": "9e6fa719-d9fc-4bbb-aecd-e89aae479375",
   "metadata": {},
   "outputs": [],
   "source": [
    "model.solver = 'glpk'"
   ]
  },
  {
   "cell_type": "code",
   "execution_count": 17,
   "id": "540687d7-1761-434f-b4ad-a098259e4042",
   "metadata": {},
   "outputs": [
    {
     "name": "stdout",
     "output_type": "stream",
     "text": [
      "Starting optimization at Thu, 24 Nov 2022 16:33:28\n"
     ]
    },
    {
     "data": {
      "application/vnd.jupyter.widget-view+json": {
       "model_id": "a65752846a34481eae36bcdd2a7bd33e",
       "version_major": 2,
       "version_minor": 0
      },
      "text/plain": [
       "HBox()"
      ]
     },
     "metadata": {},
     "output_type": "display_data"
    },
    {
     "name": "stdout",
     "output_type": "stream",
     "text": [
      "Finished after 00:08:24\n"
     ]
    }
   ],
   "source": [
    "result = optgene.run(target=model.reactions.DM_RED_c, \n",
    "                     biomass=model.reactions.BIOMASS_SCO_tRNA,\n",
    "                     substrate=model.metabolites.glc__D_e,\n",
    "                     max_evaluations=5000,\n",
    "                     plot=False)"
   ]
  },
  {
   "cell_type": "code",
   "execution_count": 18,
   "id": "d476e389-6ddd-42df-b54d-d3ab86154b18",
   "metadata": {},
   "outputs": [
    {
     "name": "stderr",
     "output_type": "stream",
     "text": [
      "No solutions found\n"
     ]
    },
    {
     "ename": "IndexError",
     "evalue": "index 0 is out of bounds for axis 0 with size 0",
     "output_type": "error",
     "traceback": [
      "\u001b[1;31m---------------------------------------------------------------------------\u001b[0m",
      "\u001b[1;31mIndexError\u001b[0m                                Traceback (most recent call last)",
      "\u001b[1;32m~\\anaconda3\\lib\\site-packages\\IPython\\core\\formatters.py\u001b[0m in \u001b[0;36m__call__\u001b[1;34m(self, obj)\u001b[0m\n\u001b[0;32m    343\u001b[0m             \u001b[0mmethod\u001b[0m \u001b[1;33m=\u001b[0m \u001b[0mget_real_method\u001b[0m\u001b[1;33m(\u001b[0m\u001b[0mobj\u001b[0m\u001b[1;33m,\u001b[0m \u001b[0mself\u001b[0m\u001b[1;33m.\u001b[0m\u001b[0mprint_method\u001b[0m\u001b[1;33m)\u001b[0m\u001b[1;33m\u001b[0m\u001b[1;33m\u001b[0m\u001b[0m\n\u001b[0;32m    344\u001b[0m             \u001b[1;32mif\u001b[0m \u001b[0mmethod\u001b[0m \u001b[1;32mis\u001b[0m \u001b[1;32mnot\u001b[0m \u001b[1;32mNone\u001b[0m\u001b[1;33m:\u001b[0m\u001b[1;33m\u001b[0m\u001b[1;33m\u001b[0m\u001b[0m\n\u001b[1;32m--> 345\u001b[1;33m                 \u001b[1;32mreturn\u001b[0m \u001b[0mmethod\u001b[0m\u001b[1;33m(\u001b[0m\u001b[1;33m)\u001b[0m\u001b[1;33m\u001b[0m\u001b[1;33m\u001b[0m\u001b[0m\n\u001b[0m\u001b[0;32m    346\u001b[0m             \u001b[1;32mreturn\u001b[0m \u001b[1;32mNone\u001b[0m\u001b[1;33m\u001b[0m\u001b[1;33m\u001b[0m\u001b[0m\n\u001b[0;32m    347\u001b[0m         \u001b[1;32melse\u001b[0m\u001b[1;33m:\u001b[0m\u001b[1;33m\u001b[0m\u001b[1;33m\u001b[0m\u001b[0m\n",
      "\u001b[1;32m~\\anaconda3\\lib\\site-packages\\cameo\\strain_design\\heuristic\\evolutionary_based.py\u001b[0m in \u001b[0;36m_repr_html_\u001b[1;34m(self)\u001b[0m\n\u001b[0;32m    219\u001b[0m         \"\"\" % (self._simulation_method.__name__,\n\u001b[0;32m    220\u001b[0m                \u001b[0mself\u001b[0m\u001b[1;33m.\u001b[0m\u001b[0m_objective_function\u001b[0m\u001b[1;33m.\u001b[0m\u001b[0m_repr_latex_\u001b[0m\u001b[1;33m(\u001b[0m\u001b[1;33m)\u001b[0m\u001b[1;33m,\u001b[0m\u001b[1;33m\u001b[0m\u001b[1;33m\u001b[0m\u001b[0m\n\u001b[1;32m--> 221\u001b[1;33m                self.data_frame._repr_html_())\n\u001b[0m\u001b[0;32m    222\u001b[0m \u001b[1;33m\u001b[0m\u001b[0m\n\u001b[0;32m    223\u001b[0m     \u001b[1;33m@\u001b[0m\u001b[0mproperty\u001b[0m\u001b[1;33m\u001b[0m\u001b[1;33m\u001b[0m\u001b[0m\n",
      "\u001b[1;32m~\\anaconda3\\lib\\site-packages\\cameo\\strain_design\\heuristic\\evolutionary_based.py\u001b[0m in \u001b[0;36mdata_frame\u001b[1;34m(self)\u001b[0m\n\u001b[0;32m    231\u001b[0m             \u001b[0mcolumns\u001b[0m \u001b[1;33m=\u001b[0m \u001b[0mself\u001b[0m\u001b[1;33m.\u001b[0m\u001b[0m_processed_solutions\u001b[0m\u001b[1;33m.\u001b[0m\u001b[0mcolumns\u001b[0m\u001b[1;33m.\u001b[0m\u001b[0mdifference\u001b[0m\u001b[1;33m(\u001b[0m\u001b[1;33m[\u001b[0m\u001b[1;34m\"reactions\"\u001b[0m\u001b[1;33m,\u001b[0m \u001b[1;34m\"size\"\u001b[0m\u001b[1;33m]\u001b[0m\u001b[1;33m)\u001b[0m\u001b[1;33m\u001b[0m\u001b[1;33m\u001b[0m\u001b[0m\n\u001b[0;32m    232\u001b[0m             \u001b[0maggregation_functions\u001b[0m \u001b[1;33m=\u001b[0m \u001b[1;33m{\u001b[0m\u001b[0mk\u001b[0m\u001b[1;33m:\u001b[0m \u001b[0mself\u001b[0m\u001b[1;33m.\u001b[0m\u001b[0m__aggregation_function\u001b[0m\u001b[1;33m.\u001b[0m\u001b[0mget\u001b[0m\u001b[1;33m(\u001b[0m\u001b[0mk\u001b[0m\u001b[1;33m,\u001b[0m \u001b[1;32mlambda\u001b[0m \u001b[0mx\u001b[0m\u001b[1;33m:\u001b[0m \u001b[0mx\u001b[0m\u001b[1;33m.\u001b[0m\u001b[0mvalues\u001b[0m\u001b[1;33m[\u001b[0m\u001b[1;36m0\u001b[0m\u001b[1;33m]\u001b[0m\u001b[1;33m)\u001b[0m \u001b[1;32mfor\u001b[0m \u001b[0mk\u001b[0m \u001b[1;32min\u001b[0m \u001b[0mcolumns\u001b[0m\u001b[1;33m}\u001b[0m\u001b[1;33m\u001b[0m\u001b[1;33m\u001b[0m\u001b[0m\n\u001b[1;32m--> 233\u001b[1;33m             \u001b[0mdata_frame\u001b[0m \u001b[1;33m=\u001b[0m \u001b[0mself\u001b[0m\u001b[1;33m.\u001b[0m\u001b[0m_processed_solutions\u001b[0m\u001b[1;33m.\u001b[0m\u001b[0mgroupby\u001b[0m\u001b[1;33m(\u001b[0m\u001b[1;33m[\u001b[0m\u001b[1;34m\"reactions\"\u001b[0m\u001b[1;33m,\u001b[0m \u001b[1;34m\"size\"\u001b[0m\u001b[1;33m]\u001b[0m\u001b[1;33m,\u001b[0m \u001b[0mas_index\u001b[0m\u001b[1;33m=\u001b[0m\u001b[1;32mFalse\u001b[0m\u001b[1;33m)\u001b[0m\u001b[0;31m \u001b[0m\u001b[0;31m\\\u001b[0m\u001b[1;33m\u001b[0m\u001b[1;33m\u001b[0m\u001b[0m\n\u001b[0m\u001b[0;32m    234\u001b[0m                 \u001b[1;33m.\u001b[0m\u001b[0maggregate\u001b[0m\u001b[1;33m(\u001b[0m\u001b[0maggregation_functions\u001b[0m\u001b[1;33m)\u001b[0m\u001b[1;33m\u001b[0m\u001b[1;33m\u001b[0m\u001b[0m\n\u001b[0;32m    235\u001b[0m             \u001b[0mdata_frame\u001b[0m \u001b[1;33m=\u001b[0m \u001b[0mdata_frame\u001b[0m\u001b[1;33m[\u001b[0m\u001b[0mself\u001b[0m\u001b[1;33m.\u001b[0m\u001b[0m_processed_solutions\u001b[0m\u001b[1;33m.\u001b[0m\u001b[0mcolumns\u001b[0m\u001b[1;33m]\u001b[0m\u001b[1;33m\u001b[0m\u001b[1;33m\u001b[0m\u001b[0m\n",
      "\u001b[1;32m~\\anaconda3\\lib\\site-packages\\pandas\\core\\groupby\\generic.py\u001b[0m in \u001b[0;36maggregate\u001b[1;34m(self, func, engine, engine_kwargs, *args, **kwargs)\u001b[0m\n\u001b[0;32m    867\u001b[0m \u001b[1;33m\u001b[0m\u001b[0m\n\u001b[0;32m    868\u001b[0m         \u001b[0mop\u001b[0m \u001b[1;33m=\u001b[0m \u001b[0mGroupByApply\u001b[0m\u001b[1;33m(\u001b[0m\u001b[0mself\u001b[0m\u001b[1;33m,\u001b[0m \u001b[0mfunc\u001b[0m\u001b[1;33m,\u001b[0m \u001b[0margs\u001b[0m\u001b[1;33m,\u001b[0m \u001b[0mkwargs\u001b[0m\u001b[1;33m)\u001b[0m\u001b[1;33m\u001b[0m\u001b[1;33m\u001b[0m\u001b[0m\n\u001b[1;32m--> 869\u001b[1;33m         \u001b[0mresult\u001b[0m \u001b[1;33m=\u001b[0m \u001b[0mop\u001b[0m\u001b[1;33m.\u001b[0m\u001b[0magg\u001b[0m\u001b[1;33m(\u001b[0m\u001b[1;33m)\u001b[0m\u001b[1;33m\u001b[0m\u001b[1;33m\u001b[0m\u001b[0m\n\u001b[0m\u001b[0;32m    870\u001b[0m         \u001b[1;32mif\u001b[0m \u001b[1;32mnot\u001b[0m \u001b[0mis_dict_like\u001b[0m\u001b[1;33m(\u001b[0m\u001b[0mfunc\u001b[0m\u001b[1;33m)\u001b[0m \u001b[1;32mand\u001b[0m \u001b[0mresult\u001b[0m \u001b[1;32mis\u001b[0m \u001b[1;32mnot\u001b[0m \u001b[1;32mNone\u001b[0m\u001b[1;33m:\u001b[0m\u001b[1;33m\u001b[0m\u001b[1;33m\u001b[0m\u001b[0m\n\u001b[0;32m    871\u001b[0m             \u001b[1;32mreturn\u001b[0m \u001b[0mresult\u001b[0m\u001b[1;33m\u001b[0m\u001b[1;33m\u001b[0m\u001b[0m\n",
      "\u001b[1;32m~\\anaconda3\\lib\\site-packages\\pandas\\core\\apply.py\u001b[0m in \u001b[0;36magg\u001b[1;34m(self)\u001b[0m\n\u001b[0;32m    166\u001b[0m \u001b[1;33m\u001b[0m\u001b[0m\n\u001b[0;32m    167\u001b[0m         \u001b[1;32mif\u001b[0m \u001b[0mis_dict_like\u001b[0m\u001b[1;33m(\u001b[0m\u001b[0marg\u001b[0m\u001b[1;33m)\u001b[0m\u001b[1;33m:\u001b[0m\u001b[1;33m\u001b[0m\u001b[1;33m\u001b[0m\u001b[0m\n\u001b[1;32m--> 168\u001b[1;33m             \u001b[1;32mreturn\u001b[0m \u001b[0mself\u001b[0m\u001b[1;33m.\u001b[0m\u001b[0magg_dict_like\u001b[0m\u001b[1;33m(\u001b[0m\u001b[1;33m)\u001b[0m\u001b[1;33m\u001b[0m\u001b[1;33m\u001b[0m\u001b[0m\n\u001b[0m\u001b[0;32m    169\u001b[0m         \u001b[1;32melif\u001b[0m \u001b[0mis_list_like\u001b[0m\u001b[1;33m(\u001b[0m\u001b[0marg\u001b[0m\u001b[1;33m)\u001b[0m\u001b[1;33m:\u001b[0m\u001b[1;33m\u001b[0m\u001b[1;33m\u001b[0m\u001b[0m\n\u001b[0;32m    170\u001b[0m             \u001b[1;31m# we require a list, but not a 'str'\u001b[0m\u001b[1;33m\u001b[0m\u001b[1;33m\u001b[0m\u001b[0m\n",
      "\u001b[1;32m~\\anaconda3\\lib\\site-packages\\pandas\\core\\apply.py\u001b[0m in \u001b[0;36magg_dict_like\u001b[1;34m(self)\u001b[0m\n\u001b[0;32m    479\u001b[0m         \u001b[1;32melse\u001b[0m\u001b[1;33m:\u001b[0m\u001b[1;33m\u001b[0m\u001b[1;33m\u001b[0m\u001b[0m\n\u001b[0;32m    480\u001b[0m             \u001b[1;31m# key used for column selection and output\u001b[0m\u001b[1;33m\u001b[0m\u001b[1;33m\u001b[0m\u001b[0m\n\u001b[1;32m--> 481\u001b[1;33m             results = {\n\u001b[0m\u001b[0;32m    482\u001b[0m                 \u001b[0mkey\u001b[0m\u001b[1;33m:\u001b[0m \u001b[0mobj\u001b[0m\u001b[1;33m.\u001b[0m\u001b[0m_gotitem\u001b[0m\u001b[1;33m(\u001b[0m\u001b[0mkey\u001b[0m\u001b[1;33m,\u001b[0m \u001b[0mndim\u001b[0m\u001b[1;33m=\u001b[0m\u001b[1;36m1\u001b[0m\u001b[1;33m)\u001b[0m\u001b[1;33m.\u001b[0m\u001b[0magg\u001b[0m\u001b[1;33m(\u001b[0m\u001b[0mhow\u001b[0m\u001b[1;33m)\u001b[0m \u001b[1;32mfor\u001b[0m \u001b[0mkey\u001b[0m\u001b[1;33m,\u001b[0m \u001b[0mhow\u001b[0m \u001b[1;32min\u001b[0m \u001b[0marg\u001b[0m\u001b[1;33m.\u001b[0m\u001b[0mitems\u001b[0m\u001b[1;33m(\u001b[0m\u001b[1;33m)\u001b[0m\u001b[1;33m\u001b[0m\u001b[1;33m\u001b[0m\u001b[0m\n\u001b[0;32m    483\u001b[0m             }\n",
      "\u001b[1;32m~\\anaconda3\\lib\\site-packages\\pandas\\core\\apply.py\u001b[0m in \u001b[0;36m<dictcomp>\u001b[1;34m(.0)\u001b[0m\n\u001b[0;32m    480\u001b[0m             \u001b[1;31m# key used for column selection and output\u001b[0m\u001b[1;33m\u001b[0m\u001b[1;33m\u001b[0m\u001b[0m\n\u001b[0;32m    481\u001b[0m             results = {\n\u001b[1;32m--> 482\u001b[1;33m                 \u001b[0mkey\u001b[0m\u001b[1;33m:\u001b[0m \u001b[0mobj\u001b[0m\u001b[1;33m.\u001b[0m\u001b[0m_gotitem\u001b[0m\u001b[1;33m(\u001b[0m\u001b[0mkey\u001b[0m\u001b[1;33m,\u001b[0m \u001b[0mndim\u001b[0m\u001b[1;33m=\u001b[0m\u001b[1;36m1\u001b[0m\u001b[1;33m)\u001b[0m\u001b[1;33m.\u001b[0m\u001b[0magg\u001b[0m\u001b[1;33m(\u001b[0m\u001b[0mhow\u001b[0m\u001b[1;33m)\u001b[0m \u001b[1;32mfor\u001b[0m \u001b[0mkey\u001b[0m\u001b[1;33m,\u001b[0m \u001b[0mhow\u001b[0m \u001b[1;32min\u001b[0m \u001b[0marg\u001b[0m\u001b[1;33m.\u001b[0m\u001b[0mitems\u001b[0m\u001b[1;33m(\u001b[0m\u001b[1;33m)\u001b[0m\u001b[1;33m\u001b[0m\u001b[1;33m\u001b[0m\u001b[0m\n\u001b[0m\u001b[0;32m    483\u001b[0m             }\n\u001b[0;32m    484\u001b[0m \u001b[1;33m\u001b[0m\u001b[0m\n",
      "\u001b[1;32m~\\anaconda3\\lib\\site-packages\\pandas\\core\\groupby\\generic.py\u001b[0m in \u001b[0;36maggregate\u001b[1;34m(self, func, engine, engine_kwargs, *args, **kwargs)\u001b[0m\n\u001b[0;32m    282\u001b[0m \u001b[1;33m\u001b[0m\u001b[0m\n\u001b[0;32m    283\u001b[0m             \u001b[1;32mif\u001b[0m \u001b[0mself\u001b[0m\u001b[1;33m.\u001b[0m\u001b[0mgrouper\u001b[0m\u001b[1;33m.\u001b[0m\u001b[0mnkeys\u001b[0m \u001b[1;33m>\u001b[0m \u001b[1;36m1\u001b[0m\u001b[1;33m:\u001b[0m\u001b[1;33m\u001b[0m\u001b[1;33m\u001b[0m\u001b[0m\n\u001b[1;32m--> 284\u001b[1;33m                 \u001b[1;32mreturn\u001b[0m \u001b[0mself\u001b[0m\u001b[1;33m.\u001b[0m\u001b[0m_python_agg_general\u001b[0m\u001b[1;33m(\u001b[0m\u001b[0mfunc\u001b[0m\u001b[1;33m,\u001b[0m \u001b[1;33m*\u001b[0m\u001b[0margs\u001b[0m\u001b[1;33m,\u001b[0m \u001b[1;33m**\u001b[0m\u001b[0mkwargs\u001b[0m\u001b[1;33m)\u001b[0m\u001b[1;33m\u001b[0m\u001b[1;33m\u001b[0m\u001b[0m\n\u001b[0m\u001b[0;32m    285\u001b[0m \u001b[1;33m\u001b[0m\u001b[0m\n\u001b[0;32m    286\u001b[0m             \u001b[1;32mtry\u001b[0m\u001b[1;33m:\u001b[0m\u001b[1;33m\u001b[0m\u001b[1;33m\u001b[0m\u001b[0m\n",
      "\u001b[1;32m~\\anaconda3\\lib\\site-packages\\pandas\\core\\groupby\\groupby.py\u001b[0m in \u001b[0;36m_python_agg_general\u001b[1;34m(self, func, *args, **kwargs)\u001b[0m\n\u001b[0;32m   1481\u001b[0m         \u001b[1;32mif\u001b[0m \u001b[0mself\u001b[0m\u001b[1;33m.\u001b[0m\u001b[0mngroups\u001b[0m \u001b[1;33m==\u001b[0m \u001b[1;36m0\u001b[0m\u001b[1;33m:\u001b[0m\u001b[1;33m\u001b[0m\u001b[1;33m\u001b[0m\u001b[0m\n\u001b[0;32m   1482\u001b[0m             \u001b[1;31m# agg_series below assumes ngroups > 0\u001b[0m\u001b[1;33m\u001b[0m\u001b[1;33m\u001b[0m\u001b[0m\n\u001b[1;32m-> 1483\u001b[1;33m             \u001b[1;32mreturn\u001b[0m \u001b[0mself\u001b[0m\u001b[1;33m.\u001b[0m\u001b[0m_python_apply_general\u001b[0m\u001b[1;33m(\u001b[0m\u001b[0mf\u001b[0m\u001b[1;33m,\u001b[0m \u001b[0mself\u001b[0m\u001b[1;33m.\u001b[0m\u001b[0m_selected_obj\u001b[0m\u001b[1;33m)\u001b[0m\u001b[1;33m\u001b[0m\u001b[1;33m\u001b[0m\u001b[0m\n\u001b[0m\u001b[0;32m   1484\u001b[0m \u001b[1;33m\u001b[0m\u001b[0m\n\u001b[0;32m   1485\u001b[0m         \u001b[1;32mfor\u001b[0m \u001b[0midx\u001b[0m\u001b[1;33m,\u001b[0m \u001b[0mobj\u001b[0m \u001b[1;32min\u001b[0m \u001b[0menumerate\u001b[0m\u001b[1;33m(\u001b[0m\u001b[0mself\u001b[0m\u001b[1;33m.\u001b[0m\u001b[0m_iterate_slices\u001b[0m\u001b[1;33m(\u001b[0m\u001b[1;33m)\u001b[0m\u001b[1;33m)\u001b[0m\u001b[1;33m:\u001b[0m\u001b[1;33m\u001b[0m\u001b[1;33m\u001b[0m\u001b[0m\n",
      "\u001b[1;32m~\\anaconda3\\lib\\site-packages\\pandas\\core\\groupby\\groupby.py\u001b[0m in \u001b[0;36m_python_apply_general\u001b[1;34m(self, f, data, not_indexed_same)\u001b[0m\n\u001b[0;32m   1462\u001b[0m             \u001b[0mdata\u001b[0m \u001b[0mafter\u001b[0m \u001b[0mapplying\u001b[0m \u001b[0mf\u001b[0m\u001b[1;33m\u001b[0m\u001b[1;33m\u001b[0m\u001b[0m\n\u001b[0;32m   1463\u001b[0m         \"\"\"\n\u001b[1;32m-> 1464\u001b[1;33m         \u001b[0mvalues\u001b[0m\u001b[1;33m,\u001b[0m \u001b[0mmutated\u001b[0m \u001b[1;33m=\u001b[0m \u001b[0mself\u001b[0m\u001b[1;33m.\u001b[0m\u001b[0mgrouper\u001b[0m\u001b[1;33m.\u001b[0m\u001b[0mapply\u001b[0m\u001b[1;33m(\u001b[0m\u001b[0mf\u001b[0m\u001b[1;33m,\u001b[0m \u001b[0mdata\u001b[0m\u001b[1;33m,\u001b[0m \u001b[0mself\u001b[0m\u001b[1;33m.\u001b[0m\u001b[0maxis\u001b[0m\u001b[1;33m)\u001b[0m\u001b[1;33m\u001b[0m\u001b[1;33m\u001b[0m\u001b[0m\n\u001b[0m\u001b[0;32m   1465\u001b[0m \u001b[1;33m\u001b[0m\u001b[0m\n\u001b[0;32m   1466\u001b[0m         \u001b[1;32mif\u001b[0m \u001b[0mnot_indexed_same\u001b[0m \u001b[1;32mis\u001b[0m \u001b[1;32mNone\u001b[0m\u001b[1;33m:\u001b[0m\u001b[1;33m\u001b[0m\u001b[1;33m\u001b[0m\u001b[0m\n",
      "\u001b[1;32m~\\anaconda3\\lib\\site-packages\\pandas\\core\\groupby\\ops.py\u001b[0m in \u001b[0;36mapply\u001b[1;34m(self, f, data, axis)\u001b[0m\n\u001b[0;32m    774\u001b[0m             \u001b[1;31m#  so we will not have raised even if this is an invalid dtype.\u001b[0m\u001b[1;33m\u001b[0m\u001b[1;33m\u001b[0m\u001b[0m\n\u001b[0;32m    775\u001b[0m             \u001b[1;31m#  So do one dummy call here to raise appropriate TypeError.\u001b[0m\u001b[1;33m\u001b[0m\u001b[1;33m\u001b[0m\u001b[0m\n\u001b[1;32m--> 776\u001b[1;33m             \u001b[0mf\u001b[0m\u001b[1;33m(\u001b[0m\u001b[0mdata\u001b[0m\u001b[1;33m.\u001b[0m\u001b[0miloc\u001b[0m\u001b[1;33m[\u001b[0m\u001b[1;33m:\u001b[0m\u001b[1;36m0\u001b[0m\u001b[1;33m]\u001b[0m\u001b[1;33m)\u001b[0m\u001b[1;33m\u001b[0m\u001b[1;33m\u001b[0m\u001b[0m\n\u001b[0m\u001b[0;32m    777\u001b[0m \u001b[1;33m\u001b[0m\u001b[0m\n\u001b[0;32m    778\u001b[0m         \u001b[1;32mreturn\u001b[0m \u001b[0mresult_values\u001b[0m\u001b[1;33m,\u001b[0m \u001b[0mmutated\u001b[0m\u001b[1;33m\u001b[0m\u001b[1;33m\u001b[0m\u001b[0m\n",
      "\u001b[1;32m~\\anaconda3\\lib\\site-packages\\pandas\\core\\groupby\\groupby.py\u001b[0m in \u001b[0;36m<lambda>\u001b[1;34m(x)\u001b[0m\n\u001b[0;32m   1474\u001b[0m     \u001b[1;32mdef\u001b[0m \u001b[0m_python_agg_general\u001b[0m\u001b[1;33m(\u001b[0m\u001b[0mself\u001b[0m\u001b[1;33m,\u001b[0m \u001b[0mfunc\u001b[0m\u001b[1;33m,\u001b[0m \u001b[1;33m*\u001b[0m\u001b[0margs\u001b[0m\u001b[1;33m,\u001b[0m \u001b[1;33m**\u001b[0m\u001b[0mkwargs\u001b[0m\u001b[1;33m)\u001b[0m\u001b[1;33m:\u001b[0m\u001b[1;33m\u001b[0m\u001b[1;33m\u001b[0m\u001b[0m\n\u001b[0;32m   1475\u001b[0m         \u001b[0mfunc\u001b[0m \u001b[1;33m=\u001b[0m \u001b[0mcom\u001b[0m\u001b[1;33m.\u001b[0m\u001b[0mis_builtin_func\u001b[0m\u001b[1;33m(\u001b[0m\u001b[0mfunc\u001b[0m\u001b[1;33m)\u001b[0m\u001b[1;33m\u001b[0m\u001b[1;33m\u001b[0m\u001b[0m\n\u001b[1;32m-> 1476\u001b[1;33m         \u001b[0mf\u001b[0m \u001b[1;33m=\u001b[0m \u001b[1;32mlambda\u001b[0m \u001b[0mx\u001b[0m\u001b[1;33m:\u001b[0m \u001b[0mfunc\u001b[0m\u001b[1;33m(\u001b[0m\u001b[0mx\u001b[0m\u001b[1;33m,\u001b[0m \u001b[1;33m*\u001b[0m\u001b[0margs\u001b[0m\u001b[1;33m,\u001b[0m \u001b[1;33m**\u001b[0m\u001b[0mkwargs\u001b[0m\u001b[1;33m)\u001b[0m\u001b[1;33m\u001b[0m\u001b[1;33m\u001b[0m\u001b[0m\n\u001b[0m\u001b[0;32m   1477\u001b[0m \u001b[1;33m\u001b[0m\u001b[0m\n\u001b[0;32m   1478\u001b[0m         \u001b[1;31m# iterate through \"columns\" ex exclusions to populate output dict\u001b[0m\u001b[1;33m\u001b[0m\u001b[1;33m\u001b[0m\u001b[0m\n",
      "\u001b[1;32m~\\anaconda3\\lib\\site-packages\\cameo\\strain_design\\heuristic\\evolutionary_based.py\u001b[0m in \u001b[0;36m<lambda>\u001b[1;34m(x)\u001b[0m\n\u001b[0;32m    230\u001b[0m         \u001b[1;32melse\u001b[0m\u001b[1;33m:\u001b[0m\u001b[1;33m\u001b[0m\u001b[1;33m\u001b[0m\u001b[0m\n\u001b[0;32m    231\u001b[0m             \u001b[0mcolumns\u001b[0m \u001b[1;33m=\u001b[0m \u001b[0mself\u001b[0m\u001b[1;33m.\u001b[0m\u001b[0m_processed_solutions\u001b[0m\u001b[1;33m.\u001b[0m\u001b[0mcolumns\u001b[0m\u001b[1;33m.\u001b[0m\u001b[0mdifference\u001b[0m\u001b[1;33m(\u001b[0m\u001b[1;33m[\u001b[0m\u001b[1;34m\"reactions\"\u001b[0m\u001b[1;33m,\u001b[0m \u001b[1;34m\"size\"\u001b[0m\u001b[1;33m]\u001b[0m\u001b[1;33m)\u001b[0m\u001b[1;33m\u001b[0m\u001b[1;33m\u001b[0m\u001b[0m\n\u001b[1;32m--> 232\u001b[1;33m             \u001b[0maggregation_functions\u001b[0m \u001b[1;33m=\u001b[0m \u001b[1;33m{\u001b[0m\u001b[0mk\u001b[0m\u001b[1;33m:\u001b[0m \u001b[0mself\u001b[0m\u001b[1;33m.\u001b[0m\u001b[0m__aggregation_function\u001b[0m\u001b[1;33m.\u001b[0m\u001b[0mget\u001b[0m\u001b[1;33m(\u001b[0m\u001b[0mk\u001b[0m\u001b[1;33m,\u001b[0m \u001b[1;32mlambda\u001b[0m \u001b[0mx\u001b[0m\u001b[1;33m:\u001b[0m \u001b[0mx\u001b[0m\u001b[1;33m.\u001b[0m\u001b[0mvalues\u001b[0m\u001b[1;33m[\u001b[0m\u001b[1;36m0\u001b[0m\u001b[1;33m]\u001b[0m\u001b[1;33m)\u001b[0m \u001b[1;32mfor\u001b[0m \u001b[0mk\u001b[0m \u001b[1;32min\u001b[0m \u001b[0mcolumns\u001b[0m\u001b[1;33m}\u001b[0m\u001b[1;33m\u001b[0m\u001b[1;33m\u001b[0m\u001b[0m\n\u001b[0m\u001b[0;32m    233\u001b[0m             \u001b[0mdata_frame\u001b[0m \u001b[1;33m=\u001b[0m \u001b[0mself\u001b[0m\u001b[1;33m.\u001b[0m\u001b[0m_processed_solutions\u001b[0m\u001b[1;33m.\u001b[0m\u001b[0mgroupby\u001b[0m\u001b[1;33m(\u001b[0m\u001b[1;33m[\u001b[0m\u001b[1;34m\"reactions\"\u001b[0m\u001b[1;33m,\u001b[0m \u001b[1;34m\"size\"\u001b[0m\u001b[1;33m]\u001b[0m\u001b[1;33m,\u001b[0m \u001b[0mas_index\u001b[0m\u001b[1;33m=\u001b[0m\u001b[1;32mFalse\u001b[0m\u001b[1;33m)\u001b[0m\u001b[0;31m \u001b[0m\u001b[0;31m\\\u001b[0m\u001b[1;33m\u001b[0m\u001b[1;33m\u001b[0m\u001b[0m\n\u001b[0;32m    234\u001b[0m                 \u001b[1;33m.\u001b[0m\u001b[0maggregate\u001b[0m\u001b[1;33m(\u001b[0m\u001b[0maggregation_functions\u001b[0m\u001b[1;33m)\u001b[0m\u001b[1;33m\u001b[0m\u001b[1;33m\u001b[0m\u001b[0m\n",
      "\u001b[1;31mIndexError\u001b[0m: index 0 is out of bounds for axis 0 with size 0"
     ]
    },
    {
     "data": {
      "text/plain": [
       "<cameo.strain_design.heuristic.evolutionary_based.OptGeneResult at 0x1897780ebe0>"
      ]
     },
     "execution_count": 18,
     "metadata": {},
     "output_type": "execute_result"
    }
   ],
   "source": [
    "result"
   ]
  },
  {
   "cell_type": "code",
   "execution_count": null,
   "id": "d470d68e-0f9c-4621-9d81-787840fef996",
   "metadata": {},
   "outputs": [],
   "source": []
  }
 ],
 "metadata": {
  "kernelspec": {
   "display_name": "Python 3 (ipykernel)",
   "language": "python",
   "name": "python3"
  },
  "language_info": {
   "codemirror_mode": {
    "name": "ipython",
    "version": 3
   },
   "file_extension": ".py",
   "mimetype": "text/x-python",
   "name": "python",
   "nbconvert_exporter": "python",
   "pygments_lexer": "ipython3",
   "version": "3.9.13"
  }
 },
 "nbformat": 4,
 "nbformat_minor": 5
}
