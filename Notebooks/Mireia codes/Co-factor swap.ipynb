{
 "cells": [
  {
   "cell_type": "markdown",
   "id": "4d24da72-86ff-45cd-9522-d8063b0b6df5",
   "metadata": {},
   "source": [
    "# Cofactor swap analysis"
   ]
  },
  {
   "cell_type": "code",
   "execution_count": 1,
   "id": "44ef598e-e5e2-41b3-a84b-bb45b2a176d9",
   "metadata": {},
   "outputs": [],
   "source": [
    "# Packages\n",
    "#from cameo.strain_design.heuristic.evolutionary.objective_functions import product_yield\n",
    "#from cameo.strain_design.heuristic.evolutionary_based import CofactorSwapOptimization\n",
    "#from cobra.io import read_sbml_model, write_sbml_model\n",
    "#from cobra import Reaction, Metabolite"
   ]
  },
  {
   "cell_type": "code",
   "execution_count": 2,
   "id": "c8e702fc-bd78-4c44-998c-6e4ad2fe5be5",
   "metadata": {},
   "outputs": [],
   "source": [
    "# Loading of the model\n",
    "model_orig = read_sbml_model('Sco-GEM.xml')\n",
    "model = model_orig.copy()"
   ]
  },
  {
   "cell_type": "code",
   "execution_count": 3,
   "id": "559785bd-d6d2-4e61-ae46-6ca76dbeab9d",
   "metadata": {},
   "outputs": [
    {
     "name": "stdout",
     "output_type": "stream",
     "text": [
      "Max biomass growth: 0.07461812924636277\n",
      "Max RED production: 0.13190476190476172\n"
     ]
    }
   ],
   "source": [
    "# Calculate max biomass and undecyl prodigiosin (RED) production\n",
    "model.solver = 'glpk'\n",
    "with model:\n",
    "    base_max_growth = model.slim_optimize()\n",
    "    print(\"Max biomass growth:\", base_max_growth)\n",
    "    model.objective = model.reactions.DM_RED_c\n",
    "    base_max_production = model.slim_optimize()\n",
    "    print(\"Max RED production:\", base_max_production)"
   ]
  },
  {
   "cell_type": "code",
   "execution_count": 4,
   "id": "c957e2bf-fbf0-41ff-8a3c-12626d228ea2",
   "metadata": {},
   "outputs": [],
   "source": [
    "# Set biomass boundaries\n",
    "biomass = model.reactions.BIOMASS_SCO_tRNA.lower_bound = 0.045\n",
    "# Set model objective towards undecyl prodigiosin biosynthesis\n",
    "demand = model.reactions.get_by_id(\"DM_RED_c\")\n",
    "model.objective = demand"
   ]
  },
  {
   "cell_type": "code",
   "execution_count": 5,
   "id": "84a80f57-eabd-4d04-ba57-f81b5b394f87",
   "metadata": {},
   "outputs": [
    {
     "name": "stdout",
     "output_type": "stream",
     "text": [
      "Max biomass growth: 0.05254099064353999\n",
      "Max RED production: 0.052540990643539294\n"
     ]
    }
   ],
   "source": [
    "# Max biomass and undecyl prodigiosin production after objective change\n",
    "with model:\n",
    "    base_max_growth = model.slim_optimize()\n",
    "    print(\"Max biomass growth:\", base_max_growth)\n",
    "    model.objective = model.reactions.DM_RED_c\n",
    "    base_max_production = model.slim_optimize()\n",
    "    print(\"Max RED production:\", base_max_production)"
   ]
  },
  {
   "cell_type": "code",
   "execution_count": 6,
   "id": "5ab986c9-25b0-4860-960f-2aea352c4d31",
   "metadata": {},
   "outputs": [],
   "source": [
    "# Product yield calculation\n",
    "py = product_yield(model.reactions.DM_RED_c, model.reactions.EX_glc__D_e)"
   ]
  },
  {
   "cell_type": "code",
   "execution_count": 7,
   "id": "df91d06f-dfa5-49bc-bdf9-e18dfde66a48",
   "metadata": {},
   "outputs": [],
   "source": [
    "optswap = CofactorSwapOptimization(model = model, objective_function = py)"
   ]
  },
  {
   "cell_type": "code",
   "execution_count": 8,
   "id": "c2f5e1f0-fefe-47f9-bd37-928232100c6d",
   "metadata": {},
   "outputs": [
    {
     "name": "stdout",
     "output_type": "stream",
     "text": [
      "Wall time: 0 ns\n",
      "Starting optimization at Fri, 25 Nov 2022 16:48:53\n"
     ]
    },
    {
     "data": {
      "application/vnd.jupyter.widget-view+json": {
       "model_id": "83b49cfcd6754c39bb6bdafe8e266487",
       "version_major": 2,
       "version_minor": 0
      },
      "text/plain": [
       "HBox()"
      ]
     },
     "metadata": {},
     "output_type": "display_data"
    },
    {
     "name": "stdout",
     "output_type": "stream",
     "text": [
      "Finished after 00:01:16\n"
     ]
    },
    {
     "data": {
      "text/html": [
       "\n",
       "        <h4>Result:</h4>\n",
       "        <ul>\n",
       "            <li>model: Sco_GEM_v1_3_1</li>\n",
       "            <li>heuristic: GA</li>\n",
       "            <li>objective function: $$yield = \\frac{DM\\_RED\\_c}{EX\\_glc\\_\\_D\\_e}$$</li>\n",
       "            <li>simulation method: pfba</li>\n",
       "            <li>target type: cofactor-swap</li>\n",
       "        <ul>\n",
       "        <div>\n",
       "<style scoped>\n",
       "    .dataframe tbody tr th:only-of-type {\n",
       "        vertical-align: middle;\n",
       "    }\n",
       "\n",
       "    .dataframe tbody tr th {\n",
       "        vertical-align: top;\n",
       "    }\n",
       "\n",
       "    .dataframe thead th {\n",
       "        text-align: right;\n",
       "    }\n",
       "</style>\n",
       "<table border=\"1\" class=\"dataframe\">\n",
       "  <thead>\n",
       "    <tr style=\"text-align: right;\">\n",
       "      <th></th>\n",
       "      <th>index</th>\n",
       "      <th>targets</th>\n",
       "      <th>fitness</th>\n",
       "    </tr>\n",
       "  </thead>\n",
       "  <tbody>\n",
       "    <tr>\n",
       "      <th>0</th>\n",
       "      <td>0</td>\n",
       "      <td>(GCALDD,)</td>\n",
       "      <td>0.273651</td>\n",
       "    </tr>\n",
       "    <tr>\n",
       "      <th>1</th>\n",
       "      <td>1</td>\n",
       "      <td>(LIPOS,)</td>\n",
       "      <td>0.273651</td>\n",
       "    </tr>\n",
       "    <tr>\n",
       "      <th>2</th>\n",
       "      <td>2</td>\n",
       "      <td>(3OARai70,)</td>\n",
       "      <td>0.273651</td>\n",
       "    </tr>\n",
       "    <tr>\n",
       "      <th>3</th>\n",
       "      <td>3</td>\n",
       "      <td>(DIOP5OR,)</td>\n",
       "      <td>0.273651</td>\n",
       "    </tr>\n",
       "    <tr>\n",
       "      <th>4</th>\n",
       "      <td>4</td>\n",
       "      <td>(CPKS3,)</td>\n",
       "      <td>0.273651</td>\n",
       "    </tr>\n",
       "    <tr>\n",
       "      <th>5</th>\n",
       "      <td>5</td>\n",
       "      <td>(GLUSx, GLUSy, EAR60y, EARi180x)</td>\n",
       "      <td>0.273651</td>\n",
       "    </tr>\n",
       "    <tr>\n",
       "      <th>6</th>\n",
       "      <td>6</td>\n",
       "      <td>(2ABZMOy,)</td>\n",
       "      <td>0.273651</td>\n",
       "    </tr>\n",
       "    <tr>\n",
       "      <th>7</th>\n",
       "      <td>7</td>\n",
       "      <td>(REDS7,)</td>\n",
       "      <td>0.273651</td>\n",
       "    </tr>\n",
       "  </tbody>\n",
       "</table>\n",
       "</div>"
      ],
      "text/plain": [
       "<cameo.strain_design.heuristic.evolutionary.optimization.TargetOptimizationResult at 0x1df2c01d730>"
      ]
     },
     "execution_count": 8,
     "metadata": {},
     "output_type": "execute_result"
    }
   ],
   "source": [
    "# Co-factor swap targets\n",
    "%time\n",
    "result = optswap.run(max_size=10)\n",
    "result"
   ]
  },
  {
   "cell_type": "markdown",
   "id": "dd740fd7-c70c-4680-9692-43bf46d9b2bb",
   "metadata": {},
   "source": [
    "Now we can check the effect of the co-factor swap."
   ]
  },
  {
   "cell_type": "code",
   "execution_count": 9,
   "id": "cbb81106-f6d9-43f6-9d0b-3aa71364d58e",
   "metadata": {},
   "outputs": [
    {
     "name": "stdout",
     "output_type": "stream",
     "text": [
      "Max biomass growth: 0.052541070493969486\n",
      "Max RED production: 0.05254107049396962\n"
     ]
    }
   ],
   "source": [
    "# Max biomass and undecyl prodigiosin production after objective change\n",
    "with model:\n",
    "    swap_max_growth = model.slim_optimize()\n",
    "    print(\"Max biomass growth:\", swap_max_growth)\n",
    "    model.objective = model.reactions.DM_RED_c\n",
    "    swap_max_production = model.slim_optimize()\n",
    "    print(\"Max RED production:\", swap_max_production)"
   ]
  },
  {
   "cell_type": "code",
   "execution_count": 10,
   "id": "57ef3756-9a0a-4fd6-bfe9-484bef1ab170",
   "metadata": {},
   "outputs": [
    {
     "name": "stdout",
     "output_type": "stream",
     "text": [
      "Change in max growth: 0.0002 %\n",
      "Change in max production: 0.0002 %\n"
     ]
    }
   ],
   "source": [
    "# Calcualte the % change in max biomass growth and undecyl prodigiosin production\n",
    "print(\"Change in max growth:\", round((swap_max_growth-(base_max_growth))/(base_max_growth) * 100, 4), \"%\")\n",
    "print(\"Change in max production:\", round((swap_max_production-(base_max_production))/(base_max_production) * 100, 4), \"%\")"
   ]
  }
 ],
 "metadata": {
  "kernelspec": {
   "display_name": "Python 3 (ipykernel)",
   "language": "python",
   "name": "python3"
  },
  "language_info": {
   "codemirror_mode": {
    "name": "ipython",
    "version": 3
   },
   "file_extension": ".py",
   "mimetype": "text/x-python",
   "name": "python",
   "nbconvert_exporter": "python",
   "pygments_lexer": "ipython3",
   "version": "3.9.13"
  }
 },
 "nbformat": 4,
 "nbformat_minor": 5
}
