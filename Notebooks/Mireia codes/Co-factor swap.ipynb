{
 "cells": [
  {
   "cell_type": "markdown",
   "id": "071e625b-53f2-41ea-ab0c-d9a7b5e63664",
   "metadata": {},
   "source": [
    "# Co-factor swap"
   ]
  },
  {
   "cell_type": "code",
   "execution_count": 1,
   "id": "7e93e106-0741-4e0d-aeb3-1b1357990c2a",
   "metadata": {
    "collapsed": true,
    "jupyter": {
     "outputs_hidden": true
    },
    "tags": []
   },
   "outputs": [
    {
     "name": "stdout",
     "output_type": "stream",
     "text": [
      "Requirement already satisfied: cameo in c:\\users\\mirei\\anaconda3\\lib\\site-packages (0.13.6)\n",
      "Requirement already satisfied: click>=6.7 in c:\\users\\mirei\\anaconda3\\lib\\site-packages (from cameo) (8.0.4)\n",
      "Requirement already satisfied: lazy-object-proxy>=1.2.0 in c:\\users\\mirei\\anaconda3\\lib\\site-packages (from cameo) (1.6.0)\n",
      "Requirement already satisfied: gnomic==1.0.1 in c:\\users\\mirei\\anaconda3\\lib\\site-packages (from cameo) (1.0.1)\n",
      "Requirement already satisfied: inspyred>=1.0 in c:\\users\\mirei\\anaconda3\\lib\\site-packages (from cameo) (1.0.1)\n",
      "Requirement already satisfied: cobra>=0.11.1 in c:\\users\\mirei\\anaconda3\\lib\\site-packages (from cameo) (0.23.0)\n",
      "Requirement already satisfied: IProgress>=0.4 in c:\\users\\mirei\\anaconda3\\lib\\site-packages (from cameo) (0.4)\n",
      "Requirement already satisfied: networkx>=2.4 in c:\\users\\mirei\\anaconda3\\lib\\site-packages (from cameo) (2.8.4)\n",
      "Requirement already satisfied: escher>=1.1.2 in c:\\users\\mirei\\anaconda3\\lib\\site-packages (from cameo) (1.7.3)\n",
      "Requirement already satisfied: numexpr>=2.4 in c:\\users\\mirei\\anaconda3\\lib\\site-packages (from cameo) (2.8.3)\n",
      "Requirement already satisfied: optlang>=1.4.2 in c:\\users\\mirei\\anaconda3\\lib\\site-packages (from cameo) (1.6.0)\n",
      "Requirement already satisfied: palettable>=2.1.1 in c:\\users\\mirei\\anaconda3\\lib\\site-packages (from cameo) (3.3.0)\n",
      "Requirement already satisfied: future>=0.15.2 in c:\\users\\mirei\\anaconda3\\lib\\site-packages (from cameo) (0.18.2)\n",
      "Requirement already satisfied: requests>=2.10.0 in c:\\users\\mirei\\anaconda3\\lib\\site-packages (from cameo) (2.28.1)\n",
      "Requirement already satisfied: numpy>=1.9.1 in c:\\users\\mirei\\anaconda3\\lib\\site-packages (from cameo) (1.23.4)\n",
      "Requirement already satisfied: blessings>=1.5.1 in c:\\users\\mirei\\anaconda3\\lib\\site-packages (from cameo) (1.7)\n",
      "Requirement already satisfied: scipy>=0.14.0 in c:\\users\\mirei\\anaconda3\\lib\\site-packages (from cameo) (1.9.1)\n",
      "Requirement already satisfied: ordered-set>=1.2 in c:\\users\\mirei\\anaconda3\\lib\\site-packages (from cameo) (4.1.0)\n",
      "Requirement already satisfied: pandas>=1.1.3 in c:\\users\\mirei\\anaconda3\\lib\\site-packages (from cameo) (1.4.4)\n",
      "Requirement already satisfied: openpyxl>=2.4.5 in c:\\users\\mirei\\anaconda3\\lib\\site-packages (from cameo) (3.0.10)\n",
      "Requirement already satisfied: six>=1.8.0 in c:\\users\\mirei\\anaconda3\\lib\\site-packages (from gnomic==1.0.1->cameo) (1.16.0)\n",
      "Requirement already satisfied: grako==3.18.1 in c:\\users\\mirei\\anaconda3\\lib\\site-packages (from gnomic==1.0.1->cameo) (3.18.1)\n",
      "Requirement already satisfied: colorama in c:\\users\\mirei\\anaconda3\\lib\\site-packages (from click>=6.7->cameo) (0.4.5)\n",
      "Requirement already satisfied: appdirs~=1.4 in c:\\users\\mirei\\anaconda3\\lib\\site-packages (from cobra>=0.11.1->cameo) (1.4.4)\n",
      "Requirement already satisfied: ruamel.yaml~=0.16 in c:\\users\\mirei\\anaconda3\\lib\\site-packages (from cobra>=0.11.1->cameo) (0.17.21)\n",
      "Requirement already satisfied: rich>=8.0 in c:\\users\\mirei\\anaconda3\\lib\\site-packages (from cobra>=0.11.1->cameo) (12.6.0)\n",
      "Requirement already satisfied: python-libsbml==5.19.2 in c:\\users\\mirei\\anaconda3\\lib\\site-packages (from cobra>=0.11.1->cameo) (5.19.2)\n",
      "Requirement already satisfied: httpx~=0.14 in c:\\users\\mirei\\anaconda3\\lib\\site-packages (from cobra>=0.11.1->cameo) (0.23.0)\n",
      "Requirement already satisfied: depinfo~=1.7 in c:\\users\\mirei\\anaconda3\\lib\\site-packages (from cobra>=0.11.1->cameo) (1.7.0)\n",
      "Requirement already satisfied: pydantic~=1.6 in c:\\users\\mirei\\anaconda3\\lib\\site-packages (from cobra>=0.11.1->cameo) (1.10.2)\n",
      "Requirement already satisfied: swiglpk in c:\\users\\mirei\\anaconda3\\lib\\site-packages (from cobra>=0.11.1->cameo) (5.0.8)\n",
      "Requirement already satisfied: diskcache~=5.0 in c:\\users\\mirei\\anaconda3\\lib\\site-packages (from cobra>=0.11.1->cameo) (5.4.0)\n",
      "Requirement already satisfied: importlib-resources in c:\\users\\mirei\\anaconda3\\lib\\site-packages (from cobra>=0.11.1->cameo) (5.10.0)\n",
      "Requirement already satisfied: jsonschema<4,>=3.0.1 in c:\\users\\mirei\\anaconda3\\lib\\site-packages (from escher>=1.1.2->cameo) (3.2.0)\n",
      "Requirement already satisfied: ipywidgets<8,>=7.4.0 in c:\\users\\mirei\\anaconda3\\lib\\site-packages (from escher>=1.1.2->cameo) (7.7.2)\n",
      "Requirement already satisfied: pytest<5,>=4.0.1 in c:\\users\\mirei\\anaconda3\\lib\\site-packages (from escher>=1.1.2->cameo) (4.6.11)\n",
      "Requirement already satisfied: Jinja2<3,>=2.7.3 in c:\\users\\mirei\\anaconda3\\lib\\site-packages (from escher>=1.1.2->cameo) (2.11.3)\n",
      "Requirement already satisfied: packaging in c:\\users\\mirei\\anaconda3\\lib\\site-packages (from numexpr>=2.4->cameo) (21.3)\n",
      "Requirement already satisfied: et_xmlfile in c:\\users\\mirei\\anaconda3\\lib\\site-packages (from openpyxl>=2.4.5->cameo) (1.1.0)\n",
      "Requirement already satisfied: sympy>=1.0 in c:\\users\\mirei\\anaconda3\\lib\\site-packages (from optlang>=1.4.2->cameo) (1.10.1)\n",
      "Requirement already satisfied: python-dateutil>=2.8.1 in c:\\users\\mirei\\anaconda3\\lib\\site-packages (from pandas>=1.1.3->cameo) (2.8.2)\n",
      "Requirement already satisfied: pytz>=2020.1 in c:\\users\\mirei\\anaconda3\\lib\\site-packages (from pandas>=1.1.3->cameo) (2022.1)\n",
      "Requirement already satisfied: charset-normalizer<3,>=2 in c:\\users\\mirei\\anaconda3\\lib\\site-packages (from requests>=2.10.0->cameo) (2.0.4)\n",
      "Requirement already satisfied: urllib3<1.27,>=1.21.1 in c:\\users\\mirei\\anaconda3\\lib\\site-packages (from requests>=2.10.0->cameo) (1.26.12)\n",
      "Requirement already satisfied: certifi>=2017.4.17 in c:\\users\\mirei\\anaconda3\\lib\\site-packages (from requests>=2.10.0->cameo) (2022.9.24)\n",
      "Requirement already satisfied: idna<4,>=2.5 in c:\\users\\mirei\\anaconda3\\lib\\site-packages (from requests>=2.10.0->cameo) (3.4)\n",
      "Requirement already satisfied: rfc3986[idna2008]<2,>=1.3 in c:\\users\\mirei\\anaconda3\\lib\\site-packages (from httpx~=0.14->cobra>=0.11.1->cameo) (1.5.0)\n",
      "Requirement already satisfied: httpcore<0.16.0,>=0.15.0 in c:\\users\\mirei\\anaconda3\\lib\\site-packages (from httpx~=0.14->cobra>=0.11.1->cameo) (0.15.0)\n",
      "Requirement already satisfied: sniffio in c:\\users\\mirei\\anaconda3\\lib\\site-packages (from httpx~=0.14->cobra>=0.11.1->cameo) (1.2.0)\n",
      "Requirement already satisfied: ipykernel>=4.5.1 in c:\\users\\mirei\\anaconda3\\lib\\site-packages (from ipywidgets<8,>=7.4.0->escher>=1.1.2->cameo) (6.15.2)\n",
      "Requirement already satisfied: ipython-genutils~=0.2.0 in c:\\users\\mirei\\anaconda3\\lib\\site-packages (from ipywidgets<8,>=7.4.0->escher>=1.1.2->cameo) (0.2.0)\n",
      "Requirement already satisfied: traitlets>=4.3.1 in c:\\users\\mirei\\anaconda3\\lib\\site-packages (from ipywidgets<8,>=7.4.0->escher>=1.1.2->cameo) (5.1.1)\n",
      "Requirement already satisfied: ipython>=4.0.0 in c:\\users\\mirei\\anaconda3\\lib\\site-packages (from ipywidgets<8,>=7.4.0->escher>=1.1.2->cameo) (7.31.1)\n",
      "Requirement already satisfied: widgetsnbextension~=3.6.0 in c:\\users\\mirei\\anaconda3\\lib\\site-packages (from ipywidgets<8,>=7.4.0->escher>=1.1.2->cameo) (3.6.1)\n",
      "Requirement already satisfied: jupyterlab-widgets<3,>=1.0.0 in c:\\users\\mirei\\anaconda3\\lib\\site-packages (from ipywidgets<8,>=7.4.0->escher>=1.1.2->cameo) (1.1.1)\n",
      "Requirement already satisfied: MarkupSafe>=0.23 in c:\\users\\mirei\\anaconda3\\lib\\site-packages (from Jinja2<3,>=2.7.3->escher>=1.1.2->cameo) (2.0.1)\n",
      "Requirement already satisfied: setuptools in c:\\users\\mirei\\anaconda3\\lib\\site-packages (from jsonschema<4,>=3.0.1->escher>=1.1.2->cameo) (65.5.0)\n",
      "Requirement already satisfied: attrs>=17.4.0 in c:\\users\\mirei\\anaconda3\\lib\\site-packages (from jsonschema<4,>=3.0.1->escher>=1.1.2->cameo) (22.1.0)\n",
      "Requirement already satisfied: pyrsistent>=0.14.0 in c:\\users\\mirei\\anaconda3\\lib\\site-packages (from jsonschema<4,>=3.0.1->escher>=1.1.2->cameo) (0.18.0)\n",
      "Requirement already satisfied: typing-extensions>=4.1.0 in c:\\users\\mirei\\anaconda3\\lib\\site-packages (from pydantic~=1.6->cobra>=0.11.1->cameo) (4.3.0)\n",
      "Requirement already satisfied: atomicwrites>=1.0 in c:\\users\\mirei\\anaconda3\\lib\\site-packages (from pytest<5,>=4.0.1->escher>=1.1.2->cameo) (1.4.0)\n",
      "Requirement already satisfied: more-itertools>=4.0.0 in c:\\users\\mirei\\anaconda3\\lib\\site-packages (from pytest<5,>=4.0.1->escher>=1.1.2->cameo) (9.0.0)\n",
      "Requirement already satisfied: pluggy<1.0,>=0.12 in c:\\users\\mirei\\anaconda3\\lib\\site-packages (from pytest<5,>=4.0.1->escher>=1.1.2->cameo) (0.13.1)\n",
      "Requirement already satisfied: wcwidth in c:\\users\\mirei\\anaconda3\\lib\\site-packages (from pytest<5,>=4.0.1->escher>=1.1.2->cameo) (0.2.5)\n",
      "Requirement already satisfied: py>=1.5.0 in c:\\users\\mirei\\anaconda3\\lib\\site-packages (from pytest<5,>=4.0.1->escher>=1.1.2->cameo) (1.11.0)\n",
      "Requirement already satisfied: commonmark<0.10.0,>=0.9.0 in c:\\users\\mirei\\anaconda3\\lib\\site-packages (from rich>=8.0->cobra>=0.11.1->cameo) (0.9.1)\n",
      "Requirement already satisfied: pygments<3.0.0,>=2.6.0 in c:\\users\\mirei\\anaconda3\\lib\\site-packages (from rich>=8.0->cobra>=0.11.1->cameo) (2.11.2)\n",
      "Requirement already satisfied: ruamel.yaml.clib>=0.2.6 in c:\\users\\mirei\\anaconda3\\lib\\site-packages (from ruamel.yaml~=0.16->cobra>=0.11.1->cameo) (0.2.7)\n",
      "Requirement already satisfied: mpmath>=0.19 in c:\\users\\mirei\\anaconda3\\lib\\site-packages (from sympy>=1.0->optlang>=1.4.2->cameo) (1.2.1)\n",
      "Requirement already satisfied: zipp>=3.1.0 in c:\\users\\mirei\\anaconda3\\lib\\site-packages (from importlib-resources->cobra>=0.11.1->cameo) (3.8.0)\n",
      "Requirement already satisfied: pyparsing!=3.0.5,>=2.0.2 in c:\\users\\mirei\\anaconda3\\lib\\site-packages (from packaging->numexpr>=2.4->cameo) (3.0.9)\n",
      "Requirement already satisfied: h11<0.13,>=0.11 in c:\\users\\mirei\\anaconda3\\lib\\site-packages (from httpcore<0.16.0,>=0.15.0->httpx~=0.14->cobra>=0.11.1->cameo) (0.12.0)\n",
      "Requirement already satisfied: anyio==3.* in c:\\users\\mirei\\anaconda3\\lib\\site-packages (from httpcore<0.16.0,>=0.15.0->httpx~=0.14->cobra>=0.11.1->cameo) (3.5.0)\n",
      "Requirement already satisfied: jupyter-client>=6.1.12 in c:\\users\\mirei\\anaconda3\\lib\\site-packages (from ipykernel>=4.5.1->ipywidgets<8,>=7.4.0->escher>=1.1.2->cameo) (7.4.7)\n",
      "Requirement already satisfied: debugpy>=1.0 in c:\\users\\mirei\\anaconda3\\lib\\site-packages (from ipykernel>=4.5.1->ipywidgets<8,>=7.4.0->escher>=1.1.2->cameo) (1.5.1)\n",
      "Requirement already satisfied: tornado>=6.1 in c:\\users\\mirei\\anaconda3\\lib\\site-packages (from ipykernel>=4.5.1->ipywidgets<8,>=7.4.0->escher>=1.1.2->cameo) (6.2)\n",
      "Requirement already satisfied: nest-asyncio in c:\\users\\mirei\\anaconda3\\lib\\site-packages (from ipykernel>=4.5.1->ipywidgets<8,>=7.4.0->escher>=1.1.2->cameo) (1.5.5)\n",
      "Requirement already satisfied: matplotlib-inline>=0.1 in c:\\users\\mirei\\anaconda3\\lib\\site-packages (from ipykernel>=4.5.1->ipywidgets<8,>=7.4.0->escher>=1.1.2->cameo) (0.1.6)\n",
      "Requirement already satisfied: pyzmq>=17 in c:\\users\\mirei\\anaconda3\\lib\\site-packages (from ipykernel>=4.5.1->ipywidgets<8,>=7.4.0->escher>=1.1.2->cameo) (23.2.0)\n",
      "Requirement already satisfied: psutil in c:\\users\\mirei\\anaconda3\\lib\\site-packages (from ipykernel>=4.5.1->ipywidgets<8,>=7.4.0->escher>=1.1.2->cameo) (5.9.0)\n",
      "Requirement already satisfied: decorator in c:\\users\\mirei\\anaconda3\\lib\\site-packages (from ipython>=4.0.0->ipywidgets<8,>=7.4.0->escher>=1.1.2->cameo) (5.1.1)\n",
      "Requirement already satisfied: jedi>=0.16 in c:\\users\\mirei\\anaconda3\\lib\\site-packages (from ipython>=4.0.0->ipywidgets<8,>=7.4.0->escher>=1.1.2->cameo) (0.18.1)\n",
      "Requirement already satisfied: pickleshare in c:\\users\\mirei\\anaconda3\\lib\\site-packages (from ipython>=4.0.0->ipywidgets<8,>=7.4.0->escher>=1.1.2->cameo) (0.7.5)\n",
      "Requirement already satisfied: prompt-toolkit!=3.0.0,!=3.0.1,<3.1.0,>=2.0.0 in c:\\users\\mirei\\anaconda3\\lib\\site-packages (from ipython>=4.0.0->ipywidgets<8,>=7.4.0->escher>=1.1.2->cameo) (3.0.20)\n",
      "Requirement already satisfied: backcall in c:\\users\\mirei\\anaconda3\\lib\\site-packages (from ipython>=4.0.0->ipywidgets<8,>=7.4.0->escher>=1.1.2->cameo) (0.2.0)\n",
      "Requirement already satisfied: notebook>=4.4.1 in c:\\users\\mirei\\anaconda3\\lib\\site-packages (from widgetsnbextension~=3.6.0->ipywidgets<8,>=7.4.0->escher>=1.1.2->cameo) (6.4.12)\n",
      "Requirement already satisfied: parso<0.9.0,>=0.8.0 in c:\\users\\mirei\\anaconda3\\lib\\site-packages (from jedi>=0.16->ipython>=4.0.0->ipywidgets<8,>=7.4.0->escher>=1.1.2->cameo) (0.8.3)\n",
      "Requirement already satisfied: entrypoints in c:\\users\\mirei\\anaconda3\\lib\\site-packages (from jupyter-client>=6.1.12->ipykernel>=4.5.1->ipywidgets<8,>=7.4.0->escher>=1.1.2->cameo) (0.4)\n",
      "Requirement already satisfied: jupyter-core>=4.9.2 in c:\\users\\mirei\\anaconda3\\lib\\site-packages (from jupyter-client>=6.1.12->ipykernel>=4.5.1->ipywidgets<8,>=7.4.0->escher>=1.1.2->cameo) (4.11.2)\n",
      "Requirement already satisfied: terminado>=0.8.3 in c:\\users\\mirei\\anaconda3\\lib\\site-packages (from notebook>=4.4.1->widgetsnbextension~=3.6.0->ipywidgets<8,>=7.4.0->escher>=1.1.2->cameo) (0.13.1)\n",
      "Requirement already satisfied: nbformat in c:\\users\\mirei\\anaconda3\\lib\\site-packages (from notebook>=4.4.1->widgetsnbextension~=3.6.0->ipywidgets<8,>=7.4.0->escher>=1.1.2->cameo) (5.5.0)\n",
      "Requirement already satisfied: prometheus-client in c:\\users\\mirei\\anaconda3\\lib\\site-packages (from notebook>=4.4.1->widgetsnbextension~=3.6.0->ipywidgets<8,>=7.4.0->escher>=1.1.2->cameo) (0.14.1)\n",
      "Requirement already satisfied: nbconvert>=5 in c:\\users\\mirei\\anaconda3\\lib\\site-packages (from notebook>=4.4.1->widgetsnbextension~=3.6.0->ipywidgets<8,>=7.4.0->escher>=1.1.2->cameo) (6.4.4)\n",
      "Requirement already satisfied: Send2Trash>=1.8.0 in c:\\users\\mirei\\anaconda3\\lib\\site-packages (from notebook>=4.4.1->widgetsnbextension~=3.6.0->ipywidgets<8,>=7.4.0->escher>=1.1.2->cameo) (1.8.0)\n",
      "Requirement already satisfied: argon2-cffi in c:\\users\\mirei\\anaconda3\\lib\\site-packages (from notebook>=4.4.1->widgetsnbextension~=3.6.0->ipywidgets<8,>=7.4.0->escher>=1.1.2->cameo) (21.3.0)\n",
      "Requirement already satisfied: pywin32>=1.0 in c:\\users\\mirei\\anaconda3\\lib\\site-packages (from jupyter-core>=4.9.2->jupyter-client>=6.1.12->ipykernel>=4.5.1->ipywidgets<8,>=7.4.0->escher>=1.1.2->cameo) (302)\n",
      "Requirement already satisfied: jupyterlab-pygments in c:\\users\\mirei\\anaconda3\\lib\\site-packages (from nbconvert>=5->notebook>=4.4.1->widgetsnbextension~=3.6.0->ipywidgets<8,>=7.4.0->escher>=1.1.2->cameo) (0.1.2)\n",
      "Requirement already satisfied: mistune<2,>=0.8.1 in c:\\users\\mirei\\anaconda3\\lib\\site-packages (from nbconvert>=5->notebook>=4.4.1->widgetsnbextension~=3.6.0->ipywidgets<8,>=7.4.0->escher>=1.1.2->cameo) (0.8.4)\n",
      "Requirement already satisfied: bleach in c:\\users\\mirei\\anaconda3\\lib\\site-packages (from nbconvert>=5->notebook>=4.4.1->widgetsnbextension~=3.6.0->ipywidgets<8,>=7.4.0->escher>=1.1.2->cameo) (4.1.0)\n",
      "Requirement already satisfied: testpath in c:\\users\\mirei\\anaconda3\\lib\\site-packages (from nbconvert>=5->notebook>=4.4.1->widgetsnbextension~=3.6.0->ipywidgets<8,>=7.4.0->escher>=1.1.2->cameo) (0.6.0)\n",
      "Requirement already satisfied: defusedxml in c:\\users\\mirei\\anaconda3\\lib\\site-packages (from nbconvert>=5->notebook>=4.4.1->widgetsnbextension~=3.6.0->ipywidgets<8,>=7.4.0->escher>=1.1.2->cameo) (0.7.1)\n",
      "Requirement already satisfied: beautifulsoup4 in c:\\users\\mirei\\anaconda3\\lib\\site-packages (from nbconvert>=5->notebook>=4.4.1->widgetsnbextension~=3.6.0->ipywidgets<8,>=7.4.0->escher>=1.1.2->cameo) (4.11.1)\n",
      "Requirement already satisfied: pandocfilters>=1.4.1 in c:\\users\\mirei\\anaconda3\\lib\\site-packages (from nbconvert>=5->notebook>=4.4.1->widgetsnbextension~=3.6.0->ipywidgets<8,>=7.4.0->escher>=1.1.2->cameo) (1.5.0)\n",
      "Requirement already satisfied: nbclient<0.6.0,>=0.5.0 in c:\\users\\mirei\\anaconda3\\lib\\site-packages (from nbconvert>=5->notebook>=4.4.1->widgetsnbextension~=3.6.0->ipywidgets<8,>=7.4.0->escher>=1.1.2->cameo) (0.5.13)\n",
      "Requirement already satisfied: fastjsonschema in c:\\users\\mirei\\anaconda3\\lib\\site-packages (from nbformat->notebook>=4.4.1->widgetsnbextension~=3.6.0->ipywidgets<8,>=7.4.0->escher>=1.1.2->cameo) (2.16.2)\n",
      "Requirement already satisfied: pywinpty>=1.1.0 in c:\\users\\mirei\\anaconda3\\lib\\site-packages (from terminado>=0.8.3->notebook>=4.4.1->widgetsnbextension~=3.6.0->ipywidgets<8,>=7.4.0->escher>=1.1.2->cameo) (2.0.2)\n",
      "Requirement already satisfied: argon2-cffi-bindings in c:\\users\\mirei\\anaconda3\\lib\\site-packages (from argon2-cffi->notebook>=4.4.1->widgetsnbextension~=3.6.0->ipywidgets<8,>=7.4.0->escher>=1.1.2->cameo) (21.2.0)\n",
      "Requirement already satisfied: cffi>=1.0.1 in c:\\users\\mirei\\anaconda3\\lib\\site-packages (from argon2-cffi-bindings->argon2-cffi->notebook>=4.4.1->widgetsnbextension~=3.6.0->ipywidgets<8,>=7.4.0->escher>=1.1.2->cameo) (1.15.1)\n",
      "Requirement already satisfied: soupsieve>1.2 in c:\\users\\mirei\\anaconda3\\lib\\site-packages (from beautifulsoup4->nbconvert>=5->notebook>=4.4.1->widgetsnbextension~=3.6.0->ipywidgets<8,>=7.4.0->escher>=1.1.2->cameo) (2.3.2.post1)\n",
      "Requirement already satisfied: webencodings in c:\\users\\mirei\\anaconda3\\lib\\site-packages (from bleach->nbconvert>=5->notebook>=4.4.1->widgetsnbextension~=3.6.0->ipywidgets<8,>=7.4.0->escher>=1.1.2->cameo) (0.5.1)\n",
      "Requirement already satisfied: pycparser in c:\\users\\mirei\\anaconda3\\lib\\site-packages (from cffi>=1.0.1->argon2-cffi-bindings->argon2-cffi->notebook>=4.4.1->widgetsnbextension~=3.6.0->ipywidgets<8,>=7.4.0->escher>=1.1.2->cameo) (2.21)\n"
     ]
    }
   ],
   "source": [
    "# pip install cameo"
   ]
  },
  {
   "cell_type": "code",
   "execution_count": 2,
   "id": "0191ff86-b981-449f-a178-55d4556ccdbc",
   "metadata": {},
   "outputs": [],
   "source": [
    "# from cameo.strain_design.heuristic.evolutionary_based import CofactorSwapOptimization\n",
    "# from cameo.strain_design.heuristic.evolutionary.objective_functions import product_yield\n",
    "# from cameo.strain_design.heuristic.evolutionary.optimization import CofactorSwapOptimization"
   ]
  },
  {
   "cell_type": "code",
   "execution_count": 3,
   "id": "5048eceb-cbc8-4d40-8c5b-15f074f09dff",
   "metadata": {},
   "outputs": [],
   "source": [
    "#call load_model\n",
    "%run 00load_model.ipynb"
   ]
  },
  {
   "cell_type": "code",
   "execution_count": 4,
   "id": "2dce3717-fc15-4329-a14b-3d42a601c8f4",
   "metadata": {},
   "outputs": [],
   "source": [
    "model.objective = model.reactions.DM_RED_c\n",
    "model.reactions.BIOMASS_SCO_tRNA.lower_bound = 0.045"
   ]
  },
  {
   "cell_type": "code",
   "execution_count": 5,
   "id": "72c3e003-1051-491e-80d5-c7eecf7d38ef",
   "metadata": {},
   "outputs": [],
   "source": [
    "py = product_yield(model.reactions.DM_RED_c, model.reactions.EX_glc__D_e)\n",
    "swap_optimization = CofactorSwapOptimization(model=model, objective_function=py)"
   ]
  },
  {
   "cell_type": "code",
   "execution_count": 7,
   "id": "5e176185-aa2e-4079-90c6-8083f375bccc",
   "metadata": {},
   "outputs": [],
   "source": [
    "model.solver = 'glpk'"
   ]
  },
  {
   "cell_type": "code",
   "execution_count": 8,
   "id": "45e3e58f-92c2-4d34-a38c-2348b4d56ae7",
   "metadata": {},
   "outputs": [
    {
     "name": "stdout",
     "output_type": "stream",
     "text": [
      "Starting optimization at Thu, 24 Nov 2022 16:49:52\n"
     ]
    },
    {
     "data": {
      "application/vnd.jupyter.widget-view+json": {
       "model_id": "ae589490b41241888ed7b8ef66cff27a",
       "version_major": 2,
       "version_minor": 0
      },
      "text/plain": [
       "HBox()"
      ]
     },
     "metadata": {},
     "output_type": "display_data"
    },
    {
     "name": "stdout",
     "output_type": "stream",
     "text": [
      "Finished after 00:02:04\n"
     ]
    },
    {
     "data": {
      "text/html": [
       "\n",
       "        <h4>Result:</h4>\n",
       "        <ul>\n",
       "            <li>model: Sco_GEM_v1_3_1</li>\n",
       "            <li>heuristic: GA</li>\n",
       "            <li>objective function: $$yield = \\frac{DM\\_RED\\_c}{EX\\_glc\\_\\_D\\_e}$$</li>\n",
       "            <li>simulation method: pfba</li>\n",
       "            <li>target type: cofactor-swap</li>\n",
       "        <ul>\n",
       "        <div>\n",
       "<style scoped>\n",
       "    .dataframe tbody tr th:only-of-type {\n",
       "        vertical-align: middle;\n",
       "    }\n",
       "\n",
       "    .dataframe tbody tr th {\n",
       "        vertical-align: top;\n",
       "    }\n",
       "\n",
       "    .dataframe thead th {\n",
       "        text-align: right;\n",
       "    }\n",
       "</style>\n",
       "<table border=\"1\" class=\"dataframe\">\n",
       "  <thead>\n",
       "    <tr style=\"text-align: right;\">\n",
       "      <th></th>\n",
       "      <th>index</th>\n",
       "      <th>targets</th>\n",
       "      <th>fitness</th>\n",
       "    </tr>\n",
       "  </thead>\n",
       "  <tbody>\n",
       "  </tbody>\n",
       "</table>\n",
       "</div>"
      ],
      "text/plain": [
       "<cameo.strain_design.heuristic.evolutionary.optimization.TargetOptimizationResult at 0x268a16a0f70>"
      ]
     },
     "execution_count": 8,
     "metadata": {},
     "output_type": "execute_result"
    }
   ],
   "source": [
    "swap_optimization.run(max_evaluations=2000, max_size=2)"
   ]
  },
  {
   "cell_type": "code",
   "execution_count": null,
   "id": "d9125b79-2119-497d-82b5-1176d65f863e",
   "metadata": {},
   "outputs": [],
   "source": []
  }
 ],
 "metadata": {
  "kernelspec": {
   "display_name": "Python 3 (ipykernel)",
   "language": "python",
   "name": "python3"
  },
  "language_info": {
   "codemirror_mode": {
    "name": "ipython",
    "version": 3
   },
   "file_extension": ".py",
   "mimetype": "text/x-python",
   "name": "python",
   "nbconvert_exporter": "python",
   "pygments_lexer": "ipython3",
   "version": "3.9.7"
  }
 },
 "nbformat": 4,
 "nbformat_minor": 5
}
