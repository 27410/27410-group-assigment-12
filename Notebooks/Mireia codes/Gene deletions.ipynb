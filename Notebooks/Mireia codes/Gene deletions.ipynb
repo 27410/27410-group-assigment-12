{
 "cells": [
  {
   "cell_type": "markdown",
   "id": "0abd708b-bbee-446d-a296-6901cb544a56",
   "metadata": {},
   "source": [
    "# Gene deletions"
   ]
  },
  {
   "cell_type": "code",
   "execution_count": 1,
   "id": "172f2673-ed0f-41e2-a78e-c7fdd24ffb24",
   "metadata": {},
   "outputs": [],
   "source": [
    "# Packages\n",
    "#import cobra\n",
    "#from cobra.io import read_sbml_model, load_model\n",
    "#from cobra import Model, Reaction, Metabolite\n",
    "\n",
    "# Load the model\n",
    "%run 00load_model.ipynb"
   ]
  },
  {
   "cell_type": "code",
   "execution_count": 2,
   "id": "82ca84f9-06a2-42b3-8df8-c308b315f56a",
   "metadata": {},
   "outputs": [
    {
     "name": "stdout",
     "output_type": "stream",
     "text": [
      "Max biomass growth: 0.07461812924636277\n",
      "Max RED production: 0.13190476190476172\n"
     ]
    }
   ],
   "source": [
    "# Calculate max biomass and undecyl prodigiosin (RED) production\n",
    "model.solver = 'glpk'\n",
    "with model:\n",
    "    base_max_growth = model.slim_optimize()\n",
    "    print(\"Max biomass growth:\", base_max_growth)\n",
    "    model.objective = model.reactions.DM_RED_c\n",
    "    base_max_production = model.slim_optimize()\n",
    "    print(\"Max RED production:\", base_max_production)"
   ]
  },
  {
   "cell_type": "markdown",
   "id": "79c5c570-3284-4306-b2de-91d8e2b32e93",
   "metadata": {},
   "source": [
    "Identification and knockout of genes associated with reactions that consume undecyl prodigiosin."
   ]
  },
  {
   "cell_type": "code",
   "execution_count": 3,
   "id": "426537e3-e114-4a9c-88b4-682bd36d4899",
   "metadata": {},
   "outputs": [
    {
     "data": {
      "text/plain": [
       "frozenset({<Reaction DM_RED_c at 0x20f5e157fd0>,\n",
       "           <Reaction REDS37 at 0x20f5e10a0a0>,\n",
       "           <Reaction REDt at 0x20f5e1572e0>,\n",
       "           <Reaction SRUBSYN at 0x20f5e118070>})"
      ]
     },
     "execution_count": 3,
     "metadata": {},
     "output_type": "execute_result"
    }
   ],
   "source": [
    "# Reactions with undecyl prodigiosin (RED)\n",
    "RED_reactions = model.metabolites.get_by_id('red_c').reactions\n",
    "RED_reactions"
   ]
  },
  {
   "cell_type": "code",
   "execution_count": 4,
   "id": "8be7f3db-ad20-4d0e-a616-74b4f555c50c",
   "metadata": {},
   "outputs": [
    {
     "name": "stdout",
     "output_type": "stream",
     "text": [
      "------------------\n",
      "RED reactions\n",
      "------------------\n",
      "REDS37 : atp_c + h2o_c + mbc_c + up_c --> amp_c + 2.0 h_c + 2.0 pi_c + red_c\n",
      "DM_RED_c : red_c --> \n",
      "REDt : red_c --> red_e\n",
      "SRUBSYN : 2.0 h_c + o2_c + red_c --> 2.0 h2o_c + strprub_c\n"
     ]
    }
   ],
   "source": [
    "# See the reactions\n",
    "print(\"------------------\")\n",
    "print(\"RED reactions\")\n",
    "print(\"------------------\")\n",
    "for x in RED_reactions:\n",
    "    print(\"%s : %s\" % (x.id, x.reaction))"
   ]
  },
  {
   "cell_type": "code",
   "execution_count": 5,
   "id": "83c9ca6f-0811-492d-8fbd-ae6acfa7dbc9",
   "metadata": {},
   "outputs": [
    {
     "data": {
      "text/html": [
       "\n",
       "        <table>\n",
       "            <tr>\n",
       "                <td><strong>Reaction identifier</strong></td><td>SRUBSYN</td>\n",
       "            </tr><tr>\n",
       "                <td><strong>Name</strong></td><td>SRUBSYN</td>\n",
       "            </tr><tr>\n",
       "                <td><strong>Memory address</strong></td>\n",
       "                <td>0x020f5e118070</td>\n",
       "            </tr><tr>\n",
       "                <td><strong>Stoichiometry</strong></td>\n",
       "                <td>\n",
       "                    <p style='text-align:right'>2.0 h_c + o2_c + red_c --> 2.0 h2o_c + strprub_c</p>\n",
       "                    <p style='text-align:right'>2.0 H+ + O2 + undecylprodigiosin --> 2.0 H2O + Streptorubin B</p>\n",
       "                </td>\n",
       "            </tr><tr>\n",
       "                <td><strong>GPR</strong></td><td>SCO5897</td>\n",
       "            </tr><tr>\n",
       "                <td><strong>Lower bound</strong></td><td>0.0</td>\n",
       "            </tr><tr>\n",
       "                <td><strong>Upper bound</strong></td><td>1000.0</td>\n",
       "            </tr>\n",
       "        </table>\n",
       "        "
      ],
      "text/plain": [
       "<Reaction SRUBSYN at 0x20f5e118070>"
      ]
     },
     "execution_count": 5,
     "metadata": {},
     "output_type": "execute_result"
    }
   ],
   "source": [
    "# Get the GPR code to use for the gene deletion\n",
    "model.reactions.get_by_id(\"SRUBSYN\")"
   ]
  },
  {
   "cell_type": "markdown",
   "id": "e5a813ad-09a5-47bd-aa81-9363c73de7ae",
   "metadata": {},
   "source": [
    "Once we perform the knockout, both the lower and the upper bound will be zero."
   ]
  },
  {
   "cell_type": "code",
   "execution_count": 6,
   "id": "a3612bc9-2d67-41d4-8f09-266cd58b8db7",
   "metadata": {},
   "outputs": [
    {
     "name": "stdout",
     "output_type": "stream",
     "text": [
      "---------------------\n",
      "Gene knockout targets\n",
      "---------------------\n"
     ]
    },
    {
     "ename": "NameError",
     "evalue": "name 'cobra' is not defined",
     "output_type": "error",
     "traceback": [
      "\u001b[1;31m---------------------------------------------------------------------------\u001b[0m",
      "\u001b[1;31mNameError\u001b[0m                                 Traceback (most recent call last)",
      "\u001b[1;32m~\\AppData\\Local\\Temp\\ipykernel_10648\\2229612655.py\u001b[0m in \u001b[0;36m<module>\u001b[1;34m\u001b[0m\n\u001b[0;32m      3\u001b[0m \u001b[0mprint\u001b[0m\u001b[1;33m(\u001b[0m\u001b[1;34m'Gene knockout targets'\u001b[0m\u001b[1;33m)\u001b[0m\u001b[1;33m\u001b[0m\u001b[1;33m\u001b[0m\u001b[0m\n\u001b[0;32m      4\u001b[0m \u001b[0mprint\u001b[0m\u001b[1;33m(\u001b[0m\u001b[1;34m'---------------------'\u001b[0m\u001b[1;33m)\u001b[0m\u001b[1;33m\u001b[0m\u001b[1;33m\u001b[0m\u001b[0m\n\u001b[1;32m----> 5\u001b[1;33m \u001b[0mprint\u001b[0m\u001b[1;33m(\u001b[0m\u001b[0mcobra\u001b[0m\u001b[1;33m.\u001b[0m\u001b[0mmanipulation\u001b[0m\u001b[1;33m.\u001b[0m\u001b[0mknock_out_model_genes\u001b[0m\u001b[1;33m(\u001b[0m\u001b[0mmodel\u001b[0m\u001b[1;33m,\u001b[0m \u001b[1;33m[\u001b[0m\u001b[1;34m\"SCO5897\"\u001b[0m\u001b[1;33m]\u001b[0m\u001b[1;33m)\u001b[0m\u001b[1;33m)\u001b[0m\u001b[1;33m\u001b[0m\u001b[1;33m\u001b[0m\u001b[0m\n\u001b[0m",
      "\u001b[1;31mNameError\u001b[0m: name 'cobra' is not defined"
     ]
    }
   ],
   "source": [
    "# Knockout  \n",
    "print('---------------------')\n",
    "print('Gene knockout targets')\n",
    "print('---------------------')\n",
    "print(cobra.manipulation.knock_out_model_genes(model, [\"SCO5897\"]))"
   ]
  },
  {
   "cell_type": "markdown",
   "id": "a61f873b-1cbb-420c-871a-2bcea2c46c5d",
   "metadata": {},
   "source": [
    "Because we get this AttributeError, we decided to perform the knockout manually:"
   ]
  },
  {
   "cell_type": "code",
   "execution_count": 7,
   "id": "d7666483-670f-4e93-9ad2-45b8dfd896e3",
   "metadata": {},
   "outputs": [
    {
     "data": {
      "text/html": [
       "\n",
       "        <table>\n",
       "            <tr>\n",
       "                <td><strong>Reaction identifier</strong></td><td>SRUBSYN</td>\n",
       "            </tr><tr>\n",
       "                <td><strong>Name</strong></td><td>SRUBSYN</td>\n",
       "            </tr><tr>\n",
       "                <td><strong>Memory address</strong></td>\n",
       "                <td>0x020f5e118070</td>\n",
       "            </tr><tr>\n",
       "                <td><strong>Stoichiometry</strong></td>\n",
       "                <td>\n",
       "                    <p style='text-align:right'>2.0 h_c + o2_c + red_c --> 2.0 h2o_c + strprub_c</p>\n",
       "                    <p style='text-align:right'>2.0 H+ + O2 + undecylprodigiosin --> 2.0 H2O + Streptorubin B</p>\n",
       "                </td>\n",
       "            </tr><tr>\n",
       "                <td><strong>GPR</strong></td><td>SCO5897</td>\n",
       "            </tr><tr>\n",
       "                <td><strong>Lower bound</strong></td><td>0.0</td>\n",
       "            </tr><tr>\n",
       "                <td><strong>Upper bound</strong></td><td>0.0</td>\n",
       "            </tr>\n",
       "        </table>\n",
       "        "
      ],
      "text/plain": [
       "<Reaction SRUBSYN at 0x20f5e118070>"
      ]
     },
     "execution_count": 7,
     "metadata": {},
     "output_type": "execute_result"
    }
   ],
   "source": [
    "model.reactions.get_by_id(\"SRUBSYN\").upper_bound = 0.0\n",
    "model.reactions.get_by_id(\"SRUBSYN\")"
   ]
  },
  {
   "cell_type": "markdown",
   "id": "4728ccdb-5d2d-45ba-bf2b-47c8d0be0141",
   "metadata": {},
   "source": [
    "The lower and upper bounds are now 0, thus confirming the correct knockout of the gene. The next step is to determine whether this change had an impact on the production of undecyl prodigiosin."
   ]
  },
  {
   "cell_type": "code",
   "execution_count": 8,
   "id": "1ff9c19f-5672-4589-aabd-b9564b952078",
   "metadata": {},
   "outputs": [
    {
     "name": "stdout",
     "output_type": "stream",
     "text": [
      "Max biomass growth: 0.07461812924637035\n",
      "Max RED production: 0.13190476190476194\n"
     ]
    }
   ],
   "source": [
    "# Max biomass and RED production after knockout\n",
    "model.solver = 'glpk'\n",
    "with model:\n",
    "    max_growth = model.slim_optimize()\n",
    "    print(\"Max biomass growth:\", max_growth)\n",
    "    model.objective = model.reactions.DM_RED_c\n",
    "    max_production = model.slim_optimize()\n",
    "    print(\"Max RED production:\", max_production)"
   ]
  },
  {
   "cell_type": "code",
   "execution_count": 10,
   "id": "c67e0307-695b-432c-89cd-c76ceb81090f",
   "metadata": {},
   "outputs": [
    {
     "name": "stdout",
     "output_type": "stream",
     "text": [
      "Change in max growth: 0.0 %\n",
      "Change in max production: 0.0 %\n"
     ]
    }
   ],
   "source": [
    "# Change (%) max biomass growth and RED production\n",
    "print(\"Change in max growth:\", round((max_growth-(base_max_growth))/(base_max_growth) * 100, 2), \"%\")\n",
    "print(\"Change in max production:\", round((max_production-(base_max_production))/(base_max_production) * 100, 2), \"%\")"
   ]
  },
  {
   "cell_type": "markdown",
   "id": "24b25146-ea0f-4238-95a9-7086da07c7ed",
   "metadata": {},
   "source": [
    "There's no change in the production of undecyl prodigiosin when SCO5897 is knocked out."
   ]
  },
  {
   "cell_type": "code",
   "execution_count": null,
   "id": "487e6791-0369-4197-ac2a-a72c4a770b6d",
   "metadata": {},
   "outputs": [],
   "source": []
  }
 ],
 "metadata": {
  "kernelspec": {
   "display_name": "Python 3 (ipykernel)",
   "language": "python",
   "name": "python3"
  },
  "language_info": {
   "codemirror_mode": {
    "name": "ipython",
    "version": 3
   },
   "file_extension": ".py",
   "mimetype": "text/x-python",
   "name": "python",
   "nbconvert_exporter": "python",
   "pygments_lexer": "ipython3",
   "version": "3.9.13"
  }
 },
 "nbformat": 4,
 "nbformat_minor": 5
}
