{
 "cells": [
  {
   "cell_type": "markdown",
   "metadata": {
    "id": "EXHnOeepQyn8"
   },
   "source": [
    "## 01. Predict alternative production pathways"
   ]
  },
  {
   "cell_type": "code",
   "execution_count": 2,
   "metadata": {
    "colab": {
     "base_uri": "https://localhost:8080/"
    },
    "id": "E60A3hX2QwLc",
    "outputId": "11d06d4f-2c1e-48cb-81d8-0bb158a1e4f8"
   },
   "outputs": [],
   "source": [
    "#call load_model\n",
    "%run 00load_model.ipynb"
   ]
  },
  {
   "cell_type": "code",
   "execution_count": 3,
   "metadata": {
    "colab": {
     "base_uri": "https://localhost:8080/",
     "height": 186
    },
    "id": "0tgTiQudTbIV",
    "outputId": "6a2cbd34-f86d-49bc-cc1c-6daf48ad6721"
   },
   "outputs": [
    {
     "data": {
      "text/html": [
       "\n",
       "        <table>\n",
       "            <tr>\n",
       "                <td><strong>Name</strong></td>\n",
       "                <td>Sco_GEM_v1_3_1</td>\n",
       "            </tr><tr>\n",
       "                <td><strong>Memory address</strong></td>\n",
       "                <td>0x017722241b50</td>\n",
       "            </tr><tr>\n",
       "                <td><strong>Number of metabolites</strong></td>\n",
       "                <td>2064</td>\n",
       "            </tr><tr>\n",
       "                <td><strong>Number of reactions</strong></td>\n",
       "                <td>2599</td>\n",
       "            </tr><tr>\n",
       "                <td><strong>Number of groups</strong></td>\n",
       "                <td>7</td>\n",
       "            </tr><tr>\n",
       "                <td><strong>Objective expression</strong></td>\n",
       "                <td>1.0*BIOMASS_SCO_tRNA - 1.0*BIOMASS_SCO_tRNA_reverse_d3620</td>\n",
       "            </tr><tr>\n",
       "                <td><strong>Compartments</strong></td>\n",
       "                <td>Cytoplasm, Extracellular</td>\n",
       "            </tr>\n",
       "          </table>"
      ],
      "text/plain": [
       "<Model Sco_GEM_v1_3_1 at 0x17722241b50>"
      ]
     },
     "execution_count": 3,
     "metadata": {},
     "output_type": "execute_result"
    }
   ],
   "source": [
    "#define biomass as the objective function \n",
    "model.objective = model.reactions.BIOMASS_SCO_tRNA\n",
    "model"
   ]
  },
  {
   "cell_type": "markdown",
   "metadata": {
    "id": "THSbGERCvCHZ"
   },
   "source": [
    "### Simulation for maximum growth - objective function: BIOMASS_SCO_tRNA "
   ]
  },
  {
   "cell_type": "code",
   "execution_count": 3,
   "metadata": {
    "colab": {
     "base_uri": "https://localhost:8080/",
     "height": 441
    },
    "id": "df7sQpNeWW2P",
    "outputId": "0d523c49-848c-46d3-c23f-212fe8b54d71"
   },
   "outputs": [
    {
     "data": {
      "text/html": [
       "<strong><em>Optimal</em> solution with objective value 0.075</strong><br><div>\n",
       "<style scoped>\n",
       "    .dataframe tbody tr th:only-of-type {\n",
       "        vertical-align: middle;\n",
       "    }\n",
       "\n",
       "    .dataframe tbody tr th {\n",
       "        vertical-align: top;\n",
       "    }\n",
       "\n",
       "    .dataframe thead th {\n",
       "        text-align: right;\n",
       "    }\n",
       "</style>\n",
       "<table border=\"1\" class=\"dataframe\">\n",
       "  <thead>\n",
       "    <tr style=\"text-align: right;\">\n",
       "      <th></th>\n",
       "      <th>fluxes</th>\n",
       "      <th>reduced_costs</th>\n",
       "    </tr>\n",
       "  </thead>\n",
       "  <tbody>\n",
       "    <tr>\n",
       "      <th>BIOMASS_SCO</th>\n",
       "      <td>0.000000</td>\n",
       "      <td>-2.006862e+00</td>\n",
       "    </tr>\n",
       "    <tr>\n",
       "      <th>BIOMASS_SCO_tRNA</th>\n",
       "      <td>0.074617</td>\n",
       "      <td>-5.329071e-15</td>\n",
       "    </tr>\n",
       "    <tr>\n",
       "      <th>CARBOHYDRATE_PSEUDO</th>\n",
       "      <td>0.074617</td>\n",
       "      <td>0.000000e+00</td>\n",
       "    </tr>\n",
       "    <tr>\n",
       "      <th>CELL_WALL_PSEUDO</th>\n",
       "      <td>0.074617</td>\n",
       "      <td>2.775558e-17</td>\n",
       "    </tr>\n",
       "    <tr>\n",
       "      <th>DNA_PSEUDO</th>\n",
       "      <td>0.074617</td>\n",
       "      <td>-3.469447e-18</td>\n",
       "    </tr>\n",
       "    <tr>\n",
       "      <th>...</th>\n",
       "      <td>...</td>\n",
       "      <td>...</td>\n",
       "    </tr>\n",
       "    <tr>\n",
       "      <th>EX_xyl__D_e</th>\n",
       "      <td>0.000000</td>\n",
       "      <td>-1.722884e-01</td>\n",
       "    </tr>\n",
       "    <tr>\n",
       "      <th>EX_xylb_e</th>\n",
       "      <td>0.000000</td>\n",
       "      <td>0.000000e+00</td>\n",
       "    </tr>\n",
       "    <tr>\n",
       "      <th>EX_xylt_e</th>\n",
       "      <td>0.000000</td>\n",
       "      <td>-1.773392e-01</td>\n",
       "    </tr>\n",
       "    <tr>\n",
       "      <th>EX_ycpk_e</th>\n",
       "      <td>0.000000</td>\n",
       "      <td>0.000000e+00</td>\n",
       "    </tr>\n",
       "    <tr>\n",
       "      <th>EX_zn2_e</th>\n",
       "      <td>-0.000028</td>\n",
       "      <td>0.000000e+00</td>\n",
       "    </tr>\n",
       "  </tbody>\n",
       "</table>\n",
       "<p>2599 rows × 2 columns</p>\n",
       "</div>"
      ],
      "text/plain": [
       "<Solution 0.075 at 0x2db7f458e20>"
      ]
     },
     "execution_count": 3,
     "metadata": {},
     "output_type": "execute_result"
    }
   ],
   "source": [
    "from optlang.interface import SOLUTION_LIMIT\n",
    "solution = model.optimize()\n",
    "solution"
   ]
  },
  {
   "cell_type": "markdown",
   "metadata": {
    "id": "a-HWG7J4WpvO"
   },
   "source": [
    "We can see the optimal solution has a value of 0.075."
   ]
  },
  {
   "cell_type": "code",
   "execution_count": 4,
   "metadata": {
    "colab": {
     "base_uri": "https://localhost:8080/"
    },
    "id": "PZqWrk4BWxly",
    "outputId": "2a149a1c-52d5-4f23-afc8-518d5627653c"
   },
   "outputs": [
    {
     "name": "stdout",
     "output_type": "stream",
     "text": [
      "Enzyme description:  undecylprodigiosin synthase \n",
      " Reaction REDS37: atp_c + h2o_c + mbc_c + up_c --> amp_c + 2.0 h_c + 2.0 pi_c + red_c \n",
      "\n"
     ]
    }
   ],
   "source": [
    "#check if our model has the production of undecylprodigiosin \n",
    "for m in model.reactions:\n",
    "    if \"undecylprodigiosin synthase\" in m.name.lower():\n",
    "        print(\"Enzyme description: \", m.name,\"\\n\",\"Reaction\", m, \"\\n\")"
   ]
  },
  {
   "cell_type": "code",
   "execution_count": 5,
   "metadata": {
    "colab": {
     "base_uri": "https://localhost:8080/"
    },
    "id": "tr47DtAjl0q3",
    "outputId": "7dad56c8-8648-4bc1-df17-3a10b5d5d560"
   },
   "outputs": [
    {
     "data": {
      "text/plain": [
       "BIOMASS_SCO_tRNA       0.074617\n",
       "CARBOHYDRATE_PSEUDO    0.074617\n",
       "CELL_WALL_PSEUDO       0.074617\n",
       "DNA_PSEUDO             0.074617\n",
       "LIPID_PSEUDO           0.074617\n",
       "                         ...   \n",
       "EX_ni2_e              -0.000027\n",
       "EX_o2_e               -1.727388\n",
       "EX_pi_e               -0.073858\n",
       "EX_so4_e              -0.019368\n",
       "EX_zn2_e              -0.000028\n",
       "Name: fluxes, Length: 713, dtype: float64"
      ]
     },
     "execution_count": 5,
     "metadata": {},
     "output_type": "execute_result"
    }
   ],
   "source": [
    "#check the fluxes that have values different than 0\n",
    "solution.fluxes[solution.fluxes != 0.]"
   ]
  },
  {
   "cell_type": "code",
   "execution_count": 6,
   "metadata": {
    "colab": {
     "base_uri": "https://localhost:8080/"
    },
    "id": "tr47DtAjl0q3",
    "outputId": "7dad56c8-8648-4bc1-df17-3a10b5d5d560"
   },
   "outputs": [
    {
     "data": {
      "text/plain": [
       "0.0"
      ]
     },
     "execution_count": 6,
     "metadata": {},
     "output_type": "execute_result"
    }
   ],
   "source": [
    "#check if there is consumption or production of undecylprodigiosin \n",
    "solution.fluxes[\"REDS37\"]"
   ]
  },
  {
   "cell_type": "markdown",
   "metadata": {
    "id": "JF73bmQnvMND"
   },
   "source": [
    "### Simulation for maximum production - objective function: REDS37"
   ]
  },
  {
   "cell_type": "code",
   "execution_count": 6,
   "metadata": {
    "colab": {
     "base_uri": "https://localhost:8080/"
    },
    "id": "aTlfxrLtvVq8",
    "outputId": "a159ca55-c98f-44a0-da54-f1a351bcb789"
   },
   "outputs": [
    {
     "name": "stdout",
     "output_type": "stream",
     "text": [
      "Fluxes in mmol / [gDW h] (concentration per gram dry weight of cells and hour) \n",
      "\n",
      "Lower bound:0.01 - Biomass: 0.01 - Undecylprodigiosin: 0.114\n",
      "Lower bound:0.015 - Biomass: 0.015 - Undecylprodigiosin: 0.105\n",
      "Lower bound:0.02 - Biomass: 0.02 - Undecylprodigiosin: 0.097\n",
      "Lower bound:0.025 - Biomass: 0.025 - Undecylprodigiosin: 0.088\n",
      "Lower bound:0.03 - Biomass: 0.03 - Undecylprodigiosin: 0.079\n",
      "Lower bound:0.035 - Biomass: 0.035 - Undecylprodigiosin: 0.07\n",
      "Lower bound:0.04 - Biomass: 0.04 - Undecylprodigiosin: 0.061\n",
      "Lower bound:0.045 - Biomass: 0.045 - Undecylprodigiosin: 0.053\n",
      "Lower bound:0.05 - Biomass: 0.05 - Undecylprodigiosin: 0.044\n",
      "Lower bound:0.055 - Biomass: 0.055 - Undecylprodigiosin: 0.035\n",
      "Lower bound:0.06 - Biomass: 0.06 - Undecylprodigiosin: 0.026\n",
      "Lower bound:0.065 - Biomass: 0.065 - Undecylprodigiosin: 0.017\n",
      "Lower bound:0.07 - Biomass: 0.07 - Undecylprodigiosin: 0.008\n"
     ]
    }
   ],
   "source": [
    "#create two lists for a plot\n",
    "undepro_flux = list()      #undecylprodigiosin\n",
    "biomass_flux = list()\n",
    "\n",
    "print(\"Fluxes in mmol / [gDW h] (concentration per gram dry weight of cells and hour)\", \"\\n\")\n",
    "with model:\n",
    "    \n",
    "    #loop to check different values of lower bounds for biomass formation\n",
    "    i = 0.01\n",
    "    while i < 0.075:\n",
    "        model.reactions.BIOMASS_SCO_tRNA.lower_bound = i \n",
    "        model.objective = model.reactions.DM_RED_c\n",
    "        solution = model.optimize()\n",
    "        biomass_flux.append(round(solution.fluxes.BIOMASS_SCO_tRNA,3))\n",
    "        undepro_flux.append(round(solution.fluxes.DM_RED_c,3))\n",
    "        print(f'Lower bound:{round(i,3)} - Biomass: {round(solution.fluxes.BIOMASS_SCO_tRNA,3)} - Undecylprodigiosin: {round(solution.fluxes.DM_RED_c,3)}')\n",
    "        \n",
    "        i += 0.005"
   ]
  },
  {
   "cell_type": "code",
   "execution_count": 7,
   "metadata": {
    "colab": {
     "base_uri": "https://localhost:8080/",
     "height": 312
    },
    "id": "T9dlZb6b5NH8",
    "outputId": "f803a69d-7a39-4a01-cc6c-ea0144d77905"
   },
   "outputs": [
    {
     "data": {
      "image/png": "[encoded data removed]",
      "text/plain": [
       "<Figure size 432x288 with 1 Axes>"
      ]
     },
     "metadata": {
      "needs_background": "light"
     },
     "output_type": "display_data"
    }
   ],
   "source": [
    "fig, ax = plt.subplots();\n",
    "ax.plot(biomass_flux, undepro_flux); \n",
    "\n",
    "ax.set_title('Biomass - undecylprodigiosin production relation');\n",
    "ax.set_xlabel('Biomass growth rate $[h^{-1}]$');\n",
    "ax.set_ylabel('Undecylprodigiosin flux\\n$[mmol*gDW^{-1}*h^{-1}]$');"
   ]
  },
  {
   "cell_type": "code",
   "execution_count": 8,
   "metadata": {},
   "outputs": [
    {
     "name": "stdout",
     "output_type": "stream",
     "text": [
      "Biomass growth rate (1/h) : 0.045\n",
      "Undecylprodigiosin flux (mmol / [gDW h]): 0.053\n",
      "Glucose uptake (mmol / [gDW h]: -0.8\n"
     ]
    }
   ],
   "source": [
    "with model:\n",
    "    model.reactions.BIOMASS_SCO_tRNA.lower_bound = 0.045\n",
    "    model.objective = model.reactions.DM_RED_c\n",
    "    solution = model.optimize()\n",
    "    print('Biomass growth rate (1 / h) :',solution.fluxes.BIOMASS_SCO_tRNA)\n",
    "    print('Undecylprodigiosin flux (mmol / [gDW h]):',round(solution.fluxes.DM_RED_c,3))\n",
    "    print('Glucose uptake (mmol / [gDW h]:',solution.fluxes.EX_glc__D_e)"
   ]
  },
  {
   "cell_type": "code",
   "execution_count": 10,
   "metadata": {
    "colab": {
     "base_uri": "https://localhost:8080/"
    },
    "id": "TJDljEA6yFPx",
    "outputId": "043fc8aa-0570-4b33-ad87-6e24ea6ad82f"
   },
   "outputs": [
    {
     "name": "stdout",
     "output_type": "stream",
     "text": [
      "Maximum biomass productivity: 0.045 mmol / [gDW h]\n",
      "Maximum undecylprodigiosin productivity = 0.053 mmol / [gDW h]\n",
      "Maximum yield = 0.066 mmol / [gDW h]\n"
     ]
    }
   ],
   "source": [
    "  with model:\n",
    "  \n",
    "\n",
    "    model.objective = model.reactions.DM_RED_c\n",
    "    solution = model.optimize()\n",
    "    print(\"Maximum biomass growth rate:\", solution.fluxes[\"BIOMASS_SCO_tRNA\"], \"1 / h\")\n",
    "    \n",
    "    gluc_ex_flux = model.reactions.EX_glc__D_e.flux\n",
    "    max_yield = solution.fluxes[\"REDS37\"] / (-1*gluc_ex_flux)\n",
    "\n",
    "    print(\"Maximum undecylprodigiosin productivity =\", round(solution.fluxes[\"REDS37\"],3), \"mmol / [gDW h]\")\n",
    "    print(\"Maximum yield =\", round(max_yield,3), \"mmol / [gDW h]\")"
   ]
  },
  {
   "cell_type": "markdown",
   "metadata": {
    "id": "5zC4WPjjuvJi"
   },
   "source": [
    "### Assessment of carbon sources"
   ]
  },
  {
   "cell_type": "code",
   "execution_count": 9,
   "metadata": {
    "colab": {
     "base_uri": "https://localhost:8080/"
    },
    "id": "zW4HF-zRu77Q",
    "outputId": "7b8ae0d6-2082-46e1-d74e-6aae799191ac"
   },
   "outputs": [
    {
     "name": "stdout",
     "output_type": "stream",
     "text": [
      "The carbon sources that produce better results than glucose given that their uptake flux is 0.8 mmol/gDRW/h are:\n",
      "\n",
      "              Carbon source                | Production of antibiotic [mmol/gDW/h]\n",
      "----------------------------------------------------------------------------------\n",
      "Cellulose (chain length 500 glc_D assumed) | 72.524\n",
      "                         Xylan (Oat spelt) | 64.229\n",
      "                             Maltoheptaose |  0.948\n",
      "                              Maltohexaose |  0.800\n",
      "                        1,4-alpha-D-glucan |  0.800\n",
      "                             Maltopentaose |  0.648\n",
      "                             Maltotetraose |  0.500\n",
      "                               Maltotriose |  0.353\n",
      "                                 Raffinose |  0.347\n",
      "                   N,N'-diacetylchitobiose |  0.284\n",
      "                                Melibiitol |  0.210\n",
      "                                   Maltose |  0.205\n",
      "                                 Trehalose |  0.205\n",
      "                                   Lactose |  0.199\n",
      "                                 Melibiose |  0.199\n",
      "                              Epimelibiose |  0.199\n",
      "                                Cellobiose |  0.195\n",
      "         1-alpha-D-Galactosyl-myo-inositol |  0.194\n",
      "                        Galactosylglycerol |  0.136\n",
      "                    N-Acetyl-D-glucosamine |  0.097\n",
      "                                      dAMP |  0.084\n",
      "                            Deoxyadenosine |  0.084\n",
      "                                       AMP |  0.080\n",
      "                                 Adenosine |  0.080\n",
      "                                    3'-AMP |  0.080\n",
      "                          2',3'-Cyclic AMP |  0.080\n",
      "                              Deoxyinosine |  0.078\n",
      "                                      dIMP |  0.078\n",
      "                                L-Tyrosine |  0.075\n",
      "                                   Inosine |  0.074\n",
      "                                       IMP |  0.074\n",
      "                              L-Isoleucine |  0.067\n",
      "                                 L-Leucine |  0.066\n",
      "                                      dGMP |  0.064\n",
      "                            Deoxyguanosine |  0.064\n",
      "                                Xanthosine |  0.063\n",
      "                   Xanthosine 5'-phosphate |  0.063\n",
      "                                 Guanosine |  0.060\n",
      "                                       GMP |  0.060\n",
      "                          2',3'-Cyclic GMP |  0.060\n",
      "                                    3'-GMP |  0.060\n",
      "                                D-Sorbitol |  0.058\n",
      "                                D-Mannitol |  0.058\n",
      "                                L-Rhamnose |  0.053\n",
      "                             D-glucosamine |  0.053\n",
      "                                 D-Glucose |  0.053\n"
     ]
    }
   ],
   "source": [
    "carbon_sources = []\n",
    "\n",
    "for reaction in model.exchanges:\n",
    "    for metabolite in reaction.metabolites:\n",
    "        if 'C' in metabolite.elements:\n",
    "            carbon_sources.append(reaction)\n",
    "\n",
    "with model:\n",
    "    model.reactions.BIOMASS_SCO_tRNA.lower_bound = 0.045\n",
    "    model.objective = model.reactions.DM_RED_c\n",
    "    threshold = model.slim_optimize(error_value=0.0)\n",
    "\n",
    "solution_dict = {}\n",
    "\n",
    "for cs in carbon_sources:\n",
    "    with model:\n",
    "        medium = model.medium\n",
    "        medium['EX_glc__D_e'] = 0 # remove glucose from medium\n",
    "        medium[cs.id] = 0.8 # add carbon source to medium\n",
    "        model.medium = medium\n",
    "        model.reactions.BIOMASS_SCO_tRNA.lower_bound = 0.045\n",
    "        model.objective = model.reactions.DM_RED_c\n",
    "        solution = model.slim_optimize(error_value=0.0)\n",
    "\n",
    "        if solution > threshold:\n",
    "            solution_dict[cs.id] = solution\n",
    "\n",
    "print(f'The carbon sources that produce better results than glucose given that their uptake flux is 0.8 mmol/gDRW/h are:')\n",
    "print('')\n",
    "print(f'{\"Carbon source\":^42} | Production of antibiotic [mmol/gDW/h]')\n",
    "print('-'*82)\n",
    "for source, production in sorted(solution_dict.items(), key=lambda item: item[1], reverse=True):\n",
    "    print(f'{list(model.reactions.get_by_id(source).metabolites)[0].name:>42} | {production:>6.3f}')"
   ]
  },
  {
   "cell_type": "markdown",
   "metadata": {
    "id": "W8MSV324_YHQ"
   },
   "source": [
    "### Trying growth in aerobic and anaerobic conditions"
   ]
  },
  {
   "cell_type": "code",
   "execution_count": 12,
   "metadata": {
    "colab": {
     "base_uri": "https://localhost:8080/"
    },
    "id": "VKMn4B7r9WhX",
    "outputId": "ec807603-aa3a-4309-8760-86375a61263a"
   },
   "outputs": [
    {
     "name": "stdout",
     "output_type": "stream",
     "text": [
      "Areobic conditions\n",
      "Oxygen in the medium: 1000.0\n",
      "Oxygen Exchange reaction: -1.727\n",
      "Biomass flux: 0.075\n",
      "Prodigiosin flux:  0.0\n",
      "Reactions with flux different than 0: 764\n"
     ]
    }
   ],
   "source": [
    "with model: \n",
    "    print(\"Areobic conditions\")\n",
    "\n",
    "    model.objective = model.reactions.BIOMASS_SCO_tRNA\n",
    "    solution = model.optimize()\n",
    "\n",
    "    print(\"Oxygen in the medium:\", model.medium[\"EX_o2_e\"])\n",
    "    print(\"Oxygen Exchange reaction:\", round(solution.fluxes[\"EX_o2_e\"],3))\n",
    "    print(\"Biomass flux:\", round(solution.fluxes.BIOMASS_SCO_tRNA,3))           #model.slim_optimize() can be used to perform optimization without creating a solution\n",
    "    print(\"Prodigiosin flux: \", round(solution.fluxes.DM_RED_c,3))\n",
    "    print(\"Reactions with flux different than 0:\",len(solution.fluxes[solution.fluxes != 0.]))"
   ]
  },
  {
   "cell_type": "code",
   "execution_count": 13,
   "metadata": {
    "colab": {
     "base_uri": "https://localhost:8080/"
    },
    "id": "IeXrfEMWx8mS",
    "outputId": "dd13f2b2-c95d-4245-e2d9-9b95f21642a3"
   },
   "outputs": [
    {
     "name": "stdout",
     "output_type": "stream",
     "text": [
      "Anaereobic conditions\n",
      "Oxygen in the medium: 0.0\n",
      "Oxygen Exchange reaction: 0.0\n",
      "Biomass flux: 0.0\n",
      "Prodigiosin flux: 0.0\n",
      "Reactions with flux different than 0: 103\n"
     ]
    }
   ],
   "source": [
    "with model:\n",
    "    anaerobic_medium = model.medium\n",
    "    anaerobic_medium[\"EX_o2_e\"] = 0.0\n",
    "    model.medium = anaerobic_medium\n",
    "\n",
    "    model.objective = model.reactions.BIOMASS_SCO_tRNA\n",
    "    solution = model.optimize()\n",
    "\n",
    "    print(\"Anaereobic conditions\")\n",
    "    print(\"Oxygen in the medium:\", anaerobic_medium[\"EX_o2_e\"])\n",
    "    print(\"Oxygen Exchange reaction:\", round(solution.fluxes[\"EX_o2_e\"],3))\n",
    "    print(\"Biomass flux:\", round(solution.fluxes.BIOMASS_SCO_tRNA,3))\n",
    "    print(\"Prodigiosin flux:\", round(solution.fluxes.DM_RED_c,3))\n",
    "    print(\"Reactions with flux different than 0:\",len(solution.fluxes[solution.fluxes != 0.]))"
   ]
  },
  {
   "cell_type": "code",
   "execution_count": 14,
   "metadata": {
    "colab": {
     "base_uri": "https://localhost:8080/",
     "height": 0
    },
    "id": "UaFXflD800ak",
    "outputId": "d957cd81-f442-49fe-a381-bd2a72e7705f"
   },
   "outputs": [
    {
     "data": {
      "text/html": [
       "\n",
       "        <table>\n",
       "            <tr>\n",
       "                <td><strong>Reaction identifier</strong></td><td>NO3R2</td>\n",
       "            </tr><tr>\n",
       "                <td><strong>Name</strong></td><td>Nitrate reductase (menaquinol-9)</td>\n",
       "            </tr><tr>\n",
       "                <td><strong>Memory address</strong></td>\n",
       "                <td>0x2db7f0c3160</td>\n",
       "            </tr><tr>\n",
       "                <td><strong>Stoichiometry</strong></td>\n",
       "                <td>\n",
       "                    <p style='text-align:right'>2.0 h_c + mql9_c + no3_c --> h2o_c + 2.0 h_e + mqn9_c + no2_c</p>\n",
       "                    <p style='text-align:right'>2.0 H+ + Menaquinol 9 + Nitrate --> H2O + 2.0 H+ + Menaquinone 9 + Nitrite</p>\n",
       "                </td>\n",
       "            </tr><tr>\n",
       "                <td><strong>GPR</strong></td><td>(SCO0216 and SCO0217 and SCO0218 and SCO0219) or (SCO4947 and SCO4948 and SCO4949 and SCO4950) or...</td>\n",
       "            </tr><tr>\n",
       "                <td><strong>Lower bound</strong></td><td>0.0</td>\n",
       "            </tr><tr>\n",
       "                <td><strong>Upper bound</strong></td><td>1000.0</td>\n",
       "            </tr>\n",
       "        </table>\n",
       "        "
      ],
      "text/plain": [
       "<Reaction NO3R2 at 0x2db7f0c3160>"
      ]
     },
     "execution_count": 14,
     "metadata": {},
     "output_type": "execute_result"
    }
   ],
   "source": [
    "#Find genes involved in the ability to grow without O2\n",
    "model.genes.SCO0216 #narG2 #NO3R2\n",
    "model.genes.SCO0217 #narH2\n",
    "model.genes.SCO0218 #narJ2\n",
    "model.genes.SCO0219 #narl2\n",
    "model.genes.SCO4947 #narG3\n",
    "model.genes.SCO4948 #narH3\n",
    "model.genes.SCO4949 #narJ3\n",
    "model.genes.SCO4950 #narl3\n",
    "model.genes.SCO6532 #narl\n",
    "model.genes.SCO6533 #narJ\n",
    "model.genes.SCO6534 #narH\n",
    "model.genes.SCO6535 #narG\n",
    "\n",
    "model.reactions.NO3R2"
   ]
  },
  {
   "cell_type": "code",
   "execution_count": 15,
   "metadata": {
    "colab": {
     "base_uri": "https://localhost:8080/"
    },
    "id": "lUWcv-x46Boi",
    "outputId": "990c2ca7-b0bb-4067-ff6f-41c4b2b9ff79"
   },
   "outputs": [
    {
     "name": "stdout",
     "output_type": "stream",
     "text": [
      "Areobic conditions\n",
      "Oxygen in the medium: 1000.0\n",
      "Oxygen Exchange reaction: -1.727\n",
      "NO3R3 flux: 0.0\n",
      "\n",
      "Anaereobic conditions\n",
      "Oxygen in the medium: 0.0\n",
      "Oxygen Exchange reaction: 0.0\n",
      "NO3R3 flux: 0.0\n"
     ]
    }
   ],
   "source": [
    "#Check if the reaction flux changes with the two different mediums\n",
    "with model:\n",
    "    model.objective = model.reactions.BIOMASS_SCO_tRNA\n",
    "    solution = model.optimize()\n",
    "    \n",
    "    print(\"Areobic conditions\")\n",
    "    print(\"Oxygen in the medium:\", model.medium[\"EX_o2_e\"])\n",
    "    print(\"Oxygen Exchange reaction:\", round(solution.fluxes.EX_o2_e,3))\n",
    "    print(\"NO3R3 flux:\", solution.fluxes.NO3R2)           \n",
    "\n",
    "    anaerobic_medium = model.medium\n",
    "    anaerobic_medium[\"EX_o2_e\"] = 0.0\n",
    "    model.medium = anaerobic_medium\n",
    "    model.objective = model.reactions.BIOMASS_SCO_tRNA\n",
    "    solution = model.optimize()\n",
    "\n",
    "    print(\"\\nAnaereobic conditions\")\n",
    "    print(\"Oxygen in the medium:\", anaerobic_medium[\"EX_o2_e\"])\n",
    "    print(\"Oxygen Exchange reaction:\", round(solution.fluxes.EX_o2_e,3))\n",
    "    print(\"NO3R3 flux:\", solution.fluxes.NO3R2)"
   ]
  },
  {
   "cell_type": "markdown",
   "metadata": {
    "id": "IA1UCJQLogZe"
   },
   "source": [
    "### Alternative mediums"
   ]
  },
  {
   "cell_type": "markdown",
   "metadata": {
    "id": "WB2YWQA-qio9"
   },
   "source": [
    "**Minimal medium**"
   ]
  },
  {
   "cell_type": "markdown",
   "metadata": {
    "id": "fFA-tqE1JMmM"
   },
   "source": [
    "Minimal medium was tested to see the changes in productivity and yield. In the minimal medium carbon dioxide (EX_co2_e), iron (EX_fe3_e), water (EX_h2o_e), sodium (EX_na2_e), protons (EX_h_e), and tungstate (EX_tungs_e) exchange reactions were inhibited. No alteration was found in either productivity or yield.\n"
   ]
  },
  {
   "cell_type": "code",
   "execution_count": 16,
   "metadata": {
    "id": "T3zW-Nl5JOEQ"
   },
   "outputs": [
    {
     "data": {
      "text/plain": [
       "EX_ca2_e        0.000429\n",
       "EX_cl_e         0.000429\n",
       "EX_cobalt2_e    0.000003\n",
       "EX_cu2_e        0.000058\n",
       "EX_fe2_e        0.001453\n",
       "EX_glc__D_e     0.800000\n",
       "EX_k_e          0.016078\n",
       "EX_mg2_e        0.000715\n",
       "EX_mn2_e        0.000057\n",
       "EX_mobd_e       0.000003\n",
       "EX_nh4_e        0.651820\n",
       "EX_ni2_e        0.000027\n",
       "EX_o2_e         1.727388\n",
       "EX_pi_e         0.073858\n",
       "EX_so4_e        0.019368\n",
       "EX_zn2_e        0.000028\n",
       "dtype: float64"
      ]
     },
     "execution_count": 16,
     "metadata": {},
     "output_type": "execute_result"
    }
   ],
   "source": [
    "from cobra.medium import minimal_medium\n",
    "\n",
    "#create minimal medium\n",
    "max_growth = model.slim_optimize()\n",
    "minimal_medium(model, max_growth)"
   ]
  },
  {
   "cell_type": "code",
   "execution_count": 30,
   "metadata": {
    "id": "aKrE62WeJcYH"
   },
   "outputs": [
    {
     "name": "stdout",
     "output_type": "stream",
     "text": [
      "Biomass productivity: 0.045 mmol / [gDW h]\n",
      "Productivity of undecylprodigiosin = 0.053 mmol / [gDW h]\n",
      "Yield = 0.066\n"
     ]
    }
   ],
   "source": [
    "with model:\n",
    "    min_medium = minimal_medium(model, max_growth)\n",
    "    model.medium = min_medium\n",
    "    model.reactions.BIOMASS_SCO_tRNA.lower_bound = 0.045\n",
    "    model.objective = model.reactions.DM_RED_c\n",
    "    solution = model.optimize()\n",
    "    max_yield = solution.fluxes[\"REDS37\"] / (-1*model.reactions.EX_glc__D_e.flux)\n",
    "\n",
    "    print(\"Biomass productivity:\", solution.fluxes[\"BIOMASS_SCO_tRNA\"], \"mmol / [gDW h]\")\n",
    "    print('Productivity of undecylprodigiosin =', round(solution.fluxes[\"REDS37\"],3), \"mmol / [gDW h]\")\n",
    "    print('Yield =', round(max_yield,3))"
   ]
  },
  {
   "cell_type": "markdown",
   "metadata": {
    "id": "VVWXIUcSqlc2"
   },
   "source": [
    "**R5 medium**"
   ]
  },
  {
   "cell_type": "markdown",
   "metadata": {
    "id": "IyB3zEFJxsIz"
   },
   "source": [
    "The R5 medium is composed of sucrose, potassium sulfate, magnesium chloride, glucose, casamino acids, and yeast extract. The amino acids were added to the medium and the productivity and yield were tested. Both showed a significant increase of 0.912 mmol / [gDW h] and a value of 1.14, respectively. Nevertheless, the exchange reaction from sucrose uptake was 0, meaning that the main carbon source was glucose. Moreover, the limitant reaction was the uptake of oxygen, followed by proton and glucose exchange reactions."
   ]
  },
  {
   "cell_type": "code",
   "execution_count": 18,
   "metadata": {
    "id": "g8LdmmwPofu1"
   },
   "outputs": [],
   "source": [
    "#first we define medium\n",
    "R5_medium = model.medium\n",
    "R5_medium['EX_o2_e']     = 10\n",
    "R5_medium['EX_gly_e']    = 0.4\n",
    "R5_medium['EX_sucr_e']   = 8\n",
    "R5_medium['EX_glc__D_e'] = 0.8\n",
    "R5_medium['EX_ala__L_e'] = 0.4\n",
    "R5_medium['EX_arg__L_e'] = 0.4\n",
    "R5_medium['EX_asp__L_e'] = 0.4\n",
    "R5_medium['EX_cys__L_e'] = 0.4\n",
    "R5_medium['EX_glu__L_e'] = 0.4\n",
    "R5_medium['EX_his__L_e'] = 0.4\n",
    "R5_medium['EX_ile__L_e'] = 0.4\n",
    "R5_medium['EX_leu__L_e'] = 0.4\n",
    "R5_medium['EX_lys__L_e'] = 0.4\n",
    "R5_medium['EX_met__L_e'] = 0.4\n",
    "R5_medium['EX_phe__L_e'] = 0.4\n",
    "R5_medium['EX_pro__L_e'] = 0.4\n",
    "R5_medium['EX_ser__L_e'] = 0.4\n",
    "R5_medium['EX_thr__L_e'] = 0.4\n",
    "R5_medium['EX_trp__L_e'] = 0.4\n",
    "R5_medium['EX_tyr__L_e'] = 0.4\n",
    "R5_medium['EX_val__L_e'] = 0.4\n",
    "\n",
    "#trace element solution\n",
    "R5_medium[\"EX_zn2_e\"] = 0.4\n",
    "R5_medium[\"EX_fe2_e\"] = 0.4\n",
    "R5_medium[\"EX_cu2_e\"] = 0.4\n",
    "R5_medium[\"EX_mn2_e\"] = 0.4\n",
    "R5_medium[\"EX_nh4_e\"] = 0.4\n",
    "\n",
    "#change boundaries of the other compounds\n",
    "R5_medium[\"EX_ca2_e\"]     = 0.4\n",
    "R5_medium[\"EX_cl_e\"]      = 0.4\n",
    "R5_medium[\"EX_co2_e\"]     = 0.4\n",
    "R5_medium[\"EX_cobalt2_e\"] = 0.4\n",
    "R5_medium[\"EX_k_e\"]       = 0.4\n",
    "R5_medium[\"EX_mg2_e\"]     = 0.4\n",
    "R5_medium[\"EX_mobd_e\"]    = 0.4\n",
    "R5_medium[\"EX_ni2_e\"]     = 0.4\n",
    "R5_medium[\"EX_pi_e\"]      = 0.4\n",
    "R5_medium[\"EX_so4_e\"]     = 0.4"
   ]
  },
  {
   "cell_type": "code",
   "execution_count": 25,
   "metadata": {
    "colab": {
     "base_uri": "https://localhost:8080/"
    },
    "id": "vE5IFf-EJmy0",
    "outputId": "2a01c402-475c-4dd0-d55a-cf255042fb91"
   },
   "outputs": [
    {
     "name": "stdout",
     "output_type": "stream",
     "text": [
      "Maximum biomass productivity: 0.045 mmol / [gDW h]\n",
      "Maximum productivity of undecylprodigiosin = 0.912 mmol / [gDW h]\n",
      "Maximum yield = 1.14\n",
      "\n",
      "Check fluxes that are not active:\n",
      "EX_fe3_e 0.0\n",
      "EX_na1_e 0.0\n",
      "EX_tungs_e 0.0\n",
      "EX_sucr_e 0.0\n",
      "\n",
      "Check limiting flux\n",
      "EX_o2_e :  -6.791\n",
      "EX_h_e :  -4.682\n",
      "EX_glc__D_e :  -0.8\n",
      "EX_gly_e :  -0.4\n",
      "EX_ala__L_e :  -0.4\n"
     ]
    }
   ],
   "source": [
    "with model:\n",
    "    fluxes_R5 = []\n",
    "    model.medium = R5_medium\n",
    "\n",
    "    model.reactions.BIOMASS_SCO_tRNA.lower_bound = 0.045\n",
    "    model.objective = model.reactions.DM_RED_c\n",
    "    solution = model.optimize()\n",
    "\n",
    "    max_yield = solution.fluxes[\"REDS37\"] / (-1*model.reactions.EX_glc__D_e.flux)\n",
    "    print(\"Maximum biomass productivity:\", solution.fluxes[\"BIOMASS_SCO_tRNA\"], \"mmol / [gDW h]\")\n",
    "    print('Maximum productivity of undecylprodigiosin =', round(solution.fluxes[\"REDS37\"],3), \"mmol / [gDW h]\")\n",
    "    print('Maximum yield =', round(max_yield,3))\n",
    "\n",
    "    print(\"\\nCheck fluxes that are not active:\")\n",
    "    for element in R5_medium:\n",
    "        if solution.fluxes[element] == 0.:\n",
    "            print(element, round(solution.fluxes[element],3))\n",
    "\n",
    "    print(\"\\nCheck limiting flux\")\n",
    "    for element in R5_medium:\n",
    "        if solution.fluxes[element]!= 0.:\n",
    "            fluxes_R5.append((element,round(solution.fluxes[element],3)))\n",
    "\n",
    "    for flux, value in sorted(fluxes_R5, key = lambda element : element[1])[0:5]:\n",
    "        print(flux,': ',value)"
   ]
  },
  {
   "cell_type": "markdown",
   "metadata": {
    "id": "gImBH6CLIiQ9"
   },
   "source": [
    "**SFM**"
   ]
  },
  {
   "cell_type": "markdown",
   "metadata": {
    "id": "7LAtFPf_qo8_"
   },
   "source": [
    "The SFM medium is composed of mannitol, so the compound was added to the medium with an exchange reaction flux of 0.8. Again, the productivity and yield were tested for this medium. The productivity was seen to be 0.206 mmol/[gDW h] while the yield was 0,258. In this case, the exchange reaction for oxygen was the limiting reaction, followed by the uptake of NH4 and glucose / mannitol uptake. When glucose uptake was set to 0, the production fell to 0.058 mmol/[gDW h] and the yield to 0.073. "
   ]
  },
  {
   "cell_type": "code",
   "execution_count": 20,
   "metadata": {
    "colab": {
     "base_uri": "https://localhost:8080/"
    },
    "id": "4pZbJZ8mIyaS",
    "outputId": "de71fc6a-0ec1-46dc-c86f-dbd76127ed33"
   },
   "outputs": [
    {
     "data": {
      "text/plain": [
       "{'EX_ca2_e': 1000.0,\n",
       " 'EX_cl_e': 1000.0,\n",
       " 'EX_co2_e': 1000.0,\n",
       " 'EX_cobalt2_e': 1000.0,\n",
       " 'EX_cu2_e': 1000.0,\n",
       " 'EX_fe2_e': 1000.0,\n",
       " 'EX_fe3_e': 1000.0,\n",
       " 'EX_glc__D_e': 0.8,\n",
       " 'EX_h2o_e': 1000.0,\n",
       " 'EX_h_e': 1000.0,\n",
       " 'EX_k_e': 1000.0,\n",
       " 'EX_mg2_e': 1000.0,\n",
       " 'EX_mn2_e': 1000.0,\n",
       " 'EX_mobd_e': 1000.0,\n",
       " 'EX_na1_e': 1000.0,\n",
       " 'EX_nh4_e': 1000.0,\n",
       " 'EX_ni2_e': 1000.0,\n",
       " 'EX_o2_e': 10,\n",
       " 'EX_pi_e': 1000.0,\n",
       " 'EX_so4_e': 1000.0,\n",
       " 'EX_tungs_e': 1000.0,\n",
       " 'EX_zn2_e': 1000.0,\n",
       " 'EX_mnl_e': 0.8}"
      ]
     },
     "execution_count": 20,
     "metadata": {},
     "output_type": "execute_result"
    }
   ],
   "source": [
    "SFM_medium = model.medium\n",
    "SFM_medium[\"EX_mnl_e\"] = 0.8\n",
    "SFM_medium[\"EX_o2_e\"] = 10\n",
    "SFM_medium[\"EX_glc__D_e\"] = 0.8\n",
    "SFM_medium"
   ]
  },
  {
   "cell_type": "code",
   "execution_count": 26,
   "metadata": {
    "colab": {
     "base_uri": "https://localhost:8080/"
    },
    "id": "7CbKQ_RsKZDH",
    "outputId": "3e04c8fb-6275-4f46-f349-080738047d73"
   },
   "outputs": [
    {
     "name": "stdout",
     "output_type": "stream",
     "text": [
      "Maximum biomass productivity: 0.045 mmol / [gDW h]\n",
      "Maximum productivity of undecylprodigiosin = 0.206 mmol / [gDW h]\n",
      "Maximum yield = 0.258\n",
      "\n",
      "Check fluxes that are not active:\n",
      "EX_fe3_e 0.0\n",
      "EX_na1_e 0.0\n",
      "EX_tungs_e 0.0\n",
      "\n",
      "Check limitant flux:\n",
      "EX_o2_e :  -1.757\n",
      "EX_nh4_e :  -1.011\n",
      "EX_glc__D_e :  -0.8\n",
      "EX_mnl_e :  -0.8\n",
      "EX_pi_e :  -0.045\n"
     ]
    }
   ],
   "source": [
    "with model:\n",
    "    fluxes_SFM = []\n",
    "    model.medium = SFM_medium\n",
    "\n",
    "    model.reactions.BIOMASS_SCO_tRNA.lower_bound = 0.045\n",
    "    model.objective = model.reactions.DM_RED_c\n",
    "    solution = model.optimize()\n",
    "\n",
    "    max_yield = solution.fluxes[\"REDS37\"] / (-1*model.reactions.EX_mnl_e.flux)\n",
    "    print(\"Maximum biomass productivity:\", solution.fluxes[\"BIOMASS_SCO_tRNA\"], \"mmol / [gDW h]\")\n",
    "    print('Maximum productivity of undecylprodigiosin =', round(solution.fluxes[\"REDS37\"],3), \"mmol / [gDW h]\")\n",
    "    print('Maximum yield =', round(max_yield,3))\n",
    "\n",
    "    print(\"\\nCheck fluxes that are not active:\")\n",
    "    for element in SFM_medium:\n",
    "        if solution.fluxes[element] == 0.:\n",
    "            print(element, round(solution.fluxes[element],3))\n",
    "\n",
    "    print(\"\\nCheck limiting flux\")\n",
    "    for element in SFM_medium:\n",
    "        if solution.fluxes[element]!= 0.:\n",
    "            fluxes_SFM.append((element,round(solution.fluxes[element],3)))\n",
    "\n",
    "    for flux, value in sorted(fluxes_SFM, key = lambda element : element[1])[0:5]:\n",
    "        print(flux,': ',value)"
   ]
  },
  {
   "cell_type": "markdown",
   "metadata": {
    "id": "afTZ6A-grtxV"
   },
   "source": [
    "**DSMZ**"
   ]
  },
  {
   "cell_type": "markdown",
   "metadata": {
    "id": "xNzqydA_kqQZ"
   },
   "source": [
    "The DSMZ medium is composed of malt extract (mixture of maltose and amino acids) and agar (galactose). All the components were added to the medium and the best productivity and yield were achieved this time. A productivity of 1.340 mmol/[gDW h] and a yield of 1.675."
   ]
  },
  {
   "cell_type": "code",
   "execution_count": 29,
   "metadata": {
    "id": "cbnuhsw0kq_o"
   },
   "outputs": [
    {
     "data": {
      "text/plain": [
       "{'EX_ca2_e': 1000.0,\n",
       " 'EX_cl_e': 1000.0,\n",
       " 'EX_co2_e': 1000.0,\n",
       " 'EX_cobalt2_e': 1000.0,\n",
       " 'EX_cu2_e': 1000.0,\n",
       " 'EX_fe2_e': 1000.0,\n",
       " 'EX_fe3_e': 1000.0,\n",
       " 'EX_glc__D_e': 0.8,\n",
       " 'EX_h2o_e': 1000.0,\n",
       " 'EX_h_e': 1000.0,\n",
       " 'EX_k_e': 1000.0,\n",
       " 'EX_mg2_e': 1000.0,\n",
       " 'EX_mn2_e': 1000.0,\n",
       " 'EX_mobd_e': 1000.0,\n",
       " 'EX_na1_e': 1000.0,\n",
       " 'EX_nh4_e': 1000.0,\n",
       " 'EX_ni2_e': 1000.0,\n",
       " 'EX_o2_e': 10,\n",
       " 'EX_pi_e': 1000.0,\n",
       " 'EX_so4_e': 1000.0,\n",
       " 'EX_tungs_e': 1000.0,\n",
       " 'EX_zn2_e': 1000.0,\n",
       " 'EX_malt_e': 0.8,\n",
       " 'EX_gal_e': 0.8,\n",
       " 'EX_ala__L_e': 0.4,\n",
       " 'EX_arg__L_e': 0.4,\n",
       " 'EX_asp__L_e': 0.4,\n",
       " 'EX_cys__L_e': 0.4,\n",
       " 'EX_glu__L_e': 0.4,\n",
       " 'EX_his__L_e': 0.4,\n",
       " 'EX_ile__L_e': 0.4,\n",
       " 'EX_leu__L_e': 0.4,\n",
       " 'EX_lys__L_e': 0.4,\n",
       " 'EX_met__L_e': 0.4,\n",
       " 'EX_phe__L_e': 0.4,\n",
       " 'EX_pro__L_e': 0.4,\n",
       " 'EX_ser__L_e': 0.4,\n",
       " 'EX_thr__L_e': 0.4,\n",
       " 'EX_trp__L_e': 0.4,\n",
       " 'EX_tyr__L_e': 0.4,\n",
       " 'EX_val__L_e': 0.4}"
      ]
     },
     "execution_count": 29,
     "metadata": {},
     "output_type": "execute_result"
    }
   ],
   "source": [
    "malt_medium = model.medium\n",
    "malt_medium[\"EX_malt_e\"] = 0.8\n",
    "malt_medium[\"EX_o2_e\"] = 10\n",
    "malt_medium[\"EX_gal_e\"] = 0.8\n",
    "malt_medium['EX_glc__D_e'] = 0.8\n",
    "malt_medium['EX_ala__L_e'] = 0.4\n",
    "malt_medium['EX_arg__L_e'] = 0.4\n",
    "malt_medium['EX_asp__L_e'] = 0.4\n",
    "malt_medium['EX_cys__L_e'] = 0.4\n",
    "malt_medium['EX_glu__L_e'] = 0.4\n",
    "malt_medium['EX_his__L_e'] = 0.4\n",
    "malt_medium['EX_ile__L_e'] = 0.4\n",
    "malt_medium['EX_leu__L_e'] = 0.4\n",
    "malt_medium['EX_lys__L_e'] = 0.4\n",
    "malt_medium['EX_met__L_e'] = 0.4\n",
    "malt_medium['EX_phe__L_e'] = 0.4\n",
    "malt_medium['EX_pro__L_e'] = 0.4\n",
    "malt_medium['EX_ser__L_e'] = 0.4\n",
    "malt_medium['EX_thr__L_e'] = 0.4\n",
    "malt_medium['EX_trp__L_e'] = 0.4\n",
    "malt_medium['EX_tyr__L_e'] = 0.4\n",
    "malt_medium['EX_val__L_e'] = 0.4\n",
    "malt_medium"
   ]
  },
  {
   "cell_type": "code",
   "execution_count": 27,
   "metadata": {
    "id": "yBX0IH1uk6G3"
   },
   "outputs": [
    {
     "name": "stdout",
     "output_type": "stream",
     "text": [
      "Maximum biomass productivity: 0.045 mmol / [gDW h]\n",
      "Maximum productivity of undecylprodigiosin = 1.34 mmol / [gDW h]\n",
      "Maximum yield = 1.675\n",
      "\n",
      "Check fluxes that are not active:\n",
      "EX_fe3_e 0.0\n",
      "EX_na1_e 0.0\n",
      "EX_tungs_e 0.0\n",
      "\n",
      "Check limiting flux\n",
      "EX_o2_e :  -1.757\n",
      "EX_nh4_e :  -1.011\n",
      "EX_glc__D_e :  -0.8\n",
      "EX_mnl_e :  -0.8\n",
      "EX_pi_e :  -0.045\n"
     ]
    }
   ],
   "source": [
    "with model:\n",
    "    fluxes_malt = []\n",
    "    model.medium = malt_medium\n",
    "\n",
    "    model.reactions.BIOMASS_SCO_tRNA.lower_bound = 0.045\n",
    "    model.objective = model.reactions.DM_RED_c\n",
    "    solution = model.optimize()\n",
    "\n",
    "    max_yield = solution.fluxes[\"REDS37\"] / (-1*model.reactions.EX_malt_e.flux)\n",
    "    print(\"Maximum biomass productivity:\", solution.fluxes[\"BIOMASS_SCO_tRNA\"], \"mmol / [gDW h]\")\n",
    "    print('Maximum productivity of undecylprodigiosin =', round(solution.fluxes[\"REDS37\"],3), \"mmol / [gDW h]\")\n",
    "    print('Maximum yield =', round(max_yield,3))\n",
    "\n",
    "    print(\"\\nCheck fluxes that are not active:\")\n",
    "    for element in malt_medium:\n",
    "        if solution.fluxes[element] == 0.:\n",
    "            print(element, round(solution.fluxes[element],3))\n",
    "\n",
    "    print(\"\\nCheck limiting flux\")\n",
    "    for element in malt_medium:\n",
    "        if solution.fluxes[element]!= 0.:\n",
    "            fluxes_malt.append((element,round(solution.fluxes[element],3)))\n",
    "\n",
    "    for flux, value in sorted(fluxes_SFM, key = lambda element : element[1])[0:5]:\n",
    "        print(flux,': ',value)"
   ]
  }
 ],
 "metadata": {
  "colab": {
   "provenance": []
  },
  "kernelspec": {
   "display_name": "Python 3 (ipykernel)",
   "language": "python",
   "name": "python3"
  },
  "language_info": {
   "codemirror_mode": {
    "name": "ipython",
    "version": 3
   },
   "file_extension": ".py",
   "mimetype": "text/x-python",
   "name": "python",
   "nbconvert_exporter": "python",
   "pygments_lexer": "ipython3",
   "version": "3.9.7"
  },
  "widgets": {
   "application/vnd.jupyter.widget-state+json": {
    "state": {},
    "version_major": 2,
    "version_minor": 0
   }
  }
 },
 "nbformat": 4,
 "nbformat_minor": 4
}
