{
 "cells": [
  {
   "cell_type": "markdown",
   "id": "e5982b9d-7cd0-4828-9b5d-9765fae5b71d",
   "metadata": {},
   "source": [
    "# 00. Read model"
   ]
  },
  {
   "cell_type": "code",
   "execution_count": 2,
   "id": "020c031a-bdb5-416f-96fd-13d0f35102b9",
   "metadata": {},
   "outputs": [],
   "source": [
    "#import modules\n",
    "import numpy as np\n",
    "from matplotlib import pyplot as plt\n",
    "from mpl_toolkits import mplot3d\n",
    "plt.style.use('ggplot')\n",
    "%matplotlib inline\n",
    "import cobra \n",
    "from cobra.io import read_sbml_model\n",
    "from cobra.util import create_stoichiometric_matrix\n",
    "from cobra import flux_analysis\n",
    "from cobra.flux_analysis import production_envelope"
   ]
  },
  {
   "cell_type": "code",
   "execution_count": 3,
   "id": "279f212e-f4d3-4dd1-bb98-2a6413461b59",
   "metadata": {},
   "outputs": [],
   "source": [
    "#read model\n",
    "model = read_sbml_model(\"../models/Sco-GEM.xml\")"
   ]
  }
 ],
 "metadata": {
  "kernelspec": {
   "display_name": "Python 3 (ipykernel)",
   "language": "python",
   "name": "python3"
  },
  "language_info": {
   "codemirror_mode": {
    "name": "ipython",
    "version": 3
   },
   "file_extension": ".py",
   "mimetype": "text/x-python",
   "name": "python",
   "nbconvert_exporter": "python",
   "pygments_lexer": "ipython3",
   "version": "3.8.12"
  },
  "widgets": {
   "application/vnd.jupyter.widget-state+json": {
    "state": {},
    "version_major": 2,
    "version_minor": 0
   }
  }
 },
 "nbformat": 4,
 "nbformat_minor": 5
}
