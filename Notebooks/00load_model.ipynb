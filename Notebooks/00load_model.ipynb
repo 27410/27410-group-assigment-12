{
 "cells": [
  {
   "cell_type": "markdown",
   "id": "e5982b9d-7cd0-4828-9b5d-9765fae5b71d",
   "metadata": {},
   "source": [
    "# 00. Read model"
   ]
  },
  {
   "cell_type": "code",
   "execution_count": 4,
   "id": "020c031a-bdb5-416f-96fd-13d0f35102b9",
   "metadata": {},
   "outputs": [],
   "source": [
    "#import modules\n",
    "import numpy as np\n",
    "from scipy.integrate import solve_ivp\n",
    "from matplotlib import pyplot as plt\n",
    "from mpl_toolkits import mplot3d\n",
    "plt.style.use('ggplot')\n",
    "%matplotlib inline\n",
    "import cobra \n",
    "from cobra.io import read_sbml_model\n",
    "from cobra.util import create_stoichiometric_matrix\n",
    "from cobra import flux_analysis\n",
    "from cobra.flux_analysis import production_envelope"
   ]
  },
  {
   "cell_type": "code",
   "execution_count": 3,
   "id": "279f212e-f4d3-4dd1-bb98-2a6413461b59",
   "metadata": {},
   "outputs": [],
   "source": [
    "#read model\n",
    "model = read_sbml_model(\"../Models/Sco-GEM.xml\")"
   ]
  },
  {
   "cell_type": "code",
   "execution_count": 14,
   "id": "fe80d2a3",
   "metadata": {},
   "outputs": [
    {
     "name": "stdout",
     "output_type": "stream",
     "text": [
      "Note: you may need to restart the kernel to use updated packages.\n"
     ]
    }
   ],
   "source": [
    "pip freeze > requirements.txt"
   ]
  },
  {
   "cell_type": "code",
   "execution_count": 24,
   "id": "233fc29e",
   "metadata": {},
   "outputs": [
    {
     "name": "stdout",
     "output_type": "stream",
     "text": [
      "Requirement already satisfied: pipreqs in c:\\users\\paula\\anaconda3\\lib\\site-packages (0.4.11)\n",
      "Requirement already satisfied: docopt in c:\\users\\paula\\anaconda3\\lib\\site-packages (from pipreqs) (0.6.2)\n",
      "Requirement already satisfied: yarg in c:\\users\\paula\\anaconda3\\lib\\site-packages (from pipreqs) (0.1.9)\n",
      "Requirement already satisfied: requests in c:\\users\\paula\\anaconda3\\lib\\site-packages (from yarg->pipreqs) (2.26.0)\n",
      "Requirement already satisfied: urllib3<1.27,>=1.21.1 in c:\\users\\paula\\anaconda3\\lib\\site-packages (from requests->yarg->pipreqs) (1.26.7)\n",
      "Requirement already satisfied: charset-normalizer~=2.0.0 in c:\\users\\paula\\anaconda3\\lib\\site-packages (from requests->yarg->pipreqs) (2.0.4)\n",
      "Requirement already satisfied: certifi>=2017.4.17 in c:\\users\\paula\\anaconda3\\lib\\site-packages (from requests->yarg->pipreqs) (2021.10.8)\n",
      "Requirement already satisfied: idna<4,>=2.5 in c:\\users\\paula\\anaconda3\\lib\\site-packages (from requests->yarg->pipreqs) (3.2)\n"
     ]
    },
    {
     "ename": "NameError",
     "evalue": "name 'pipreqs' is not defined",
     "output_type": "error",
     "traceback": [
      "\u001b[1;31m---------------------------------------------------------------------------\u001b[0m",
      "\u001b[1;31mNameError\u001b[0m                                 Traceback (most recent call last)",
      "\u001b[1;32m~\\AppData\\Local\\Temp/ipykernel_21756/1771232300.py\u001b[0m in \u001b[0;36m<module>\u001b[1;34m\u001b[0m\n\u001b[0;32m      1\u001b[0m \u001b[0mget_ipython\u001b[0m\u001b[1;33m(\u001b[0m\u001b[1;33m)\u001b[0m\u001b[1;33m.\u001b[0m\u001b[0msystem\u001b[0m\u001b[1;33m(\u001b[0m\u001b[1;34m'pip install pipreqs'\u001b[0m\u001b[1;33m)\u001b[0m\u001b[1;33m\u001b[0m\u001b[1;33m\u001b[0m\u001b[0m\n\u001b[1;32m----> 2\u001b[1;33m \u001b[0mpipreqs\u001b[0m \u001b[1;33m/\u001b[0m\u001b[0mDocuments\u001b[0m\u001b[1;33m/\u001b[0m\u001b[0mDTU\u001b[0m\u001b[1;33m/\u001b[0m\u001b[1;34m'3rd semester'\u001b[0m\u001b[1;33m/\u001b[0m\u001b[1;34m'Computer-aided cell factory design'\u001b[0m\u001b[1;33m/\u001b[0m\u001b[0mproject27410\u001b[0m\u001b[1;33m-\u001b[0m\u001b[0mgroup\u001b[0m\u001b[1;33m-\u001b[0m\u001b[0massigment\u001b[0m\u001b[1;33m-\u001b[0m\u001b[1;36m12\u001b[0m\u001b[1;33m\u001b[0m\u001b[1;33m\u001b[0m\u001b[0m\n\u001b[0m",
      "\u001b[1;31mNameError\u001b[0m: name 'pipreqs' is not defined"
     ]
    }
   ],
   "source": [
    "!pip install pipreqs"
   ]
  },
  {
   "cell_type": "code",
   "execution_count": 27,
   "id": "dd7b18fc",
   "metadata": {},
   "outputs": [],
   "source": [
    "!pip freeze > ../requirements.txt"
   ]
  }
 ],
 "metadata": {
  "kernelspec": {
   "display_name": "Python 3 (ipykernel)",
   "language": "python",
   "name": "python3"
  },
  "language_info": {
   "codemirror_mode": {
    "name": "ipython",
    "version": 3
   },
   "file_extension": ".py",
   "mimetype": "text/x-python",
   "name": "python",
   "nbconvert_exporter": "python",
   "pygments_lexer": "ipython3",
   "version": "3.9.7"
  },
  "widgets": {
   "application/vnd.jupyter.widget-state+json": {
    "state": {},
    "version_major": 2,
    "version_minor": 0
   }
  }
 },
 "nbformat": 4,
 "nbformat_minor": 5
}
