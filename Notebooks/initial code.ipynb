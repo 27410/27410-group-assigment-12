{
 "cells": [
  {
   "cell_type": "markdown",
   "id": "1eccbae9-fb70-487f-9b8e-2517e1c3aa95",
   "metadata": {
    "tags": []
   },
   "source": [
    "### Importing the necessary modules and loading the model"
   ]
  },
  {
   "cell_type": "code",
   "execution_count": 10,
   "id": "298d6c4e-7b50-4b77-b765-36fb9d9d2883",
   "metadata": {},
   "outputs": [],
   "source": [
    "import cobra\n",
    "from cobra.io import read_sbml_model\n",
    "from cobra.util import create_stoichiometric_matrix\n",
    "from cobra.medium import minimal_medium"
   ]
  },
  {
   "cell_type": "code",
   "execution_count": 11,
   "id": "ff4c0a40-48ab-4962-b16c-87aa5cb3f215",
   "metadata": {},
   "outputs": [],
   "source": [
    "model = read_sbml_model('models/Sco-GEM.xml')"
   ]
  },
  {
   "cell_type": "markdown",
   "id": "a9672053-cda2-4d1d-9013-d2dbc74e91ae",
   "metadata": {
    "tags": []
   },
   "source": [
    "### Flux Balance analysis of the initial model"
   ]
  },
  {
   "cell_type": "code",
   "execution_count": 12,
   "id": "57f56891-98e1-4be6-83ee-cc51a4a0b7bd",
   "metadata": {},
   "outputs": [
    {
     "data": {
      "text/plain": [
       "{'EX_ca2_e': 1000.0,\n",
       " 'EX_cl_e': 1000.0,\n",
       " 'EX_co2_e': 1000.0,\n",
       " 'EX_cobalt2_e': 1000.0,\n",
       " 'EX_cu2_e': 1000.0,\n",
       " 'EX_fe2_e': 1000.0,\n",
       " 'EX_fe3_e': 1000.0,\n",
       " 'EX_glc__D_e': 0.8,\n",
       " 'EX_h2o_e': 1000.0,\n",
       " 'EX_h_e': 1000.0,\n",
       " 'EX_k_e': 1000.0,\n",
       " 'EX_mg2_e': 1000.0,\n",
       " 'EX_mn2_e': 1000.0,\n",
       " 'EX_mobd_e': 1000.0,\n",
       " 'EX_na1_e': 1000.0,\n",
       " 'EX_nh4_e': 1000.0,\n",
       " 'EX_ni2_e': 1000.0,\n",
       " 'EX_o2_e': 1000.0,\n",
       " 'EX_pi_e': 1000.0,\n",
       " 'EX_so4_e': 1000.0,\n",
       " 'EX_tungs_e': 1000.0,\n",
       " 'EX_zn2_e': 1000.0}"
      ]
     },
     "execution_count": 12,
     "metadata": {},
     "output_type": "execute_result"
    }
   ],
   "source": [
    "medium = model.medium\n",
    "medium"
   ]
  },
  {
   "cell_type": "code",
   "execution_count": 5,
   "id": "a29b029b-b612-457e-b891-c31e8abb124f",
   "metadata": {},
   "outputs": [
    {
     "name": "stdout",
     "output_type": "stream",
     "text": [
      "The objective is to Maximize\n",
      "1.0*BIOMASS_SCO_tRNA - 1.0*BIOMASS_SCO_tRNA_reverse_d3620\n"
     ]
    }
   ],
   "source": [
    "sol = model.optimize()\n",
    "print(f'The objective is to {model.objective}')"
   ]
  },
  {
   "cell_type": "code",
   "execution_count": 6,
   "id": "6684599a-c229-4682-b6e8-1bf057aff233",
   "metadata": {},
   "outputs": [
    {
     "name": "stdout",
     "output_type": "stream",
     "text": [
      "Biomass production rate is 0.075 h^-1.\n",
      "The production of antibiotic is 0.0 mmol/gDRW/h.\n"
     ]
    }
   ],
   "source": [
    "print(f'Biomass production rate is {sol.fluxes.BIOMASS_SCO_tRNA:.3f} h^-1.')\n",
    "print(f'The production of antibiotic is {sol.fluxes.DM_RED_c} mmol/gDRW/h.')"
   ]
  },
  {
   "cell_type": "markdown",
   "id": "f4db45e4-5504-469e-a074-7905a79d861f",
   "metadata": {
    "tags": []
   },
   "source": [
    "### Flux balance analysis for the maximization of production"
   ]
  },
  {
   "cell_type": "code",
   "execution_count": 9,
   "id": "91f02c86-3ab5-4d81-bf2e-e976f66d55bc",
   "metadata": {},
   "outputs": [
    {
     "name": "stdout",
     "output_type": "stream",
     "text": [
      "The objective is to Maximize\n",
      "1.0*DM_RED_c - 1.0*DM_RED_c_reverse_13383\n",
      "\n",
      "Biomass production rate is 0.045 h^-1.\n",
      "The production of antibiotic is 0.053 mmol/gDRW/h.\n"
     ]
    }
   ],
   "source": [
    "with model:\n",
    "    model.objective = model.reactions.DM_RED_c\n",
    "    model.reactions.BIOMASS_SCO_tRNA.lower_bound = 0.045\n",
    "    sol = model.optimize()\n",
    "    print(f'The objective is to {model.objective}')\n",
    "    print('')\n",
    "    print(f'Biomass production rate is {sol.fluxes.BIOMASS_SCO_tRNA} h^-1.')\n",
    "    print(f'The production of antibiotic is {sol.fluxes.DM_RED_c:.3f} mmol/gDRW/h.')"
   ]
  },
  {
   "cell_type": "markdown",
   "id": "3be0659e-2173-4f46-ad9e-bd0e48deef5a",
   "metadata": {},
   "source": [
    "### Carbon sources"
   ]
  },
  {
   "cell_type": "code",
   "execution_count": 8,
   "id": "9d148fbc-0e84-4555-aed7-3cbd2b71a203",
   "metadata": {},
   "outputs": [
    {
     "name": "stdout",
     "output_type": "stream",
     "text": [
      "The carbon sources that produce better results than glucose given that their uptake flux is 0.8 mmol/gDRW/h are:\n",
      "\n",
      "              Carbon source                | Production of antibiotic [mmol/gDW/h]\n",
      "----------------------------------------------------------------------------------\n",
      "Cellulose (chain length 500 glc_D assumed) | 72.603\n",
      "                         Xylan (Oat spelt) | 64.308\n",
      "                             Maltoheptaose |  1.027\n",
      "                        1,4-alpha-D-glucan |  0.880\n",
      "                              Maltohexaose |  0.880\n",
      "                             Maltopentaose |  0.727\n",
      "                             Maltotetraose |  0.580\n",
      "                               Maltotriose |  0.432\n",
      "                                 Raffinose |  0.426\n",
      "                   N,N'-diacetylchitobiose |  0.363\n",
      "                                Melibiitol |  0.289\n",
      "                                 Trehalose |  0.284\n",
      "                                   Maltose |  0.284\n",
      "                                 Melibiose |  0.278\n",
      "                                   Lactose |  0.278\n",
      "                              Epimelibiose |  0.278\n",
      "                                Cellobiose |  0.275\n",
      "         1-alpha-D-Galactosyl-myo-inositol |  0.274\n",
      "                        Galactosylglycerol |  0.215\n",
      "                    N-Acetyl-D-glucosamine |  0.176\n",
      "                            Deoxyadenosine |  0.163\n",
      "                                      dAMP |  0.163\n",
      "                          2',3'-Cyclic AMP |  0.158\n",
      "                                       AMP |  0.158\n",
      "                                    3'-AMP |  0.158\n",
      "                                 Adenosine |  0.158\n",
      "                                      dIMP |  0.157\n",
      "                              Deoxyinosine |  0.157\n",
      "                                L-Tyrosine |  0.155\n",
      "                                   Inosine |  0.152\n",
      "                                       IMP |  0.152\n",
      "                                 L-Leucine |  0.146\n",
      "                              L-Isoleucine |  0.146\n",
      "                            Deoxyguanosine |  0.143\n",
      "                                      dGMP |  0.143\n",
      "                                Xanthosine |  0.142\n",
      "                   Xanthosine 5'-phosphate |  0.142\n",
      "                                 Guanosine |  0.138\n",
      "                                       GMP |  0.138\n",
      "                                    3'-GMP |  0.138\n",
      "                          2',3'-Cyclic GMP |  0.138\n",
      "                                D-Sorbitol |  0.138\n",
      "                                D-Mannitol |  0.138\n",
      "                                L-Rhamnose |  0.133\n",
      "                             D-glucosamine |  0.132\n",
      "                                 D-Glucose |  0.132\n",
      "                                   Salicin |  0.132\n",
      "                                 D-Mannose |  0.132\n",
      "                                D-Fructose |  0.132\n",
      "                               D-Galactose |  0.131\n",
      "                                  L-Lysine |  0.131\n",
      "                       L,L-diaminopimelate |  0.128\n",
      "             meso-2,6-Diaminoheptanedioate |  0.128\n",
      "           sn-Glycero-3-phospho-1-inositol |  0.126\n",
      "                              myo-Inositol |  0.126\n",
      "                                 Vanillate |  0.122\n",
      "                        D-Alanyl-D-alanine |  0.120\n",
      "                               D-Gluconate |  0.118\n",
      "                                 L-Idonate |  0.118\n",
      "                             Deoxycytidine |  0.118\n",
      "                                      dCMP |  0.118\n",
      "             2-Dehydro-3-deoxy-D-gluconate |  0.116\n",
      "                              Deoxyuridine |  0.116\n",
      "                                      dUMP |  0.116\n",
      "                                 Thymidine |  0.114\n",
      "                                      dTMP |  0.114\n",
      "                                  L-Valine |  0.114\n",
      "                                       CMP |  0.113\n",
      "                              D-Arabinitol |  0.113\n",
      "                                    3'-cmp |  0.113\n",
      "                          2',3'-Cyclic CMP |  0.113\n",
      "                                  Cytidine |  0.113\n",
      "                                    3'-UMP |  0.112\n",
      "                          2',3'-Cyclic UMP |  0.112\n",
      "                                       UMP |  0.112\n",
      "                                   Uridine |  0.112\n",
      "                               Deoxyribose |  0.112\n",
      "                                 Ornithine |  0.108\n",
      "                     5-Dehydro-D-gluconate |  0.107\n",
      "                                  D-Xylose |  0.106\n",
      "                               L-Arabinose |  0.106\n",
      "                                 L-Proline |  0.104\n",
      "                                  D-Lyxose |  0.103\n",
      "                                   Xylitol |  0.103\n",
      "                                  D-Ribose |  0.103\n",
      "                                  L-Lyxose |  0.102\n",
      "                                Putrescine |  0.101\n",
      "                                  Agmatine |  0.100\n",
      "                               L-Histidine |  0.099\n",
      "                               D-Glucarate |  0.096\n",
      "                         O-Acetyl-L-serine |  0.096\n",
      "                                   Citrate |  0.088\n",
      "                               L-Glutamate |  0.087\n",
      "                                 Shikimate |  0.087\n",
      "                    (R)-3-Hydroxybutanoate |  0.085\n",
      "                               L-Glutamine |  0.083\n",
      "                          4-Aminobutanoate |  0.081\n",
      "                            2-Oxoglutarate |  0.076\n",
      "                               L-Threonine |  0.075\n",
      "                    Glycerophosphoglycerol |  0.069\n",
      "                                  Glycerol |  0.069\n",
      "                              L-Tryptophan |  0.063\n",
      "                                 Succinate |  0.059\n",
      "                          Dihydroxyacetone |  0.058\n",
      "                          D-Glyceraldehyde |  0.058\n",
      "                       Propionate (n-C3:0) |  0.055\n",
      "                               L-Aspartate |  0.055\n",
      "                              L-Asparagine |  0.055\n",
      "                              beta-Alanine |  0.053\n",
      "                                  L-Malate |  0.053\n",
      "                                 L-Alanine |  0.053\n",
      "                                 D-Lactate |  0.053\n",
      "                                 D-Alanine |  0.053\n",
      "                                  Fumarate |  0.053\n"
     ]
    }
   ],
   "source": [
    "carbon_sources = []\n",
    "\n",
    "for reaction in model.exchanges:\n",
    "    for metabolite in reaction.metabolites:\n",
    "        if 'C' in metabolite.elements:\n",
    "            carbon_sources.append(reaction)\n",
    "\n",
    "with model:\n",
    "    model.objective = model.reactions.DM_RED_c\n",
    "    model.reactions.BIOMASS_SCO_tRNA.lower_bound = 0.045\n",
    "    threshold = model.slim_optimize(error_value=0.0)\n",
    "\n",
    "solution_dict = {}\n",
    "\n",
    "for cs in carbon_sources:\n",
    "    with model:\n",
    "        medium = model.medium\n",
    "        medium['EX_glc__D_e'] = 0 # remove glucose from medium\n",
    "        medium[cs.id] = 0.8 # add carbon source to medium\n",
    "        model.medium = medium\n",
    "        model.objective = model.reactions.DM_RED_c\n",
    "        solution = model.slim_optimize(error_value=0.0)\n",
    "\n",
    "        if solution > threshold:\n",
    "            solution_dict[cs.id] = solution\n",
    "\n",
    "print(f'The carbon sources that produce better results than glucose given that their uptake flux is 0.8 mmol/gDRW/h are:')\n",
    "print('')\n",
    "print(f'{\"Carbon source\":^42} | Production of antibiotic [mmol/gDW/h]')\n",
    "print('-'*82)\n",
    "for source, production in sorted(solution_dict.items(), key=lambda item: item[1], reverse=True):\n",
    "    print(f'{list(model.reactions.get_by_id(source).metabolites)[0].name:>42} | {production:>6.3f}')"
   ]
  }
 ],
 "metadata": {
  "kernelspec": {
   "display_name": "Python 3 (ipykernel)",
   "language": "python",
   "name": "python3"
  },
  "language_info": {
   "codemirror_mode": {
    "name": "ipython",
    "version": 3
   },
   "file_extension": ".py",
   "mimetype": "text/x-python",
   "name": "python",
   "nbconvert_exporter": "python",
   "pygments_lexer": "ipython3",
   "version": "3.8.12"
  },
  "widgets": {
   "application/vnd.jupyter.widget-state+json": {
    "state": {},
    "version_major": 2,
    "version_minor": 0
   }
  }
 },
 "nbformat": 4,
 "nbformat_minor": 5
}
