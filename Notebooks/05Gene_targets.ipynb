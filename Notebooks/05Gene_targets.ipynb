{
 "cells": [
  {
   "cell_type": "markdown",
   "id": "46633e27-db2c-404f-9779-445e3979dffb",
   "metadata": {},
   "source": [
    "# 05. Gene targets"
   ]
  },
  {
   "cell_type": "code",
   "execution_count": 1,
   "id": "718fcedf",
   "metadata": {},
   "outputs": [],
   "source": [
    "%run 00load_model.ipynb"
   ]
  },
  {
   "cell_type": "code",
   "execution_count": 3,
   "id": "ac8f3b15",
   "metadata": {},
   "outputs": [],
   "source": [
    "from cameo.strain_design.deterministic.flux_variability_based import FSEOF\n",
    "from cobra.io import read_sbml_model\n",
    "from matplotlib import pyplot as plt\n",
    "\n",
    "medium = model.medium"
   ]
  },
  {
   "cell_type": "code",
   "execution_count": null,
   "id": "1ef0a8c6",
   "metadata": {},
   "outputs": [],
   "source": [
    "fseof = FSEOF(model)"
   ]
  },
  {
   "cell_type": "code",
   "execution_count": null,
   "id": "714b5c66",
   "metadata": {},
   "outputs": [],
   "source": [
    "# Here we use the FSEOF algorithm to identify the reactions affected by varied undecylprodigiosin flux:\n",
    "sol=fseof.run(target=model.reactions.get_by_id(\"REDS37\"))\n",
    "df=sol.data_frame\n"
   ]
  },
  {
   "cell_type": "code",
   "execution_count": null,
   "id": "ab59af1c",
   "metadata": {},
   "outputs": [],
   "source": [
    "#The reaction fluxes affected as visualized below. we will try to extract the most obvious candidates."
   ]
  },
  {
   "cell_type": "code",
   "execution_count": null,
   "id": "6b895d44",
   "metadata": {},
   "outputs": [],
   "source": [
    "df"
   ]
  },
  {
   "cell_type": "code",
   "execution_count": null,
   "id": "6c93570f",
   "metadata": {},
   "outputs": [],
   "source": [
    "sol.data_frame.T.plot()\n",
    "plt.legend(loc='center left', bbox_to_anchor=(1, 0.5))\n",
    "plt.xlabel(\"Increasing undecylprodigiosin flux\");\n",
    "plt.ylabel(r\"Flux $\\left[\\dfrac{mmol}{gDW\\cdot h}\\right]$\");"
   ]
  },
  {
   "cell_type": "code",
   "execution_count": null,
   "id": "9498e8ad",
   "metadata": {},
   "outputs": [],
   "source": [
    "# sorting the dataframe\n",
    "df= df.sort_values([1], ascending = False)\n",
    "\n",
    "# remove all the ones that have a flux change of 0.0 \n",
    "\n",
    "# removing genes from dataframe \n",
    "df = df.loc[(df!=0).all(axis=1)]\n",
    "df"
   ]
  },
  {
   "cell_type": "code",
   "execution_count": null,
   "id": "06af2e8a",
   "metadata": {},
   "outputs": [],
   "source": [
    "df['relative_change_in_flux'] = (df[10]-df[1])/df[10] +1"
   ]
  },
  {
   "cell_type": "code",
   "execution_count": null,
   "id": "5d078770",
   "metadata": {},
   "outputs": [],
   "source": [
    "#If we look at the reactions that have a higher relative_change_in_flux than 80% we can find target rections.\n",
    "target_reactions_df = df[df['relative_change_in_flux'] > 1.85]\n",
    "df= df.sort_values(['relative_change_in_flux'], ascending = False)\n",
    "df"
   ]
  },
  {
   "cell_type": "code",
   "execution_count": null,
   "id": "f8216509",
   "metadata": {},
   "outputs": [],
   "source": [
    "df = target_reactions_df.drop(labels='relative_change_in_flux', axis=1)\n",
    "fig = df.T.plot(cmap=\"viridis\",figsize=(8, 8), grid =True, linewidth=3);\n",
    "fig.set_ylabel('Flux')\n",
    "fig.set_title('Reactions with a relative change in Flux > 80%', size=20)"
   ]
  },
  {
   "cell_type": "code",
   "execution_count": null,
   "id": "42eb4962",
   "metadata": {},
   "outputs": [],
   "source": [
    "# Higest flux reactions\n",
    "target_reactions_df.head()"
   ]
  },
  {
   "cell_type": "code",
   "execution_count": null,
   "id": "e720522f",
   "metadata": {},
   "outputs": [],
   "source": [
    "# Lowest flux reactions\n",
    "target_reactions_df.tail()"
   ]
  },
  {
   "cell_type": "markdown",
   "id": "bc685865",
   "metadata": {},
   "source": [
    "Below, the Top 5 reactions for upregulation with a little bit more information can be found."
   ]
  },
  {
   "cell_type": "code",
   "execution_count": null,
   "id": "cb9a14c8",
   "metadata": {},
   "outputs": [],
   "source": [
    "model.reactions.ECOAH1"
   ]
  },
  {
   "cell_type": "code",
   "execution_count": null,
   "id": "e3b73c36",
   "metadata": {},
   "outputs": [],
   "source": [
    "model.reactions.ACOAD1f"
   ]
  },
  {
   "cell_type": "code",
   "execution_count": null,
   "id": "b4d6d92e",
   "metadata": {},
   "outputs": [],
   "source": [
    "model.reactions.ACACT1r"
   ]
  },
  {
   "cell_type": "code",
   "execution_count": null,
   "id": "4c4cf60a",
   "metadata": {},
   "outputs": [],
   "source": [
    "model.reactions.HACD1"
   ]
  },
  {
   "cell_type": "code",
   "execution_count": null,
   "id": "c8f30c92",
   "metadata": {},
   "outputs": [],
   "source": [
    "model.reactions.METAT"
   ]
  },
  {
   "cell_type": "code",
   "execution_count": null,
   "id": "82d28ac8",
   "metadata": {},
   "outputs": [],
   "source": []
  }
 ],
 "metadata": {
  "kernelspec": {
   "display_name": "Python 3 (ipykernel)",
   "language": "python",
   "name": "python3"
  },
  "language_info": {
   "codemirror_mode": {
    "name": "ipython",
    "version": 3
   },
   "file_extension": ".py",
   "mimetype": "text/x-python",
   "name": "python",
   "nbconvert_exporter": "python",
   "pygments_lexer": "ipython3",
   "version": "3.8.12"
  },
  "widgets": {
   "application/vnd.jupyter.widget-state+json": {
    "state": {},
    "version_major": 2,
    "version_minor": 0
   }
  }
 },
 "nbformat": 4,
 "nbformat_minor": 5
}
