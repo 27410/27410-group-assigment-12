{
 "cells": [
  {
   "cell_type": "markdown",
   "id": "fc321dc6-10fb-46bb-b3e8-f694663a511c",
   "metadata": {},
   "source": [
    "# 07.3 OptKnock"
   ]
  },
  {
   "cell_type": "code",
   "execution_count": 1,
   "id": "84935010-a04f-4321-86a3-c56d8b894a8e",
   "metadata": {},
   "outputs": [],
   "source": [
    "#import cameo\n",
    "#import cobra\n",
    "#from cobra.io import read_sbml_model\n",
    "#from cobra import Reaction, Metabolite"
   ]
  },
  {
   "cell_type": "code",
   "execution_count": 2,
   "id": "b72705cf-b6b1-4c7f-9bed-0f7a743ef5af",
   "metadata": {},
   "outputs": [],
   "source": [
    "#call load_model\n",
    "%run 00load_model.ipynb"
   ]
  },
  {
   "cell_type": "code",
   "execution_count": 3,
   "id": "2528c882-960e-4d61-8fad-f89a7e3da1b0",
   "metadata": {},
   "outputs": [],
   "source": [
    "model.solver = 'glpk'\n",
    "essentiality = {}\n",
    "importantgenes = {}\n",
    "targetgenes = {}\n",
    "for gene in model.genes:\n",
    "  with model:\n",
    "    gene.knock_out()\n",
    "    essentiality[gene] = model.slim_optimize(error_value = 0.)\n",
    "    if model.slim_optimize(error_value = 0.) < 0.5:\n",
    "      importantgenes[gene] = model.slim_optimize(error_value = 0.)\n",
    "    else:\n",
    "      targetgenes[gene] = model.slim_optimize(error_value = 0.)"
   ]
  },
  {
   "cell_type": "code",
   "execution_count": 4,
   "id": "32a1a2d3-689f-4cb4-9127-d9cbe8302807",
   "metadata": {},
   "outputs": [],
   "source": [
    "importantreactions = []\n",
    "for gene in importantreactions:\n",
    "  for reaction in gene.reactions:\n",
    "    importantreactions.append(reaction)\n",
    "importantreactions = list(set(importantreactions))"
   ]
  },
  {
   "cell_type": "code",
   "execution_count": 5,
   "id": "4091c457-69b4-450f-8c1e-f35542e499b4",
   "metadata": {},
   "outputs": [],
   "source": [
    "def get_blocked_reactions(model):\n",
    "  fva_res = cobra.flux_analysis.flux_variability_analysis(model, fraction_of_optimum = 0)\n",
    "  blocked = [\n",
    "      model.reactions.get_by_id(reaction) for reaction, row in fva_res.iterrows()\n",
    "      if (round(row[\"minimum\"], 5) == round(row[\"maximum\"],5) == 0)\n",
    "  ]\n",
    "  return blocked"
   ]
  },
  {
   "cell_type": "code",
   "execution_count": 6,
   "id": "29c62357-0082-4de1-b3b8-2553188b2d37",
   "metadata": {},
   "outputs": [],
   "source": [
    "blockedreactions = get_blocked_reactions(model)"
   ]
  },
  {
   "cell_type": "code",
   "execution_count": 7,
   "id": "ac78f17a-0255-469a-8c12-3303633bdbd6",
   "metadata": {},
   "outputs": [],
   "source": [
    "cleaneduplist = [x.id for x in importantreactions if x not in blockedreactions]"
   ]
  },
  {
   "cell_type": "code",
   "execution_count": 8,
   "id": "4b4e8e1d-7905-4d5e-9f6d-33009b5c536d",
   "metadata": {
    "tags": []
   },
   "outputs": [],
   "source": [
    "from cameo.strain_design.deterministic import OptKnock"
   ]
  },
  {
   "cell_type": "code",
   "execution_count": 9,
   "id": "5031fb86-8115-4b07-813f-cb82d6ad5af2",
   "metadata": {},
   "outputs": [],
   "source": [
    "model.objective = model.reactions.DM_RED_c\n",
    "model.reactions.BIOMASS_SCO_tRNA.lower_bound = 0.045"
   ]
  },
  {
   "cell_type": "code",
   "execution_count": 10,
   "id": "366a5a38-b3c6-44fc-96fc-98951a5bd1dd",
   "metadata": {},
   "outputs": [
    {
     "name": "stderr",
     "output_type": "stream",
     "text": [
      "C:\\Users\\mirei\\anaconda3\\lib\\site-packages\\cameo\\strain_design\\deterministic\\linear_programming.py:118: UserWarning: You are trying to run OptKnock with glpk_interface. This might not end well.\n",
      "  warnings.warn(\"You are trying to run OptKnock with %s. This might not end well.\" %\n",
      "C:\\Users\\mirei\\anaconda3\\lib\\site-packages\\cobra\\core\\group.py:107: UserWarning: need to pass in a list\n",
      "  warn(\"need to pass in a list\")\n"
     ]
    },
    {
     "ename": "Infeasible",
     "evalue": "None (infeasible).",
     "output_type": "error",
     "traceback": [
      "\u001b[1;31m---------------------------------------------------------------------------\u001b[0m",
      "\u001b[1;31mInfeasible\u001b[0m                                Traceback (most recent call last)",
      "\u001b[1;32m~\\AppData\\Local\\Temp\\ipykernel_24644\\1179930131.py\u001b[0m in \u001b[0;36m<module>\u001b[1;34m\u001b[0m\n\u001b[1;32m----> 1\u001b[1;33m \u001b[0moptknock\u001b[0m \u001b[1;33m=\u001b[0m \u001b[0mOptKnock\u001b[0m\u001b[1;33m(\u001b[0m\u001b[0mmodel\u001b[0m\u001b[1;33m,\u001b[0m \u001b[0mfraction_of_optimum\u001b[0m \u001b[1;33m=\u001b[0m \u001b[1;36m0.1\u001b[0m\u001b[1;33m,\u001b[0m \u001b[0mexclude_reactions\u001b[0m \u001b[1;33m=\u001b[0m \u001b[0mcleaneduplist\u001b[0m\u001b[1;33m)\u001b[0m\u001b[1;33m\u001b[0m\u001b[1;33m\u001b[0m\u001b[0m\n\u001b[0m",
      "\u001b[1;32m~\\anaconda3\\lib\\site-packages\\cameo\\strain_design\\deterministic\\linear_programming.py\u001b[0m in \u001b[0;36m__init__\u001b[1;34m(self, model, exclude_reactions, remove_blocked, fraction_of_optimum, exclude_non_gene_reactions, use_nullspace_simplification, *args, **kwargs)\u001b[0m\n\u001b[0;32m    139\u001b[0m             \u001b[0mexclude_reactions\u001b[0m \u001b[1;33m+=\u001b[0m \u001b[1;33m[\u001b[0m\u001b[0mr\u001b[0m\u001b[1;33m.\u001b[0m\u001b[0mid\u001b[0m \u001b[1;32mfor\u001b[0m \u001b[0mr\u001b[0m \u001b[1;32min\u001b[0m \u001b[0mself\u001b[0m\u001b[1;33m.\u001b[0m\u001b[0m_model\u001b[0m\u001b[1;33m.\u001b[0m\u001b[0mreactions\u001b[0m \u001b[1;32mif\u001b[0m \u001b[1;32mnot\u001b[0m \u001b[0mr\u001b[0m\u001b[1;33m.\u001b[0m\u001b[0mgenes\u001b[0m\u001b[1;33m]\u001b[0m\u001b[1;33m\u001b[0m\u001b[1;33m\u001b[0m\u001b[0m\n\u001b[0;32m    140\u001b[0m \u001b[1;33m\u001b[0m\u001b[0m\n\u001b[1;32m--> 141\u001b[1;33m         \u001b[0mself\u001b[0m\u001b[1;33m.\u001b[0m\u001b[0m_build_problem\u001b[0m\u001b[1;33m(\u001b[0m\u001b[0mexclude_reactions\u001b[0m\u001b[1;33m,\u001b[0m \u001b[0muse_nullspace_simplification\u001b[0m\u001b[1;33m)\u001b[0m\u001b[1;33m\u001b[0m\u001b[1;33m\u001b[0m\u001b[0m\n\u001b[0m\u001b[0;32m    142\u001b[0m \u001b[1;33m\u001b[0m\u001b[0m\n\u001b[0;32m    143\u001b[0m     \u001b[1;32mdef\u001b[0m \u001b[0m_remove_blocked_reactions\u001b[0m\u001b[1;33m(\u001b[0m\u001b[0mself\u001b[0m\u001b[1;33m)\u001b[0m\u001b[1;33m:\u001b[0m\u001b[1;33m\u001b[0m\u001b[1;33m\u001b[0m\u001b[0m\n",
      "\u001b[1;32m~\\anaconda3\\lib\\site-packages\\cameo\\strain_design\\deterministic\\linear_programming.py\u001b[0m in \u001b[0;36m_build_problem\u001b[1;34m(self, exclude_reactions, use_nullspace_simplification)\u001b[0m\n\u001b[0;32m    160\u001b[0m         \u001b[0mlogger\u001b[0m\u001b[1;33m.\u001b[0m\u001b[0mdebug\u001b[0m\u001b[1;33m(\u001b[0m\u001b[1;34m\"Starting to formulate OptKnock problem\"\u001b[0m\u001b[1;33m)\u001b[0m\u001b[1;33m\u001b[0m\u001b[1;33m\u001b[0m\u001b[0m\n\u001b[0;32m    161\u001b[0m \u001b[1;33m\u001b[0m\u001b[0m\n\u001b[1;32m--> 162\u001b[1;33m         \u001b[0mself\u001b[0m\u001b[1;33m.\u001b[0m\u001b[0messential_reactions\u001b[0m \u001b[1;33m=\u001b[0m \u001b[0mfind_essential_reactions\u001b[0m\u001b[1;33m(\u001b[0m\u001b[0mself\u001b[0m\u001b[1;33m.\u001b[0m\u001b[0m_model\u001b[0m\u001b[1;33m,\u001b[0m \u001b[0mprocesses\u001b[0m\u001b[1;33m=\u001b[0m\u001b[1;36m1\u001b[0m\u001b[1;33m)\u001b[0m\u001b[1;33m.\u001b[0m\u001b[0munion\u001b[0m\u001b[1;33m(\u001b[0m\u001b[0mself\u001b[0m\u001b[1;33m.\u001b[0m\u001b[0m_model\u001b[0m\u001b[1;33m.\u001b[0m\u001b[0mboundary\u001b[0m\u001b[1;33m)\u001b[0m\u001b[1;33m\u001b[0m\u001b[1;33m\u001b[0m\u001b[0m\n\u001b[0m\u001b[0;32m    163\u001b[0m         \u001b[1;32mif\u001b[0m \u001b[0mexclude_reactions\u001b[0m\u001b[1;33m:\u001b[0m\u001b[1;33m\u001b[0m\u001b[1;33m\u001b[0m\u001b[0m\n\u001b[0;32m    164\u001b[0m             self.exclude_reactions = set.union(\n",
      "\u001b[1;32m~\\anaconda3\\lib\\site-packages\\cobra\\flux_analysis\\variability.py\u001b[0m in \u001b[0;36mfind_essential_reactions\u001b[1;34m(model, threshold, processes)\u001b[0m\n\u001b[0;32m    397\u001b[0m     \"\"\"\n\u001b[0;32m    398\u001b[0m     \u001b[1;32mif\u001b[0m \u001b[0mthreshold\u001b[0m \u001b[1;32mis\u001b[0m \u001b[1;32mNone\u001b[0m\u001b[1;33m:\u001b[0m\u001b[1;33m\u001b[0m\u001b[1;33m\u001b[0m\u001b[0m\n\u001b[1;32m--> 399\u001b[1;33m         \u001b[0mthreshold\u001b[0m \u001b[1;33m=\u001b[0m \u001b[0mmodel\u001b[0m\u001b[1;33m.\u001b[0m\u001b[0mslim_optimize\u001b[0m\u001b[1;33m(\u001b[0m\u001b[0merror_value\u001b[0m\u001b[1;33m=\u001b[0m\u001b[1;32mNone\u001b[0m\u001b[1;33m)\u001b[0m \u001b[1;33m*\u001b[0m \u001b[1;36m1e-02\u001b[0m\u001b[1;33m\u001b[0m\u001b[1;33m\u001b[0m\u001b[0m\n\u001b[0m\u001b[0;32m    400\u001b[0m     \u001b[0mdeletions\u001b[0m \u001b[1;33m=\u001b[0m \u001b[0msingle_reaction_deletion\u001b[0m\u001b[1;33m(\u001b[0m\u001b[0mmodel\u001b[0m\u001b[1;33m,\u001b[0m \u001b[0mmethod\u001b[0m\u001b[1;33m=\u001b[0m\u001b[1;34m\"fba\"\u001b[0m\u001b[1;33m,\u001b[0m \u001b[0mprocesses\u001b[0m\u001b[1;33m=\u001b[0m\u001b[0mprocesses\u001b[0m\u001b[1;33m)\u001b[0m\u001b[1;33m\u001b[0m\u001b[1;33m\u001b[0m\u001b[0m\n\u001b[0;32m    401\u001b[0m     essential = deletions.loc[\n",
      "\u001b[1;32m~\\anaconda3\\lib\\site-packages\\cobra\\core\\model.py\u001b[0m in \u001b[0;36mslim_optimize\u001b[1;34m(self, error_value, message)\u001b[0m\n\u001b[0;32m   1065\u001b[0m             \u001b[1;32mreturn\u001b[0m \u001b[0merror_value\u001b[0m\u001b[1;33m\u001b[0m\u001b[1;33m\u001b[0m\u001b[0m\n\u001b[0;32m   1066\u001b[0m         \u001b[1;32melse\u001b[0m\u001b[1;33m:\u001b[0m\u001b[1;33m\u001b[0m\u001b[1;33m\u001b[0m\u001b[0m\n\u001b[1;32m-> 1067\u001b[1;33m             \u001b[0massert_optimal\u001b[0m\u001b[1;33m(\u001b[0m\u001b[0mself\u001b[0m\u001b[1;33m,\u001b[0m \u001b[0mmessage\u001b[0m\u001b[1;33m)\u001b[0m\u001b[1;33m\u001b[0m\u001b[1;33m\u001b[0m\u001b[0m\n\u001b[0m\u001b[0;32m   1068\u001b[0m \u001b[1;33m\u001b[0m\u001b[0m\n\u001b[0;32m   1069\u001b[0m     \u001b[1;32mdef\u001b[0m \u001b[0moptimize\u001b[0m\u001b[1;33m(\u001b[0m\u001b[0mself\u001b[0m\u001b[1;33m,\u001b[0m \u001b[0mobjective_sense\u001b[0m\u001b[1;33m=\u001b[0m\u001b[1;32mNone\u001b[0m\u001b[1;33m,\u001b[0m \u001b[0mraise_error\u001b[0m\u001b[1;33m=\u001b[0m\u001b[1;32mFalse\u001b[0m\u001b[1;33m)\u001b[0m\u001b[1;33m:\u001b[0m\u001b[1;33m\u001b[0m\u001b[1;33m\u001b[0m\u001b[0m\n",
      "\u001b[1;32m~\\anaconda3\\lib\\site-packages\\cobra\\util\\solver.py\u001b[0m in \u001b[0;36massert_optimal\u001b[1;34m(model, message)\u001b[0m\n\u001b[0;32m    588\u001b[0m     \u001b[1;32mif\u001b[0m \u001b[0mstatus\u001b[0m \u001b[1;33m!=\u001b[0m \u001b[0mOPTIMAL\u001b[0m\u001b[1;33m:\u001b[0m\u001b[1;33m\u001b[0m\u001b[1;33m\u001b[0m\u001b[0m\n\u001b[0;32m    589\u001b[0m         \u001b[0mexception_cls\u001b[0m \u001b[1;33m=\u001b[0m \u001b[0mOPTLANG_TO_EXCEPTIONS_DICT\u001b[0m\u001b[1;33m.\u001b[0m\u001b[0mget\u001b[0m\u001b[1;33m(\u001b[0m\u001b[0mstatus\u001b[0m\u001b[1;33m,\u001b[0m \u001b[0mOptimizationError\u001b[0m\u001b[1;33m)\u001b[0m\u001b[1;33m\u001b[0m\u001b[1;33m\u001b[0m\u001b[0m\n\u001b[1;32m--> 590\u001b[1;33m         \u001b[1;32mraise\u001b[0m \u001b[0mexception_cls\u001b[0m\u001b[1;33m(\u001b[0m\u001b[1;34mf\"{message} ({status}).\"\u001b[0m\u001b[1;33m)\u001b[0m\u001b[1;33m\u001b[0m\u001b[1;33m\u001b[0m\u001b[0m\n\u001b[0m\u001b[0;32m    591\u001b[0m \u001b[1;33m\u001b[0m\u001b[0m\n\u001b[0;32m    592\u001b[0m \u001b[1;33m\u001b[0m\u001b[0m\n",
      "\u001b[1;31mInfeasible\u001b[0m: None (infeasible)."
     ]
    }
   ],
   "source": [
    "optknock = OptKnock(model, fraction_of_optimum = 0.1, exclude_reactions = cleaneduplist)"
   ]
  },
  {
   "cell_type": "code",
   "execution_count": null,
   "id": "5099b526-d5cb-4b6d-844a-ef0cc7821e07",
   "metadata": {},
   "outputs": [],
   "source": [
    "result = optknock.run(max_knockouts=1, target=\"DM_RED_c\", biomass=\"BIOMASS_SCO_tRNA\")"
   ]
  },
  {
   "cell_type": "code",
   "execution_count": null,
   "id": "771a3164-bba2-490d-9f72-a94a7cf53124",
   "metadata": {},
   "outputs": [],
   "source": [
    "result"
   ]
  }
 ],
 "metadata": {
  "kernelspec": {
   "display_name": "Python 3 (ipykernel)",
   "language": "python",
   "name": "python3"
  },
  "language_info": {
   "codemirror_mode": {
    "name": "ipython",
    "version": 3
   },
   "file_extension": ".py",
   "mimetype": "text/x-python",
   "name": "python",
   "nbconvert_exporter": "python",
   "pygments_lexer": "ipython3",
   "version": "3.8.12"
  },
  "widgets": {
   "application/vnd.jupyter.widget-state+json": {
    "state": {},
    "version_major": 2,
    "version_minor": 0
   }
  }
 },
 "nbformat": 4,
 "nbformat_minor": 5
}
